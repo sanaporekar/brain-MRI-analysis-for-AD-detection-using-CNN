{
  "cells": [
    {
      "cell_type": "code",
      "execution_count": null,
      "metadata": {
        "id": "fDljyW-U85ZM"
      },
      "outputs": [],
      "source": [
        "import numpy as np\n",
        "import pandas as pd\n",
        "import matplotlib.pyplot as plt\n",
        "import seaborn as sn\n",
        "import skimage.io\n",
        "import os\n",
        "import tqdm\n",
        "import glob\n",
        "import tensorflow\n",
        "\n",
        "from tqdm import tqdm\n",
        "from sklearn.utils import shuffle\n",
        "from sklearn import metrics\n",
        "from sklearn.metrics import confusion_matrix, classification_report\n",
        "from sklearn.model_selection import train_test_split\n",
        "\n",
        "from skimage.io import imread, imshow\n",
        "from skimage.transform import resize\n",
        "from skimage.color import gray2rgb\n",
        "import tensorflow as tf\n",
        "from tensorflow.keras.preprocessing.image import ImageDataGenerator\n",
        "from tensorflow.keras.preprocessing import image_dataset_from_directory\n",
        "from tensorflow.keras.models import Sequential\n",
        "from tensorflow.keras.layers import InputLayer, BatchNormalization, Dropout, Flatten, Dense, Activation, MaxPool2D, Conv2D\n",
        "from tensorflow.keras.callbacks import EarlyStopping, ModelCheckpoint\n",
        "from tensorflow.keras.applications.resnet50 import ResNet50\n",
        "from tensorflow.keras.utils import to_categorical\n",
        "from keras import optimizers\n",
        "\n",
        "from keras.callbacks import Callback,ModelCheckpoint\n",
        "from keras.models import Sequential,load_model\n",
        "from keras.layers import Dense, Dropout\n",
        "#from keras.wrappers.scikit_learn import KerasClassifier\n",
        "import keras.backend as K\n",
        "\n",
        "\n"
      ]
    },
    {
      "cell_type": "code",
      "execution_count": null,
      "metadata": {
        "id": "ThQTtDxQ9Mj8"
      },
      "outputs": [],
      "source": [
        "AUTOTUNE = tf.data.experimental.AUTOTUNE\n"
      ]
    },
    {
      "cell_type": "code",
      "execution_count": null,
      "metadata": {
        "id": "GyallY3A-ShN"
      },
      "outputs": [],
      "source": [
        "train_datagen = ImageDataGenerator(rescale = 1./255,\n",
        "                                   validation_split = 0.2,\n",
        "\n",
        "        rotation_range=5,\n",
        "        width_shift_range=0.2,\n",
        "        height_shift_range=0.2,\n",
        "        shear_range=0.2,\n",
        "        #zoom_range=0.2,\n",
        "        horizontal_flip=True,\n",
        "        vertical_flip=True,\n",
        "        fill_mode='nearest')\n",
        "\n",
        "valid_datagen = ImageDataGenerator(rescale = 1./255,\n",
        "                                  validation_split = 0.2)\n",
        "\n",
        "test_datagen  = ImageDataGenerator(rescale = 1./255\n",
        "                                  )"
      ]
    },
    {
      "cell_type": "code",
      "execution_count": null,
      "metadata": {
        "colab": {
          "base_uri": "https://localhost:8080/"
        },
        "id": "KwJuBQzE-Uib",
        "outputId": "2ce8d887-d7b5-411b-c895-2b40879d3a41"
      },
      "outputs": [
        {
          "name": "stdout",
          "output_type": "stream",
          "text": [
            "Found 867 images belonging to 2 classes.\n"
          ]
        }
      ],
      "source": [
        "train_dataset  = train_datagen.flow_from_directory(directory = '/content/drive/MyDrive/AD-CN/AD-CN/train',\n",
        "                                                   target_size = (224,224),\n",
        "                                                   class_mode = 'binary',\n",
        "                                                   subset = 'training',\n",
        "                                                   batch_size = 32)"
      ]
    },
    {
      "cell_type": "code",
      "execution_count": null,
      "metadata": {
        "colab": {
          "base_uri": "https://localhost:8080/"
        },
        "id": "_PCUF3jZ-mVS",
        "outputId": "025596a9-7d1a-42b5-e785-727255402356"
      },
      "outputs": [
        {
          "name": "stdout",
          "output_type": "stream",
          "text": [
            "Found 64 images belonging to 2 classes.\n"
          ]
        }
      ],
      "source": [
        "valid_dataset = valid_datagen.flow_from_directory(directory = '/content/drive/MyDrive/AD-CN/AD-CN/test',\n",
        "                                                  target_size = (224,224),\n",
        "                                                  class_mode = 'binary',\n",
        "                                                  subset = 'validation',\n",
        "                                                  batch_size = 32)"
      ]
    },
    {
      "cell_type": "code",
      "execution_count": null,
      "metadata": {
        "colab": {
          "base_uri": "https://localhost:8080/"
        },
        "id": "xC1fmq6D-q3m",
        "outputId": "9d23ffff-12d9-4d43-f3da-303322b27c3a"
      },
      "outputs": [
        {
          "name": "stdout",
          "output_type": "stream",
          "text": [
            "Downloading data from https://storage.googleapis.com/tensorflow/keras-applications/resnet/resnet50_weights_tf_dim_ordering_tf_kernels_notop.h5\n",
            "94765736/94765736 [==============================] - 0s 0us/step\n"
          ]
        }
      ],
      "source": [
        "base_model = ResNet50(input_shape=(224,224,3),\n",
        "                   include_top=False,\n",
        "                   weights=\"imagenet\")"
      ]
    },
    {
      "cell_type": "code",
      "execution_count": null,
      "metadata": {
        "id": "_bCgFbCq-vS_"
      },
      "outputs": [],
      "source": [
        "# Freezing Layers\n",
        "\n",
        "for layer in base_model.layers:\n",
        "    layer.trainable=False"
      ]
    },
    {
      "cell_type": "code",
      "execution_count": null,
      "metadata": {
        "id": "QgfOLhOv-xPt"
      },
      "outputs": [],
      "source": [
        "# Building Model\n",
        "\n",
        "model=Sequential()\n",
        "model.add(base_model)\n",
        "model.add(Dropout(0.5))\n",
        "model.add(Flatten())\n",
        "model.add(BatchNormalization())\n",
        "model.add(Dense(64,kernel_initializer='he_uniform'))\n",
        "model.add(BatchNormalization())\n",
        "model.add(Activation('selu'))\n",
        "model.add(Dropout(0.5))\n",
        "model.add(Dense(64,kernel_initializer='he_uniform'))\n",
        "model.add(BatchNormalization())\n",
        "model.add(Activation('selu'))\n",
        "model.add(Dropout(0.5))\n",
        "model.add(Dense(64,kernel_initializer='he_uniform'))\n",
        "model.add(BatchNormalization())\n",
        "model.add(Activation('selu'))\n",
        "model.add(Dropout(0.5))\n",
        "model.add(Dense(32,kernel_initializer='he_uniform'))\n",
        "model.add(BatchNormalization())\n",
        "model.add(Activation('selu'))\n",
        "model.add(Dropout(0.5))\n",
        "model.add(Dense(32,kernel_initializer='he_uniform'))\n",
        "model.add(BatchNormalization())\n",
        "model.add(Activation('selu'))\n",
        "model.add(Dense(1,activation='sigmoid'))"
      ]
    },
    {
      "cell_type": "code",
      "execution_count": null,
      "metadata": {
        "id": "PNz1k6Nd-4JZ"
      },
      "outputs": [],
      "source": [
        "def f1_score(y_true, y_pred): #taken from old keras source code\n",
        "    true_positives = K.sum(K.round(K.clip(y_true * y_pred, 0, 1)))\n",
        "    possible_positives = K.sum(K.round(K.clip(y_true, 0, 1)))\n",
        "    predicted_positives = K.sum(K.round(K.clip(y_pred, 0, 1)))\n",
        "    precision = true_positives / (predicted_positives + K.epsilon())\n",
        "    recall = true_positives / (possible_positives + K.epsilon())\n",
        "    f1_val = 2*(precision*recall)/(precision+recall+K.epsilon())\n",
        "    return f1_val"
      ]
    },
    {
      "cell_type": "code",
      "execution_count": null,
      "metadata": {
        "id": "teijOrPZ-7cy"
      },
      "outputs": [],
      "source": [
        "METRICS = [\n",
        "      tf.keras.metrics.BinaryAccuracy(name='accuracy'),\n",
        "      tf.keras.metrics.Precision(name='precision'),\n",
        "      tf.keras.metrics.Recall(name='recall'),\n",
        "      tf.keras.metrics.AUC(name='auc'),\n",
        "        f1_score,\n",
        "]"
      ]
    },
    {
      "cell_type": "code",
      "execution_count": null,
      "metadata": {
        "id": "pYeRqlZv-9HC"
      },
      "outputs": [],
      "source": [
        "def exponential_decay(lr0, s):\n",
        "    def exponential_decay_fn(epoch):\n",
        "        return lr0 * 0.1 **(epoch / s)\n",
        "    return exponential_decay_fn\n",
        "\n",
        "exponential_decay_fn = exponential_decay(0.01, 5) # when i run it for 50 epochs\n",
        "\n",
        "lr_scheduler = tf.keras.callbacks.LearningRateScheduler(exponential_decay_fn)"
      ]
    },
    {
      "cell_type": "code",
      "execution_count": null,
      "metadata": {
        "id": "g2hndtSi--1b"
      },
      "outputs": [],
      "source": [
        "model.compile(optimizer='rmsprop', loss='binary_crossentropy',metrics=METRICS)\n"
      ]
    },
    {
      "cell_type": "code",
      "execution_count": null,
      "metadata": {
        "colab": {
          "base_uri": "https://localhost:8080/"
        },
        "id": "DyngURa1_BA7",
        "outputId": "fdd63805-88c2-4562-c145-91a877ca2fa2"
      },
      "outputs": [
        {
          "name": "stdout",
          "output_type": "stream",
          "text": [
            "Epoch 1/20\n",
            "28/28 [==============================] - 158s 5s/step - loss: 0.6984 - accuracy: 0.5998 - precision: 0.5441 - recall: 0.4907 - auc: 0.6377 - f1_score: 0.4921 - val_loss: 1.9192 - val_accuracy: 0.5000 - val_precision: 0.0000e+00 - val_recall: 0.0000e+00 - val_auc: 0.8169 - val_f1_score: 0.0000e+00 - lr: 0.0100\n",
            "Epoch 2/20\n",
            "28/28 [==============================] - 14s 507ms/step - loss: 0.6193 - accuracy: 0.6713 - precision: 0.6420 - recall: 0.5517 - auc: 0.7151 - f1_score: 0.5999 - val_loss: 1.0871 - val_accuracy: 0.5312 - val_precision: 1.0000 - val_recall: 0.0625 - val_auc: 0.9028 - val_f1_score: 0.1181 - lr: 0.0063\n",
            "Epoch 3/20\n",
            "28/28 [==============================] - 14s 508ms/step - loss: 0.5335 - accuracy: 0.7612 - precision: 0.7322 - recall: 0.7109 - auc: 0.8063 - f1_score: 0.6909 - val_loss: 1.8335 - val_accuracy: 0.5000 - val_precision: 0.0000e+00 - val_recall: 0.0000e+00 - val_auc: 0.8667 - val_f1_score: 0.0000e+00 - lr: 0.0040\n",
            "Epoch 4/20\n",
            "28/28 [==============================] - 14s 514ms/step - loss: 0.5266 - accuracy: 0.7543 - precision: 0.7216 - recall: 0.7082 - auc: 0.8157 - f1_score: 0.7104 - val_loss: 0.7620 - val_accuracy: 0.6406 - val_precision: 0.9091 - val_recall: 0.3125 - val_auc: 0.8965 - val_f1_score: 0.4311 - lr: 0.0025\n",
            "Epoch 5/20\n",
            "28/28 [==============================] - 14s 504ms/step - loss: 0.5039 - accuracy: 0.7774 - precision: 0.7383 - recall: 0.7560 - auc: 0.8324 - f1_score: 0.7508 - val_loss: 0.6664 - val_accuracy: 0.7656 - val_precision: 0.9474 - val_recall: 0.5625 - val_auc: 0.8843 - val_f1_score: 0.6894 - lr: 0.0016\n",
            "Epoch 6/20\n",
            "28/28 [==============================] - 14s 510ms/step - loss: 0.4839 - accuracy: 0.7866 - precision: 0.7513 - recall: 0.7613 - auc: 0.8492 - f1_score: 0.7518 - val_loss: 0.5125 - val_accuracy: 0.8125 - val_precision: 0.9545 - val_recall: 0.6562 - val_auc: 0.9053 - val_f1_score: 0.7922 - lr: 0.0010\n",
            "Epoch 7/20\n",
            "28/28 [==============================] - 14s 508ms/step - loss: 0.5244 - accuracy: 0.7463 - precision: 0.7018 - recall: 0.7241 - auc: 0.8141 - f1_score: 0.7166 - val_loss: 0.4641 - val_accuracy: 0.8281 - val_precision: 0.9200 - val_recall: 0.7188 - val_auc: 0.9062 - val_f1_score: 0.8074 - lr: 6.3096e-04\n",
            "Epoch 8/20\n",
            "28/28 [==============================] - 14s 514ms/step - loss: 0.4584 - accuracy: 0.7855 - precision: 0.7481 - recall: 0.7639 - auc: 0.8622 - f1_score: 0.7504 - val_loss: 0.4364 - val_accuracy: 0.8125 - val_precision: 0.8846 - val_recall: 0.7188 - val_auc: 0.9053 - val_f1_score: 0.8113 - lr: 3.9811e-04\n",
            "Epoch 9/20\n",
            "28/28 [==============================] - 14s 509ms/step - loss: 0.4871 - accuracy: 0.7889 - precision: 0.7526 - recall: 0.7666 - auc: 0.8423 - f1_score: 0.7285 - val_loss: 0.4391 - val_accuracy: 0.8281 - val_precision: 0.9200 - val_recall: 0.7188 - val_auc: 0.9038 - val_f1_score: 0.8074 - lr: 2.5119e-04\n",
            "Epoch 10/20\n",
            "28/28 [==============================] - 14s 513ms/step - loss: 0.4637 - accuracy: 0.7728 - precision: 0.7320 - recall: 0.7533 - auc: 0.8581 - f1_score: 0.7372 - val_loss: 0.4295 - val_accuracy: 0.8125 - val_precision: 0.8846 - val_recall: 0.7188 - val_auc: 0.9053 - val_f1_score: 0.7905 - lr: 1.5849e-04\n",
            "Epoch 11/20\n",
            "28/28 [==============================] - 15s 520ms/step - loss: 0.5003 - accuracy: 0.7601 - precision: 0.7183 - recall: 0.7374 - auc: 0.8335 - f1_score: 0.7006 - val_loss: 0.4287 - val_accuracy: 0.8125 - val_precision: 0.8846 - val_recall: 0.7188 - val_auc: 0.9048 - val_f1_score: 0.7909 - lr: 1.0000e-04\n",
            "Epoch 12/20\n",
            "28/28 [==============================] - 14s 511ms/step - loss: 0.4818 - accuracy: 0.7774 - precision: 0.7359 - recall: 0.7613 - auc: 0.8441 - f1_score: 0.7549 - val_loss: 0.4261 - val_accuracy: 0.7812 - val_precision: 0.8214 - val_recall: 0.7188 - val_auc: 0.9019 - val_f1_score: 0.7667 - lr: 6.3096e-05\n",
            "Epoch 13/20\n",
            "28/28 [==============================] - 14s 513ms/step - loss: 0.4714 - accuracy: 0.7785 - precision: 0.7441 - recall: 0.7480 - auc: 0.8540 - f1_score: 0.7459 - val_loss: 0.4269 - val_accuracy: 0.7969 - val_precision: 0.8519 - val_recall: 0.7188 - val_auc: 0.9009 - val_f1_score: 0.7793 - lr: 3.9811e-05\n",
            "Epoch 14/20\n",
            "28/28 [==============================] - 14s 515ms/step - loss: 0.4863 - accuracy: 0.7774 - precision: 0.7408 - recall: 0.7507 - auc: 0.8418 - f1_score: 0.7515 - val_loss: 0.4267 - val_accuracy: 0.7812 - val_precision: 0.8462 - val_recall: 0.6875 - val_auc: 0.8994 - val_f1_score: 0.7348 - lr: 2.5119e-05\n",
            "Epoch 15/20\n",
            "28/28 [==============================] - 16s 561ms/step - loss: 0.5120 - accuracy: 0.7716 - precision: 0.7337 - recall: 0.7454 - auc: 0.8238 - f1_score: 0.7344 - val_loss: 0.4298 - val_accuracy: 0.7812 - val_precision: 0.8462 - val_recall: 0.6875 - val_auc: 0.8975 - val_f1_score: 0.7539 - lr: 1.5849e-05\n",
            "Epoch 16/20\n",
            "28/28 [==============================] - 14s 513ms/step - loss: 0.4882 - accuracy: 0.7739 - precision: 0.7235 - recall: 0.7772 - auc: 0.8412 - f1_score: 0.7472 - val_loss: 0.4286 - val_accuracy: 0.7812 - val_precision: 0.8462 - val_recall: 0.6875 - val_auc: 0.8965 - val_f1_score: 0.7524 - lr: 1.0000e-05\n",
            "Epoch 17/20\n",
            "28/28 [==============================] - 14s 507ms/step - loss: 0.4924 - accuracy: 0.7751 - precision: 0.7407 - recall: 0.7427 - auc: 0.8403 - f1_score: 0.7342 - val_loss: 0.4298 - val_accuracy: 0.7656 - val_precision: 0.8148 - val_recall: 0.6875 - val_auc: 0.8970 - val_f1_score: 0.7401 - lr: 6.3096e-06\n",
            "Epoch 18/20\n",
            "28/28 [==============================] - 14s 509ms/step - loss: 0.5063 - accuracy: 0.7659 - precision: 0.7231 - recall: 0.7480 - auc: 0.8278 - f1_score: 0.7314 - val_loss: 0.4256 - val_accuracy: 0.7812 - val_precision: 0.8214 - val_recall: 0.7188 - val_auc: 0.8984 - val_f1_score: 0.7723 - lr: 3.9811e-06\n",
            "Epoch 19/20\n",
            "28/28 [==============================] - 14s 507ms/step - loss: 0.4822 - accuracy: 0.7705 - precision: 0.7270 - recall: 0.7560 - auc: 0.8479 - f1_score: 0.7314 - val_loss: 0.4284 - val_accuracy: 0.7812 - val_precision: 0.8214 - val_recall: 0.7188 - val_auc: 0.8979 - val_f1_score: 0.7710 - lr: 2.5119e-06\n",
            "Epoch 20/20\n",
            "28/28 [==============================] - 14s 509ms/step - loss: 0.4874 - accuracy: 0.7820 - precision: 0.7410 - recall: 0.7666 - auc: 0.8408 - f1_score: 0.7580 - val_loss: 0.4325 - val_accuracy: 0.7812 - val_precision: 0.8214 - val_recall: 0.7188 - val_auc: 0.8975 - val_f1_score: 0.7664 - lr: 1.5849e-06\n"
          ]
        }
      ],
      "source": [
        "history=model.fit(train_dataset,\n",
        "                        validation_data=valid_dataset,\n",
        "                        epochs = 20,\n",
        "                        verbose = 1,\n",
        "                         callbacks=lr_scheduler)"
      ]
    },
    {
      "cell_type": "code",
      "execution_count": null,
      "metadata": {
        "colab": {
          "base_uri": "https://localhost:8080/"
        },
        "id": "ja9ENDAv_DTK",
        "outputId": "5cac3b10-1a5a-4715-c6f6-03795114d70f"
      },
      "outputs": [
        {
          "name": "stdout",
          "output_type": "stream",
          "text": [
            "2/2 [==============================] - 1s 254ms/step - loss: 0.4325 - accuracy: 0.7812 - precision: 0.8214 - recall: 0.7188 - auc: 0.8975 - f1_score: 0.7600\n"
          ]
        }
      ],
      "source": [
        "scores = model.evaluate(valid_dataset)\n"
      ]
    },
    {
      "cell_type": "code",
      "execution_count": null,
      "metadata": {
        "colab": {
          "base_uri": "https://localhost:8080/"
        },
        "id": "m2G_uz5aBj-F",
        "outputId": "284cbfc5-d76a-49af-f117-cf95e2e08dd5"
      },
      "outputs": [
        {
          "name": "stdout",
          "output_type": "stream",
          "text": [
            "Accuracy =  0.78125\n",
            "Precision =  0.8214285969734192\n",
            "Recall =  0.71875\n",
            "AUC =  0.8974609375\n",
            "F1_score =  0.7599999308586121\n"
          ]
        }
      ],
      "source": [
        "print(\"Accuracy = \", scores[1])\n",
        "print(\"Precision = \", scores[2])\n",
        "print(\"Recall = \", scores[3])\n",
        "print(\"AUC = \", scores[4])\n",
        "print(\"F1_score = \", scores[5])"
      ]
    },
    {
      "cell_type": "code",
      "execution_count": null,
      "metadata": {
        "id": "5ngpu0yTCSPa"
      },
      "outputs": [],
      "source": []
    }
  ],
  "metadata": {
    "accelerator": "GPU",
    "colab": {
      "gpuType": "T4",
      "provenance": []
    },
    "kernelspec": {
      "display_name": "Python 3",
      "name": "python3"
    },
    "language_info": {
      "name": "python"
    }
  },
  "nbformat": 4,
  "nbformat_minor": 0
}
