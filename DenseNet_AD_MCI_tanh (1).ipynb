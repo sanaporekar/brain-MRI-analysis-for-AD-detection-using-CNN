{
  "cells": [
    {
      "cell_type": "code",
      "execution_count": 1,
      "metadata": {
        "colab": {
          "base_uri": "https://localhost:8080/"
        },
        "id": "j0FEKKmwlqUT",
        "outputId": "31dd88ad-bfc2-42f6-977b-2e311a878b41"
      },
      "outputs": [
        {
          "name": "stdout",
          "output_type": "stream",
          "text": [
            "Drive already mounted at /content/drive; to attempt to forcibly remount, call drive.mount(\"/content/drive\", force_remount=True).\n"
          ]
        }
      ],
      "source": [
        "from google.colab import drive\n",
        "drive.mount('/content/drive')"
      ]
    },
    {
      "cell_type": "code",
      "execution_count": 2,
      "metadata": {
        "id": "O3WRnv-xl41a"
      },
      "outputs": [],
      "source": [
        "import numpy as np\n",
        "import pandas as pd\n",
        "import matplotlib.pyplot as plt\n",
        "import seaborn as sn\n",
        "import skimage.io\n",
        "import os\n",
        "import tqdm\n",
        "import glob\n",
        "import tensorflow\n",
        "\n",
        "from tqdm import tqdm\n",
        "from sklearn.utils import shuffle\n",
        "from sklearn import metrics\n",
        "from sklearn.metrics import confusion_matrix, classification_report\n",
        "from sklearn.model_selection import train_test_split\n",
        "from skimage.io import imread, imshow\n",
        "from skimage.transform import resize\n",
        "from skimage.color import gray2rgb\n",
        "\n",
        "import tensorflow as tf\n",
        "from tensorflow.keras.preprocessing.image import ImageDataGenerator\n",
        "from tensorflow.keras.preprocessing import image_dataset_from_directory\n",
        "from tensorflow.keras.models import Sequential\n",
        "from tensorflow.keras.layers import InputLayer, BatchNormalization, Dropout, Flatten, Dense, Activation, MaxPool2D, Conv2D\n",
        "from tensorflow.keras.callbacks import EarlyStopping, ModelCheckpoint\n",
        "from tensorflow.keras.applications import DenseNet121\n",
        "from tensorflow.keras.applications.densenet import DenseNet121 \n",
        "\n",
        "from keras import optimizers\n",
        "\n",
        "from keras.callbacks import Callback,ModelCheckpoint\n",
        "from keras.models import Sequential,load_model\n",
        "from keras.layers import Dense, Dropout\n",
        "#from keras.wrappers.scikit_learn import KerasClassifier\n",
        "import keras.backend as K\n",
        "\n",
        "\n",
        "from typing import Optional"
      ]
    },
    {
      "cell_type": "code",
      "execution_count": 3,
      "metadata": {
        "id": "Ml644udAmHeK"
      },
      "outputs": [],
      "source": [
        "train_datagen = ImageDataGenerator(rescale = 1./255,\n",
        "                                   validation_split = 0.2,\n",
        "\n",
        "        rotation_range=5,\n",
        "        width_shift_range=0.2,\n",
        "        height_shift_range=0.2,\n",
        "        shear_range=0.2,\n",
        "        #zoom_range=0.2,\n",
        "        horizontal_flip=True,\n",
        "        vertical_flip=True,\n",
        "        fill_mode='nearest')\n",
        "\n",
        "valid_datagen = ImageDataGenerator(rescale = 1./255,\n",
        "                                  validation_split = 0.2)\n",
        "\n",
        "test_datagen  = ImageDataGenerator(rescale = 1./255\n",
        "                                  )"
      ]
    },
    {
      "cell_type": "code",
      "execution_count": 4,
      "metadata": {
        "colab": {
          "base_uri": "https://localhost:8080/"
        },
        "id": "MBwh2fNKmKd7",
        "outputId": "f099a692-51cd-40fc-d705-fc873fa7aa11"
      },
      "outputs": [
        {
          "name": "stdout",
          "output_type": "stream",
          "text": [
            "Found 352 images belonging to 2 classes.\n"
          ]
        }
      ],
      "source": [
        "train_dataset  = train_datagen.flow_from_directory(directory = '/content/drive/MyDrive/Colab Notebooks/MCI_AD/train',\n",
        "                                                   target_size = (224,224),\n",
        "                                                   class_mode = 'binary',\n",
        "                                                   subset = 'training',\n",
        "                                                   batch_size = 32)"
      ]
    },
    {
      "cell_type": "code",
      "execution_count": 5,
      "metadata": {
        "colab": {
          "base_uri": "https://localhost:8080/"
        },
        "id": "w31uy4LomNxI",
        "outputId": "554759e9-a2e7-4fe7-a3d1-5871ad93731b"
      },
      "outputs": [
        {
          "name": "stdout",
          "output_type": "stream",
          "text": [
            "Found 130 images belonging to 2 classes.\n"
          ]
        }
      ],
      "source": [
        "test_dataset = test_datagen.flow_from_directory(directory = '/content/drive/MyDrive/Colab Notebooks/MCI_AD/test',\n",
        "                                                  target_size = (224,224),\n",
        "                                                  class_mode = 'binary',\n",
        "                                                  batch_size = 32)"
      ]
    },
    {
      "cell_type": "code",
      "execution_count": 6,
      "metadata": {
        "id": "pGPP-WaJmQO0"
      },
      "outputs": [],
      "source": [
        "base_model = DenseNet121(input_shape=(224,224,3),\n",
        "                   include_top=False,\n",
        "                   weights=\"imagenet\")"
      ]
    },
    {
      "cell_type": "code",
      "execution_count": 7,
      "metadata": {
        "id": "1cPyMamcmSdl"
      },
      "outputs": [],
      "source": [
        "for layer in base_model.layers:\n",
        "    layer.trainable=False\n"
      ]
    },
    {
      "cell_type": "code",
      "execution_count": 8,
      "metadata": {
        "id": "IcG6-TPmmUtd"
      },
      "outputs": [],
      "source": [
        "model=Sequential()\n",
        "model.add(base_model)\n",
        "model.add(Dropout(0.5))\n",
        "model.add(tf.keras.layers.GlobalAveragePooling2D())\n",
        "model.add(Flatten())\n",
        "model.add(BatchNormalization())\n",
        "model.add(Dense(64,kernel_initializer='he_uniform'))\n",
        "model.add(BatchNormalization())\n",
        "model.add(Activation('tanh'))\n",
        "model.add(Dropout(0.5))\n",
        "model.add(Dense(64,kernel_initializer='he_uniform'))\n",
        "model.add(BatchNormalization())\n",
        "model.add(Activation('tanh'))\n",
        "model.add(Dropout(0.5))\n",
        "model.add(Dense(64,kernel_initializer='he_uniform'))\n",
        "model.add(BatchNormalization())\n",
        "model.add(Activation('tanh'))\n",
        "model.add(Dropout(0.5))\n",
        "model.add(Dense(32,kernel_initializer='he_uniform'))\n",
        "model.add(BatchNormalization())\n",
        "model.add(Activation('tanh'))\n",
        "model.add(Dropout(0.5))\n",
        "model.add(Dense(32,kernel_initializer='he_uniform'))\n",
        "model.add(BatchNormalization())\n",
        "model.add(Activation('tanh'))\n",
        "model.add(Dense(1, activation='sigmoid'))"
      ]
    },
    {
      "cell_type": "code",
      "execution_count": 9,
      "metadata": {
        "id": "GciqkkxcmWqX"
      },
      "outputs": [],
      "source": [
        "def f1_score(y_true, y_pred): \n",
        "    true_positives = K.sum(K.round(K.clip(y_true * y_pred, 0, 1)))\n",
        "    possible_positives = K.sum(K.round(K.clip(y_true, 0, 1)))\n",
        "    predicted_positives = K.sum(K.round(K.clip(y_pred, 0, 1)))\n",
        "    precision = true_positives / (predicted_positives + K.epsilon())\n",
        "    recall = true_positives / (possible_positives + K.epsilon())\n",
        "    f1_val = 2*(precision*recall)/(precision+recall+K.epsilon())\n",
        "    return f1_val"
      ]
    },
    {
      "cell_type": "code",
      "execution_count": 10,
      "metadata": {
        "id": "ZBVYRjA3mY1b"
      },
      "outputs": [],
      "source": [
        "def exponential_decay(lr0, s):\n",
        "    def exponential_decay_fn(epoch):\n",
        "        return lr0 * 0.1 **(epoch / s)\n",
        "    return exponential_decay_fn\n",
        "\n",
        "exponential_decay_fn = exponential_decay(0.01, 5)\n",
        "\n",
        "lr_scheduler = tf.keras.callbacks.LearningRateScheduler(exponential_decay_fn)"
      ]
    },
    {
      "cell_type": "code",
      "execution_count": 11,
      "metadata": {
        "id": "c98hbgNembCm"
      },
      "outputs": [],
      "source": [
        "METRICS = [\n",
        "      tf.keras.metrics.BinaryAccuracy(name='accuracy'),\n",
        "      tf.keras.metrics.Precision(name='precision'),\n",
        "      tf.keras.metrics.Recall(name='recall'),\n",
        "      tf.keras.metrics.AUC(name='auc'),\n",
        "        f1_score,\n",
        "]\n"
      ]
    },
    {
      "cell_type": "code",
      "execution_count": 12,
      "metadata": {
        "id": "Nq9A6Y_0mdAY"
      },
      "outputs": [],
      "source": [
        "model.compile(optimizer='rmsprop', loss='binary_crossentropy',metrics=METRICS)"
      ]
    },
    {
      "cell_type": "code",
      "execution_count": 13,
      "metadata": {
        "colab": {
          "base_uri": "https://localhost:8080/"
        },
        "id": "1wTyCM3QmfBw",
        "outputId": "78181147-0907-4b20-eff7-af7db94e9cc7"
      },
      "outputs": [
        {
          "name": "stdout",
          "output_type": "stream",
          "text": [
            "Epoch 1/30\n",
            "11/11 [==============================] - 21s 473ms/step - loss: 0.5961 - accuracy: 0.6562 - precision: 0.6471 - recall: 0.6875 - auc: 0.7465 - f1_score: 0.6640 - lr: 0.0100\n",
            "Epoch 2/30\n",
            "11/11 [==============================] - 5s 483ms/step - loss: 0.4136 - accuracy: 0.8182 - precision: 0.7979 - recall: 0.8523 - auc: 0.8853 - f1_score: 0.8230 - lr: 0.0063\n",
            "Epoch 3/30\n",
            "11/11 [==============================] - 7s 632ms/step - loss: 0.3127 - accuracy: 0.8977 - precision: 0.8723 - recall: 0.9318 - auc: 0.9324 - f1_score: 0.8999 - lr: 0.0040\n",
            "Epoch 4/30\n",
            "11/11 [==============================] - 6s 501ms/step - loss: 0.3444 - accuracy: 0.8750 - precision: 0.8587 - recall: 0.8977 - auc: 0.9210 - f1_score: 0.8757 - lr: 0.0025\n",
            "Epoch 5/30\n",
            "11/11 [==============================] - 7s 580ms/step - loss: 0.2857 - accuracy: 0.8892 - precision: 0.8586 - recall: 0.9318 - auc: 0.9457 - f1_score: 0.8928 - lr: 0.0016\n",
            "Epoch 6/30\n",
            "11/11 [==============================] - 5s 481ms/step - loss: 0.3327 - accuracy: 0.8608 - precision: 0.8325 - recall: 0.9034 - auc: 0.9272 - f1_score: 0.8639 - lr: 0.0010\n",
            "Epoch 7/30\n",
            "11/11 [==============================] - 7s 634ms/step - loss: 0.3362 - accuracy: 0.8693 - precision: 0.8533 - recall: 0.8920 - auc: 0.9287 - f1_score: 0.8690 - lr: 6.3096e-04\n",
            "Epoch 8/30\n",
            "11/11 [==============================] - 5s 493ms/step - loss: 0.3510 - accuracy: 0.8523 - precision: 0.8298 - recall: 0.8864 - auc: 0.9219 - f1_score: 0.8565 - lr: 3.9811e-04\n",
            "Epoch 9/30\n",
            "11/11 [==============================] - 8s 699ms/step - loss: 0.3249 - accuracy: 0.8750 - precision: 0.8548 - recall: 0.9034 - auc: 0.9306 - f1_score: 0.8711 - lr: 2.5119e-04\n",
            "Epoch 10/30\n",
            "11/11 [==============================] - 6s 487ms/step - loss: 0.3125 - accuracy: 0.8835 - precision: 0.8649 - recall: 0.9091 - auc: 0.9354 - f1_score: 0.8850 - lr: 1.5849e-04\n",
            "Epoch 11/30\n",
            "11/11 [==============================] - 7s 641ms/step - loss: 0.3374 - accuracy: 0.8665 - precision: 0.8449 - recall: 0.8977 - auc: 0.9217 - f1_score: 0.8685 - lr: 1.0000e-04\n",
            "Epoch 12/30\n",
            "11/11 [==============================] - 5s 482ms/step - loss: 0.2748 - accuracy: 0.8892 - precision: 0.8586 - recall: 0.9318 - auc: 0.9499 - f1_score: 0.8958 - lr: 6.3096e-05\n",
            "Epoch 13/30\n",
            "11/11 [==============================] - 7s 557ms/step - loss: 0.2813 - accuracy: 0.8750 - precision: 0.8548 - recall: 0.9034 - auc: 0.9515 - f1_score: 0.8772 - lr: 3.9811e-05\n",
            "Epoch 14/30\n",
            "11/11 [==============================] - 5s 487ms/step - loss: 0.3011 - accuracy: 0.8864 - precision: 0.8736 - recall: 0.9034 - auc: 0.9429 - f1_score: 0.8879 - lr: 2.5119e-05\n",
            "Epoch 15/30\n",
            "11/11 [==============================] - 7s 630ms/step - loss: 0.3095 - accuracy: 0.8750 - precision: 0.8667 - recall: 0.8864 - auc: 0.9411 - f1_score: 0.8739 - lr: 1.5849e-05\n",
            "Epoch 16/30\n",
            "11/11 [==============================] - 5s 485ms/step - loss: 0.2776 - accuracy: 0.9062 - precision: 0.8783 - recall: 0.9432 - auc: 0.9460 - f1_score: 0.9097 - lr: 1.0000e-05\n",
            "Epoch 17/30\n",
            "11/11 [==============================] - 7s 634ms/step - loss: 0.2802 - accuracy: 0.9034 - precision: 0.8901 - recall: 0.9205 - auc: 0.9452 - f1_score: 0.9045 - lr: 6.3096e-06\n",
            "Epoch 18/30\n",
            "11/11 [==============================] - 5s 487ms/step - loss: 0.3034 - accuracy: 0.8864 - precision: 0.8656 - recall: 0.9148 - auc: 0.9376 - f1_score: 0.8916 - lr: 3.9811e-06\n",
            "Epoch 19/30\n",
            "11/11 [==============================] - 7s 602ms/step - loss: 0.2987 - accuracy: 0.8807 - precision: 0.8526 - recall: 0.9205 - auc: 0.9431 - f1_score: 0.8836 - lr: 2.5119e-06\n",
            "Epoch 20/30\n",
            "11/11 [==============================] - 6s 481ms/step - loss: 0.3185 - accuracy: 0.8864 - precision: 0.8579 - recall: 0.9261 - auc: 0.9249 - f1_score: 0.8892 - lr: 1.5849e-06\n",
            "Epoch 21/30\n",
            "11/11 [==============================] - 6s 522ms/step - loss: 0.3766 - accuracy: 0.8551 - precision: 0.8453 - recall: 0.8693 - auc: 0.9111 - f1_score: 0.8565 - lr: 1.0000e-06\n",
            "Epoch 22/30\n",
            "11/11 [==============================] - 7s 572ms/step - loss: 0.3457 - accuracy: 0.8580 - precision: 0.8500 - recall: 0.8693 - auc: 0.9223 - f1_score: 0.8563 - lr: 6.3096e-07\n",
            "Epoch 23/30\n",
            "11/11 [==============================] - 6s 498ms/step - loss: 0.3308 - accuracy: 0.8551 - precision: 0.8492 - recall: 0.8636 - auc: 0.9334 - f1_score: 0.8572 - lr: 3.9811e-07\n",
            "Epoch 24/30\n",
            "11/11 [==============================] - 7s 643ms/step - loss: 0.2711 - accuracy: 0.8892 - precision: 0.8663 - recall: 0.9205 - auc: 0.9537 - f1_score: 0.8878 - lr: 2.5119e-07\n",
            "Epoch 25/30\n",
            "11/11 [==============================] - 5s 487ms/step - loss: 0.3423 - accuracy: 0.8693 - precision: 0.8571 - recall: 0.8864 - auc: 0.9239 - f1_score: 0.8693 - lr: 1.5849e-07\n",
            "Epoch 26/30\n",
            "11/11 [==============================] - 7s 642ms/step - loss: 0.3168 - accuracy: 0.8835 - precision: 0.8689 - recall: 0.9034 - auc: 0.9309 - f1_score: 0.8824 - lr: 1.0000e-07\n",
            "Epoch 27/30\n",
            "11/11 [==============================] - 5s 492ms/step - loss: 0.2760 - accuracy: 0.9006 - precision: 0.8730 - recall: 0.9375 - auc: 0.9489 - f1_score: 0.9036 - lr: 6.3096e-08\n",
            "Epoch 28/30\n",
            "11/11 [==============================] - 8s 788ms/step - loss: 0.2693 - accuracy: 0.9062 - precision: 0.8950 - recall: 0.9205 - auc: 0.9511 - f1_score: 0.9066 - lr: 3.9811e-08\n",
            "Epoch 29/30\n",
            "11/11 [==============================] - 5s 492ms/step - loss: 0.3069 - accuracy: 0.8892 - precision: 0.8785 - recall: 0.9034 - auc: 0.9354 - f1_score: 0.8899 - lr: 2.5119e-08\n",
            "Epoch 30/30\n",
            "11/11 [==============================] - 7s 562ms/step - loss: 0.3171 - accuracy: 0.8636 - precision: 0.8441 - recall: 0.8920 - auc: 0.9325 - f1_score: 0.8624 - lr: 1.5849e-08\n"
          ]
        }
      ],
      "source": [
        "history=model.fit(train_dataset,\n",
        "                        epochs = 30,\n",
        "                        verbose = 1,\n",
        "                         callbacks=lr_scheduler)"
      ]
    },
    {
      "cell_type": "code",
      "execution_count": 14,
      "metadata": {
        "colab": {
          "base_uri": "https://localhost:8080/"
        },
        "id": "_LGf1X8Gmg3H",
        "outputId": "b40f2631-2fb7-45cc-80ec-c918ec50113b"
      },
      "outputs": [
        {
          "name": "stdout",
          "output_type": "stream",
          "text": [
            "5/5 [==============================] - 9s 651ms/step - loss: 0.2043 - accuracy: 0.9308 - precision: 0.9059 - recall: 0.9872 - auc: 0.9686 - f1_score: 0.9535\n"
          ]
        }
      ],
      "source": [
        "scores = model.evaluate(test_dataset)"
      ]
    },
    {
      "cell_type": "code",
      "execution_count": 15,
      "metadata": {
        "colab": {
          "base_uri": "https://localhost:8080/"
        },
        "id": "vrNJ-Y4ixO-8",
        "outputId": "809c823c-2417-46b7-e0f3-ab1d0b55530f"
      },
      "outputs": [
        {
          "name": "stdout",
          "output_type": "stream",
          "text": [
            "Accuracy =  0.9307692050933838\n",
            "Precision =  0.9058823585510254\n",
            "Recall =  0.9871794581413269\n",
            "AUC =  0.9685651063919067\n",
            "F1_score =  0.9535139799118042\n"
          ]
        }
      ],
      "source": [
        "print(\"Accuracy = \", scores[1])\n",
        "print(\"Precision = \", scores[2])\n",
        "print(\"Recall = \", scores[3])\n",
        "print(\"AUC = \", scores[4])\n",
        "print(\"F1_score = \", scores[5])"
      ]
    },
    {
      "cell_type": "code",
      "execution_count": 15,
      "metadata": {
        "id": "ZTE69Ahoypuq"
      },
      "outputs": [],
      "source": []
    }
  ],
  "metadata": {
    "accelerator": "GPU",
    "colab": {
      "gpuType": "T4",
      "provenance": []
    },
    "kernelspec": {
      "display_name": "Python 3",
      "name": "python3"
    },
    "language_info": {
      "name": "python"
    }
  },
  "nbformat": 4,
  "nbformat_minor": 0
}
