{
  "cells": [
    {
      "cell_type": "code",
      "execution_count": 11,
      "metadata": {
        "colab": {
          "base_uri": "https://localhost:8080/"
        },
        "id": "HC-IlCKS0b5O",
        "outputId": "2186573a-20ee-4f47-d953-4c5afe8828f8"
      },
      "outputs": [
        {
          "name": "stdout",
          "output_type": "stream",
          "text": [
            "Found 1008 images belonging to 2 classes.\n",
            "Found 283 images belonging to 2 classes.\n"
          ]
        }
      ],
      "source": [
        "import os\n",
        "import numpy as np\n",
        "import tensorflow as tf\n",
        "from tensorflow.keras.preprocessing.image import ImageDataGenerator\n",
        "from sklearn.metrics import accuracy_score, precision_score, roc_auc_score\n",
        "\n",
        "# Define data directories\n",
        "train_dir = '/content/drive/MyDrive/Colab Notebooks/AD-MCI/AD-MCI/train'\n",
        "test_dir = '/content/drive/MyDrive/Colab Notebooks/AD-MCI/AD-MCI/test'\n",
        "\n",
        "# Parameters\n",
        "input_shape = (32, 32, 3)\n",
        "batch_size = 32\n",
        "epochs = 20\n",
        "\n",
        "# Data augmentation for training set\n",
        "train_datagen = ImageDataGenerator(\n",
        "    rescale=1./255,\n",
        "    shear_range=0.2,\n",
        "    zoom_range=0.2,\n",
        "    horizontal_flip=True)\n",
        "\n",
        "# No augmentation for test set\n",
        "test_datagen = ImageDataGenerator(rescale=1./255)\n",
        "\n",
        "# Flow images from directories\n",
        "train_generator = train_datagen.flow_from_directory(\n",
        "    train_dir,\n",
        "    target_size=(input_shape[0], input_shape[1]),\n",
        "    batch_size=batch_size,\n",
        "    class_mode='binary')\n",
        "\n",
        "test_generator = test_datagen.flow_from_directory(\n",
        "    test_dir,\n",
        "    target_size=(input_shape[0], input_shape[1]),\n",
        "    batch_size=batch_size,\n",
        "    class_mode='binary')\n",
        "\n",
        "# Define LeNet model\n",
        "model = tf.keras.Sequential([\n",
        "    tf.keras.layers.Conv2D(6, kernel_size=(5, 5), strides=(1, 1), activation='selu', input_shape=input_shape),\n",
        "    tf.keras.layers.AveragePooling2D(pool_size=(2, 2), strides=(2, 2)),\n",
        "    tf.keras.layers.Conv2D(16, kernel_size=(5, 5), strides=(1, 1), activation='selu'),\n",
        "    tf.keras.layers.AveragePooling2D(pool_size=(2, 2), strides=(2, 2)),\n",
        "    tf.keras.layers.Flatten(),\n",
        "    tf.keras.layers.Dense(120, activation='selu'),\n",
        "    tf.keras.layers.Dense(84, activation='selu'),\n",
        "    tf.keras.layers.Dense(1, activation='sigmoid')\n",
        "])\n",
        "\n",
        "# Compile the model\n",
        "model.compile(optimizer='adam',\n",
        "              loss='binary_crossentropy',\n",
        "              metrics=['accuracy'])\n",
        "\n",
        "\n"
      ]
    },
    {
      "cell_type": "code",
      "execution_count": 12,
      "metadata": {
        "colab": {
          "base_uri": "https://localhost:8080/"
        },
        "id": "lFeVZyOU1wpl",
        "outputId": "20fee82d-709b-4ae7-86ea-92d6b2296df5"
      },
      "outputs": [
        {
          "name": "stdout",
          "output_type": "stream",
          "text": [
            "Epoch 1/20\n",
            "32/32 [==============================] - 5s 119ms/step - loss: 0.6856 - accuracy: 0.5933\n",
            "Epoch 2/20\n",
            "32/32 [==============================] - 4s 125ms/step - loss: 0.6394 - accuracy: 0.6369\n",
            "Epoch 3/20\n",
            "32/32 [==============================] - 5s 144ms/step - loss: 0.6076 - accuracy: 0.6696\n",
            "Epoch 4/20\n",
            "32/32 [==============================] - 4s 125ms/step - loss: 0.6016 - accuracy: 0.6696\n",
            "Epoch 5/20\n",
            "32/32 [==============================] - 4s 132ms/step - loss: 0.5997 - accuracy: 0.6766\n",
            "Epoch 6/20\n",
            "32/32 [==============================] - 5s 144ms/step - loss: 0.5792 - accuracy: 0.6964\n",
            "Epoch 7/20\n",
            "32/32 [==============================] - 4s 130ms/step - loss: 0.5702 - accuracy: 0.7183\n",
            "Epoch 8/20\n",
            "32/32 [==============================] - 4s 138ms/step - loss: 0.5522 - accuracy: 0.7222\n",
            "Epoch 9/20\n",
            "32/32 [==============================] - 4s 135ms/step - loss: 0.5410 - accuracy: 0.7242\n",
            "Epoch 10/20\n",
            "32/32 [==============================] - 4s 122ms/step - loss: 0.5470 - accuracy: 0.6984\n",
            "Epoch 11/20\n",
            "32/32 [==============================] - 4s 129ms/step - loss: 0.5535 - accuracy: 0.7202\n",
            "Epoch 12/20\n",
            "32/32 [==============================] - 4s 140ms/step - loss: 0.5066 - accuracy: 0.7589\n",
            "Epoch 13/20\n",
            "32/32 [==============================] - 4s 124ms/step - loss: 0.5283 - accuracy: 0.7321\n",
            "Epoch 14/20\n",
            "32/32 [==============================] - 4s 126ms/step - loss: 0.5399 - accuracy: 0.7341\n",
            "Epoch 15/20\n",
            "32/32 [==============================] - 5s 142ms/step - loss: 0.5112 - accuracy: 0.7579\n",
            "Epoch 16/20\n",
            "32/32 [==============================] - 4s 131ms/step - loss: 0.5247 - accuracy: 0.7292\n",
            "Epoch 17/20\n",
            "32/32 [==============================] - 4s 128ms/step - loss: 0.4990 - accuracy: 0.7550\n",
            "Epoch 18/20\n",
            "32/32 [==============================] - 5s 143ms/step - loss: 0.5094 - accuracy: 0.7421\n",
            "Epoch 19/20\n",
            "32/32 [==============================] - 4s 128ms/step - loss: 0.5173 - accuracy: 0.7440\n",
            "Epoch 20/20\n",
            "32/32 [==============================] - 4s 128ms/step - loss: 0.5032 - accuracy: 0.7589\n"
          ]
        },
        {
          "data": {
            "text/plain": [
              "<keras.src.callbacks.History at 0x7e843c214490>"
            ]
          },
          "execution_count": 12,
          "metadata": {},
          "output_type": "execute_result"
        }
      ],
      "source": [
        "\n",
        "# Train the model\n",
        "model.fit(train_generator, epochs=epochs)\n",
        "\n"
      ]
    },
    {
      "cell_type": "code",
      "execution_count": 13,
      "metadata": {
        "colab": {
          "base_uri": "https://localhost:8080/"
        },
        "id": "sz-Y6NdW1wVc",
        "outputId": "2b34b95f-185b-4768-97bd-cafdc3d10f7e"
      },
      "outputs": [
        {
          "name": "stdout",
          "output_type": "stream",
          "text": [
            "9/9 [==============================] - 2s 182ms/step - loss: 0.4779 - accuracy: 0.8021\n",
            "Test Loss: 0.477902889251709\n",
            "Test Accuracy: 0.8021201491355896\n",
            "9/9 [==============================] - 1s 114ms/step\n",
            "Precision: 0.41379310344827586\n",
            "AUC: 0.4910569105691057\n"
          ]
        }
      ],
      "source": [
        "# Evaluate the model\n",
        "loss, accuracy = model.evaluate(test_generator)\n",
        "print(\"Test Loss:\", loss)\n",
        "print(\"Test Accuracy:\", accuracy)\n",
        "\n",
        "# Predict probabilities for test set\n",
        "y_pred_prob = model.predict(test_generator).flatten()\n",
        "y_true = test_generator.classes\n",
        "\n",
        "# Predicted classes\n",
        "y_pred = np.where(y_pred_prob > 0.5, 1, 0)\n",
        "\n",
        "# Calculate precision and AUC\n",
        "precision = precision_score(y_true, y_pred)\n",
        "auc = roc_auc_score(y_true, y_pred_prob)\n",
        "\n",
        "print(\"Precision:\", precision)\n",
        "print(\"AUC:\", auc)"
      ]
    },
    {
      "cell_type": "code",
      "execution_count": 4,
      "metadata": {
        "colab": {
          "base_uri": "https://localhost:8080/"
        },
        "id": "RHpzhAkSRQgQ",
        "outputId": "14009e50-3df5-4e40-c559-17c26136b147"
      },
      "outputs": [
        {
          "name": "stdout",
          "output_type": "stream",
          "text": [
            "Drive already mounted at /content/drive; to attempt to forcibly remount, call drive.mount(\"/content/drive\", force_remount=True).\n"
          ]
        }
      ],
      "source": [
        "from google.colab import drive\n",
        "drive.mount('/content/drive')"
      ]
    },
    {
      "cell_type": "code",
      "execution_count": null,
      "metadata": {
        "id": "5Nyltpjc2Opq"
      },
      "outputs": [],
      "source": []
    }
  ],
  "metadata": {
    "accelerator": "GPU",
    "colab": {
      "gpuType": "T4",
      "provenance": []
    },
    "kernelspec": {
      "display_name": "Python 3",
      "name": "python3"
    },
    "language_info": {
      "name": "python"
    }
  },
  "nbformat": 4,
  "nbformat_minor": 0
}
