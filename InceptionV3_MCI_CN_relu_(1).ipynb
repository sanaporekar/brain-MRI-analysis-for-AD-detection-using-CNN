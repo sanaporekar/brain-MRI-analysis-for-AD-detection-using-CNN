{
  "cells": [
    {
      "cell_type": "code",
      "execution_count": 19,
      "metadata": {
        "colab": {
          "base_uri": "https://localhost:8080/"
        },
        "id": "j0FEKKmwlqUT",
        "outputId": "f6ffa24c-94c2-491c-ff24-b959d3af6c6c"
      },
      "outputs": [
        {
          "name": "stdout",
          "output_type": "stream",
          "text": [
            "Drive already mounted at /content/drive; to attempt to forcibly remount, call drive.mount(\"/content/drive\", force_remount=True).\n"
          ]
        }
      ],
      "source": [
        "from google.colab import drive\n",
        "drive.mount('/content/drive')"
      ]
    },
    {
      "cell_type": "code",
      "execution_count": 20,
      "metadata": {
        "id": "O3WRnv-xl41a"
      },
      "outputs": [],
      "source": [
        "import numpy as np\n",
        "import pandas as pd\n",
        "import matplotlib.pyplot as plt\n",
        "import seaborn as sn\n",
        "import skimage.io\n",
        "import os\n",
        "import tqdm\n",
        "import glob\n",
        "import tensorflow\n",
        "\n",
        "from tqdm import tqdm\n",
        "from sklearn.utils import shuffle\n",
        "from sklearn import metrics\n",
        "from sklearn.metrics import confusion_matrix, classification_report\n",
        "from sklearn.model_selection import train_test_split\n",
        "from skimage.io import imread, imshow\n",
        "from skimage.transform import resize\n",
        "from skimage.color import gray2rgb\n",
        "\n",
        "import tensorflow as tf\n",
        "from tensorflow.keras.preprocessing.image import ImageDataGenerator\n",
        "from tensorflow.keras.preprocessing import image_dataset_from_directory\n",
        "from tensorflow.keras.models import Sequential\n",
        "from tensorflow.keras.layers import InputLayer, BatchNormalization, Dropout, Flatten, Dense, Activation, MaxPool2D, Conv2D\n",
        "from tensorflow.keras.callbacks import EarlyStopping, ModelCheckpoint\n",
        "from tensorflow.keras.applications.inception_v3 import InceptionV3\n",
        "from keras import optimizers\n",
        "\n",
        "from keras.callbacks import Callback,ModelCheckpoint\n",
        "from keras.models import Sequential,load_model\n",
        "from keras.layers import Dense, Dropout\n",
        "import keras.backend as K\n",
        "from typing import Optional"
      ]
    },
    {
      "cell_type": "code",
      "execution_count": 21,
      "metadata": {
        "id": "Ml644udAmHeK"
      },
      "outputs": [],
      "source": [
        "train_datagen = ImageDataGenerator(rescale = 1./255,\n",
        "                                   validation_split = 0.2,\n",
        "\n",
        "        rotation_range=5,\n",
        "        width_shift_range=0.2,\n",
        "        height_shift_range=0.2,\n",
        "        shear_range=0.2,\n",
        "        horizontal_flip=True,\n",
        "        vertical_flip=True,\n",
        "        fill_mode='nearest')\n",
        "\n",
        "valid_datagen = ImageDataGenerator(rescale = 1./255,\n",
        "                                  validation_split = 0.2)\n",
        "\n",
        "test_datagen  = ImageDataGenerator(rescale = 1./255\n",
        "                                  )"
      ]
    },
    {
      "cell_type": "code",
      "execution_count": 23,
      "metadata": {
        "colab": {
          "base_uri": "https://localhost:8080/"
        },
        "id": "MBwh2fNKmKd7",
        "outputId": "9b6a44cb-12c5-40f8-b405-46e54bd3335e"
      },
      "outputs": [
        {
          "name": "stdout",
          "output_type": "stream",
          "text": [
            "Found 858 images belonging to 2 classes.\n"
          ]
        }
      ],
      "source": [
        "train_dataset  = train_datagen.flow_from_directory(directory = '/content/drive/MyDrive/Colab Notebooks/MCI-CN/MCI-CN/train',\n",
        "                                                   target_size = (224,224),\n",
        "                                                   class_mode = 'binary',\n",
        "                                                   subset = 'training',\n",
        "                                                   batch_size = 32)"
      ]
    },
    {
      "cell_type": "code",
      "execution_count": 24,
      "metadata": {
        "colab": {
          "base_uri": "https://localhost:8080/"
        },
        "id": "w31uy4LomNxI",
        "outputId": "ed9e585c-2422-436c-e74a-407c6cde8362"
      },
      "outputs": [
        {
          "name": "stdout",
          "output_type": "stream",
          "text": [
            "Found 286 images belonging to 2 classes.\n"
          ]
        }
      ],
      "source": [
        "test_dataset = test_datagen.flow_from_directory(directory = '/content/drive/MyDrive/Colab Notebooks/MCI-CN/MCI-CN/test',\n",
        "                                                  target_size = (224,224),\n",
        "                                                  class_mode = 'binary',\n",
        "                                                  batch_size = 32)"
      ]
    },
    {
      "cell_type": "code",
      "execution_count": 25,
      "metadata": {
        "id": "pGPP-WaJmQO0"
      },
      "outputs": [],
      "source": [
        "base_model = InceptionV3(input_shape=(224, 224, 3), include_top=False, weights='imagenet')\n"
      ]
    },
    {
      "cell_type": "code",
      "execution_count": 26,
      "metadata": {
        "id": "1cPyMamcmSdl"
      },
      "outputs": [],
      "source": [
        "for layer in base_model.layers:\n",
        "    layer.trainable=False\n"
      ]
    },
    {
      "cell_type": "code",
      "execution_count": 27,
      "metadata": {
        "id": "IcG6-TPmmUtd"
      },
      "outputs": [],
      "source": [
        "model=Sequential()\n",
        "model.add(base_model)\n",
        "model.add(Dropout(0.5))\n",
        "model.add(tf.keras.layers.GlobalAveragePooling2D())\n",
        "model.add(Flatten())\n",
        "model.add(BatchNormalization())\n",
        "model.add(Dense(64,kernel_initializer='he_uniform'))\n",
        "model.add(BatchNormalization())\n",
        "model.add(Activation('relu'))\n",
        "model.add(Dropout(0.5))\n",
        "model.add(Dense(64,kernel_initializer='he_uniform'))\n",
        "model.add(BatchNormalization())\n",
        "model.add(Activation('relu'))\n",
        "model.add(Dropout(0.5))\n",
        "model.add(Dense(64,kernel_initializer='he_uniform'))\n",
        "model.add(BatchNormalization())\n",
        "model.add(Activation('relu'))\n",
        "model.add(Dropout(0.5))\n",
        "model.add(Dense(32,kernel_initializer='he_uniform'))\n",
        "model.add(BatchNormalization())\n",
        "model.add(Activation('relu'))\n",
        "model.add(Dropout(0.5))\n",
        "model.add(Dense(32,kernel_initializer='he_uniform'))\n",
        "model.add(BatchNormalization())\n",
        "model.add(Activation('relu'))\n",
        "model.add(Dense(1, activation='sigmoid'))"
      ]
    },
    {
      "cell_type": "code",
      "execution_count": 28,
      "metadata": {
        "id": "GciqkkxcmWqX"
      },
      "outputs": [],
      "source": [
        "def f1_score(y_true, y_pred):\n",
        "    true_positives = K.sum(K.round(K.clip(y_true * y_pred, 0, 1)))\n",
        "    possible_positives = K.sum(K.round(K.clip(y_true, 0, 1)))\n",
        "    predicted_positives = K.sum(K.round(K.clip(y_pred, 0, 1)))\n",
        "    precision = true_positives / (predicted_positives + K.epsilon())\n",
        "    recall = true_positives / (possible_positives + K.epsilon())\n",
        "    f1_val = 2*(precision*recall)/(precision+recall+K.epsilon())\n",
        "    return f1_val"
      ]
    },
    {
      "cell_type": "code",
      "execution_count": 29,
      "metadata": {
        "id": "ZBVYRjA3mY1b"
      },
      "outputs": [],
      "source": [
        "def exponential_decay(lr0, s):\n",
        "    def exponential_decay_fn(epoch):\n",
        "        return lr0 * 0.1 **(epoch / s)\n",
        "    return exponential_decay_fn\n",
        "\n",
        "exponential_decay_fn = exponential_decay(0.01, 5) \n",
        "\n",
        "lr_scheduler = tf.keras.callbacks.LearningRateScheduler(exponential_decay_fn)"
      ]
    },
    {
      "cell_type": "code",
      "execution_count": 30,
      "metadata": {
        "id": "c98hbgNembCm"
      },
      "outputs": [],
      "source": [
        "\n",
        "METRICS = [\n",
        "      tf.keras.metrics.BinaryAccuracy(name='accuracy'),\n",
        "      tf.keras.metrics.Precision(name='precision'),\n",
        "      tf.keras.metrics.Recall(name='recall'),\n",
        "      tf.keras.metrics.AUC(name='auc'),\n",
        "        f1_score,\n",
        "]\n"
      ]
    },
    {
      "cell_type": "code",
      "execution_count": 31,
      "metadata": {
        "id": "Nq9A6Y_0mdAY"
      },
      "outputs": [],
      "source": [
        "model.compile(optimizer='rmsprop', loss='binary_crossentropy',metrics=METRICS)"
      ]
    },
    {
      "cell_type": "code",
      "execution_count": 36,
      "metadata": {
        "colab": {
          "base_uri": "https://localhost:8080/"
        },
        "id": "1wTyCM3QmfBw",
        "outputId": "a2bb701e-3150-461c-cb71-fb867df34935"
      },
      "outputs": [
        {
          "name": "stdout",
          "output_type": "stream",
          "text": [
            "Epoch 1/30\n",
            "27/27 [==============================] - 15s 536ms/step - loss: 0.3464 - accuracy: 0.8531 - precision: 0.9257 - recall: 0.8025 - auc: 0.9122 - f1_score: 0.8586 - lr: 0.0100\n",
            "Epoch 2/30\n",
            "27/27 [==============================] - 14s 525ms/step - loss: 0.3803 - accuracy: 0.8508 - precision: 0.9274 - recall: 0.7963 - auc: 0.8975 - f1_score: 0.8579 - lr: 0.0063\n",
            "Epoch 3/30\n",
            "27/27 [==============================] - 14s 527ms/step - loss: 0.3761 - accuracy: 0.8531 - precision: 0.9298 - recall: 0.7983 - auc: 0.9001 - f1_score: 0.8574 - lr: 0.0040\n",
            "Epoch 4/30\n",
            "27/27 [==============================] - 14s 530ms/step - loss: 0.3159 - accuracy: 0.8706 - precision: 0.9322 - recall: 0.8295 - auc: 0.9273 - f1_score: 0.8758 - lr: 0.0025\n",
            "Epoch 5/30\n",
            "27/27 [==============================] - 14s 532ms/step - loss: 0.3095 - accuracy: 0.8788 - precision: 0.9394 - recall: 0.8378 - auc: 0.9329 - f1_score: 0.8860 - lr: 0.0016\n",
            "Epoch 6/30\n",
            "27/27 [==============================] - 14s 532ms/step - loss: 0.3136 - accuracy: 0.8776 - precision: 0.9372 - recall: 0.8378 - auc: 0.9293 - f1_score: 0.8833 - lr: 0.0010\n",
            "Epoch 7/30\n",
            "27/27 [==============================] - 14s 526ms/step - loss: 0.2906 - accuracy: 0.8881 - precision: 0.9466 - recall: 0.8482 - auc: 0.9401 - f1_score: 0.8943 - lr: 6.3096e-04\n",
            "Epoch 8/30\n",
            "27/27 [==============================] - 14s 522ms/step - loss: 0.3001 - accuracy: 0.8823 - precision: 0.9398 - recall: 0.8441 - auc: 0.9393 - f1_score: 0.8892 - lr: 3.9811e-04\n",
            "Epoch 9/30\n",
            "27/27 [==============================] - 14s 529ms/step - loss: 0.2882 - accuracy: 0.8834 - precision: 0.9379 - recall: 0.8482 - auc: 0.9407 - f1_score: 0.8902 - lr: 2.5119e-04\n",
            "Epoch 10/30\n",
            "27/27 [==============================] - 15s 539ms/step - loss: 0.2993 - accuracy: 0.8823 - precision: 0.9338 - recall: 0.8503 - auc: 0.9399 - f1_score: 0.8873 - lr: 1.5849e-04\n",
            "Epoch 11/30\n",
            "27/27 [==============================] - 14s 522ms/step - loss: 0.3299 - accuracy: 0.8753 - precision: 0.9269 - recall: 0.8441 - auc: 0.9259 - f1_score: 0.8816 - lr: 1.0000e-04\n",
            "Epoch 12/30\n",
            "27/27 [==============================] - 15s 574ms/step - loss: 0.2866 - accuracy: 0.8869 - precision: 0.9424 - recall: 0.8503 - auc: 0.9438 - f1_score: 0.8927 - lr: 6.3096e-05\n",
            "Epoch 13/30\n",
            "27/27 [==============================] - 14s 523ms/step - loss: 0.2995 - accuracy: 0.8869 - precision: 0.9404 - recall: 0.8524 - auc: 0.9383 - f1_score: 0.8930 - lr: 3.9811e-05\n",
            "Epoch 14/30\n",
            "27/27 [==============================] - 14s 527ms/step - loss: 0.2952 - accuracy: 0.8869 - precision: 0.9364 - recall: 0.8565 - auc: 0.9403 - f1_score: 0.8923 - lr: 2.5119e-05\n",
            "Epoch 15/30\n",
            "27/27 [==============================] - 14s 521ms/step - loss: 0.3037 - accuracy: 0.8823 - precision: 0.9378 - recall: 0.8462 - auc: 0.9401 - f1_score: 0.8889 - lr: 1.5849e-05\n",
            "Epoch 16/30\n",
            "27/27 [==============================] - 14s 529ms/step - loss: 0.3254 - accuracy: 0.8753 - precision: 0.9289 - recall: 0.8420 - auc: 0.9317 - f1_score: 0.8827 - lr: 1.0000e-05\n",
            "Epoch 17/30\n",
            "27/27 [==============================] - 15s 541ms/step - loss: 0.3038 - accuracy: 0.8834 - precision: 0.9420 - recall: 0.8441 - auc: 0.9341 - f1_score: 0.8903 - lr: 6.3096e-06\n",
            "Epoch 18/30\n",
            "27/27 [==============================] - 14s 534ms/step - loss: 0.3315 - accuracy: 0.8695 - precision: 0.9203 - recall: 0.8399 - auc: 0.9266 - f1_score: 0.8764 - lr: 3.9811e-06\n",
            "Epoch 19/30\n",
            "27/27 [==============================] - 14s 530ms/step - loss: 0.2962 - accuracy: 0.8858 - precision: 0.9402 - recall: 0.8503 - auc: 0.9427 - f1_score: 0.8934 - lr: 2.5119e-06\n",
            "Epoch 20/30\n",
            "27/27 [==============================] - 14s 530ms/step - loss: 0.2941 - accuracy: 0.8811 - precision: 0.9417 - recall: 0.8399 - auc: 0.9364 - f1_score: 0.8874 - lr: 1.5849e-06\n",
            "Epoch 21/30\n",
            "27/27 [==============================] - 14s 533ms/step - loss: 0.3304 - accuracy: 0.8718 - precision: 0.9150 - recall: 0.8503 - auc: 0.9257 - f1_score: 0.8776 - lr: 1.0000e-06\n",
            "Epoch 22/30\n",
            "27/27 [==============================] - 14s 528ms/step - loss: 0.3004 - accuracy: 0.8858 - precision: 0.9402 - recall: 0.8503 - auc: 0.9391 - f1_score: 0.8916 - lr: 6.3096e-07\n",
            "Epoch 23/30\n",
            "27/27 [==============================] - 14s 528ms/step - loss: 0.2819 - accuracy: 0.8893 - precision: 0.9347 - recall: 0.8628 - auc: 0.9407 - f1_score: 0.8946 - lr: 3.9811e-07\n",
            "Epoch 24/30\n",
            "27/27 [==============================] - 14s 531ms/step - loss: 0.2951 - accuracy: 0.8776 - precision: 0.9292 - recall: 0.8462 - auc: 0.9410 - f1_score: 0.8844 - lr: 2.5119e-07\n",
            "Epoch 25/30\n",
            "27/27 [==============================] - 14s 535ms/step - loss: 0.2832 - accuracy: 0.8916 - precision: 0.9450 - recall: 0.8565 - auc: 0.9436 - f1_score: 0.8958 - lr: 1.5849e-07\n",
            "Epoch 26/30\n",
            "27/27 [==============================] - 14s 534ms/step - loss: 0.2839 - accuracy: 0.8893 - precision: 0.9427 - recall: 0.8545 - auc: 0.9438 - f1_score: 0.8952 - lr: 1.0000e-07\n",
            "Epoch 27/30\n",
            "27/27 [==============================] - 15s 538ms/step - loss: 0.3164 - accuracy: 0.8811 - precision: 0.9356 - recall: 0.8462 - auc: 0.9365 - f1_score: 0.8870 - lr: 6.3096e-08\n",
            "Epoch 28/30\n",
            "27/27 [==============================] - 14s 540ms/step - loss: 0.2938 - accuracy: 0.8904 - precision: 0.9290 - recall: 0.8711 - auc: 0.9391 - f1_score: 0.8982 - lr: 3.9811e-08\n",
            "Epoch 29/30\n",
            "27/27 [==============================] - 16s 590ms/step - loss: 0.2921 - accuracy: 0.8916 - precision: 0.9470 - recall: 0.8545 - auc: 0.9435 - f1_score: 0.8977 - lr: 2.5119e-08\n",
            "Epoch 30/30\n",
            "27/27 [==============================] - 15s 536ms/step - loss: 0.3109 - accuracy: 0.8753 - precision: 0.9231 - recall: 0.8482 - auc: 0.9371 - f1_score: 0.8817 - lr: 1.5849e-08\n"
          ]
        }
      ],
      "source": [
        "history=model.fit(train_dataset,\n",
        "                        epochs = 30,\n",
        "                        verbose = 1,\n",
        "                         callbacks=lr_scheduler)"
      ]
    },
    {
      "cell_type": "code",
      "execution_count": 37,
      "metadata": {
        "colab": {
          "base_uri": "https://localhost:8080/"
        },
        "id": "_LGf1X8Gmg3H",
        "outputId": "7673496c-e97c-49a6-f818-1fb51ca16a17"
      },
      "outputs": [
        {
          "name": "stdout",
          "output_type": "stream",
          "text": [
            "9/9 [==============================] - 1s 149ms/step - loss: 0.2367 - accuracy: 0.9196 - precision: 0.9808 - recall: 0.8293 - auc: 0.9783 - f1_score: 0.8969\n"
          ]
        }
      ],
      "source": [
        "scores = model.evaluate(test_dataset)"
      ]
    },
    {
      "cell_type": "code",
      "execution_count": 38,
      "metadata": {
        "colab": {
          "base_uri": "https://localhost:8080/"
        },
        "id": "vrNJ-Y4ixO-8",
        "outputId": "81bf074a-4581-40c8-ae56-f162b6111242"
      },
      "outputs": [
        {
          "name": "stdout",
          "output_type": "stream",
          "text": [
            "Accuracy =  0.9195803999900818\n",
            "Precision =  0.9807692170143127\n",
            "Recall =  0.8292682766914368\n",
            "AUC =  0.9783031940460205\n",
            "F1_score =  0.8969290256500244\n"
          ]
        }
      ],
      "source": [
        "print(\"Accuracy = \", scores[1])\n",
        "print(\"Precision = \", scores[2])\n",
        "print(\"Recall = \", scores[3])\n",
        "print(\"AUC = \", scores[4])\n",
        "print(\"F1_score = \", scores[5])"
      ]
    },
    {
      "cell_type": "code",
      "execution_count": 34,
      "metadata": {
        "id": "ZTE69Ahoypuq"
      },
      "outputs": [],
      "source": []
    }
  ],
  "metadata": {
    "accelerator": "GPU",
    "colab": {
      "gpuType": "T4",
      "provenance": []
    },
    "kernelspec": {
      "display_name": "Python 3",
      "name": "python3"
    },
    "language_info": {
      "name": "python"
    }
  },
  "nbformat": 4,
  "nbformat_minor": 0
}
