{
  "cells": [
    {
      "cell_type": "code",
      "execution_count": 5,
      "metadata": {
        "colab": {
          "base_uri": "https://localhost:8080/"
        },
        "id": "HC-IlCKS0b5O",
        "outputId": "00f13d05-e68b-4136-a8c9-ccb564022e29"
      },
      "outputs": [
        {
          "name": "stdout",
          "output_type": "stream",
          "text": [
            "Found 439 images belonging to 2 classes.\n",
            "Found 130 images belonging to 2 classes.\n"
          ]
        }
      ],
      "source": [
        "import os\n",
        "import numpy as np\n",
        "import tensorflow as tf\n",
        "from tensorflow.keras.preprocessing.image import ImageDataGenerator\n",
        "from sklearn.metrics import accuracy_score, precision_score, roc_auc_score\n",
        "\n",
        "# Define data directories\n",
        "train_dir = '/content/drive/MyDrive/Colab Notebooks/MCI_AD/train'\n",
        "test_dir = '/content/drive/MyDrive/Colab Notebooks/MCI_AD/test'\n",
        "\n",
        "# Parameters\n",
        "input_shape = (32, 32, 3)\n",
        "batch_size = 32\n",
        "epochs = 20\n",
        "\n",
        "# Data augmentation for training set\n",
        "train_datagen = ImageDataGenerator(\n",
        "    rescale=1./255,\n",
        "    shear_range=0.2,\n",
        "    zoom_range=0.2,\n",
        "    horizontal_flip=True)\n",
        "\n",
        "# No augmentation for test set\n",
        "test_datagen = ImageDataGenerator(rescale=1./255)\n",
        "\n",
        "# Flow images from directories\n",
        "train_generator = train_datagen.flow_from_directory(\n",
        "    train_dir,\n",
        "    target_size=(input_shape[0], input_shape[1]),\n",
        "    batch_size=batch_size,\n",
        "    class_mode='binary')\n",
        "\n",
        "test_generator = test_datagen.flow_from_directory(\n",
        "    test_dir,\n",
        "    target_size=(input_shape[0], input_shape[1]),\n",
        "    batch_size=batch_size,\n",
        "    class_mode='binary')\n",
        "\n",
        "# Define LeNet model\n",
        "model = tf.keras.Sequential([\n",
        "    tf.keras.layers.Conv2D(6, kernel_size=(5, 5), strides=(1, 1), activation='tanh', input_shape=input_shape),\n",
        "    tf.keras.layers.AveragePooling2D(pool_size=(2, 2), strides=(2, 2)),\n",
        "    tf.keras.layers.Conv2D(16, kernel_size=(5, 5), strides=(1, 1), activation='tanh'),\n",
        "    tf.keras.layers.AveragePooling2D(pool_size=(2, 2), strides=(2, 2)),\n",
        "    tf.keras.layers.Flatten(),\n",
        "    tf.keras.layers.Dense(120, activation='tanh'),\n",
        "    tf.keras.layers.Dense(84, activation='tanh'),\n",
        "    tf.keras.layers.Dense(1, activation='sigmoid')\n",
        "])\n",
        "\n",
        "# Compile the model\n",
        "model.compile(optimizer='adam',\n",
        "              loss='binary_crossentropy',\n",
        "              metrics=['accuracy'])\n",
        "\n",
        "\n"
      ]
    },
    {
      "cell_type": "code",
      "execution_count": 6,
      "metadata": {
        "colab": {
          "base_uri": "https://localhost:8080/"
        },
        "id": "lFeVZyOU1wpl",
        "outputId": "f68ca69f-dbdf-4735-a635-fe5f4f03eb9d"
      },
      "outputs": [
        {
          "name": "stdout",
          "output_type": "stream",
          "text": [
            "Epoch 1/20\n",
            "14/14 [==============================] - 59s 4s/step - loss: 0.6479 - accuracy: 0.6424\n",
            "Epoch 2/20\n",
            "14/14 [==============================] - 2s 136ms/step - loss: 0.5611 - accuracy: 0.7335\n",
            "Epoch 3/20\n",
            "14/14 [==============================] - 2s 138ms/step - loss: 0.5070 - accuracy: 0.7563\n",
            "Epoch 4/20\n",
            "14/14 [==============================] - 2s 122ms/step - loss: 0.4761 - accuracy: 0.7882\n",
            "Epoch 5/20\n",
            "14/14 [==============================] - 2s 115ms/step - loss: 0.4881 - accuracy: 0.7745\n",
            "Epoch 6/20\n",
            "14/14 [==============================] - 2s 140ms/step - loss: 0.4688 - accuracy: 0.7722\n",
            "Epoch 7/20\n",
            "14/14 [==============================] - 2s 120ms/step - loss: 0.4679 - accuracy: 0.7950\n",
            "Epoch 8/20\n",
            "14/14 [==============================] - 2s 119ms/step - loss: 0.4420 - accuracy: 0.8018\n",
            "Epoch 9/20\n",
            "14/14 [==============================] - 2s 130ms/step - loss: 0.4228 - accuracy: 0.8246\n",
            "Epoch 10/20\n",
            "14/14 [==============================] - 2s 143ms/step - loss: 0.4466 - accuracy: 0.8109\n",
            "Epoch 11/20\n",
            "14/14 [==============================] - 2s 117ms/step - loss: 0.4392 - accuracy: 0.8155\n",
            "Epoch 12/20\n",
            "14/14 [==============================] - 2s 115ms/step - loss: 0.4130 - accuracy: 0.8109\n",
            "Epoch 13/20\n",
            "14/14 [==============================] - 2s 117ms/step - loss: 0.4323 - accuracy: 0.8087\n",
            "Epoch 14/20\n",
            "14/14 [==============================] - 2s 118ms/step - loss: 0.4311 - accuracy: 0.8178\n",
            "Epoch 15/20\n",
            "14/14 [==============================] - 2s 118ms/step - loss: 0.4476 - accuracy: 0.7995\n",
            "Epoch 16/20\n",
            "14/14 [==============================] - 2s 121ms/step - loss: 0.4242 - accuracy: 0.8064\n",
            "Epoch 17/20\n",
            "14/14 [==============================] - 2s 142ms/step - loss: 0.4521 - accuracy: 0.8018\n",
            "Epoch 18/20\n",
            "14/14 [==============================] - 2s 129ms/step - loss: 0.4384 - accuracy: 0.8041\n",
            "Epoch 19/20\n",
            "14/14 [==============================] - 2s 119ms/step - loss: 0.4170 - accuracy: 0.8223\n",
            "Epoch 20/20\n",
            "14/14 [==============================] - 2s 117ms/step - loss: 0.3946 - accuracy: 0.8474\n"
          ]
        },
        {
          "data": {
            "text/plain": [
              "<keras.src.callbacks.History at 0x7a4187b9fd00>"
            ]
          },
          "execution_count": 6,
          "metadata": {},
          "output_type": "execute_result"
        }
      ],
      "source": [
        "\n",
        "# Train the model\n",
        "model.fit(train_generator, epochs=epochs)\n",
        "\n"
      ]
    },
    {
      "cell_type": "code",
      "execution_count": 7,
      "metadata": {
        "colab": {
          "base_uri": "https://localhost:8080/"
        },
        "id": "sz-Y6NdW1wVc",
        "outputId": "b1bb9a0f-0125-4bc4-8814-7a897ac939a2"
      },
      "outputs": [
        {
          "name": "stdout",
          "output_type": "stream",
          "text": [
            "5/5 [==============================] - 28s 7s/step - loss: 0.3261 - accuracy: 0.8923\n",
            "Test Loss: 0.3261485695838928\n",
            "Test Accuracy: 0.892307698726654\n",
            "5/5 [==============================] - 1s 76ms/step\n",
            "Precision: 0.6046511627906976\n",
            "AUC: 0.5284763313609468\n"
          ]
        }
      ],
      "source": [
        "# Evaluate the model\n",
        "loss, accuracy = model.evaluate(test_generator)\n",
        "print(\"Test Loss:\", loss)\n",
        "print(\"Test Accuracy:\", accuracy)\n",
        "\n",
        "# Predict probabilities for test set\n",
        "y_pred_prob = model.predict(test_generator).flatten()\n",
        "y_true = test_generator.classes\n",
        "\n",
        "# Predicted classes\n",
        "y_pred = np.where(y_pred_prob > 0.5, 1, 0)\n",
        "\n",
        "# Calculate precision and AUC\n",
        "precision = precision_score(y_true, y_pred)\n",
        "auc = roc_auc_score(y_true, y_pred_prob)\n",
        "\n",
        "print(\"Precision:\", precision)\n",
        "print(\"AUC:\", auc)"
      ]
    },
    {
      "cell_type": "code",
      "execution_count": 1,
      "metadata": {
        "colab": {
          "base_uri": "https://localhost:8080/"
        },
        "id": "RHpzhAkSRQgQ",
        "outputId": "e36bb582-b35f-4c08-d197-67c3c0ad5285"
      },
      "outputs": [
        {
          "name": "stdout",
          "output_type": "stream",
          "text": [
            "Mounted at /content/drive\n"
          ]
        }
      ],
      "source": [
        "from google.colab import drive\n",
        "drive.mount('/content/drive')"
      ]
    },
    {
      "cell_type": "code",
      "execution_count": null,
      "metadata": {
        "id": "5Nyltpjc2Opq"
      },
      "outputs": [],
      "source": []
    }
  ],
  "metadata": {
    "accelerator": "GPU",
    "colab": {
      "gpuType": "T4",
      "provenance": []
    },
    "kernelspec": {
      "display_name": "Python 3",
      "name": "python3"
    },
    "language_info": {
      "name": "python"
    }
  },
  "nbformat": 4,
  "nbformat_minor": 0
}
