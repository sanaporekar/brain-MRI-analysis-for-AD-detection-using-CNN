{
  "cells": [
    {
      "cell_type": "code",
      "execution_count": 1,
      "metadata": {
        "colab": {
          "base_uri": "https://localhost:8080/"
        },
        "id": "j0FEKKmwlqUT",
        "outputId": "775d401e-c6d9-479f-d16e-4a69bda712ea"
      },
      "outputs": [
        {
          "name": "stdout",
          "output_type": "stream",
          "text": [
            "Mounted at /content/drive\n"
          ]
        }
      ],
      "source": [
        "from google.colab import drive\n",
        "drive.mount('/content/drive')"
      ]
    },
    {
      "cell_type": "code",
      "execution_count": 2,
      "metadata": {
        "id": "O3WRnv-xl41a"
      },
      "outputs": [],
      "source": [
        "import numpy as np\n",
        "import pandas as pd\n",
        "import matplotlib.pyplot as plt\n",
        "import seaborn as sn\n",
        "import skimage.io\n",
        "import os\n",
        "import tqdm\n",
        "import glob\n",
        "import tensorflow\n",
        "\n",
        "from tqdm import tqdm\n",
        "from sklearn.utils import shuffle\n",
        "from sklearn import metrics\n",
        "from sklearn.metrics import confusion_matrix, classification_report\n",
        "from sklearn.model_selection import train_test_split\n",
        "from skimage.io import imread, imshow\n",
        "from skimage.transform import resize\n",
        "from skimage.color import gray2rgb\n",
        "\n",
        "import tensorflow as tf\n",
        "from tensorflow.keras.preprocessing.image import ImageDataGenerator\n",
        "from tensorflow.keras.preprocessing import image_dataset_from_directory\n",
        "from tensorflow.keras.models import Sequential\n",
        "from tensorflow.keras.layers import InputLayer, BatchNormalization, Dropout, Flatten, Dense, Activation, MaxPool2D, Conv2D\n",
        "from tensorflow.keras.callbacks import EarlyStopping, ModelCheckpoint\n",
        "from tensorflow.keras.applications.inception_v3 import InceptionV3\n",
        "from keras import optimizers\n",
        "\n",
        "from keras.callbacks import Callback,ModelCheckpoint\n",
        "from keras.models import Sequential,load_model\n",
        "from keras.layers import Dense, Dropout\n",
        "import keras.backend as K\n",
        "\n",
        "from typing import Optional"
      ]
    },
    {
      "cell_type": "code",
      "execution_count": 3,
      "metadata": {
        "id": "Ml644udAmHeK"
      },
      "outputs": [],
      "source": [
        "train_datagen = ImageDataGenerator(rescale = 1./255,\n",
        "                                   validation_split = 0.2,\n",
        "\n",
        "        rotation_range=5,\n",
        "        width_shift_range=0.2,\n",
        "        height_shift_range=0.2,\n",
        "        shear_range=0.2,\n",
        "        horizontal_flip=True,\n",
        "        vertical_flip=True,\n",
        "        fill_mode='nearest')\n",
        "\n",
        "valid_datagen = ImageDataGenerator(rescale = 1./255,\n",
        "                                  validation_split = 0.2)\n",
        "\n",
        "test_datagen  = ImageDataGenerator(rescale = 1./255\n",
        "                                  )"
      ]
    },
    {
      "cell_type": "code",
      "execution_count": 4,
      "metadata": {
        "colab": {
          "base_uri": "https://localhost:8080/"
        },
        "id": "MBwh2fNKmKd7",
        "outputId": "9c571f56-1500-49b2-9e54-2efd60b098d7"
      },
      "outputs": [
        {
          "name": "stdout",
          "output_type": "stream",
          "text": [
            "Found 867 images belonging to 2 classes.\n"
          ]
        }
      ],
      "source": [
        "train_dataset  = train_datagen.flow_from_directory(directory = '/content/drive/MyDrive/Colab Notebooks/AD-CN/AD-CN/train',\n",
        "                                                   target_size = (224,224),\n",
        "                                                   class_mode = 'binary',\n",
        "                                                   subset = 'training',\n",
        "                                                   batch_size = 32)"
      ]
    },
    {
      "cell_type": "code",
      "execution_count": 5,
      "metadata": {
        "colab": {
          "base_uri": "https://localhost:8080/"
        },
        "id": "w31uy4LomNxI",
        "outputId": "db61a3fa-fe1a-4514-af1b-7e41032d957f"
      },
      "outputs": [
        {
          "name": "stdout",
          "output_type": "stream",
          "text": [
            "Found 323 images belonging to 2 classes.\n"
          ]
        }
      ],
      "source": [
        "test_dataset = test_datagen.flow_from_directory(directory = '/content/drive/MyDrive/Colab Notebooks/AD-CN/AD-CN/test',\n",
        "                                                  target_size = (224,224),\n",
        "                                                  class_mode = 'binary',\n",
        "                                                  batch_size = 32)"
      ]
    },
    {
      "cell_type": "code",
      "execution_count": 6,
      "metadata": {
        "colab": {
          "base_uri": "https://localhost:8080/"
        },
        "id": "pGPP-WaJmQO0",
        "outputId": "ab83e230-e8e8-4164-98ce-e4ed0e56bbb8"
      },
      "outputs": [
        {
          "name": "stdout",
          "output_type": "stream",
          "text": [
            "Downloading data from https://storage.googleapis.com/tensorflow/keras-applications/inception_v3/inception_v3_weights_tf_dim_ordering_tf_kernels_notop.h5\n",
            "87910968/87910968 [==============================] - 3s 0us/step\n"
          ]
        }
      ],
      "source": [
        "base_model = InceptionV3(input_shape=(224, 224, 3), include_top=False, weights='imagenet')\n"
      ]
    },
    {
      "cell_type": "code",
      "execution_count": 7,
      "metadata": {
        "id": "1cPyMamcmSdl"
      },
      "outputs": [],
      "source": [
        "for layer in base_model.layers:\n",
        "    layer.trainable=False\n"
      ]
    },
    {
      "cell_type": "code",
      "execution_count": 8,
      "metadata": {
        "id": "IcG6-TPmmUtd"
      },
      "outputs": [],
      "source": [
        "model=Sequential()\n",
        "model.add(base_model)\n",
        "model.add(Dropout(0.5))\n",
        "model.add(tf.keras.layers.GlobalAveragePooling2D())\n",
        "model.add(Flatten())\n",
        "model.add(BatchNormalization())\n",
        "model.add(Dense(64,kernel_initializer='he_uniform'))\n",
        "model.add(BatchNormalization())\n",
        "model.add(Activation('relu'))\n",
        "model.add(Dropout(0.5))\n",
        "model.add(Dense(64,kernel_initializer='he_uniform'))\n",
        "model.add(BatchNormalization())\n",
        "model.add(Activation('relu'))\n",
        "model.add(Dropout(0.5))\n",
        "model.add(Dense(64,kernel_initializer='he_uniform'))\n",
        "model.add(BatchNormalization())\n",
        "model.add(Activation('relu'))\n",
        "model.add(Dropout(0.5))\n",
        "model.add(Dense(32,kernel_initializer='he_uniform'))\n",
        "model.add(BatchNormalization())\n",
        "model.add(Activation('relu'))\n",
        "model.add(Dropout(0.5))\n",
        "model.add(Dense(32,kernel_initializer='he_uniform'))\n",
        "model.add(BatchNormalization())\n",
        "model.add(Activation('relu'))\n",
        "model.add(Dense(1, activation='sigmoid'))"
      ]
    },
    {
      "cell_type": "code",
      "execution_count": 9,
      "metadata": {
        "id": "GciqkkxcmWqX"
      },
      "outputs": [],
      "source": [
        "def f1_score(y_true, y_pred):\n",
        "    true_positives = K.sum(K.round(K.clip(y_true * y_pred, 0, 1)))\n",
        "    possible_positives = K.sum(K.round(K.clip(y_true, 0, 1)))\n",
        "    predicted_positives = K.sum(K.round(K.clip(y_pred, 0, 1)))\n",
        "    precision = true_positives / (predicted_positives + K.epsilon())\n",
        "    recall = true_positives / (possible_positives + K.epsilon())\n",
        "    f1_val = 2*(precision*recall)/(precision+recall+K.epsilon())\n",
        "    return f1_val"
      ]
    },
    {
      "cell_type": "code",
      "execution_count": 10,
      "metadata": {
        "id": "ZBVYRjA3mY1b"
      },
      "outputs": [],
      "source": [
        "def exponential_decay(lr0, s):\n",
        "    def exponential_decay_fn(epoch):\n",
        "        return lr0 * 0.1 **(epoch / s)\n",
        "    return exponential_decay_fn\n",
        "\n",
        "exponential_decay_fn = exponential_decay(0.01, 5) \n",
        "\n",
        "lr_scheduler = tf.keras.callbacks.LearningRateScheduler(exponential_decay_fn)"
      ]
    },
    {
      "cell_type": "code",
      "execution_count": 11,
      "metadata": {
        "id": "c98hbgNembCm"
      },
      "outputs": [],
      "source": [
        "\n",
        "METRICS = [\n",
        "      tf.keras.metrics.BinaryAccuracy(name='accuracy'),\n",
        "      tf.keras.metrics.Precision(name='precision'),\n",
        "      tf.keras.metrics.Recall(name='recall'),\n",
        "      tf.keras.metrics.AUC(name='auc'),\n",
        "        f1_score,\n",
        "]\n"
      ]
    },
    {
      "cell_type": "code",
      "execution_count": 12,
      "metadata": {
        "id": "Nq9A6Y_0mdAY"
      },
      "outputs": [],
      "source": [
        "model.compile(optimizer='rmsprop', loss='binary_crossentropy',metrics=METRICS)"
      ]
    },
    {
      "cell_type": "code",
      "execution_count": 15,
      "metadata": {
        "colab": {
          "base_uri": "https://localhost:8080/"
        },
        "id": "1wTyCM3QmfBw",
        "outputId": "b3af277b-94a4-4f56-a449-5cc1889674d9"
      },
      "outputs": [
        {
          "name": "stdout",
          "output_type": "stream",
          "text": [
            "Epoch 1/20\n",
            "28/28 [==============================] - 182s 6s/step - loss: 0.5834 - accuracy: 0.6747 - precision: 0.6161 - recall: 0.6684 - auc: 0.7438 - f1_score: 0.6336 - lr: 0.0100\n",
            "Epoch 2/20\n",
            "28/28 [==============================] - 16s 579ms/step - loss: 0.4444 - accuracy: 0.7889 - precision: 0.7146 - recall: 0.8568 - auc: 0.8629 - f1_score: 0.7463 - lr: 0.0063\n",
            "Epoch 3/20\n",
            "28/28 [==============================] - 14s 515ms/step - loss: 0.4138 - accuracy: 0.8201 - precision: 0.7366 - recall: 0.9125 - auc: 0.8800 - f1_score: 0.8044 - lr: 0.0040\n",
            "Epoch 4/20\n",
            "28/28 [==============================] - 15s 510ms/step - loss: 0.4162 - accuracy: 0.8235 - precision: 0.7363 - recall: 0.9257 - auc: 0.8886 - f1_score: 0.7863 - lr: 0.0025\n",
            "Epoch 5/20\n",
            "28/28 [==============================] - 15s 539ms/step - loss: 0.4154 - accuracy: 0.8155 - precision: 0.7364 - recall: 0.8966 - auc: 0.8703 - f1_score: 0.7723 - lr: 0.0016\n",
            "Epoch 6/20\n",
            "28/28 [==============================] - 14s 507ms/step - loss: 0.4076 - accuracy: 0.8189 - precision: 0.7361 - recall: 0.9098 - auc: 0.8769 - f1_score: 0.8023 - lr: 0.0010\n",
            "Epoch 7/20\n",
            "28/28 [==============================] - 15s 527ms/step - loss: 0.3767 - accuracy: 0.8316 - precision: 0.7561 - recall: 0.9045 - auc: 0.8947 - f1_score: 0.8170 - lr: 6.3096e-04\n",
            "Epoch 8/20\n",
            "28/28 [==============================] - 15s 523ms/step - loss: 0.3871 - accuracy: 0.8351 - precision: 0.7532 - recall: 0.9231 - auc: 0.8921 - f1_score: 0.8170 - lr: 3.9811e-04\n",
            "Epoch 9/20\n",
            "28/28 [==============================] - 14s 498ms/step - loss: 0.4009 - accuracy: 0.8224 - precision: 0.7429 - recall: 0.9045 - auc: 0.8809 - f1_score: 0.7810 - lr: 2.5119e-04\n",
            "Epoch 10/20\n",
            "28/28 [==============================] - 15s 525ms/step - loss: 0.3913 - accuracy: 0.8281 - precision: 0.7478 - recall: 0.9125 - auc: 0.8899 - f1_score: 0.8149 - lr: 1.5849e-04\n",
            "Epoch 11/20\n",
            "28/28 [==============================] - 14s 512ms/step - loss: 0.3939 - accuracy: 0.8328 - precision: 0.7489 - recall: 0.9257 - auc: 0.8881 - f1_score: 0.7939 - lr: 1.0000e-04\n",
            "Epoch 12/20\n",
            "28/28 [==============================] - 14s 494ms/step - loss: 0.3768 - accuracy: 0.8443 - precision: 0.7654 - recall: 0.9257 - auc: 0.8976 - f1_score: 0.8278 - lr: 6.3096e-05\n",
            "Epoch 13/20\n",
            "28/28 [==============================] - 15s 519ms/step - loss: 0.3527 - accuracy: 0.8547 - precision: 0.7665 - recall: 0.9576 - auc: 0.9110 - f1_score: 0.8421 - lr: 3.9811e-05\n",
            "Epoch 14/20\n",
            "28/28 [==============================] - 15s 522ms/step - loss: 0.3804 - accuracy: 0.8397 - precision: 0.7587 - recall: 0.9257 - auc: 0.8992 - f1_score: 0.8364 - lr: 2.5119e-05\n",
            "Epoch 15/20\n",
            "28/28 [==============================] - 16s 577ms/step - loss: 0.3702 - accuracy: 0.8454 - precision: 0.7647 - recall: 0.9310 - auc: 0.8927 - f1_score: 0.8082 - lr: 1.5849e-05\n",
            "Epoch 16/20\n",
            "28/28 [==============================] - 14s 516ms/step - loss: 0.3924 - accuracy: 0.8374 - precision: 0.7622 - recall: 0.9098 - auc: 0.8843 - f1_score: 0.8315 - lr: 1.0000e-05\n",
            "Epoch 17/20\n",
            "28/28 [==============================] - 15s 510ms/step - loss: 0.3829 - accuracy: 0.8431 - precision: 0.7696 - recall: 0.9125 - auc: 0.8946 - f1_score: 0.8385 - lr: 6.3096e-06\n",
            "Epoch 18/20\n",
            "28/28 [==============================] - 15s 517ms/step - loss: 0.3859 - accuracy: 0.8408 - precision: 0.7537 - recall: 0.9416 - auc: 0.8823 - f1_score: 0.8296 - lr: 3.9811e-06\n",
            "Epoch 19/20\n",
            "28/28 [==============================] - 14s 506ms/step - loss: 0.3825 - accuracy: 0.8443 - precision: 0.7665 - recall: 0.9231 - auc: 0.8908 - f1_score: 0.8265 - lr: 2.5119e-06\n",
            "Epoch 20/20\n",
            "28/28 [==============================] - 14s 487ms/step - loss: 0.3705 - accuracy: 0.8501 - precision: 0.7751 - recall: 0.9231 - auc: 0.9072 - f1_score: 0.8398 - lr: 1.5849e-06\n"
          ]
        }
      ],
      "source": [
        "history=model.fit(train_dataset,\n",
        "                        epochs = 20,\n",
        "                        verbose = 1,\n",
        "                         callbacks=lr_scheduler)"
      ]
    },
    {
      "cell_type": "code",
      "execution_count": 16,
      "metadata": {
        "colab": {
          "base_uri": "https://localhost:8080/"
        },
        "id": "_LGf1X8Gmg3H",
        "outputId": "1394b2a9-f15b-4ed1-cfbd-99e9d5396a92"
      },
      "outputs": [
        {
          "name": "stdout",
          "output_type": "stream",
          "text": [
            "11/11 [==============================] - 75s 7s/step - loss: 0.4018 - accuracy: 0.8452 - precision: 0.7678 - recall: 0.9939 - auc: 0.9341 - f1_score: 0.7882\n"
          ]
        }
      ],
      "source": [
        "scores = model.evaluate(test_dataset)"
      ]
    },
    {
      "cell_type": "code",
      "execution_count": 17,
      "metadata": {
        "colab": {
          "base_uri": "https://localhost:8080/"
        },
        "id": "vrNJ-Y4ixO-8",
        "outputId": "37f4e0d4-2802-4a95-d1b2-c8e35bee3b1a"
      },
      "outputs": [
        {
          "name": "stdout",
          "output_type": "stream",
          "text": [
            "Accuracy =  0.8452012538909912\n",
            "Precision =  0.7677724957466125\n",
            "Recall =  0.9938650131225586\n",
            "AUC =  0.934144914150238\n",
            "F1_score =  0.7882142663002014\n"
          ]
        }
      ],
      "source": [
        "print(\"Accuracy = \", scores[1])\n",
        "print(\"Precision = \", scores[2])\n",
        "print(\"Recall = \", scores[3])\n",
        "print(\"AUC = \", scores[4])\n",
        "print(\"F1_score = \", scores[5])"
      ]
    },
    {
      "cell_type": "code",
      "execution_count": null,
      "metadata": {
        "id": "ZTE69Ahoypuq"
      },
      "outputs": [],
      "source": []
    }
  ],
  "metadata": {
    "accelerator": "GPU",
    "colab": {
      "gpuType": "T4",
      "provenance": []
    },
    "kernelspec": {
      "display_name": "Python 3",
      "name": "python3"
    },
    "language_info": {
      "name": "python"
    }
  },
  "nbformat": 4,
  "nbformat_minor": 0
}
