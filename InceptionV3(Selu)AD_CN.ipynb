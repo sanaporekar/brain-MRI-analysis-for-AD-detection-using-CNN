{
  "cells": [
    {
      "cell_type": "code",
      "execution_count": null,
      "metadata": {
        "id": "fRCz1HJoAUPT"
      },
      "outputs": [],
      "source": [
        "import numpy as np\n",
        "import pandas as pd\n",
        "import matplotlib.pyplot as plt\n",
        "import seaborn as sn\n",
        "import skimage.io\n",
        "import os\n",
        "import tqdm\n",
        "import glob\n",
        "import tensorflow\n",
        "\n",
        "from tqdm import tqdm\n",
        "from sklearn.utils import shuffle\n",
        "from sklearn import metrics\n",
        "from sklearn.metrics import confusion_matrix, classification_report\n",
        "from sklearn.model_selection import train_test_split\n",
        "from skimage.io import imread, imshow\n",
        "from skimage.transform import resize\n",
        "from skimage.color import gray2rgb\n",
        "\n",
        "import tensorflow as tf\n",
        "from tensorflow.keras.preprocessing.image import ImageDataGenerator\n",
        "from tensorflow.keras.preprocessing import image_dataset_from_directory\n",
        "from tensorflow.keras.models import Sequential\n",
        "from tensorflow.keras.layers import InputLayer, BatchNormalization, Dropout, Flatten, Dense, Activation, MaxPool2D, Conv2D\n",
        "from tensorflow.keras.callbacks import EarlyStopping, ModelCheckpoint\n",
        "from tensorflow.keras.applications.inception_v3 import InceptionV3\n",
        "from keras import optimizers\n",
        "\n",
        "from keras.callbacks import Callback,ModelCheckpoint\n",
        "from keras.models import Sequential,load_model\n",
        "from keras.layers import Dense, Dropout\n",
        "\n",
        "import keras.backend as K\n",
        "\n",
        "\n",
        "from typing import Optional"
      ]
    },
    {
      "cell_type": "code",
      "execution_count": null,
      "metadata": {
        "id": "pok5YEEZBMUu"
      },
      "outputs": [],
      "source": [
        "train_datagen = ImageDataGenerator(rescale = 1./255,\n",
        "                                   validation_split = 0.2,\n",
        "\n",
        "        rotation_range=5,\n",
        "        width_shift_range=0.2,\n",
        "        height_shift_range=0.2,\n",
        "        shear_range=0.2,\n",
        "        #zoom_range=0.2,\n",
        "        horizontal_flip=True,\n",
        "        vertical_flip=True,\n",
        "        fill_mode='nearest')\n",
        "\n",
        "valid_datagen = ImageDataGenerator(rescale = 1./255,\n",
        "                                  validation_split = 0.2)\n",
        "\n",
        "test_datagen  = ImageDataGenerator(rescale = 1./255\n",
        "                                  )"
      ]
    },
    {
      "cell_type": "code",
      "execution_count": null,
      "metadata": {
        "colab": {
          "base_uri": "https://localhost:8080/"
        },
        "id": "9VI1L7ocBQyK",
        "outputId": "766ca660-2a0e-41ce-c59c-44197485b5f0"
      },
      "outputs": [
        {
          "name": "stdout",
          "output_type": "stream",
          "text": [
            "Found 867 images belonging to 2 classes.\n"
          ]
        }
      ],
      "source": [
        "train_dataset  = train_datagen.flow_from_directory(directory = '/content/drive/MyDrive/AD-CN/AD-CN/train',\n",
        "                                                   target_size = (224,224),\n",
        "                                                   class_mode = 'binary',\n",
        "                                                   subset = 'training',\n",
        "                                                   batch_size = 32)"
      ]
    },
    {
      "cell_type": "code",
      "execution_count": null,
      "metadata": {
        "colab": {
          "base_uri": "https://localhost:8080/"
        },
        "id": "ScPJnT33BTcL",
        "outputId": "b78d0af6-ba8c-487c-d020-9ea2bffea9dc"
      },
      "outputs": [
        {
          "name": "stdout",
          "output_type": "stream",
          "text": [
            "Found 323 images belonging to 2 classes.\n"
          ]
        }
      ],
      "source": [
        "test_dataset = test_datagen.flow_from_directory(directory = '/content/drive/MyDrive/AD-CN/AD-CN/test',\n",
        "                                                  target_size = (224,224),\n",
        "                                                  class_mode = 'binary',\n",
        "                                                  batch_size = 32)"
      ]
    },
    {
      "cell_type": "code",
      "execution_count": null,
      "metadata": {
        "colab": {
          "base_uri": "https://localhost:8080/"
        },
        "id": "x9I2RzWsBW41",
        "outputId": "45d010ae-0f7e-4414-aec3-e400cbe122ad"
      },
      "outputs": [
        {
          "name": "stdout",
          "output_type": "stream",
          "text": [
            "Downloading data from https://storage.googleapis.com/tensorflow/keras-applications/inception_v3/inception_v3_weights_tf_dim_ordering_tf_kernels_notop.h5\n",
            "87910968/87910968 [==============================] - 0s 0us/step\n"
          ]
        }
      ],
      "source": [
        "base_model = InceptionV3(input_shape=(224,224,3),\n",
        "                   include_top=False,\n",
        "                   weights=\"imagenet\")"
      ]
    },
    {
      "cell_type": "code",
      "execution_count": null,
      "metadata": {
        "id": "Vlao8-aUBZO2"
      },
      "outputs": [],
      "source": [
        "for layer in base_model.layers:\n",
        "    layer.trainable=False\n"
      ]
    },
    {
      "cell_type": "code",
      "execution_count": null,
      "metadata": {
        "id": "UAHfdx_YBmLE"
      },
      "outputs": [],
      "source": [
        "model=Sequential()\n",
        "model.add(base_model)\n",
        "model.add(Dropout(0.5))\n",
        "model.add(tf.keras.layers.GlobalAveragePooling2D())\n",
        "model.add(Flatten())\n",
        "model.add(BatchNormalization())\n",
        "model.add(Dense(64,kernel_initializer='he_uniform'))\n",
        "model.add(BatchNormalization())\n",
        "model.add(Activation('selu'))\n",
        "model.add(Dropout(0.5))\n",
        "model.add(Dense(64,kernel_initializer='he_uniform'))\n",
        "model.add(BatchNormalization())\n",
        "model.add(Activation('selu'))\n",
        "model.add(Dropout(0.5))\n",
        "model.add(Dense(64,kernel_initializer='he_uniform'))\n",
        "model.add(BatchNormalization())\n",
        "model.add(Activation('selu'))\n",
        "model.add(Dropout(0.5))\n",
        "model.add(Dense(32,kernel_initializer='he_uniform'))\n",
        "model.add(BatchNormalization())\n",
        "model.add(Activation('selu'))\n",
        "model.add(Dropout(0.5))\n",
        "model.add(Dense(32,kernel_initializer='he_uniform'))\n",
        "model.add(BatchNormalization())\n",
        "model.add(Activation('selu'))\n",
        "model.add(Dense(1, activation='sigmoid'))"
      ]
    },
    {
      "cell_type": "code",
      "execution_count": null,
      "metadata": {
        "id": "BXD4Pcp3BuHt"
      },
      "outputs": [],
      "source": [
        "def f1_score(y_true, y_pred): #taken from old keras source code\n",
        "    true_positives = K.sum(K.round(K.clip(y_true * y_pred, 0, 1)))\n",
        "    possible_positives = K.sum(K.round(K.clip(y_true, 0, 1)))\n",
        "    predicted_positives = K.sum(K.round(K.clip(y_pred, 0, 1)))\n",
        "    precision = true_positives / (predicted_positives + K.epsilon())\n",
        "    recall = true_positives / (possible_positives + K.epsilon())\n",
        "    f1_val = 2*(precision*recall)/(precision+recall+K.epsilon())\n",
        "    return f1_val"
      ]
    },
    {
      "cell_type": "code",
      "execution_count": null,
      "metadata": {
        "id": "YSpwhSB6ByFx"
      },
      "outputs": [],
      "source": [
        "def exponential_decay(lr0, s):\n",
        "    def exponential_decay_fn(epoch):\n",
        "        return lr0 * 0.1 **(epoch / s)\n",
        "    return exponential_decay_fn\n",
        "\n",
        "exponential_decay_fn = exponential_decay(0.01, 5) # when i run it for 50 epochs\n",
        "\n",
        "lr_scheduler = tf.keras.callbacks.LearningRateScheduler(exponential_decay_fn)"
      ]
    },
    {
      "cell_type": "code",
      "execution_count": null,
      "metadata": {
        "id": "nLWeBiWRBzym"
      },
      "outputs": [],
      "source": [
        "METRICS = [\n",
        "      tf.keras.metrics.BinaryAccuracy(name='accuracy'),\n",
        "      tf.keras.metrics.Precision(name='precision'),\n",
        "      tf.keras.metrics.Recall(name='recall'),\n",
        "      tf.keras.metrics.AUC(name='auc'),\n",
        "        f1_score,\n",
        "]\n"
      ]
    },
    {
      "cell_type": "code",
      "execution_count": null,
      "metadata": {
        "id": "0FnTTktcB2QX"
      },
      "outputs": [],
      "source": [
        "model.compile(optimizer='rmsprop', loss='binary_crossentropy',metrics=METRICS)"
      ]
    },
    {
      "cell_type": "code",
      "execution_count": null,
      "metadata": {
        "colab": {
          "base_uri": "https://localhost:8080/"
        },
        "id": "rwOoBX4FB4mN",
        "outputId": "a7d89a1d-cc24-43b9-bbd0-c125684a5bd9"
      },
      "outputs": [
        {
          "name": "stdout",
          "output_type": "stream",
          "text": [
            "Epoch 1/20\n",
            "28/28 [==============================] - 209s 7s/step - loss: 0.5234 - accuracy: 0.7532 - precision: 0.7095 - recall: 0.7321 - auc: 0.8240 - f1_score: 0.7276 - lr: 0.0100\n",
            "Epoch 2/20\n",
            "28/28 [==============================] - 13s 478ms/step - loss: 0.3523 - accuracy: 0.8478 - precision: 0.8086 - recall: 0.8515 - auc: 0.9191 - f1_score: 0.7941 - lr: 0.0063\n",
            "Epoch 3/20\n",
            "28/28 [==============================] - 15s 518ms/step - loss: 0.3378 - accuracy: 0.8674 - precision: 0.8243 - recall: 0.8833 - auc: 0.9240 - f1_score: 0.8441 - lr: 0.0040\n",
            "Epoch 4/20\n",
            "28/28 [==============================] - 13s 477ms/step - loss: 0.3109 - accuracy: 0.8754 - precision: 0.8422 - recall: 0.8780 - auc: 0.9363 - f1_score: 0.8630 - lr: 0.0025\n",
            "Epoch 5/20\n",
            "28/28 [==============================] - 13s 473ms/step - loss: 0.2747 - accuracy: 0.8893 - precision: 0.8435 - recall: 0.9151 - auc: 0.9498 - f1_score: 0.8689 - lr: 0.0016\n",
            "Epoch 6/20\n",
            "28/28 [==============================] - 13s 474ms/step - loss: 0.2954 - accuracy: 0.8939 - precision: 0.8467 - recall: 0.9231 - auc: 0.9379 - f1_score: 0.8718 - lr: 0.0010\n",
            "Epoch 7/20\n",
            "28/28 [==============================] - 14s 492ms/step - loss: 0.2742 - accuracy: 0.8997 - precision: 0.8625 - recall: 0.9151 - auc: 0.9480 - f1_score: 0.8556 - lr: 6.3096e-04\n",
            "Epoch 8/20\n",
            "28/28 [==============================] - 14s 480ms/step - loss: 0.2913 - accuracy: 0.8812 - precision: 0.8374 - recall: 0.9019 - auc: 0.9422 - f1_score: 0.8701 - lr: 3.9811e-04\n",
            "Epoch 9/20\n",
            "28/28 [==============================] - 14s 481ms/step - loss: 0.2715 - accuracy: 0.8985 - precision: 0.8640 - recall: 0.9098 - auc: 0.9489 - f1_score: 0.8758 - lr: 2.5119e-04\n",
            "Epoch 10/20\n",
            "28/28 [==============================] - 14s 481ms/step - loss: 0.2748 - accuracy: 0.8904 - precision: 0.8507 - recall: 0.9072 - auc: 0.9489 - f1_score: 0.8712 - lr: 1.5849e-04\n",
            "Epoch 11/20\n",
            "28/28 [==============================] - 13s 477ms/step - loss: 0.2749 - accuracy: 0.8835 - precision: 0.8333 - recall: 0.9151 - auc: 0.9482 - f1_score: 0.8722 - lr: 1.0000e-04\n",
            "Epoch 12/20\n",
            "28/28 [==============================] - 14s 482ms/step - loss: 0.2864 - accuracy: 0.8858 - precision: 0.8458 - recall: 0.9019 - auc: 0.9469 - f1_score: 0.8563 - lr: 6.3096e-05\n",
            "Epoch 13/20\n",
            "28/28 [==============================] - 15s 525ms/step - loss: 0.2999 - accuracy: 0.8870 - precision: 0.8532 - recall: 0.8939 - auc: 0.9401 - f1_score: 0.8583 - lr: 3.9811e-05\n",
            "Epoch 14/20\n",
            "28/28 [==============================] - 13s 477ms/step - loss: 0.2877 - accuracy: 0.8881 - precision: 0.8431 - recall: 0.9125 - auc: 0.9464 - f1_score: 0.8781 - lr: 2.5119e-05\n",
            "Epoch 15/20\n",
            "28/28 [==============================] - 14s 483ms/step - loss: 0.2632 - accuracy: 0.8962 - precision: 0.8509 - recall: 0.9231 - auc: 0.9545 - f1_score: 0.8871 - lr: 1.5849e-05\n",
            "Epoch 16/20\n",
            "28/28 [==============================] - 14s 479ms/step - loss: 0.2752 - accuracy: 0.8881 - precision: 0.8398 - recall: 0.9178 - auc: 0.9500 - f1_score: 0.8829 - lr: 1.0000e-05\n",
            "Epoch 17/20\n",
            "28/28 [==============================] - 14s 477ms/step - loss: 0.2894 - accuracy: 0.8858 - precision: 0.8510 - recall: 0.8939 - auc: 0.9453 - f1_score: 0.8680 - lr: 6.3096e-06\n",
            "Epoch 18/20\n",
            "28/28 [==============================] - 13s 476ms/step - loss: 0.2845 - accuracy: 0.8893 - precision: 0.8539 - recall: 0.8992 - auc: 0.9474 - f1_score: 0.8680 - lr: 3.9811e-06\n",
            "Epoch 19/20\n",
            "28/28 [==============================] - 14s 510ms/step - loss: 0.2549 - accuracy: 0.9020 - precision: 0.8632 - recall: 0.9204 - auc: 0.9568 - f1_score: 0.8866 - lr: 2.5119e-06\n",
            "Epoch 20/20\n",
            "28/28 [==============================] - 13s 477ms/step - loss: 0.2570 - accuracy: 0.9008 - precision: 0.8557 - recall: 0.9284 - auc: 0.9546 - f1_score: 0.8917 - lr: 1.5849e-06\n"
          ]
        }
      ],
      "source": [
        "history=model.fit(train_dataset,\n",
        "                        epochs = 20,\n",
        "                        verbose = 1,\n",
        "                         callbacks=lr_scheduler)"
      ]
    },
    {
      "cell_type": "code",
      "execution_count": null,
      "metadata": {
        "colab": {
          "base_uri": "https://localhost:8080/"
        },
        "id": "vaA1wC2XB6k6",
        "outputId": "2e10994b-0cdf-4c4b-a5e8-203510984526"
      },
      "outputs": [
        {
          "name": "stdout",
          "output_type": "stream",
          "text": [
            "11/11 [==============================] - 63s 6s/step - loss: 0.2798 - accuracy: 0.8947 - precision: 0.8525 - recall: 0.9571 - auc: 0.9484 - f1_score: 0.8905\n"
          ]
        }
      ],
      "source": [
        "scores = model.evaluate(test_dataset)"
      ]
    },
    {
      "cell_type": "code",
      "execution_count": null,
      "metadata": {
        "colab": {
          "base_uri": "https://localhost:8080/"
        },
        "id": "fx44S0ZjB_eS",
        "outputId": "b6e005df-f668-4acd-c9f1-1bac1ad4b768"
      },
      "outputs": [
        {
          "name": "stdout",
          "output_type": "stream",
          "text": [
            "Accuracy =  0.8947368264198303\n",
            "Precision =  0.8524590134620667\n",
            "Recall =  0.9570552110671997\n",
            "AUC =  0.9483704566955566\n",
            "F1_score =  0.8905372023582458\n"
          ]
        }
      ],
      "source": [
        "print(\"Accuracy = \", scores[1])\n",
        "print(\"Precision = \", scores[2])\n",
        "print(\"Recall = \", scores[3])\n",
        "print(\"AUC = \", scores[4])\n",
        "print(\"F1_score = \", scores[5])"
      ]
    },
    {
      "cell_type": "code",
      "execution_count": null,
      "metadata": {
        "id": "35jToO3BENHw"
      },
      "outputs": [],
      "source": []
    }
  ],
  "metadata": {
    "accelerator": "GPU",
    "colab": {
      "gpuType": "T4",
      "provenance": []
    },
    "kernelspec": {
      "display_name": "Python 3",
      "name": "python3"
    },
    "language_info": {
      "name": "python"
    }
  },
  "nbformat": 4,
  "nbformat_minor": 0
}
