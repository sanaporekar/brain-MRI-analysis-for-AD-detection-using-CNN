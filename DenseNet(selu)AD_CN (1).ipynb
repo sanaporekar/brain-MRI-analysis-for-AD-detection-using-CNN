{
  "cells": [
    {
      "cell_type": "code",
      "execution_count": null,
      "metadata": {
        "id": "apjrFy24EtGI"
      },
      "outputs": [],
      "source": [
        "import numpy as np\n",
        "import pandas as pd\n",
        "import matplotlib.pyplot as plt\n",
        "import seaborn as sn\n",
        "import skimage.io\n",
        "import os\n",
        "import tqdm\n",
        "import glob\n",
        "import tensorflow\n",
        "\n",
        "from tqdm import tqdm\n",
        "from sklearn.utils import shuffle\n",
        "from sklearn import metrics\n",
        "from sklearn.metrics import confusion_matrix, classification_report\n",
        "from sklearn.model_selection import train_test_split\n",
        "from skimage.io import imread, imshow\n",
        "from skimage.transform import resize\n",
        "from skimage.color import gray2rgb\n",
        "\n",
        "import tensorflow as tf\n",
        "from tensorflow.keras.preprocessing.image import ImageDataGenerator\n",
        "from tensorflow.keras.preprocessing import image_dataset_from_directory\n",
        "from tensorflow.keras.models import Sequential\n",
        "from tensorflow.keras.layers import InputLayer, BatchNormalization, Dropout, Flatten, Dense, Activation, MaxPool2D, Conv2D\n",
        "from tensorflow.keras.callbacks import EarlyStopping, ModelCheckpoint\n",
        "from tensorflow.keras.applications import DenseNet121\n",
        "from tensorflow.keras.applications.densenet import DenseNet169 \n",
        "from tensorflow.keras.applications.densenet import DenseNet121 \n",
        "from keras import optimizers\n",
        "\n",
        "from keras.callbacks import Callback,ModelCheckpoint\n",
        "from keras.models import Sequential,load_model\n",
        "from keras.layers import Dense, Dropout\n",
        "\n",
        "import keras.backend as K\n",
        "\n",
        "\n",
        "from typing import Optional"
      ]
    },
    {
      "cell_type": "code",
      "execution_count": null,
      "metadata": {
        "id": "z3Oek_6qFceR"
      },
      "outputs": [],
      "source": [
        "train_datagen = ImageDataGenerator(rescale = 1./255,\n",
        "                                   validation_split = 0.2,\n",
        "\n",
        "        rotation_range=5,\n",
        "        width_shift_range=0.2,\n",
        "        height_shift_range=0.2,\n",
        "        shear_range=0.2,\n",
        "        #zoom_range=0.2,\n",
        "        horizontal_flip=True,\n",
        "        vertical_flip=True,\n",
        "        fill_mode='nearest')\n",
        "\n",
        "valid_datagen = ImageDataGenerator(rescale = 1./255,\n",
        "                                  validation_split = 0.2)\n",
        "\n",
        "test_datagen  = ImageDataGenerator(rescale = 1./255\n",
        "                                  )"
      ]
    },
    {
      "cell_type": "code",
      "execution_count": null,
      "metadata": {
        "colab": {
          "base_uri": "https://localhost:8080/"
        },
        "id": "JSq-M_8jFj81",
        "outputId": "77831833-7bd8-4cc0-b9c9-eb05e7efe935"
      },
      "outputs": [
        {
          "name": "stdout",
          "output_type": "stream",
          "text": [
            "Found 867 images belonging to 2 classes.\n"
          ]
        }
      ],
      "source": [
        "train_dataset  = train_datagen.flow_from_directory(directory = '/content/drive/MyDrive/AD-CN/AD-CN/train',\n",
        "                                                   target_size = (224,224),\n",
        "                                                   class_mode = 'binary',\n",
        "                                                   subset = 'training',\n",
        "                                                   batch_size = 32)"
      ]
    },
    {
      "cell_type": "code",
      "execution_count": null,
      "metadata": {
        "colab": {
          "base_uri": "https://localhost:8080/"
        },
        "id": "6qmigsIyFp7L",
        "outputId": "bb5f2a7c-de5c-441c-9dae-ad35bd488153"
      },
      "outputs": [
        {
          "name": "stdout",
          "output_type": "stream",
          "text": [
            "Found 323 images belonging to 2 classes.\n"
          ]
        }
      ],
      "source": [
        "test_dataset = test_datagen.flow_from_directory(directory = '/content/drive/MyDrive/AD-CN/AD-CN/test',\n",
        "                                                  target_size = (224,224),\n",
        "                                                  class_mode = 'binary',\n",
        "                                                  batch_size = 32)"
      ]
    },
    {
      "cell_type": "code",
      "execution_count": null,
      "metadata": {
        "colab": {
          "base_uri": "https://localhost:8080/"
        },
        "id": "hm12ka_wFv1S",
        "outputId": "36ddc983-142e-4675-9aa8-ffb393116efa"
      },
      "outputs": [
        {
          "name": "stdout",
          "output_type": "stream",
          "text": [
            "Downloading data from https://storage.googleapis.com/tensorflow/keras-applications/densenet/densenet121_weights_tf_dim_ordering_tf_kernels_notop.h5\n",
            "29084464/29084464 [==============================] - 3s 0us/step\n"
          ]
        }
      ],
      "source": [
        "base_model = DenseNet121(input_shape=(224,224,3),\n",
        "                   include_top=False,\n",
        "                   weights=\"imagenet\")"
      ]
    },
    {
      "cell_type": "code",
      "execution_count": null,
      "metadata": {
        "id": "k6ldkLZGF0Vb"
      },
      "outputs": [],
      "source": [
        "for layer in base_model.layers:\n",
        "    layer.trainable=False\n"
      ]
    },
    {
      "cell_type": "code",
      "execution_count": null,
      "metadata": {
        "id": "fVwXCXVDF3QE"
      },
      "outputs": [],
      "source": [
        "model=Sequential()\n",
        "model.add(base_model)\n",
        "model.add(Dropout(0.5))\n",
        "model.add(tf.keras.layers.GlobalAveragePooling2D())\n",
        "model.add(Flatten())\n",
        "model.add(BatchNormalization())\n",
        "model.add(Dense(64,kernel_initializer='he_uniform'))\n",
        "model.add(BatchNormalization())\n",
        "model.add(Activation('selu'))\n",
        "model.add(Dropout(0.5))\n",
        "model.add(Dense(64,kernel_initializer='he_uniform'))\n",
        "model.add(BatchNormalization())\n",
        "model.add(Activation('selu'))\n",
        "model.add(Dropout(0.5))\n",
        "model.add(Dense(64,kernel_initializer='he_uniform'))\n",
        "model.add(BatchNormalization())\n",
        "model.add(Activation('selu'))\n",
        "model.add(Dropout(0.5))\n",
        "model.add(Dense(32,kernel_initializer='he_uniform'))\n",
        "model.add(BatchNormalization())\n",
        "model.add(Activation('selu'))\n",
        "model.add(Dropout(0.5))\n",
        "model.add(Dense(32,kernel_initializer='he_uniform'))\n",
        "model.add(BatchNormalization())\n",
        "model.add(Activation('selu'))\n",
        "model.add(Dense(1, activation='sigmoid'))"
      ]
    },
    {
      "cell_type": "code",
      "execution_count": null,
      "metadata": {
        "id": "pwiGXXlkGDEC"
      },
      "outputs": [],
      "source": [
        "def f1_score(y_true, y_pred): #taken from old keras source code\n",
        "    true_positives = K.sum(K.round(K.clip(y_true * y_pred, 0, 1)))\n",
        "    possible_positives = K.sum(K.round(K.clip(y_true, 0, 1)))\n",
        "    predicted_positives = K.sum(K.round(K.clip(y_pred, 0, 1)))\n",
        "    precision = true_positives / (predicted_positives + K.epsilon())\n",
        "    recall = true_positives / (possible_positives + K.epsilon())\n",
        "    f1_val = 2*(precision*recall)/(precision+recall+K.epsilon())\n",
        "    return f1_val"
      ]
    },
    {
      "cell_type": "code",
      "execution_count": null,
      "metadata": {
        "id": "7nkHChiZGHdT"
      },
      "outputs": [],
      "source": [
        "def exponential_decay(lr0, s):\n",
        "    def exponential_decay_fn(epoch):\n",
        "        return lr0 * 0.1 **(epoch / s)\n",
        "    return exponential_decay_fn\n",
        "\n",
        "exponential_decay_fn = exponential_decay(0.01, 5) # when i run it for 50 epochs\n",
        "\n",
        "lr_scheduler = tf.keras.callbacks.LearningRateScheduler(exponential_decay_fn)"
      ]
    },
    {
      "cell_type": "code",
      "execution_count": null,
      "metadata": {
        "id": "uPoFECamGJFm"
      },
      "outputs": [],
      "source": [
        "METRICS = [\n",
        "      tf.keras.metrics.BinaryAccuracy(name='accuracy'),\n",
        "      tf.keras.metrics.Precision(name='precision'),\n",
        "      tf.keras.metrics.Recall(name='recall'),\n",
        "      tf.keras.metrics.AUC(name='auc'),\n",
        "        f1_score,\n",
        "]\n"
      ]
    },
    {
      "cell_type": "code",
      "execution_count": null,
      "metadata": {
        "id": "iNiPCqGXGKoQ"
      },
      "outputs": [],
      "source": [
        "model.compile(optimizer='rmsprop', loss='binary_crossentropy',metrics=METRICS)"
      ]
    },
    {
      "cell_type": "code",
      "execution_count": null,
      "metadata": {
        "colab": {
          "base_uri": "https://localhost:8080/"
        },
        "id": "WxXwT2EoGMWd",
        "outputId": "a99a56c9-a29b-4b9f-e18d-7581e0532ba2"
      },
      "outputs": [
        {
          "name": "stdout",
          "output_type": "stream",
          "text": [
            "Epoch 1/20\n",
            "28/28 [==============================] - 609s 21s/step - loss: 0.4505 - accuracy: 0.7901 - precision: 0.7316 - recall: 0.8170 - auc: 0.8757 - f1_score: 0.7782 - lr: 0.0100\n",
            "Epoch 2/20\n",
            "28/28 [==============================] - 14s 504ms/step - loss: 0.3090 - accuracy: 0.8812 - precision: 0.8358 - recall: 0.9045 - auc: 0.9376 - f1_score: 0.8678 - lr: 0.0063\n",
            "Epoch 3/20\n",
            "28/28 [==============================] - 14s 516ms/step - loss: 0.2599 - accuracy: 0.9031 - precision: 0.8690 - recall: 0.9151 - auc: 0.9535 - f1_score: 0.8947 - lr: 0.0040\n",
            "Epoch 4/20\n",
            "28/28 [==============================] - 14s 496ms/step - loss: 0.2479 - accuracy: 0.9054 - precision: 0.8792 - recall: 0.9072 - auc: 0.9601 - f1_score: 0.8952 - lr: 0.0025\n",
            "Epoch 5/20\n",
            "28/28 [==============================] - 14s 514ms/step - loss: 0.2342 - accuracy: 0.9170 - precision: 0.8880 - recall: 0.9257 - auc: 0.9636 - f1_score: 0.9096 - lr: 0.0016\n",
            "Epoch 6/20\n",
            "28/28 [==============================] - 14s 496ms/step - loss: 0.2301 - accuracy: 0.9077 - precision: 0.8857 - recall: 0.9045 - auc: 0.9660 - f1_score: 0.8643 - lr: 0.0010\n",
            "Epoch 7/20\n",
            "28/28 [==============================] - 14s 503ms/step - loss: 0.2257 - accuracy: 0.9193 - precision: 0.8906 - recall: 0.9284 - auc: 0.9647 - f1_score: 0.9083 - lr: 6.3096e-04\n",
            "Epoch 8/20\n",
            "28/28 [==============================] - 14s 509ms/step - loss: 0.2353 - accuracy: 0.9123 - precision: 0.8889 - recall: 0.9125 - auc: 0.9654 - f1_score: 0.9039 - lr: 3.9811e-04\n",
            "Epoch 9/20\n",
            "28/28 [==============================] - 14s 497ms/step - loss: 0.2227 - accuracy: 0.9123 - precision: 0.8909 - recall: 0.9098 - auc: 0.9673 - f1_score: 0.8686 - lr: 2.5119e-04\n",
            "Epoch 10/20\n",
            "28/28 [==============================] - 15s 514ms/step - loss: 0.2221 - accuracy: 0.9077 - precision: 0.8759 - recall: 0.9178 - auc: 0.9681 - f1_score: 0.8960 - lr: 1.5849e-04\n",
            "Epoch 11/20\n",
            "28/28 [==============================] - 14s 509ms/step - loss: 0.1895 - accuracy: 0.9343 - precision: 0.9040 - recall: 0.9496 - auc: 0.9740 - f1_score: 0.9274 - lr: 1.0000e-04\n",
            "Epoch 12/20\n",
            "28/28 [==============================] - 14s 507ms/step - loss: 0.2424 - accuracy: 0.9112 - precision: 0.8807 - recall: 0.9204 - auc: 0.9593 - f1_score: 0.8998 - lr: 6.3096e-05\n",
            "Epoch 13/20\n",
            "28/28 [==============================] - 14s 500ms/step - loss: 0.1826 - accuracy: 0.9319 - precision: 0.8975 - recall: 0.9523 - auc: 0.9784 - f1_score: 0.8898 - lr: 3.9811e-05\n",
            "Epoch 14/20\n",
            "28/28 [==============================] - 14s 507ms/step - loss: 0.2141 - accuracy: 0.9216 - precision: 0.8892 - recall: 0.9363 - auc: 0.9692 - f1_score: 0.9142 - lr: 2.5119e-05\n",
            "Epoch 15/20\n",
            "28/28 [==============================] - 14s 513ms/step - loss: 0.2007 - accuracy: 0.9273 - precision: 0.9132 - recall: 0.9204 - auc: 0.9729 - f1_score: 0.9181 - lr: 1.5849e-05\n",
            "Epoch 16/20\n",
            "28/28 [==============================] - 15s 512ms/step - loss: 0.2040 - accuracy: 0.9285 - precision: 0.8987 - recall: 0.9416 - auc: 0.9715 - f1_score: 0.9094 - lr: 1.0000e-05\n",
            "Epoch 17/20\n",
            "28/28 [==============================] - 14s 525ms/step - loss: 0.2206 - accuracy: 0.9216 - precision: 0.8972 - recall: 0.9257 - auc: 0.9688 - f1_score: 0.8994 - lr: 6.3096e-06\n",
            "Epoch 18/20\n",
            "28/28 [==============================] - 16s 564ms/step - loss: 0.2220 - accuracy: 0.9204 - precision: 0.9010 - recall: 0.9178 - auc: 0.9675 - f1_score: 0.8718 - lr: 3.9811e-06\n",
            "Epoch 19/20\n",
            "28/28 [==============================] - 17s 591ms/step - loss: 0.2172 - accuracy: 0.9262 - precision: 0.9044 - recall: 0.9284 - auc: 0.9671 - f1_score: 0.9173 - lr: 2.5119e-06\n",
            "Epoch 20/20\n",
            "28/28 [==============================] - 14s 512ms/step - loss: 0.2141 - accuracy: 0.9273 - precision: 0.9026 - recall: 0.9337 - auc: 0.9681 - f1_score: 0.9116 - lr: 1.5849e-06\n"
          ]
        }
      ],
      "source": [
        "history=model.fit(train_dataset,\n",
        "                        epochs = 20,\n",
        "                        verbose = 1,\n",
        "                         callbacks=lr_scheduler)"
      ]
    },
    {
      "cell_type": "code",
      "execution_count": null,
      "metadata": {
        "colab": {
          "base_uri": "https://localhost:8080/"
        },
        "id": "tShv8_33GPA_",
        "outputId": "9259df8e-96db-47aa-ccf2-9b6f868fd48c"
      },
      "outputs": [
        {
          "name": "stdout",
          "output_type": "stream",
          "text": [
            "11/11 [==============================] - 202s 20s/step - loss: 0.2190 - accuracy: 0.9226 - precision: 0.9207 - recall: 0.9264 - auc: 0.9771 - f1_score: 0.9251\n"
          ]
        }
      ],
      "source": [
        "scores = model.evaluate(test_dataset)"
      ]
    },
    {
      "cell_type": "code",
      "execution_count": null,
      "metadata": {
        "colab": {
          "base_uri": "https://localhost:8080/"
        },
        "id": "U9kVZa8pGSH-",
        "outputId": "764beff7-3802-4c52-d131-5f73c17a2a32"
      },
      "outputs": [
        {
          "name": "stdout",
          "output_type": "stream",
          "text": [
            "Accuracy =  0.9226006269454956\n",
            "Precision =  0.9207317233085632\n",
            "Recall =  0.9263803958892822\n",
            "AUC =  0.9770513772964478\n",
            "F1_score =  0.9250882863998413\n"
          ]
        }
      ],
      "source": [
        "print(\"Accuracy = \", scores[1])\n",
        "print(\"Precision = \", scores[2])\n",
        "print(\"Recall = \", scores[3])\n",
        "print(\"AUC = \", scores[4])\n",
        "print(\"F1_score = \", scores[5])"
      ]
    },
    {
      "cell_type": "code",
      "execution_count": null,
      "metadata": {
        "id": "SpAX4d5ZKKVg"
      },
      "outputs": [],
      "source": []
    }
  ],
  "metadata": {
    "accelerator": "GPU",
    "colab": {
      "gpuType": "T4",
      "provenance": []
    },
    "kernelspec": {
      "display_name": "Python 3",
      "name": "python3"
    },
    "language_info": {
      "name": "python"
    }
  },
  "nbformat": 4,
  "nbformat_minor": 0
}
