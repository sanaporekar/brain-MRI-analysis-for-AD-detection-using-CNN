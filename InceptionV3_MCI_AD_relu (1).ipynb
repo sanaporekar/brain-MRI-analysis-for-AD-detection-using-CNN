{
  "cells": [
    {
      "cell_type": "code",
      "execution_count": 1,
      "metadata": {
        "colab": {
          "base_uri": "https://localhost:8080/"
        },
        "id": "j0FEKKmwlqUT",
        "outputId": "f195b2c5-571f-4caa-e194-471720b72f5a"
      },
      "outputs": [
        {
          "name": "stdout",
          "output_type": "stream",
          "text": [
            "Drive already mounted at /content/drive; to attempt to forcibly remount, call drive.mount(\"/content/drive\", force_remount=True).\n"
          ]
        }
      ],
      "source": [
        "from google.colab import drive\n",
        "drive.mount('/content/drive')"
      ]
    },
    {
      "cell_type": "code",
      "execution_count": 2,
      "metadata": {
        "id": "O3WRnv-xl41a"
      },
      "outputs": [],
      "source": [
        "import numpy as np\n",
        "import pandas as pd\n",
        "import matplotlib.pyplot as plt\n",
        "import seaborn as sn\n",
        "import skimage.io\n",
        "import os\n",
        "import tqdm\n",
        "import glob\n",
        "import tensorflow\n",
        "\n",
        "from tqdm import tqdm\n",
        "from sklearn.utils import shuffle\n",
        "from sklearn import metrics\n",
        "from sklearn.metrics import confusion_matrix, classification_report\n",
        "from sklearn.model_selection import train_test_split\n",
        "from skimage.io import imread, imshow\n",
        "from skimage.transform import resize\n",
        "from skimage.color import gray2rgb\n",
        "\n",
        "import tensorflow as tf\n",
        "from tensorflow.keras.preprocessing.image import ImageDataGenerator\n",
        "from tensorflow.keras.preprocessing import image_dataset_from_directory\n",
        "from tensorflow.keras.models import Sequential\n",
        "from tensorflow.keras.layers import InputLayer, BatchNormalization, Dropout, Flatten, Dense, Activation, MaxPool2D, Conv2D\n",
        "from tensorflow.keras.callbacks import EarlyStopping, ModelCheckpoint\n",
        "from tensorflow.keras.applications.inception_v3 import InceptionV3\n",
        "from keras import optimizers\n",
        "\n",
        "from keras.callbacks import Callback,ModelCheckpoint\n",
        "from keras.models import Sequential,load_model\n",
        "from keras.layers import Dense, Dropout\n",
        "\n",
        "import keras.backend as K\n",
        "\n",
        "\n",
        "from typing import Optional"
      ]
    },
    {
      "cell_type": "code",
      "execution_count": 3,
      "metadata": {
        "id": "Ml644udAmHeK"
      },
      "outputs": [],
      "source": [
        "train_datagen = ImageDataGenerator(rescale = 1./255,\n",
        "                                   validation_split = 0.2,\n",
        "\n",
        "        rotation_range=5,\n",
        "        width_shift_range=0.2,\n",
        "        height_shift_range=0.2,\n",
        "        shear_range=0.2,\n",
        "        #zoom_range=0.2,\n",
        "        horizontal_flip=True,\n",
        "        vertical_flip=True,\n",
        "        fill_mode='nearest')\n",
        "\n",
        "valid_datagen = ImageDataGenerator(rescale = 1./255,\n",
        "                                  validation_split = 0.2)\n",
        "\n",
        "test_datagen  = ImageDataGenerator(rescale = 1./255\n",
        "                                  )"
      ]
    },
    {
      "cell_type": "code",
      "execution_count": 4,
      "metadata": {
        "colab": {
          "base_uri": "https://localhost:8080/"
        },
        "id": "MBwh2fNKmKd7",
        "outputId": "fee0a02f-e95a-418d-de73-26afb7ef8fca"
      },
      "outputs": [
        {
          "name": "stdout",
          "output_type": "stream",
          "text": [
            "Found 352 images belonging to 2 classes.\n"
          ]
        }
      ],
      "source": [
        "train_dataset  = train_datagen.flow_from_directory(directory = '/content/drive/MyDrive/Colab Notebooks/MCI_AD/train',\n",
        "                                                   target_size = (224,224),\n",
        "                                                   class_mode = 'binary',\n",
        "                                                   subset = 'training',\n",
        "                                                   batch_size = 32)"
      ]
    },
    {
      "cell_type": "code",
      "execution_count": 5,
      "metadata": {
        "colab": {
          "base_uri": "https://localhost:8080/"
        },
        "id": "w31uy4LomNxI",
        "outputId": "4e56f2d2-2f8d-44fc-aed0-5edc1ae195c6"
      },
      "outputs": [
        {
          "name": "stdout",
          "output_type": "stream",
          "text": [
            "Found 130 images belonging to 2 classes.\n"
          ]
        }
      ],
      "source": [
        "test_dataset = test_datagen.flow_from_directory(directory = '/content/drive/MyDrive/Colab Notebooks/MCI_AD/test',\n",
        "                                                  target_size = (224,224),\n",
        "                                                  class_mode = 'binary',\n",
        "                                                  batch_size = 32)"
      ]
    },
    {
      "cell_type": "code",
      "execution_count": 6,
      "metadata": {
        "id": "pGPP-WaJmQO0"
      },
      "outputs": [],
      "source": [
        "base_model = InceptionV3(input_shape=(224, 224, 3), include_top=False, weights='imagenet')\n"
      ]
    },
    {
      "cell_type": "code",
      "execution_count": 7,
      "metadata": {
        "id": "1cPyMamcmSdl"
      },
      "outputs": [],
      "source": [
        "for layer in base_model.layers:\n",
        "    layer.trainable=False\n"
      ]
    },
    {
      "cell_type": "code",
      "execution_count": 8,
      "metadata": {
        "id": "IcG6-TPmmUtd"
      },
      "outputs": [],
      "source": [
        "model=Sequential()\n",
        "model.add(base_model)\n",
        "model.add(Dropout(0.5))\n",
        "model.add(tf.keras.layers.GlobalAveragePooling2D())\n",
        "model.add(Flatten())\n",
        "model.add(BatchNormalization())\n",
        "model.add(Dense(64,kernel_initializer='he_uniform'))\n",
        "model.add(BatchNormalization())\n",
        "model.add(Activation('relu'))\n",
        "model.add(Dropout(0.5))\n",
        "model.add(Dense(64,kernel_initializer='he_uniform'))\n",
        "model.add(BatchNormalization())\n",
        "model.add(Activation('relu'))\n",
        "model.add(Dropout(0.5))\n",
        "model.add(Dense(64,kernel_initializer='he_uniform'))\n",
        "model.add(BatchNormalization())\n",
        "model.add(Activation('relu'))\n",
        "model.add(Dropout(0.5))\n",
        "model.add(Dense(32,kernel_initializer='he_uniform'))\n",
        "model.add(BatchNormalization())\n",
        "model.add(Activation('relu'))\n",
        "model.add(Dropout(0.5))\n",
        "model.add(Dense(32,kernel_initializer='he_uniform'))\n",
        "model.add(BatchNormalization())\n",
        "model.add(Activation('relu'))\n",
        "model.add(Dense(1, activation='sigmoid'))"
      ]
    },
    {
      "cell_type": "code",
      "execution_count": 9,
      "metadata": {
        "id": "GciqkkxcmWqX"
      },
      "outputs": [],
      "source": [
        "def f1_score(y_true, y_pred):\n",
        "    true_positives = K.sum(K.round(K.clip(y_true * y_pred, 0, 1)))\n",
        "    possible_positives = K.sum(K.round(K.clip(y_true, 0, 1)))\n",
        "    predicted_positives = K.sum(K.round(K.clip(y_pred, 0, 1)))\n",
        "    precision = true_positives / (predicted_positives + K.epsilon())\n",
        "    recall = true_positives / (possible_positives + K.epsilon())\n",
        "    f1_val = 2*(precision*recall)/(precision+recall+K.epsilon())\n",
        "    return f1_val"
      ]
    },
    {
      "cell_type": "code",
      "execution_count": 10,
      "metadata": {
        "id": "ZBVYRjA3mY1b"
      },
      "outputs": [],
      "source": [
        "def exponential_decay(lr0, s):\n",
        "    def exponential_decay_fn(epoch):\n",
        "        return lr0 * 0.1 **(epoch / s)\n",
        "    return exponential_decay_fn\n",
        "\n",
        "exponential_decay_fn = exponential_decay(0.01, 5) \n",
        "\n",
        "lr_scheduler = tf.keras.callbacks.LearningRateScheduler(exponential_decay_fn)"
      ]
    },
    {
      "cell_type": "code",
      "execution_count": 11,
      "metadata": {
        "id": "c98hbgNembCm"
      },
      "outputs": [],
      "source": [
        "\n",
        "METRICS = [\n",
        "      tf.keras.metrics.BinaryAccuracy(name='accuracy'),\n",
        "      tf.keras.metrics.Precision(name='precision'),\n",
        "      tf.keras.metrics.Recall(name='recall'),\n",
        "      tf.keras.metrics.AUC(name='auc'),\n",
        "        f1_score,\n",
        "]\n"
      ]
    },
    {
      "cell_type": "code",
      "execution_count": 12,
      "metadata": {
        "id": "Nq9A6Y_0mdAY"
      },
      "outputs": [],
      "source": [
        "model.compile(optimizer='rmsprop', loss='binary_crossentropy',metrics=METRICS)"
      ]
    },
    {
      "cell_type": "code",
      "execution_count": 16,
      "metadata": {
        "colab": {
          "base_uri": "https://localhost:8080/"
        },
        "id": "1wTyCM3QmfBw",
        "outputId": "995476f7-0123-4438-bd7c-048ef5b07d2e"
      },
      "outputs": [
        {
          "name": "stdout",
          "output_type": "stream",
          "text": [
            "Epoch 1/30\n",
            "11/11 [==============================] - 7s 612ms/step - loss: 0.4828 - accuracy: 0.7614 - precision: 0.7110 - recall: 0.8807 - auc: 0.8350 - f1_score: 0.7803 - lr: 0.0100\n",
            "Epoch 2/30\n",
            "11/11 [==============================] - 5s 470ms/step - loss: 0.4852 - accuracy: 0.7528 - precision: 0.7051 - recall: 0.8693 - auc: 0.8355 - f1_score: 0.7752 - lr: 0.0063\n",
            "Epoch 3/30\n",
            "11/11 [==============================] - 6s 573ms/step - loss: 0.4335 - accuracy: 0.8097 - precision: 0.7559 - recall: 0.9148 - auc: 0.8873 - f1_score: 0.8256 - lr: 0.0040\n",
            "Epoch 4/30\n",
            "11/11 [==============================] - 5s 467ms/step - loss: 0.4203 - accuracy: 0.8295 - precision: 0.7816 - recall: 0.9148 - auc: 0.8833 - f1_score: 0.8393 - lr: 0.0025\n",
            "Epoch 5/30\n",
            "11/11 [==============================] - 5s 472ms/step - loss: 0.3967 - accuracy: 0.8153 - precision: 0.7789 - recall: 0.8807 - auc: 0.8985 - f1_score: 0.8297 - lr: 0.0016\n",
            "Epoch 6/30\n",
            "11/11 [==============================] - 6s 577ms/step - loss: 0.4071 - accuracy: 0.8381 - precision: 0.7990 - recall: 0.9034 - auc: 0.8941 - f1_score: 0.8464 - lr: 0.0010\n",
            "Epoch 7/30\n",
            "11/11 [==============================] - 5s 462ms/step - loss: 0.4232 - accuracy: 0.8210 - precision: 0.7703 - recall: 0.9148 - auc: 0.8880 - f1_score: 0.8293 - lr: 6.3096e-04\n",
            "Epoch 8/30\n",
            "11/11 [==============================] - 6s 555ms/step - loss: 0.3941 - accuracy: 0.8153 - precision: 0.7789 - recall: 0.8807 - auc: 0.8992 - f1_score: 0.8232 - lr: 3.9811e-04\n",
            "Epoch 9/30\n",
            "11/11 [==============================] - 6s 590ms/step - loss: 0.3516 - accuracy: 0.8551 - precision: 0.7990 - recall: 0.9489 - auc: 0.9219 - f1_score: 0.8674 - lr: 2.5119e-04\n",
            "Epoch 10/30\n",
            "11/11 [==============================] - 5s 476ms/step - loss: 0.3996 - accuracy: 0.8381 - precision: 0.7874 - recall: 0.9261 - auc: 0.8929 - f1_score: 0.8515 - lr: 1.5849e-04\n",
            "Epoch 11/30\n",
            "11/11 [==============================] - 6s 590ms/step - loss: 0.4061 - accuracy: 0.8466 - precision: 0.8050 - recall: 0.9148 - auc: 0.8808 - f1_score: 0.8557 - lr: 1.0000e-04\n",
            "Epoch 12/30\n",
            "11/11 [==============================] - 5s 482ms/step - loss: 0.3980 - accuracy: 0.8352 - precision: 0.7980 - recall: 0.8977 - auc: 0.8916 - f1_score: 0.8471 - lr: 6.3096e-05\n",
            "Epoch 13/30\n",
            "11/11 [==============================] - 7s 596ms/step - loss: 0.3934 - accuracy: 0.8409 - precision: 0.8000 - recall: 0.9091 - auc: 0.8986 - f1_score: 0.8495 - lr: 3.9811e-05\n",
            "Epoch 14/30\n",
            "11/11 [==============================] - 5s 471ms/step - loss: 0.3715 - accuracy: 0.8438 - precision: 0.8071 - recall: 0.9034 - auc: 0.9053 - f1_score: 0.8463 - lr: 2.5119e-05\n",
            "Epoch 15/30\n",
            "11/11 [==============================] - 7s 589ms/step - loss: 0.3763 - accuracy: 0.8494 - precision: 0.7915 - recall: 0.9489 - auc: 0.9009 - f1_score: 0.8608 - lr: 1.5849e-05\n",
            "Epoch 16/30\n",
            "11/11 [==============================] - 5s 475ms/step - loss: 0.3856 - accuracy: 0.8381 - precision: 0.8020 - recall: 0.8977 - auc: 0.8984 - f1_score: 0.8475 - lr: 1.0000e-05\n",
            "Epoch 17/30\n",
            "11/11 [==============================] - 5s 467ms/step - loss: 0.3494 - accuracy: 0.8409 - precision: 0.7913 - recall: 0.9261 - auc: 0.9210 - f1_score: 0.8503 - lr: 6.3096e-06\n",
            "Epoch 18/30\n",
            "11/11 [==============================] - 6s 568ms/step - loss: 0.3829 - accuracy: 0.8267 - precision: 0.7725 - recall: 0.9261 - auc: 0.8975 - f1_score: 0.8397 - lr: 3.9811e-06\n",
            "Epoch 19/30\n",
            "11/11 [==============================] - 5s 478ms/step - loss: 0.3743 - accuracy: 0.8466 - precision: 0.7961 - recall: 0.9318 - auc: 0.9103 - f1_score: 0.8522 - lr: 2.5119e-06\n",
            "Epoch 20/30\n",
            "11/11 [==============================] - 5s 472ms/step - loss: 0.3597 - accuracy: 0.8608 - precision: 0.8191 - recall: 0.9261 - auc: 0.9117 - f1_score: 0.8655 - lr: 1.5849e-06\n",
            "Epoch 21/30\n",
            "11/11 [==============================] - 5s 473ms/step - loss: 0.3583 - accuracy: 0.8494 - precision: 0.8060 - recall: 0.9205 - auc: 0.9150 - f1_score: 0.8588 - lr: 1.0000e-06\n",
            "Epoch 22/30\n",
            "11/11 [==============================] - 6s 529ms/step - loss: 0.3677 - accuracy: 0.8438 - precision: 0.8010 - recall: 0.9148 - auc: 0.9109 - f1_score: 0.8513 - lr: 6.3096e-07\n",
            "Epoch 23/30\n",
            "11/11 [==============================] - 6s 525ms/step - loss: 0.3761 - accuracy: 0.8466 - precision: 0.7905 - recall: 0.9432 - auc: 0.8951 - f1_score: 0.8563 - lr: 3.9811e-07\n",
            "Epoch 24/30\n",
            "11/11 [==============================] - 7s 600ms/step - loss: 0.3866 - accuracy: 0.8551 - precision: 0.8109 - recall: 0.9261 - auc: 0.9019 - f1_score: 0.8595 - lr: 2.5119e-07\n",
            "Epoch 25/30\n",
            "11/11 [==============================] - 5s 482ms/step - loss: 0.4008 - accuracy: 0.8381 - precision: 0.7847 - recall: 0.9318 - auc: 0.8911 - f1_score: 0.8522 - lr: 1.5849e-07\n",
            "Epoch 26/30\n",
            "11/11 [==============================] - 6s 481ms/step - loss: 0.3753 - accuracy: 0.8494 - precision: 0.8000 - recall: 0.9318 - auc: 0.9061 - f1_score: 0.8606 - lr: 1.0000e-07\n",
            "Epoch 27/30\n",
            "11/11 [==============================] - 7s 590ms/step - loss: 0.3846 - accuracy: 0.8295 - precision: 0.7900 - recall: 0.8977 - auc: 0.8900 - f1_score: 0.8368 - lr: 6.3096e-08\n",
            "Epoch 28/30\n",
            "11/11 [==============================] - 6s 568ms/step - loss: 0.4016 - accuracy: 0.8608 - precision: 0.8098 - recall: 0.9432 - auc: 0.9009 - f1_score: 0.8683 - lr: 3.9811e-08\n",
            "Epoch 29/30\n",
            "11/11 [==============================] - 6s 485ms/step - loss: 0.3785 - accuracy: 0.8381 - precision: 0.7990 - recall: 0.9034 - auc: 0.9006 - f1_score: 0.8446 - lr: 2.5119e-08\n",
            "Epoch 30/30\n",
            "11/11 [==============================] - 6s 500ms/step - loss: 0.3781 - accuracy: 0.8494 - precision: 0.8030 - recall: 0.9261 - auc: 0.9105 - f1_score: 0.8580 - lr: 1.5849e-08\n"
          ]
        }
      ],
      "source": [
        "history=model.fit(train_dataset,\n",
        "                        epochs = 30,\n",
        "                        verbose = 1,\n",
        "                         callbacks=lr_scheduler)"
      ]
    },
    {
      "cell_type": "code",
      "execution_count": 17,
      "metadata": {
        "colab": {
          "base_uri": "https://localhost:8080/"
        },
        "id": "_LGf1X8Gmg3H",
        "outputId": "d591fa85-3746-49d0-975a-48e1ea7dcb76"
      },
      "outputs": [
        {
          "name": "stdout",
          "output_type": "stream",
          "text": [
            "5/5 [==============================] - 1s 136ms/step - loss: 0.3190 - accuracy: 0.8769 - precision: 0.8298 - recall: 1.0000 - auc: 0.9498 - f1_score: 0.9234\n"
          ]
        }
      ],
      "source": [
        "scores = model.evaluate(test_dataset)"
      ]
    },
    {
      "cell_type": "code",
      "execution_count": 18,
      "metadata": {
        "colab": {
          "base_uri": "https://localhost:8080/"
        },
        "id": "vrNJ-Y4ixO-8",
        "outputId": "ac7a2fa2-53e0-49c4-c3fb-bc4dd3e726e5"
      },
      "outputs": [
        {
          "name": "stdout",
          "output_type": "stream",
          "text": [
            "Accuracy =  0.8769230842590332\n",
            "Precision =  0.8297872543334961\n",
            "Recall =  1.0\n",
            "AUC =  0.9498274326324463\n",
            "F1_score =  0.9233600497245789\n"
          ]
        }
      ],
      "source": [
        "print(\"Accuracy = \", scores[1])\n",
        "print(\"Precision = \", scores[2])\n",
        "print(\"Recall = \", scores[3])\n",
        "print(\"AUC = \", scores[4])\n",
        "print(\"F1_score = \", scores[5])"
      ]
    },
    {
      "cell_type": "code",
      "execution_count": 15,
      "metadata": {
        "id": "ZTE69Ahoypuq"
      },
      "outputs": [],
      "source": []
    }
  ],
  "metadata": {
    "accelerator": "GPU",
    "colab": {
      "gpuType": "T4",
      "provenance": []
    },
    "kernelspec": {
      "display_name": "Python 3",
      "name": "python3"
    },
    "language_info": {
      "name": "python"
    }
  },
  "nbformat": 4,
  "nbformat_minor": 0
}
