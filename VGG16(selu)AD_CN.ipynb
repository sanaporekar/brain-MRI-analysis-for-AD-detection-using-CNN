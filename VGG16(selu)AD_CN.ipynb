{
  "cells": [
    {
      "cell_type": "code",
      "execution_count": null,
      "metadata": {
        "id": "4Fur-VX5Lf1n"
      },
      "outputs": [],
      "source": [
        "import numpy as np\n",
        "import pandas as pd\n",
        "import matplotlib.pyplot as plt\n",
        "import seaborn as sn\n",
        "import skimage.io\n",
        "import os\n",
        "import tqdm\n",
        "import glob\n",
        "import tensorflow\n",
        "\n",
        "from tqdm import tqdm\n",
        "from sklearn.utils import shuffle\n",
        "from sklearn import metrics\n",
        "from sklearn.metrics import confusion_matrix, classification_report\n",
        "from sklearn.model_selection import train_test_split\n",
        "from skimage.io import imread, imshow\n",
        "from skimage.transform import resize\n",
        "from skimage.color import gray2rgb\n",
        "\n",
        "import tensorflow as tf\n",
        "from tensorflow.keras.preprocessing.image import ImageDataGenerator\n",
        "from tensorflow.keras.preprocessing import image_dataset_from_directory\n",
        "from tensorflow.keras.models import Sequential\n",
        "from tensorflow.keras.layers import InputLayer, BatchNormalization, Dropout, Flatten, Dense, Activation, MaxPool2D, Conv2D\n",
        "from tensorflow.keras.callbacks import EarlyStopping, ModelCheckpoint\n",
        "from tensorflow.keras.applications.vgg16 import VGG16\n",
        "\n",
        "from keras import optimizers\n",
        "\n",
        "from keras.callbacks import Callback,ModelCheckpoint\n",
        "from keras.models import Sequential,load_model\n",
        "from keras.layers import Dense, Dropout\n",
        "#from keras.wrappers.scikit_learn import KerasClassifier\n",
        "import keras.backend as K\n",
        "\n",
        "\n",
        "from typing import Optional"
      ]
    },
    {
      "cell_type": "code",
      "execution_count": null,
      "metadata": {
        "id": "txAPJXN6MYnV"
      },
      "outputs": [],
      "source": [
        "train_datagen = ImageDataGenerator(rescale = 1./255,\n",
        "                                   validation_split = 0.2,\n",
        "\n",
        "        rotation_range=5,\n",
        "        width_shift_range=0.2,\n",
        "        height_shift_range=0.2,\n",
        "        shear_range=0.2,\n",
        "        #zoom_range=0.2,\n",
        "        horizontal_flip=True,\n",
        "        vertical_flip=True,\n",
        "        fill_mode='nearest')\n",
        "\n",
        "valid_datagen = ImageDataGenerator(rescale = 1./255,\n",
        "                                  validation_split = 0.2)\n",
        "\n",
        "test_datagen  = ImageDataGenerator(rescale = 1./255\n",
        "                                  )"
      ]
    },
    {
      "cell_type": "code",
      "execution_count": null,
      "metadata": {
        "colab": {
          "base_uri": "https://localhost:8080/"
        },
        "id": "4qAOzS6PMeKD",
        "outputId": "ab67b38d-4947-4b33-aae9-c4bcc0f58478"
      },
      "outputs": [
        {
          "name": "stdout",
          "output_type": "stream",
          "text": [
            "Found 867 images belonging to 2 classes.\n"
          ]
        }
      ],
      "source": [
        "train_dataset  = train_datagen.flow_from_directory(directory = '/content/drive/MyDrive/AD-CN/AD-CN/train',\n",
        "                                                   target_size = (224,224),\n",
        "                                                   class_mode = 'binary',\n",
        "                                                   subset = 'training',\n",
        "                                                   batch_size = 32)\n"
      ]
    },
    {
      "cell_type": "code",
      "execution_count": null,
      "metadata": {
        "colab": {
          "base_uri": "https://localhost:8080/"
        },
        "id": "xaCozFdSMf6D",
        "outputId": "984f74ca-bcae-48fd-800b-d6da9e77c1f9"
      },
      "outputs": [
        {
          "name": "stdout",
          "output_type": "stream",
          "text": [
            "Found 323 images belonging to 2 classes.\n"
          ]
        }
      ],
      "source": [
        "test_dataset = test_datagen.flow_from_directory(directory = '/content/drive/MyDrive/AD-CN/AD-CN/test',\n",
        "                                                  target_size = (224,224),\n",
        "                                                  class_mode = 'binary',\n",
        "                                                  batch_size = 32)"
      ]
    },
    {
      "cell_type": "code",
      "execution_count": null,
      "metadata": {
        "colab": {
          "base_uri": "https://localhost:8080/"
        },
        "id": "au-4BNfgMtFC",
        "outputId": "0bc0502a-e6b0-4135-9d53-1087b201f5f7"
      },
      "outputs": [
        {
          "name": "stdout",
          "output_type": "stream",
          "text": [
            "Downloading data from https://storage.googleapis.com/tensorflow/keras-applications/vgg16/vgg16_weights_tf_dim_ordering_tf_kernels_notop.h5\n",
            "58889256/58889256 [==============================] - 0s 0us/step\n"
          ]
        }
      ],
      "source": [
        "base_model = VGG16(input_shape=(224,224,3),\n",
        "                   include_top=False,\n",
        "                   weights=\"imagenet\")"
      ]
    },
    {
      "cell_type": "code",
      "execution_count": null,
      "metadata": {
        "id": "FIL9Ro92MyAE"
      },
      "outputs": [],
      "source": [
        "for layer in base_model.layers:\n",
        "    layer.trainable=False\n"
      ]
    },
    {
      "cell_type": "code",
      "execution_count": null,
      "metadata": {
        "id": "KFjHsoFmMzw-"
      },
      "outputs": [],
      "source": [
        "model=Sequential()\n",
        "model.add(base_model)\n",
        "model.add(Dropout(0.5))\n",
        "model.add(tf.keras.layers.GlobalAveragePooling2D())\n",
        "model.add(Flatten())\n",
        "model.add(BatchNormalization())\n",
        "model.add(Dense(64,kernel_initializer='he_uniform'))\n",
        "model.add(BatchNormalization())\n",
        "model.add(Activation('selu'))\n",
        "model.add(Dropout(0.5))\n",
        "model.add(Dense(64,kernel_initializer='he_uniform'))\n",
        "model.add(BatchNormalization())\n",
        "model.add(Activation('selu'))\n",
        "model.add(Dropout(0.5))\n",
        "model.add(Dense(64,kernel_initializer='he_uniform'))\n",
        "model.add(BatchNormalization())\n",
        "model.add(Activation('selu'))\n",
        "model.add(Dropout(0.5))\n",
        "model.add(Dense(32,kernel_initializer='he_uniform'))\n",
        "model.add(BatchNormalization())\n",
        "model.add(Activation('selu'))\n",
        "model.add(Dropout(0.5))\n",
        "model.add(Dense(32,kernel_initializer='he_uniform'))\n",
        "model.add(BatchNormalization())\n",
        "model.add(Activation('selu'))\n",
        "model.add(Dense(1, activation='sigmoid'))"
      ]
    },
    {
      "cell_type": "code",
      "execution_count": null,
      "metadata": {
        "id": "chT3Q1oEM4tV"
      },
      "outputs": [],
      "source": [
        "def f1_score(y_true, y_pred): #taken from old keras source code\n",
        "    true_positives = K.sum(K.round(K.clip(y_true * y_pred, 0, 1)))\n",
        "    possible_positives = K.sum(K.round(K.clip(y_true, 0, 1)))\n",
        "    predicted_positives = K.sum(K.round(K.clip(y_pred, 0, 1)))\n",
        "    precision = true_positives / (predicted_positives + K.epsilon())\n",
        "    recall = true_positives / (possible_positives + K.epsilon())\n",
        "    f1_val = 2*(precision*recall)/(precision+recall+K.epsilon())\n",
        "    return f1_val"
      ]
    },
    {
      "cell_type": "code",
      "execution_count": null,
      "metadata": {
        "id": "kJcCIKFwM8eI"
      },
      "outputs": [],
      "source": [
        "def exponential_decay(lr0, s):\n",
        "    def exponential_decay_fn(epoch):\n",
        "        return lr0 * 0.1 **(epoch / s)\n",
        "    return exponential_decay_fn\n",
        "\n",
        "exponential_decay_fn = exponential_decay(0.01, 5) # when i run it for 50 epochs\n",
        "\n",
        "lr_scheduler = tf.keras.callbacks.LearningRateScheduler(exponential_decay_fn)"
      ]
    },
    {
      "cell_type": "code",
      "execution_count": null,
      "metadata": {
        "id": "mjsDEDYMM-BW"
      },
      "outputs": [],
      "source": [
        "METRICS = [\n",
        "      tf.keras.metrics.BinaryAccuracy(name='accuracy'),\n",
        "      tf.keras.metrics.Precision(name='precision'),\n",
        "      tf.keras.metrics.Recall(name='recall'),\n",
        "      tf.keras.metrics.AUC(name='auc'),\n",
        "        f1_score,\n",
        "]\n"
      ]
    },
    {
      "cell_type": "code",
      "execution_count": null,
      "metadata": {
        "id": "4b2It2CCM_oN"
      },
      "outputs": [],
      "source": [
        "model.compile(optimizer='rmsprop', loss='binary_crossentropy',metrics=METRICS)"
      ]
    },
    {
      "cell_type": "code",
      "execution_count": null,
      "metadata": {
        "colab": {
          "base_uri": "https://localhost:8080/"
        },
        "id": "RkY2ac3qNBh8",
        "outputId": "95cab794-d40b-4f62-d828-297e139ed690"
      },
      "outputs": [
        {
          "name": "stdout",
          "output_type": "stream",
          "text": [
            "Epoch 1/20\n",
            "28/28 [==============================] - 301s 10s/step - loss: 0.5672 - accuracy: 0.7001 - precision: 0.6481 - recall: 0.6790 - auc: 0.7850 - f1_score: 0.6616 - lr: 0.0100\n",
            "Epoch 2/20\n",
            "28/28 [==============================] - 15s 521ms/step - loss: 0.4392 - accuracy: 0.8005 - precision: 0.7656 - recall: 0.7798 - auc: 0.8773 - f1_score: 0.7793 - lr: 0.0063\n",
            "Epoch 3/20\n",
            "28/28 [==============================] - 16s 549ms/step - loss: 0.3898 - accuracy: 0.8304 - precision: 0.7949 - recall: 0.8223 - auc: 0.9031 - f1_score: 0.8143 - lr: 0.0040\n",
            "Epoch 4/20\n",
            "28/28 [==============================] - 15s 525ms/step - loss: 0.3522 - accuracy: 0.8535 - precision: 0.8064 - recall: 0.8727 - auc: 0.9184 - f1_score: 0.8282 - lr: 0.0025\n",
            "Epoch 5/20\n",
            "28/28 [==============================] - 15s 526ms/step - loss: 0.3146 - accuracy: 0.8754 - precision: 0.8257 - recall: 0.9045 - auc: 0.9331 - f1_score: 0.8646 - lr: 0.0016\n",
            "Epoch 6/20\n",
            "28/28 [==============================] - 15s 521ms/step - loss: 0.3221 - accuracy: 0.8674 - precision: 0.8259 - recall: 0.8806 - auc: 0.9318 - f1_score: 0.8204 - lr: 0.0010\n",
            "Epoch 7/20\n",
            "28/28 [==============================] - 15s 544ms/step - loss: 0.3523 - accuracy: 0.8512 - precision: 0.8131 - recall: 0.8541 - auc: 0.9206 - f1_score: 0.8194 - lr: 6.3096e-04\n",
            "Epoch 8/20\n",
            "28/28 [==============================] - 15s 535ms/step - loss: 0.3166 - accuracy: 0.8604 - precision: 0.8232 - recall: 0.8647 - auc: 0.9339 - f1_score: 0.8128 - lr: 3.9811e-04\n",
            "Epoch 9/20\n",
            "28/28 [==============================] - 15s 519ms/step - loss: 0.3180 - accuracy: 0.8674 - precision: 0.8291 - recall: 0.8753 - auc: 0.9334 - f1_score: 0.8195 - lr: 2.5119e-04\n",
            "Epoch 10/20\n",
            "28/28 [==============================] - 16s 579ms/step - loss: 0.3306 - accuracy: 0.8651 - precision: 0.8234 - recall: 0.8780 - auc: 0.9289 - f1_score: 0.8505 - lr: 1.5849e-04\n",
            "Epoch 11/20\n",
            "28/28 [==============================] - 15s 522ms/step - loss: 0.3306 - accuracy: 0.8777 - precision: 0.8448 - recall: 0.8806 - auc: 0.9267 - f1_score: 0.8524 - lr: 1.0000e-04\n",
            "Epoch 12/20\n",
            "28/28 [==============================] - 15s 535ms/step - loss: 0.3105 - accuracy: 0.8858 - precision: 0.8407 - recall: 0.9098 - auc: 0.9329 - f1_score: 0.8640 - lr: 6.3096e-05\n",
            "Epoch 13/20\n",
            "28/28 [==============================] - 16s 547ms/step - loss: 0.3259 - accuracy: 0.8697 - precision: 0.8204 - recall: 0.8966 - auc: 0.9298 - f1_score: 0.8549 - lr: 3.9811e-05\n",
            "Epoch 14/20\n",
            "28/28 [==============================] - 15s 524ms/step - loss: 0.3365 - accuracy: 0.8777 - precision: 0.8413 - recall: 0.8859 - auc: 0.9251 - f1_score: 0.8664 - lr: 2.5119e-05\n",
            "Epoch 15/20\n",
            "28/28 [==============================] - 15s 518ms/step - loss: 0.3204 - accuracy: 0.8720 - precision: 0.8213 - recall: 0.9019 - auc: 0.9315 - f1_score: 0.8609 - lr: 1.5849e-05\n",
            "Epoch 16/20\n",
            "28/28 [==============================] - 15s 523ms/step - loss: 0.3090 - accuracy: 0.8835 - precision: 0.8399 - recall: 0.9045 - auc: 0.9344 - f1_score: 0.8713 - lr: 1.0000e-05\n",
            "Epoch 17/20\n",
            "28/28 [==============================] - 15s 518ms/step - loss: 0.3034 - accuracy: 0.8766 - precision: 0.8342 - recall: 0.8939 - auc: 0.9357 - f1_score: 0.8517 - lr: 6.3096e-06\n",
            "Epoch 18/20\n",
            "28/28 [==============================] - 15s 528ms/step - loss: 0.3405 - accuracy: 0.8651 - precision: 0.8202 - recall: 0.8833 - auc: 0.9258 - f1_score: 0.8226 - lr: 3.9811e-06\n",
            "Epoch 19/20\n",
            "28/28 [==============================] - 16s 566ms/step - loss: 0.3510 - accuracy: 0.8593 - precision: 0.8244 - recall: 0.8594 - auc: 0.9194 - f1_score: 0.8123 - lr: 2.5119e-06\n",
            "Epoch 20/20\n",
            "28/28 [==============================] - 15s 533ms/step - loss: 0.3136 - accuracy: 0.8789 - precision: 0.8469 - recall: 0.8806 - auc: 0.9351 - f1_score: 0.8559 - lr: 1.5849e-06\n"
          ]
        }
      ],
      "source": [
        "history=model.fit(train_dataset,\n",
        "                        epochs = 20,\n",
        "                        verbose = 1,\n",
        "                         callbacks=lr_scheduler)"
      ]
    },
    {
      "cell_type": "code",
      "execution_count": null,
      "metadata": {
        "colab": {
          "base_uri": "https://localhost:8080/"
        },
        "id": "lUQT_Pa2NDR1",
        "outputId": "2ff703c7-2d73-4a4d-8085-11db9948e785"
      },
      "outputs": [
        {
          "name": "stdout",
          "output_type": "stream",
          "text": [
            "11/11 [==============================] - 102s 10s/step - loss: 0.3242 - accuracy: 0.8607 - precision: 0.8138 - recall: 0.9387 - auc: 0.9328 - f1_score: 0.8637\n"
          ]
        }
      ],
      "source": [
        "scores = model.evaluate(test_dataset)"
      ]
    },
    {
      "cell_type": "code",
      "execution_count": null,
      "metadata": {
        "colab": {
          "base_uri": "https://localhost:8080/"
        },
        "id": "0-TS8vbANFl7",
        "outputId": "d469fc5b-428e-4ee2-f4b8-d0f4059318c5"
      },
      "outputs": [
        {
          "name": "stdout",
          "output_type": "stream",
          "text": [
            "Accuracy =  0.8606811165809631\n",
            "Precision =  0.813829779624939\n",
            "Recall =  0.9386503100395203\n",
            "AUC =  0.9328413009643555\n",
            "F1_score =  0.8637330532073975\n"
          ]
        }
      ],
      "source": [
        "print(\"Accuracy = \", scores[1])\n",
        "print(\"Precision = \", scores[2])\n",
        "print(\"Recall = \", scores[3])\n",
        "print(\"AUC = \", scores[4])\n",
        "print(\"F1_score = \", scores[5])"
      ]
    },
    {
      "cell_type": "code",
      "execution_count": null,
      "metadata": {
        "id": "crfn9K1YNHNP"
      },
      "outputs": [],
      "source": []
    }
  ],
  "metadata": {
    "accelerator": "GPU",
    "colab": {
      "gpuType": "T4",
      "provenance": []
    },
    "kernelspec": {
      "display_name": "Python 3",
      "name": "python3"
    },
    "language_info": {
      "name": "python"
    }
  },
  "nbformat": 4,
  "nbformat_minor": 0
}
