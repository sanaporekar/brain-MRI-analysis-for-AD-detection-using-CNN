{
  "cells": [
    {
      "cell_type": "code",
      "execution_count": null,
      "metadata": {
        "colab": {
          "base_uri": "https://localhost:8080/"
        },
        "id": "j0FEKKmwlqUT",
        "outputId": "376b4b5e-5480-406e-b483-794f4c01d726"
      },
      "outputs": [
        {
          "name": "stdout",
          "output_type": "stream",
          "text": [
            "Mounted at /content/drive\n"
          ]
        }
      ],
      "source": [
        "from google.colab import drive\n",
        "drive.mount('/content/drive')"
      ]
    },
    {
      "cell_type": "code",
      "execution_count": 47,
      "metadata": {
        "id": "O3WRnv-xl41a"
      },
      "outputs": [],
      "source": [
        "import numpy as np\n",
        "import pandas as pd\n",
        "import matplotlib.pyplot as plt\n",
        "import seaborn as sn\n",
        "import skimage.io\n",
        "import os\n",
        "import tqdm\n",
        "import glob\n",
        "import tensorflow\n",
        "\n",
        "from tqdm import tqdm\n",
        "from sklearn.utils import shuffle\n",
        "from sklearn import metrics\n",
        "from sklearn.metrics import confusion_matrix, classification_report\n",
        "from sklearn.model_selection import train_test_split\n",
        "from skimage.io import imread, imshow\n",
        "from skimage.transform import resize\n",
        "from skimage.color import gray2rgb\n",
        "\n",
        "import tensorflow as tf\n",
        "from tensorflow.keras.preprocessing.image import ImageDataGenerator\n",
        "from tensorflow.keras.preprocessing import image_dataset_from_directory\n",
        "from tensorflow.keras.models import Sequential\n",
        "from tensorflow.keras.layers import InputLayer, BatchNormalization, Dropout, Flatten, Dense, Activation, MaxPool2D, Conv2D\n",
        "from tensorflow.keras.callbacks import EarlyStopping, ModelCheckpoint\n",
        "from tensorflow.keras.applications import DenseNet121\n",
        "from tensorflow.keras.applications.vgg16 import VGG16\n",
        "from keras import optimizers\n",
        "\n",
        "from keras.callbacks import Callback,ModelCheckpoint\n",
        "from keras.models import Sequential,load_model\n",
        "from keras.layers import Dense, Dropout\n",
        "import keras.backend as K\n",
        "from typing import Optional"
      ]
    },
    {
      "cell_type": "code",
      "execution_count": 48,
      "metadata": {
        "id": "Ml644udAmHeK"
      },
      "outputs": [],
      "source": [
        "train_datagen = ImageDataGenerator(rescale = 1./255,\n",
        "                                   validation_split = 0.2,\n",
        "\n",
        "        rotation_range=5,\n",
        "        width_shift_range=0.2,\n",
        "        height_shift_range=0.2,\n",
        "        shear_range=0.2,\n",
        "        horizontal_flip=True,\n",
        "        vertical_flip=True,\n",
        "        fill_mode='nearest')\n",
        "\n",
        "valid_datagen = ImageDataGenerator(rescale = 1./255,\n",
        "                                  validation_split = 0.2)\n",
        "\n",
        "test_datagen  = ImageDataGenerator(rescale = 1./255\n",
        "                                  )"
      ]
    },
    {
      "cell_type": "code",
      "execution_count": 49,
      "metadata": {
        "colab": {
          "base_uri": "https://localhost:8080/"
        },
        "id": "MBwh2fNKmKd7",
        "outputId": "4582d196-97c8-440d-895b-f125a1fda76f"
      },
      "outputs": [
        {
          "name": "stdout",
          "output_type": "stream",
          "text": [
            "Found 858 images belonging to 2 classes.\n"
          ]
        }
      ],
      "source": [
        "train_dataset  = train_datagen.flow_from_directory(directory = '/content/drive/MyDrive/Colab Notebooks/MCI-CN/MCI-CN/train',\n",
        "                                                   target_size = (224,224),\n",
        "                                                   class_mode = 'binary',\n",
        "                                                   subset = 'training',\n",
        "                                                   batch_size = 32)"
      ]
    },
    {
      "cell_type": "code",
      "execution_count": 50,
      "metadata": {
        "colab": {
          "base_uri": "https://localhost:8080/"
        },
        "id": "w31uy4LomNxI",
        "outputId": "79f838be-5007-4e72-ed97-9972b1a8eb26"
      },
      "outputs": [
        {
          "name": "stdout",
          "output_type": "stream",
          "text": [
            "Found 286 images belonging to 2 classes.\n"
          ]
        }
      ],
      "source": [
        "test_dataset = test_datagen.flow_from_directory(directory = '/content/drive/MyDrive/Colab Notebooks/MCI-CN/MCI-CN/test',\n",
        "                                                  target_size = (224,224),\n",
        "                                                  class_mode = 'binary',\n",
        "                                                  batch_size = 32)"
      ]
    },
    {
      "cell_type": "code",
      "execution_count": 51,
      "metadata": {
        "id": "pGPP-WaJmQO0"
      },
      "outputs": [],
      "source": [
        "base_model = VGG16(input_shape=(224, 224, 3), include_top=False, weights='imagenet')\n"
      ]
    },
    {
      "cell_type": "code",
      "execution_count": 52,
      "metadata": {
        "id": "1cPyMamcmSdl"
      },
      "outputs": [],
      "source": [
        "for layer in base_model.layers:\n",
        "    layer.trainable=False\n"
      ]
    },
    {
      "cell_type": "code",
      "execution_count": 53,
      "metadata": {
        "id": "IcG6-TPmmUtd"
      },
      "outputs": [],
      "source": [
        "model=Sequential()\n",
        "model.add(base_model)\n",
        "model.add(Dropout(0.5))\n",
        "model.add(tf.keras.layers.GlobalAveragePooling2D())\n",
        "model.add(Flatten())\n",
        "model.add(BatchNormalization())\n",
        "model.add(Dense(64,kernel_initializer='he_uniform'))\n",
        "model.add(BatchNormalization())\n",
        "model.add(Activation('tanh'))\n",
        "model.add(Dropout(0.5))\n",
        "model.add(Dense(64,kernel_initializer='he_uniform'))\n",
        "model.add(BatchNormalization())\n",
        "model.add(Activation('tanh'))\n",
        "model.add(Dropout(0.5))\n",
        "model.add(Dense(64,kernel_initializer='he_uniform'))\n",
        "model.add(BatchNormalization())\n",
        "model.add(Activation('tanh'))\n",
        "model.add(Dropout(0.5))\n",
        "model.add(Dense(32,kernel_initializer='he_uniform'))\n",
        "model.add(BatchNormalization())\n",
        "model.add(Activation('tanh'))\n",
        "model.add(Dropout(0.5))\n",
        "model.add(Dense(32,kernel_initializer='he_uniform'))\n",
        "model.add(BatchNormalization())\n",
        "model.add(Activation('tanh'))\n",
        "model.add(Dense(1, activation='sigmoid'))"
      ]
    },
    {
      "cell_type": "code",
      "execution_count": 54,
      "metadata": {
        "id": "GciqkkxcmWqX"
      },
      "outputs": [],
      "source": [
        "def f1_score(y_true, y_pred): \n",
        "    true_positives = K.sum(K.round(K.clip(y_true * y_pred, 0, 1)))\n",
        "    possible_positives = K.sum(K.round(K.clip(y_true, 0, 1)))\n",
        "    predicted_positives = K.sum(K.round(K.clip(y_pred, 0, 1)))\n",
        "    precision = true_positives / (predicted_positives + K.epsilon())\n",
        "    recall = true_positives / (possible_positives + K.epsilon())\n",
        "    f1_val = 2*(precision*recall)/(precision+recall+K.epsilon())\n",
        "    return f1_val"
      ]
    },
    {
      "cell_type": "code",
      "execution_count": 55,
      "metadata": {
        "id": "ZBVYRjA3mY1b"
      },
      "outputs": [],
      "source": [
        "def exponential_decay(lr0, s):\n",
        "    def exponential_decay_fn(epoch):\n",
        "        return lr0 * 0.1 **(epoch / s)\n",
        "    return exponential_decay_fn\n",
        "\n",
        "exponential_decay_fn = exponential_decay(0.01, 5) \n",
        "\n",
        "lr_scheduler = tf.keras.callbacks.LearningRateScheduler(exponential_decay_fn)"
      ]
    },
    {
      "cell_type": "code",
      "execution_count": 56,
      "metadata": {
        "id": "c98hbgNembCm"
      },
      "outputs": [],
      "source": [
        "\n",
        "METRICS = [\n",
        "      tf.keras.metrics.BinaryAccuracy(name='accuracy'),\n",
        "      tf.keras.metrics.Precision(name='precision'),\n",
        "      tf.keras.metrics.Recall(name='recall'),\n",
        "      tf.keras.metrics.AUC(name='auc'),\n",
        "        f1_score,\n",
        "]\n"
      ]
    },
    {
      "cell_type": "code",
      "execution_count": 57,
      "metadata": {
        "id": "Nq9A6Y_0mdAY"
      },
      "outputs": [],
      "source": [
        "model.compile(optimizer='rmsprop', loss='binary_crossentropy',metrics=METRICS)"
      ]
    },
    {
      "cell_type": "code",
      "execution_count": 58,
      "metadata": {
        "colab": {
          "base_uri": "https://localhost:8080/"
        },
        "id": "1wTyCM3QmfBw",
        "outputId": "6e5047e8-893d-406a-e710-4c90a0d0c7f2"
      },
      "outputs": [
        {
          "name": "stdout",
          "output_type": "stream",
          "text": [
            "Epoch 1/20\n",
            "27/27 [==============================] - 17s 493ms/step - loss: 0.5417 - accuracy: 0.7249 - precision: 0.7612 - recall: 0.7422 - auc: 0.7977 - f1_score: 0.7524 - lr: 0.0100\n",
            "Epoch 2/20\n",
            "27/27 [==============================] - 15s 543ms/step - loss: 0.4061 - accuracy: 0.8298 - precision: 0.8714 - recall: 0.8170 - auc: 0.8913 - f1_score: 0.8398 - lr: 0.0063\n",
            "Epoch 3/20\n",
            "27/27 [==============================] - 14s 510ms/step - loss: 0.3603 - accuracy: 0.8613 - precision: 0.8952 - recall: 0.8524 - auc: 0.9139 - f1_score: 0.8707 - lr: 0.0040\n",
            "Epoch 4/20\n",
            "27/27 [==============================] - 14s 511ms/step - loss: 0.3100 - accuracy: 0.8811 - precision: 0.9202 - recall: 0.8628 - auc: 0.9357 - f1_score: 0.8894 - lr: 0.0025\n",
            "Epoch 5/20\n",
            "27/27 [==============================] - 14s 517ms/step - loss: 0.3496 - accuracy: 0.8590 - precision: 0.8913 - recall: 0.8524 - auc: 0.9197 - f1_score: 0.8706 - lr: 0.0016\n",
            "Epoch 6/20\n",
            "27/27 [==============================] - 14s 518ms/step - loss: 0.3210 - accuracy: 0.8800 - precision: 0.9163 - recall: 0.8649 - auc: 0.9288 - f1_score: 0.8891 - lr: 0.0010\n",
            "Epoch 7/20\n",
            "27/27 [==============================] - 14s 513ms/step - loss: 0.3019 - accuracy: 0.8823 - precision: 0.9148 - recall: 0.8711 - auc: 0.9346 - f1_score: 0.8918 - lr: 6.3096e-04\n",
            "Epoch 8/20\n",
            "27/27 [==============================] - 14s 530ms/step - loss: 0.3263 - accuracy: 0.8753 - precision: 0.8996 - recall: 0.8753 - auc: 0.9303 - f1_score: 0.8835 - lr: 3.9811e-04\n",
            "Epoch 9/20\n",
            "27/27 [==============================] - 14s 511ms/step - loss: 0.2810 - accuracy: 0.8939 - precision: 0.9314 - recall: 0.8753 - auc: 0.9480 - f1_score: 0.9017 - lr: 2.5119e-04\n",
            "Epoch 10/20\n",
            "27/27 [==============================] - 14s 520ms/step - loss: 0.3020 - accuracy: 0.8893 - precision: 0.9347 - recall: 0.8628 - auc: 0.9324 - f1_score: 0.8970 - lr: 1.5849e-04\n",
            "Epoch 11/20\n",
            "27/27 [==============================] - 14s 515ms/step - loss: 0.2952 - accuracy: 0.8858 - precision: 0.9246 - recall: 0.8669 - auc: 0.9396 - f1_score: 0.8936 - lr: 1.0000e-04\n",
            "Epoch 12/20\n",
            "27/27 [==============================] - 14s 509ms/step - loss: 0.3044 - accuracy: 0.8800 - precision: 0.9127 - recall: 0.8690 - auc: 0.9396 - f1_score: 0.8886 - lr: 6.3096e-05\n",
            "Epoch 13/20\n",
            "27/27 [==============================] - 14s 516ms/step - loss: 0.2947 - accuracy: 0.8939 - precision: 0.9276 - recall: 0.8794 - auc: 0.9408 - f1_score: 0.9004 - lr: 3.9811e-05\n",
            "Epoch 14/20\n",
            "27/27 [==============================] - 14s 512ms/step - loss: 0.2765 - accuracy: 0.8974 - precision: 0.9396 - recall: 0.8732 - auc: 0.9491 - f1_score: 0.9052 - lr: 2.5119e-05\n",
            "Epoch 15/20\n",
            "27/27 [==============================] - 14s 512ms/step - loss: 0.2698 - accuracy: 0.8974 - precision: 0.9396 - recall: 0.8732 - auc: 0.9480 - f1_score: 0.9071 - lr: 1.5849e-05\n",
            "Epoch 16/20\n",
            "27/27 [==============================] - 14s 516ms/step - loss: 0.2816 - accuracy: 0.8986 - precision: 0.9320 - recall: 0.8836 - auc: 0.9437 - f1_score: 0.9072 - lr: 1.0000e-05\n",
            "Epoch 17/20\n",
            "27/27 [==============================] - 14s 513ms/step - loss: 0.3062 - accuracy: 0.8800 - precision: 0.9181 - recall: 0.8628 - auc: 0.9364 - f1_score: 0.8923 - lr: 6.3096e-06\n",
            "Epoch 18/20\n",
            "27/27 [==============================] - 14s 522ms/step - loss: 0.3515 - accuracy: 0.8648 - precision: 0.8976 - recall: 0.8565 - auc: 0.9225 - f1_score: 0.8753 - lr: 3.9811e-06\n",
            "Epoch 19/20\n",
            "27/27 [==============================] - 14s 517ms/step - loss: 0.3027 - accuracy: 0.8881 - precision: 0.9231 - recall: 0.8732 - auc: 0.9387 - f1_score: 0.8971 - lr: 2.5119e-06\n",
            "Epoch 20/20\n",
            "27/27 [==============================] - 14s 513ms/step - loss: 0.2923 - accuracy: 0.8916 - precision: 0.9292 - recall: 0.8732 - auc: 0.9410 - f1_score: 0.8988 - lr: 1.5849e-06\n"
          ]
        }
      ],
      "source": [
        "history=model.fit(train_dataset,\n",
        "                        epochs = 20,\n",
        "                        verbose = 1,\n",
        "                         callbacks=lr_scheduler)"
      ]
    },
    {
      "cell_type": "code",
      "execution_count": 59,
      "metadata": {
        "colab": {
          "base_uri": "https://localhost:8080/"
        },
        "id": "_LGf1X8Gmg3H",
        "outputId": "514c9e55-167a-4dc5-b791-6a01b767cfa9"
      },
      "outputs": [
        {
          "name": "stdout",
          "output_type": "stream",
          "text": [
            "9/9 [==============================] - 2s 183ms/step - loss: 0.2134 - accuracy: 0.9231 - precision: 0.9810 - recall: 0.8374 - auc: 0.9784 - f1_score: 0.9005\n"
          ]
        }
      ],
      "source": [
        "scores = model.evaluate(test_dataset)"
      ]
    },
    {
      "cell_type": "code",
      "execution_count": 60,
      "metadata": {
        "colab": {
          "base_uri": "https://localhost:8080/"
        },
        "id": "vrNJ-Y4ixO-8",
        "outputId": "641fe186-a179-4199-8c36-42983f86b54c"
      },
      "outputs": [
        {
          "name": "stdout",
          "output_type": "stream",
          "text": [
            "Accuracy =  0.9230769276618958\n",
            "Precision =  0.9809523820877075\n",
            "Recall =  0.8373983502388\n",
            "AUC =  0.978352963924408\n",
            "F1_score =  0.900471031665802\n"
          ]
        }
      ],
      "source": [
        "print(\"Accuracy = \", scores[1])\n",
        "print(\"Precision = \", scores[2])\n",
        "print(\"Recall = \", scores[3])\n",
        "print(\"AUC = \", scores[4])\n",
        "print(\"F1_score = \", scores[5])"
      ]
    },
    {
      "cell_type": "code",
      "execution_count": 46,
      "metadata": {
        "id": "ZTE69Ahoypuq"
      },
      "outputs": [],
      "source": []
    }
  ],
  "metadata": {
    "accelerator": "GPU",
    "colab": {
      "gpuType": "T4",
      "provenance": []
    },
    "kernelspec": {
      "display_name": "Python 3",
      "name": "python3"
    },
    "language_info": {
      "name": "python"
    }
  },
  "nbformat": 4,
  "nbformat_minor": 0
}
