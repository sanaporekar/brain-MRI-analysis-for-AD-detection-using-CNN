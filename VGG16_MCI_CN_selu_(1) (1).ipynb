{
  "cells": [
    {
      "cell_type": "code",
      "execution_count": null,
      "metadata": {
        "colab": {
          "base_uri": "https://localhost:8080/"
        },
        "id": "j0FEKKmwlqUT",
        "outputId": "376b4b5e-5480-406e-b483-794f4c01d726"
      },
      "outputs": [
        {
          "name": "stdout",
          "output_type": "stream",
          "text": [
            "Mounted at /content/drive\n"
          ]
        }
      ],
      "source": [
        "from google.colab import drive\n",
        "drive.mount('/content/drive')"
      ]
    },
    {
      "cell_type": "code",
      "execution_count": 9,
      "metadata": {
        "id": "O3WRnv-xl41a"
      },
      "outputs": [],
      "source": [
        "import numpy as np\n",
        "import pandas as pd\n",
        "import matplotlib.pyplot as plt\n",
        "import seaborn as sn\n",
        "import skimage.io\n",
        "import os\n",
        "import tqdm\n",
        "import glob\n",
        "import tensorflow\n",
        "\n",
        "from tqdm import tqdm\n",
        "from sklearn.utils import shuffle\n",
        "from sklearn import metrics\n",
        "from sklearn.metrics import confusion_matrix, classification_report\n",
        "from sklearn.model_selection import train_test_split\n",
        "from skimage.io import imread, imshow\n",
        "from skimage.transform import resize\n",
        "from skimage.color import gray2rgb\n",
        "\n",
        "import tensorflow as tf\n",
        "from tensorflow.keras.preprocessing.image import ImageDataGenerator\n",
        "from tensorflow.keras.preprocessing import image_dataset_from_directory\n",
        "from tensorflow.keras.models import Sequential\n",
        "from tensorflow.keras.layers import InputLayer, BatchNormalization, Dropout, Flatten, Dense, Activation, MaxPool2D, Conv2D\n",
        "from tensorflow.keras.callbacks import EarlyStopping, ModelCheckpoint\n",
        "from tensorflow.keras.applications import DenseNet121\n",
        "from tensorflow.keras.applications.vgg16 import VGG16\n",
        "from keras import optimizers\n",
        "\n",
        "from keras.callbacks import Callback,ModelCheckpoint\n",
        "from keras.models import Sequential,load_model\n",
        "from keras.layers import Dense, Dropout\n",
        "\n",
        "import keras.backend as K\n",
        "from typing import Optional"
      ]
    },
    {
      "cell_type": "code",
      "execution_count": 10,
      "metadata": {
        "id": "Ml644udAmHeK"
      },
      "outputs": [],
      "source": [
        "train_datagen = ImageDataGenerator(rescale = 1./255,\n",
        "                                   validation_split = 0.2,\n",
        "\n",
        "        rotation_range=5,\n",
        "        width_shift_range=0.2,\n",
        "        height_shift_range=0.2,\n",
        "        shear_range=0.2,\n",
        "        horizontal_flip=True,\n",
        "        vertical_flip=True,\n",
        "        fill_mode='nearest')\n",
        "\n",
        "valid_datagen = ImageDataGenerator(rescale = 1./255,\n",
        "                                  validation_split = 0.2)\n",
        "\n",
        "test_datagen  = ImageDataGenerator(rescale = 1./255\n",
        "                                  )"
      ]
    },
    {
      "cell_type": "code",
      "execution_count": 11,
      "metadata": {
        "colab": {
          "base_uri": "https://localhost:8080/"
        },
        "id": "MBwh2fNKmKd7",
        "outputId": "7cfca46f-b2f2-44d2-a19e-d88994e6e903"
      },
      "outputs": [
        {
          "name": "stdout",
          "output_type": "stream",
          "text": [
            "Found 858 images belonging to 2 classes.\n"
          ]
        }
      ],
      "source": [
        "train_dataset  = train_datagen.flow_from_directory(directory = '/content/drive/MyDrive/Colab Notebooks/MCI-CN/MCI-CN/train',\n",
        "                                                   target_size = (224,224),\n",
        "                                                   class_mode = 'binary',\n",
        "                                                   subset = 'training',\n",
        "                                                   batch_size = 32)"
      ]
    },
    {
      "cell_type": "code",
      "execution_count": 12,
      "metadata": {
        "colab": {
          "base_uri": "https://localhost:8080/"
        },
        "id": "w31uy4LomNxI",
        "outputId": "aad3f4c3-ed7b-43ff-d399-d5fad0e6a1d3"
      },
      "outputs": [
        {
          "name": "stdout",
          "output_type": "stream",
          "text": [
            "Found 286 images belonging to 2 classes.\n"
          ]
        }
      ],
      "source": [
        "test_dataset = test_datagen.flow_from_directory(directory = '/content/drive/MyDrive/Colab Notebooks/MCI-CN/MCI-CN/test',\n",
        "                                                  target_size = (224,224),\n",
        "                                                  class_mode = 'binary',\n",
        "                                                  batch_size = 32)"
      ]
    },
    {
      "cell_type": "code",
      "execution_count": 15,
      "metadata": {
        "colab": {
          "base_uri": "https://localhost:8080/"
        },
        "id": "pGPP-WaJmQO0",
        "outputId": "307ab4cf-5ae6-4146-9b73-91ec9401ded5"
      },
      "outputs": [
        {
          "name": "stdout",
          "output_type": "stream",
          "text": [
            "Downloading data from https://storage.googleapis.com/tensorflow/keras-applications/vgg16/vgg16_weights_tf_dim_ordering_tf_kernels_notop.h5\n",
            "58889256/58889256 [==============================] - 0s 0us/step\n"
          ]
        }
      ],
      "source": [
        "base_model = VGG16(input_shape=(224, 224, 3), include_top=False, weights='imagenet')\n"
      ]
    },
    {
      "cell_type": "code",
      "execution_count": 16,
      "metadata": {
        "id": "1cPyMamcmSdl"
      },
      "outputs": [],
      "source": [
        "for layer in base_model.layers:\n",
        "    layer.trainable=False\n"
      ]
    },
    {
      "cell_type": "code",
      "execution_count": 17,
      "metadata": {
        "id": "IcG6-TPmmUtd"
      },
      "outputs": [],
      "source": [
        "model=Sequential()\n",
        "model.add(base_model)\n",
        "model.add(Dropout(0.5))\n",
        "model.add(tf.keras.layers.GlobalAveragePooling2D())\n",
        "model.add(Flatten())\n",
        "model.add(BatchNormalization())\n",
        "model.add(Dense(64,kernel_initializer='he_uniform'))\n",
        "model.add(BatchNormalization())\n",
        "model.add(Activation('selu'))\n",
        "model.add(Dropout(0.5))\n",
        "model.add(Dense(64,kernel_initializer='he_uniform'))\n",
        "model.add(BatchNormalization())\n",
        "model.add(Activation('selu'))\n",
        "model.add(Dropout(0.5))\n",
        "model.add(Dense(64,kernel_initializer='he_uniform'))\n",
        "model.add(BatchNormalization())\n",
        "model.add(Activation('selu'))\n",
        "model.add(Dropout(0.5))\n",
        "model.add(Dense(32,kernel_initializer='he_uniform'))\n",
        "model.add(BatchNormalization())\n",
        "model.add(Activation('selu'))\n",
        "model.add(Dropout(0.5))\n",
        "model.add(Dense(32,kernel_initializer='he_uniform'))\n",
        "model.add(BatchNormalization())\n",
        "model.add(Activation('selu'))\n",
        "model.add(Dense(1, activation='sigmoid'))"
      ]
    },
    {
      "cell_type": "code",
      "execution_count": 18,
      "metadata": {
        "id": "GciqkkxcmWqX"
      },
      "outputs": [],
      "source": [
        "def f1_score(y_true, y_pred):\n",
        "    true_positives = K.sum(K.round(K.clip(y_true * y_pred, 0, 1)))\n",
        "    possible_positives = K.sum(K.round(K.clip(y_true, 0, 1)))\n",
        "    predicted_positives = K.sum(K.round(K.clip(y_pred, 0, 1)))\n",
        "    precision = true_positives / (predicted_positives + K.epsilon())\n",
        "    recall = true_positives / (possible_positives + K.epsilon())\n",
        "    f1_val = 2*(precision*recall)/(precision+recall+K.epsilon())\n",
        "    return f1_val"
      ]
    },
    {
      "cell_type": "code",
      "execution_count": 19,
      "metadata": {
        "id": "ZBVYRjA3mY1b"
      },
      "outputs": [],
      "source": [
        "def exponential_decay(lr0, s):\n",
        "    def exponential_decay_fn(epoch):\n",
        "        return lr0 * 0.1 **(epoch / s)\n",
        "    return exponential_decay_fn\n",
        "\n",
        "exponential_decay_fn = exponential_decay(0.01, 5) \n",
        "\n",
        "lr_scheduler = tf.keras.callbacks.LearningRateScheduler(exponential_decay_fn)"
      ]
    },
    {
      "cell_type": "code",
      "execution_count": 20,
      "metadata": {
        "id": "c98hbgNembCm"
      },
      "outputs": [],
      "source": [
        "METRICS = [\n",
        "      tf.keras.metrics.BinaryAccuracy(name='accuracy'),\n",
        "      tf.keras.metrics.Precision(name='precision'),\n",
        "      tf.keras.metrics.Recall(name='recall'),\n",
        "      tf.keras.metrics.AUC(name='auc'),\n",
        "        f1_score,\n",
        "]\n"
      ]
    },
    {
      "cell_type": "code",
      "execution_count": 21,
      "metadata": {
        "id": "Nq9A6Y_0mdAY"
      },
      "outputs": [],
      "source": [
        "model.compile(optimizer='rmsprop', loss='binary_crossentropy',metrics=METRICS)"
      ]
    },
    {
      "cell_type": "code",
      "execution_count": 22,
      "metadata": {
        "colab": {
          "base_uri": "https://localhost:8080/"
        },
        "id": "1wTyCM3QmfBw",
        "outputId": "1c69eedf-0abd-42bb-e0d6-ac48d64618c6"
      },
      "outputs": [
        {
          "name": "stdout",
          "output_type": "stream",
          "text": [
            "Epoch 1/20\n",
            "27/27 [==============================] - 179s 6s/step - loss: 0.5108 - accuracy: 0.7529 - precision: 0.7868 - recall: 0.7672 - auc: 0.8385 - f1_score: 0.7764 - lr: 0.0100\n",
            "Epoch 2/20\n",
            "27/27 [==============================] - 15s 538ms/step - loss: 0.3826 - accuracy: 0.8333 - precision: 0.8611 - recall: 0.8378 - auc: 0.9055 - f1_score: 0.8481 - lr: 0.0063\n",
            "Epoch 3/20\n",
            "27/27 [==============================] - 15s 542ms/step - loss: 0.3508 - accuracy: 0.8683 - precision: 0.9017 - recall: 0.8586 - auc: 0.9193 - f1_score: 0.8795 - lr: 0.0040\n",
            "Epoch 4/20\n",
            "27/27 [==============================] - 15s 552ms/step - loss: 0.3102 - accuracy: 0.8648 - precision: 0.8942 - recall: 0.8607 - auc: 0.9388 - f1_score: 0.8745 - lr: 0.0025\n",
            "Epoch 5/20\n",
            "27/27 [==============================] - 15s 539ms/step - loss: 0.3408 - accuracy: 0.8625 - precision: 0.8837 - recall: 0.8690 - auc: 0.9263 - f1_score: 0.8732 - lr: 0.0016\n",
            "Epoch 6/20\n",
            "27/27 [==============================] - 15s 541ms/step - loss: 0.3071 - accuracy: 0.8648 - precision: 0.8908 - recall: 0.8649 - auc: 0.9396 - f1_score: 0.8771 - lr: 0.0010\n",
            "Epoch 7/20\n",
            "27/27 [==============================] - 14s 528ms/step - loss: 0.2921 - accuracy: 0.8776 - precision: 0.9017 - recall: 0.8773 - auc: 0.9452 - f1_score: 0.8894 - lr: 6.3096e-04\n",
            "Epoch 8/20\n",
            "27/27 [==============================] - 15s 539ms/step - loss: 0.2822 - accuracy: 0.8904 - precision: 0.9272 - recall: 0.8732 - auc: 0.9460 - f1_score: 0.9011 - lr: 3.9811e-04\n",
            "Epoch 9/20\n",
            "27/27 [==============================] - 15s 535ms/step - loss: 0.2959 - accuracy: 0.8846 - precision: 0.9189 - recall: 0.8711 - auc: 0.9434 - f1_score: 0.8923 - lr: 2.5119e-04\n",
            "Epoch 10/20\n",
            "27/27 [==============================] - 15s 541ms/step - loss: 0.2946 - accuracy: 0.8846 - precision: 0.9152 - recall: 0.8753 - auc: 0.9415 - f1_score: 0.8943 - lr: 1.5849e-04\n",
            "Epoch 11/20\n",
            "27/27 [==============================] - 14s 531ms/step - loss: 0.2702 - accuracy: 0.9056 - precision: 0.9310 - recall: 0.8981 - auc: 0.9529 - f1_score: 0.9130 - lr: 1.0000e-04\n",
            "Epoch 12/20\n",
            "27/27 [==============================] - 15s 547ms/step - loss: 0.2818 - accuracy: 0.8881 - precision: 0.9158 - recall: 0.8815 - auc: 0.9509 - f1_score: 0.8954 - lr: 6.3096e-05\n",
            "Epoch 13/20\n",
            "27/27 [==============================] - 15s 546ms/step - loss: 0.2803 - accuracy: 0.8753 - precision: 0.9101 - recall: 0.8628 - auc: 0.9482 - f1_score: 0.8860 - lr: 3.9811e-05\n",
            "Epoch 14/20\n",
            "27/27 [==============================] - 15s 545ms/step - loss: 0.3032 - accuracy: 0.8893 - precision: 0.9177 - recall: 0.8815 - auc: 0.9394 - f1_score: 0.8995 - lr: 2.5119e-05\n",
            "Epoch 15/20\n",
            "27/27 [==============================] - 15s 546ms/step - loss: 0.2904 - accuracy: 0.8893 - precision: 0.9106 - recall: 0.8898 - auc: 0.9443 - f1_score: 0.8994 - lr: 1.5849e-05\n",
            "Epoch 16/20\n",
            "27/27 [==============================] - 15s 543ms/step - loss: 0.3130 - accuracy: 0.8683 - precision: 0.9089 - recall: 0.8503 - auc: 0.9367 - f1_score: 0.8768 - lr: 1.0000e-05\n",
            "Epoch 17/20\n",
            "27/27 [==============================] - 15s 549ms/step - loss: 0.2978 - accuracy: 0.8811 - precision: 0.9111 - recall: 0.8732 - auc: 0.9442 - f1_score: 0.8887 - lr: 6.3096e-06\n",
            "Epoch 18/20\n",
            "27/27 [==============================] - 15s 554ms/step - loss: 0.2990 - accuracy: 0.8695 - precision: 0.8968 - recall: 0.8669 - auc: 0.9423 - f1_score: 0.8789 - lr: 3.9811e-06\n",
            "Epoch 19/20\n",
            "27/27 [==============================] - 15s 541ms/step - loss: 0.2587 - accuracy: 0.9068 - precision: 0.9330 - recall: 0.8981 - auc: 0.9547 - f1_score: 0.9132 - lr: 2.5119e-06\n",
            "Epoch 20/20\n",
            "27/27 [==============================] - 14s 528ms/step - loss: 0.2716 - accuracy: 0.8869 - precision: 0.9174 - recall: 0.8773 - auc: 0.9516 - f1_score: 0.8963 - lr: 1.5849e-06\n"
          ]
        }
      ],
      "source": [
        "history=model.fit(train_dataset,\n",
        "                        epochs = 20,\n",
        "                        verbose = 1,\n",
        "                         callbacks=lr_scheduler)"
      ]
    },
    {
      "cell_type": "code",
      "execution_count": 23,
      "metadata": {
        "colab": {
          "base_uri": "https://localhost:8080/"
        },
        "id": "_LGf1X8Gmg3H",
        "outputId": "32e8637c-d60b-4777-eca2-aeee5d9666a4"
      },
      "outputs": [
        {
          "name": "stdout",
          "output_type": "stream",
          "text": [
            "9/9 [==============================] - 146s 18s/step - loss: 0.1936 - accuracy: 0.9196 - precision: 0.9717 - recall: 0.8374 - auc: 0.9744 - f1_score: 0.9005\n"
          ]
        }
      ],
      "source": [
        "scores = model.evaluate(test_dataset)"
      ]
    },
    {
      "cell_type": "code",
      "execution_count": 24,
      "metadata": {
        "colab": {
          "base_uri": "https://localhost:8080/"
        },
        "id": "vrNJ-Y4ixO-8",
        "outputId": "00b86e36-daa9-4124-81d5-3bd0284a39c1"
      },
      "outputs": [
        {
          "name": "stdout",
          "output_type": "stream",
          "text": [
            "Accuracy =  0.9195803999900818\n",
            "Precision =  0.9716981053352356\n",
            "Recall =  0.8373983502388\n",
            "AUC =  0.9743627905845642\n",
            "F1_score =  0.9005255103111267\n"
          ]
        }
      ],
      "source": [
        "print(\"Accuracy = \", scores[1])\n",
        "print(\"Precision = \", scores[2])\n",
        "print(\"Recall = \", scores[3])\n",
        "print(\"AUC = \", scores[4])\n",
        "print(\"F1_score = \", scores[5])"
      ]
    },
    {
      "cell_type": "code",
      "execution_count": null,
      "metadata": {
        "id": "ZTE69Ahoypuq"
      },
      "outputs": [],
      "source": []
    }
  ],
  "metadata": {
    "accelerator": "GPU",
    "colab": {
      "gpuType": "T4",
      "provenance": []
    },
    "kernelspec": {
      "display_name": "Python 3",
      "name": "python3"
    },
    "language_info": {
      "name": "python"
    }
  },
  "nbformat": 4,
  "nbformat_minor": 0
}
