{
  "cells": [
    {
      "cell_type": "code",
      "execution_count": null,
      "metadata": {
        "colab": {
          "base_uri": "https://localhost:8080/"
        },
        "id": "j0FEKKmwlqUT",
        "outputId": "376b4b5e-5480-406e-b483-794f4c01d726"
      },
      "outputs": [
        {
          "name": "stdout",
          "output_type": "stream",
          "text": [
            "Mounted at /content/drive\n"
          ]
        }
      ],
      "source": [
        "from google.colab import drive\n",
        "drive.mount('/content/drive')"
      ]
    },
    {
      "cell_type": "code",
      "execution_count": 25,
      "metadata": {
        "id": "O3WRnv-xl41a"
      },
      "outputs": [],
      "source": [
        "import numpy as np\n",
        "import pandas as pd\n",
        "import matplotlib.pyplot as plt\n",
        "import seaborn as sn\n",
        "import skimage.io\n",
        "import os\n",
        "import tqdm\n",
        "import glob\n",
        "import tensorflow\n",
        "\n",
        "from tqdm import tqdm\n",
        "from sklearn.utils import shuffle\n",
        "from sklearn import metrics\n",
        "from sklearn.metrics import confusion_matrix, classification_report\n",
        "from sklearn.model_selection import train_test_split\n",
        "from skimage.io import imread, imshow\n",
        "from skimage.transform import resize\n",
        "from skimage.color import gray2rgb\n",
        "\n",
        "import tensorflow as tf\n",
        "from tensorflow.keras.preprocessing.image import ImageDataGenerator\n",
        "from tensorflow.keras.preprocessing import image_dataset_from_directory\n",
        "from tensorflow.keras.models import Sequential\n",
        "from tensorflow.keras.layers import InputLayer, BatchNormalization, Dropout, Flatten, Dense, Activation, MaxPool2D, Conv2D\n",
        "from tensorflow.keras.callbacks import EarlyStopping, ModelCheckpoint\n",
        "from tensorflow.keras.applications.inception_v3 import InceptionV3\n",
        "from keras import optimizers\n",
        "\n",
        "from keras.callbacks import Callback,ModelCheckpoint\n",
        "from keras.models import Sequential,load_model\n",
        "from keras.layers import Dense, Dropout\n",
        "import keras.backend as K\n",
        "from typing import Optional"
      ]
    },
    {
      "cell_type": "code",
      "execution_count": 26,
      "metadata": {
        "id": "Ml644udAmHeK"
      },
      "outputs": [],
      "source": [
        "train_datagen = ImageDataGenerator(rescale = 1./255,\n",
        "                                   validation_split = 0.2,\n",
        "\n",
        "        rotation_range=5,\n",
        "        width_shift_range=0.2,\n",
        "        height_shift_range=0.2,\n",
        "        shear_range=0.2,\n",
        "        horizontal_flip=True,\n",
        "        vertical_flip=True,\n",
        "        fill_mode='nearest')\n",
        "\n",
        "valid_datagen = ImageDataGenerator(rescale = 1./255,\n",
        "                                  validation_split = 0.2)\n",
        "\n",
        "test_datagen  = ImageDataGenerator(rescale = 1./255\n",
        "                                  )"
      ]
    },
    {
      "cell_type": "code",
      "execution_count": 27,
      "metadata": {
        "colab": {
          "base_uri": "https://localhost:8080/"
        },
        "id": "MBwh2fNKmKd7",
        "outputId": "b062c790-a9bb-4320-9d7b-dee8affff03b"
      },
      "outputs": [
        {
          "name": "stdout",
          "output_type": "stream",
          "text": [
            "Found 858 images belonging to 2 classes.\n"
          ]
        }
      ],
      "source": [
        "train_dataset  = train_datagen.flow_from_directory(directory = '/content/drive/MyDrive/Colab Notebooks/MCI-CN/MCI-CN/train',\n",
        "                                                   target_size = (224,224),\n",
        "                                                   class_mode = 'binary',\n",
        "                                                   subset = 'training',\n",
        "                                                   batch_size = 32)"
      ]
    },
    {
      "cell_type": "code",
      "execution_count": 28,
      "metadata": {
        "colab": {
          "base_uri": "https://localhost:8080/"
        },
        "id": "w31uy4LomNxI",
        "outputId": "36bba27b-a6e8-46c8-bcb7-ba8ea9361888"
      },
      "outputs": [
        {
          "name": "stdout",
          "output_type": "stream",
          "text": [
            "Found 286 images belonging to 2 classes.\n"
          ]
        }
      ],
      "source": [
        "test_dataset = test_datagen.flow_from_directory(directory = '/content/drive/MyDrive/Colab Notebooks/MCI-CN/MCI-CN/test',\n",
        "                                                  target_size = (224,224),\n",
        "                                                  class_mode = 'binary',\n",
        "                                                  batch_size = 32)"
      ]
    },
    {
      "cell_type": "code",
      "execution_count": 29,
      "metadata": {
        "colab": {
          "base_uri": "https://localhost:8080/"
        },
        "id": "pGPP-WaJmQO0",
        "outputId": "5df2070c-ce24-4b63-8f50-2586daa1b32e"
      },
      "outputs": [
        {
          "name": "stdout",
          "output_type": "stream",
          "text": [
            "Downloading data from https://storage.googleapis.com/tensorflow/keras-applications/inception_v3/inception_v3_weights_tf_dim_ordering_tf_kernels_notop.h5\n",
            "87910968/87910968 [==============================] - 1s 0us/step\n"
          ]
        }
      ],
      "source": [
        "base_model = InceptionV3(input_shape=(224, 224, 3), include_top=False, weights='imagenet')\n"
      ]
    },
    {
      "cell_type": "code",
      "execution_count": 30,
      "metadata": {
        "id": "1cPyMamcmSdl"
      },
      "outputs": [],
      "source": [
        "for layer in base_model.layers:\n",
        "    layer.trainable=False\n"
      ]
    },
    {
      "cell_type": "code",
      "execution_count": 39,
      "metadata": {
        "id": "IcG6-TPmmUtd"
      },
      "outputs": [],
      "source": [
        "model=Sequential()\n",
        "model.add(base_model)\n",
        "model.add(Dropout(0.5))\n",
        "model.add(tf.keras.layers.GlobalAveragePooling2D())\n",
        "model.add(Flatten())\n",
        "model.add(BatchNormalization())\n",
        "model.add(Dense(64,kernel_initializer='he_uniform'))\n",
        "model.add(BatchNormalization())\n",
        "model.add(Activation('tanh'))\n",
        "model.add(Dropout(0.5))\n",
        "model.add(Dense(64,kernel_initializer='he_uniform'))\n",
        "model.add(BatchNormalization())\n",
        "model.add(Activation('tanh'))\n",
        "model.add(Dropout(0.5))\n",
        "model.add(Dense(64,kernel_initializer='he_uniform'))\n",
        "model.add(BatchNormalization())\n",
        "model.add(Activation('tanh'))\n",
        "model.add(Dropout(0.5))\n",
        "model.add(Dense(32,kernel_initializer='he_uniform'))\n",
        "model.add(BatchNormalization())\n",
        "model.add(Activation('tanh'))\n",
        "model.add(Dropout(0.5))\n",
        "model.add(Dense(32,kernel_initializer='he_uniform'))\n",
        "model.add(BatchNormalization())\n",
        "model.add(Activation('tanh'))\n",
        "model.add(Dense(1, activation='sigmoid'))"
      ]
    },
    {
      "cell_type": "code",
      "execution_count": 40,
      "metadata": {
        "id": "GciqkkxcmWqX"
      },
      "outputs": [],
      "source": [
        "def f1_score(y_true, y_pred): \n",
        "    true_positives = K.sum(K.round(K.clip(y_true * y_pred, 0, 1)))\n",
        "    possible_positives = K.sum(K.round(K.clip(y_true, 0, 1)))\n",
        "    predicted_positives = K.sum(K.round(K.clip(y_pred, 0, 1)))\n",
        "    precision = true_positives / (predicted_positives + K.epsilon())\n",
        "    recall = true_positives / (possible_positives + K.epsilon())\n",
        "    f1_val = 2*(precision*recall)/(precision+recall+K.epsilon())\n",
        "    return f1_val"
      ]
    },
    {
      "cell_type": "code",
      "execution_count": 41,
      "metadata": {
        "id": "ZBVYRjA3mY1b"
      },
      "outputs": [],
      "source": [
        "def exponential_decay(lr0, s):\n",
        "    def exponential_decay_fn(epoch):\n",
        "        return lr0 * 0.1 **(epoch / s)\n",
        "    return exponential_decay_fn\n",
        "\n",
        "exponential_decay_fn = exponential_decay(0.01, 5) \n",
        "\n",
        "lr_scheduler = tf.keras.callbacks.LearningRateScheduler(exponential_decay_fn)"
      ]
    },
    {
      "cell_type": "code",
      "execution_count": 42,
      "metadata": {
        "id": "c98hbgNembCm"
      },
      "outputs": [],
      "source": [
        "\n",
        "METRICS = [\n",
        "      tf.keras.metrics.BinaryAccuracy(name='accuracy'),\n",
        "      tf.keras.metrics.Precision(name='precision'),\n",
        "      tf.keras.metrics.Recall(name='recall'),\n",
        "      tf.keras.metrics.AUC(name='auc'),\n",
        "        f1_score,\n",
        "]\n"
      ]
    },
    {
      "cell_type": "code",
      "execution_count": 43,
      "metadata": {
        "id": "Nq9A6Y_0mdAY"
      },
      "outputs": [],
      "source": [
        "model.compile(optimizer='rmsprop', loss='binary_crossentropy',metrics=METRICS)"
      ]
    },
    {
      "cell_type": "code",
      "execution_count": 44,
      "metadata": {
        "colab": {
          "base_uri": "https://localhost:8080/"
        },
        "id": "1wTyCM3QmfBw",
        "outputId": "faed635a-2fc8-4df5-e043-3febce302554"
      },
      "outputs": [
        {
          "name": "stdout",
          "output_type": "stream",
          "text": [
            "Epoch 1/20\n",
            "27/27 [==============================] - 20s 472ms/step - loss: 0.4893 - accuracy: 0.7716 - precision: 0.8105 - recall: 0.7734 - auc: 0.8451 - f1_score: 0.7915 - lr: 0.0100\n",
            "Epoch 2/20\n",
            "27/27 [==============================] - 14s 502ms/step - loss: 0.3318 - accuracy: 0.8811 - precision: 0.9317 - recall: 0.8503 - auc: 0.9195 - f1_score: 0.8894 - lr: 0.0063\n",
            "Epoch 3/20\n",
            "27/27 [==============================] - 14s 512ms/step - loss: 0.3480 - accuracy: 0.8543 - precision: 0.9009 - recall: 0.8316 - auc: 0.9194 - f1_score: 0.8651 - lr: 0.0040\n",
            "Epoch 4/20\n",
            "27/27 [==============================] - 14s 504ms/step - loss: 0.3248 - accuracy: 0.8730 - precision: 0.9026 - recall: 0.8669 - auc: 0.9321 - f1_score: 0.8804 - lr: 0.0025\n",
            "Epoch 5/20\n",
            "27/27 [==============================] - 14s 509ms/step - loss: 0.3113 - accuracy: 0.8811 - precision: 0.9093 - recall: 0.8753 - auc: 0.9346 - f1_score: 0.8916 - lr: 0.0016\n",
            "Epoch 6/20\n",
            "27/27 [==============================] - 14s 502ms/step - loss: 0.3087 - accuracy: 0.8753 - precision: 0.9137 - recall: 0.8586 - auc: 0.9380 - f1_score: 0.8843 - lr: 0.0010\n",
            "Epoch 7/20\n",
            "27/27 [==============================] - 14s 515ms/step - loss: 0.3110 - accuracy: 0.8765 - precision: 0.8964 - recall: 0.8815 - auc: 0.9381 - f1_score: 0.8869 - lr: 6.3096e-04\n",
            "Epoch 8/20\n",
            "27/27 [==============================] - 14s 503ms/step - loss: 0.3019 - accuracy: 0.8753 - precision: 0.9101 - recall: 0.8628 - auc: 0.9348 - f1_score: 0.8862 - lr: 3.9811e-04\n",
            "Epoch 9/20\n",
            "27/27 [==============================] - 14s 509ms/step - loss: 0.2684 - accuracy: 0.8974 - precision: 0.9456 - recall: 0.8669 - auc: 0.9515 - f1_score: 0.9036 - lr: 2.5119e-04\n",
            "Epoch 10/20\n",
            "27/27 [==============================] - 14s 530ms/step - loss: 0.2623 - accuracy: 0.9056 - precision: 0.9348 - recall: 0.8940 - auc: 0.9516 - f1_score: 0.9139 - lr: 1.5849e-04\n",
            "Epoch 11/20\n",
            "27/27 [==============================] - 14s 522ms/step - loss: 0.2665 - accuracy: 0.8928 - precision: 0.9147 - recall: 0.8919 - auc: 0.9542 - f1_score: 0.9023 - lr: 1.0000e-04\n",
            "Epoch 12/20\n",
            "27/27 [==============================] - 14s 504ms/step - loss: 0.2897 - accuracy: 0.8881 - precision: 0.9231 - recall: 0.8732 - auc: 0.9422 - f1_score: 0.8965 - lr: 6.3096e-05\n",
            "Epoch 13/20\n",
            "27/27 [==============================] - 14s 505ms/step - loss: 0.2796 - accuracy: 0.8881 - precision: 0.9194 - recall: 0.8773 - auc: 0.9463 - f1_score: 0.8983 - lr: 3.9811e-05\n",
            "Epoch 14/20\n",
            "27/27 [==============================] - 14s 504ms/step - loss: 0.2816 - accuracy: 0.8974 - precision: 0.9376 - recall: 0.8753 - auc: 0.9431 - f1_score: 0.9051 - lr: 2.5119e-05\n",
            "Epoch 15/20\n",
            "27/27 [==============================] - 14s 505ms/step - loss: 0.2926 - accuracy: 0.8869 - precision: 0.9138 - recall: 0.8815 - auc: 0.9416 - f1_score: 0.8956 - lr: 1.5849e-05\n",
            "Epoch 16/20\n",
            "27/27 [==============================] - 14s 507ms/step - loss: 0.2691 - accuracy: 0.8928 - precision: 0.9219 - recall: 0.8836 - auc: 0.9534 - f1_score: 0.9012 - lr: 1.0000e-05\n",
            "Epoch 17/20\n",
            "27/27 [==============================] - 14s 502ms/step - loss: 0.2669 - accuracy: 0.8998 - precision: 0.9418 - recall: 0.8753 - auc: 0.9504 - f1_score: 0.9054 - lr: 6.3096e-06\n",
            "Epoch 18/20\n",
            "27/27 [==============================] - 14s 499ms/step - loss: 0.2693 - accuracy: 0.8928 - precision: 0.9332 - recall: 0.8711 - auc: 0.9493 - f1_score: 0.9006 - lr: 3.9811e-06\n",
            "Epoch 19/20\n",
            "27/27 [==============================] - 14s 521ms/step - loss: 0.2930 - accuracy: 0.8939 - precision: 0.9295 - recall: 0.8773 - auc: 0.9407 - f1_score: 0.9004 - lr: 2.5119e-06\n",
            "Epoch 20/20\n",
            "27/27 [==============================] - 14s 513ms/step - loss: 0.2636 - accuracy: 0.8974 - precision: 0.9262 - recall: 0.8877 - auc: 0.9531 - f1_score: 0.9054 - lr: 1.5849e-06\n"
          ]
        }
      ],
      "source": [
        "history=model.fit(train_dataset,\n",
        "                        epochs = 20,\n",
        "                        verbose = 1,\n",
        "                         callbacks=lr_scheduler)"
      ]
    },
    {
      "cell_type": "code",
      "execution_count": 45,
      "metadata": {
        "colab": {
          "base_uri": "https://localhost:8080/"
        },
        "id": "_LGf1X8Gmg3H",
        "outputId": "7c41dbeb-43d3-49ec-ed24-6c262ae0070e"
      },
      "outputs": [
        {
          "name": "stdout",
          "output_type": "stream",
          "text": [
            "9/9 [==============================] - 3s 164ms/step - loss: 0.1637 - accuracy: 0.9406 - precision: 0.9907 - recall: 0.8699 - auc: 0.9848 - f1_score: 0.9254\n"
          ]
        }
      ],
      "source": [
        "scores = model.evaluate(test_dataset)"
      ]
    },
    {
      "cell_type": "code",
      "execution_count": 46,
      "metadata": {
        "colab": {
          "base_uri": "https://localhost:8080/"
        },
        "id": "vrNJ-Y4ixO-8",
        "outputId": "5bca8b8c-ac57-43bb-957d-e8e7cfd801cb"
      },
      "outputs": [
        {
          "name": "stdout",
          "output_type": "stream",
          "text": [
            "Accuracy =  0.940559446811676\n",
            "Precision =  0.9907407164573669\n",
            "Recall =  0.869918704032898\n",
            "AUC =  0.9847623705863953\n",
            "F1_score =  0.9254181385040283\n"
          ]
        }
      ],
      "source": [
        "print(\"Accuracy = \", scores[1])\n",
        "print(\"Precision = \", scores[2])\n",
        "print(\"Recall = \", scores[3])\n",
        "print(\"AUC = \", scores[4])\n",
        "print(\"F1_score = \", scores[5])"
      ]
    },
    {
      "cell_type": "code",
      "execution_count": 46,
      "metadata": {
        "id": "ZTE69Ahoypuq"
      },
      "outputs": [],
      "source": []
    }
  ],
  "metadata": {
    "accelerator": "GPU",
    "colab": {
      "gpuType": "T4",
      "provenance": []
    },
    "kernelspec": {
      "display_name": "Python 3",
      "name": "python3"
    },
    "language_info": {
      "name": "python"
    }
  },
  "nbformat": 4,
  "nbformat_minor": 0
}
