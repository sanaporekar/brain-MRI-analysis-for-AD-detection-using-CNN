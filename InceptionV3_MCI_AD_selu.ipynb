{
  "cells": [
    {
      "cell_type": "code",
      "execution_count": 1,
      "metadata": {
        "colab": {
          "base_uri": "https://localhost:8080/"
        },
        "id": "j0FEKKmwlqUT",
        "outputId": "50e020dd-a4e8-43d1-8f8a-90619dc59819"
      },
      "outputs": [
        {
          "name": "stdout",
          "output_type": "stream",
          "text": [
            "Drive already mounted at /content/drive; to attempt to forcibly remount, call drive.mount(\"/content/drive\", force_remount=True).\n"
          ]
        }
      ],
      "source": [
        "from google.colab import drive\n",
        "drive.mount('/content/drive')"
      ]
    },
    {
      "cell_type": "code",
      "execution_count": 2,
      "metadata": {
        "id": "O3WRnv-xl41a"
      },
      "outputs": [],
      "source": [
        "import numpy as np\n",
        "import pandas as pd\n",
        "import matplotlib.pyplot as plt\n",
        "import seaborn as sn\n",
        "import skimage.io\n",
        "import os\n",
        "import tqdm\n",
        "import glob\n",
        "import tensorflow\n",
        "\n",
        "from tqdm import tqdm\n",
        "from sklearn.utils import shuffle\n",
        "from sklearn import metrics\n",
        "from sklearn.metrics import confusion_matrix, classification_report\n",
        "from sklearn.model_selection import train_test_split\n",
        "from skimage.io import imread, imshow\n",
        "from skimage.transform import resize\n",
        "from skimage.color import gray2rgb\n",
        "\n",
        "import tensorflow as tf\n",
        "from tensorflow.keras.preprocessing.image import ImageDataGenerator\n",
        "from tensorflow.keras.preprocessing import image_dataset_from_directory\n",
        "from tensorflow.keras.models import Sequential\n",
        "from tensorflow.keras.layers import InputLayer, BatchNormalization, Dropout, Flatten, Dense, Activation, MaxPool2D, Conv2D\n",
        "from tensorflow.keras.callbacks import EarlyStopping, ModelCheckpoint\n",
        "from tensorflow.keras.applications.inception_v3 import InceptionV3\n",
        "from keras import optimizers\n",
        "\n",
        "from keras.callbacks import Callback,ModelCheckpoint\n",
        "from keras.models import Sequential,load_model\n",
        "from keras.layers import Dense, Dropout\n",
        "import keras.backend as K\n",
        "from typing import Optional"
      ]
    },
    {
      "cell_type": "code",
      "execution_count": 3,
      "metadata": {
        "id": "Ml644udAmHeK"
      },
      "outputs": [],
      "source": [
        "train_datagen = ImageDataGenerator(rescale = 1./255,\n",
        "                                   validation_split = 0.2,\n",
        "\n",
        "        rotation_range=5,\n",
        "        width_shift_range=0.2,\n",
        "        height_shift_range=0.2,\n",
        "        shear_range=0.2,\n",
        "        horizontal_flip=True,\n",
        "        vertical_flip=True,\n",
        "        fill_mode='nearest')\n",
        "\n",
        "valid_datagen = ImageDataGenerator(rescale = 1./255,\n",
        "                                  validation_split = 0.2)\n",
        "\n",
        "test_datagen  = ImageDataGenerator(rescale = 1./255\n",
        "                                  )"
      ]
    },
    {
      "cell_type": "code",
      "execution_count": 4,
      "metadata": {
        "colab": {
          "base_uri": "https://localhost:8080/"
        },
        "id": "MBwh2fNKmKd7",
        "outputId": "7b0c95b7-13aa-40f1-8d78-b703795d5c51"
      },
      "outputs": [
        {
          "name": "stdout",
          "output_type": "stream",
          "text": [
            "Found 352 images belonging to 2 classes.\n"
          ]
        }
      ],
      "source": [
        "train_dataset  = train_datagen.flow_from_directory(directory = '/content/drive/MyDrive/Colab Notebooks/MCI_AD/train',\n",
        "                                                   target_size = (224,224),\n",
        "                                                   class_mode = 'binary',\n",
        "                                                   subset = 'training',\n",
        "                                                   batch_size = 32)"
      ]
    },
    {
      "cell_type": "code",
      "execution_count": 5,
      "metadata": {
        "colab": {
          "base_uri": "https://localhost:8080/"
        },
        "id": "w31uy4LomNxI",
        "outputId": "e5454014-24db-497e-f845-683f5481dac6"
      },
      "outputs": [
        {
          "name": "stdout",
          "output_type": "stream",
          "text": [
            "Found 130 images belonging to 2 classes.\n"
          ]
        }
      ],
      "source": [
        "test_dataset = test_datagen.flow_from_directory(directory = '/content/drive/MyDrive/Colab Notebooks/MCI_AD/test',\n",
        "                                                  target_size = (224,224),\n",
        "                                                  class_mode = 'binary',\n",
        "                                                  batch_size = 32)"
      ]
    },
    {
      "cell_type": "code",
      "execution_count": 6,
      "metadata": {
        "id": "pGPP-WaJmQO0"
      },
      "outputs": [],
      "source": [
        "base_model = InceptionV3(input_shape=(224, 224, 3), include_top=False, weights='imagenet')\n"
      ]
    },
    {
      "cell_type": "code",
      "execution_count": 7,
      "metadata": {
        "id": "1cPyMamcmSdl"
      },
      "outputs": [],
      "source": [
        "for layer in base_model.layers:\n",
        "    layer.trainable=False\n"
      ]
    },
    {
      "cell_type": "code",
      "execution_count": 8,
      "metadata": {
        "id": "IcG6-TPmmUtd"
      },
      "outputs": [],
      "source": [
        "model=Sequential()\n",
        "model.add(base_model)\n",
        "model.add(Dropout(0.5))\n",
        "model.add(tf.keras.layers.GlobalAveragePooling2D())\n",
        "model.add(Flatten())\n",
        "model.add(BatchNormalization())\n",
        "model.add(Dense(64,kernel_initializer='he_uniform'))\n",
        "model.add(BatchNormalization())\n",
        "model.add(Activation('selu'))\n",
        "model.add(Dropout(0.5))\n",
        "model.add(Dense(64,kernel_initializer='he_uniform'))\n",
        "model.add(BatchNormalization())\n",
        "model.add(Activation('selu'))\n",
        "model.add(Dropout(0.5))\n",
        "model.add(Dense(64,kernel_initializer='he_uniform'))\n",
        "model.add(BatchNormalization())\n",
        "model.add(Activation('selu'))\n",
        "model.add(Dropout(0.5))\n",
        "model.add(Dense(32,kernel_initializer='he_uniform'))\n",
        "model.add(BatchNormalization())\n",
        "model.add(Activation('selu'))\n",
        "model.add(Dropout(0.5))\n",
        "model.add(Dense(32,kernel_initializer='he_uniform'))\n",
        "model.add(BatchNormalization())\n",
        "model.add(Activation('selu'))\n",
        "model.add(Dense(1, activation='sigmoid'))"
      ]
    },
    {
      "cell_type": "code",
      "execution_count": 9,
      "metadata": {
        "id": "GciqkkxcmWqX"
      },
      "outputs": [],
      "source": [
        "def f1_score(y_true, y_pred): \n",
        "    true_positives = K.sum(K.round(K.clip(y_true * y_pred, 0, 1)))\n",
        "    possible_positives = K.sum(K.round(K.clip(y_true, 0, 1)))\n",
        "    predicted_positives = K.sum(K.round(K.clip(y_pred, 0, 1)))\n",
        "    precision = true_positives / (predicted_positives + K.epsilon())\n",
        "    recall = true_positives / (possible_positives + K.epsilon())\n",
        "    f1_val = 2*(precision*recall)/(precision+recall+K.epsilon())\n",
        "    return f1_val"
      ]
    },
    {
      "cell_type": "code",
      "execution_count": 10,
      "metadata": {
        "id": "ZBVYRjA3mY1b"
      },
      "outputs": [],
      "source": [
        "def exponential_decay(lr0, s):\n",
        "    def exponential_decay_fn(epoch):\n",
        "        return lr0 * 0.1 **(epoch / s)\n",
        "    return exponential_decay_fn\n",
        "\n",
        "exponential_decay_fn = exponential_decay(0.01, 5) \n",
        "\n",
        "lr_scheduler = tf.keras.callbacks.LearningRateScheduler(exponential_decay_fn)"
      ]
    },
    {
      "cell_type": "code",
      "execution_count": 11,
      "metadata": {
        "id": "c98hbgNembCm"
      },
      "outputs": [],
      "source": [
        "\n",
        "METRICS = [\n",
        "      tf.keras.metrics.BinaryAccuracy(name='accuracy'),\n",
        "      tf.keras.metrics.Precision(name='precision'),\n",
        "      tf.keras.metrics.Recall(name='recall'),\n",
        "      tf.keras.metrics.AUC(name='auc'),\n",
        "        f1_score,\n",
        "]\n"
      ]
    },
    {
      "cell_type": "code",
      "execution_count": 12,
      "metadata": {
        "id": "Nq9A6Y_0mdAY"
      },
      "outputs": [],
      "source": [
        "model.compile(optimizer='rmsprop', loss='binary_crossentropy',metrics=METRICS)"
      ]
    },
    {
      "cell_type": "code",
      "execution_count": 13,
      "metadata": {
        "colab": {
          "base_uri": "https://localhost:8080/"
        },
        "id": "1wTyCM3QmfBw",
        "outputId": "46b3bb56-5526-4a47-aaba-c4aefb9bf47a"
      },
      "outputs": [
        {
          "name": "stdout",
          "output_type": "stream",
          "text": [
            "Epoch 1/30\n",
            "11/11 [==============================] - 23s 515ms/step - loss: 0.7038 - accuracy: 0.6477 - precision: 0.6625 - recall: 0.6023 - auc: 0.6820 - f1_score: 0.6161 - lr: 0.0100\n",
            "Epoch 2/30\n",
            "11/11 [==============================] - 6s 514ms/step - loss: 0.5028 - accuracy: 0.7642 - precision: 0.7409 - recall: 0.8125 - auc: 0.8360 - f1_score: 0.7750 - lr: 0.0063\n",
            "Epoch 3/30\n",
            "11/11 [==============================] - 7s 602ms/step - loss: 0.4817 - accuracy: 0.7926 - precision: 0.7814 - recall: 0.8125 - auc: 0.8515 - f1_score: 0.7965 - lr: 0.0040\n",
            "Epoch 4/30\n",
            "11/11 [==============================] - 6s 549ms/step - loss: 0.4384 - accuracy: 0.8153 - precision: 0.8000 - recall: 0.8409 - auc: 0.8739 - f1_score: 0.8172 - lr: 0.0025\n",
            "Epoch 5/30\n",
            "11/11 [==============================] - 6s 514ms/step - loss: 0.4605 - accuracy: 0.7983 - precision: 0.7838 - recall: 0.8239 - auc: 0.8616 - f1_score: 0.7937 - lr: 0.0016\n",
            "Epoch 6/30\n",
            "11/11 [==============================] - 7s 671ms/step - loss: 0.4029 - accuracy: 0.8267 - precision: 0.8042 - recall: 0.8636 - auc: 0.8929 - f1_score: 0.8282 - lr: 0.0010\n",
            "Epoch 7/30\n",
            "11/11 [==============================] - 6s 518ms/step - loss: 0.3742 - accuracy: 0.8494 - precision: 0.8361 - recall: 0.8693 - auc: 0.9109 - f1_score: 0.8513 - lr: 6.3096e-04\n",
            "Epoch 8/30\n",
            "11/11 [==============================] - 7s 620ms/step - loss: 0.4044 - accuracy: 0.8409 - precision: 0.8226 - recall: 0.8693 - auc: 0.8924 - f1_score: 0.8436 - lr: 3.9811e-04\n",
            "Epoch 9/30\n",
            "11/11 [==============================] - 7s 593ms/step - loss: 0.4039 - accuracy: 0.8381 - precision: 0.8148 - recall: 0.8750 - auc: 0.8952 - f1_score: 0.8405 - lr: 2.5119e-04\n",
            "Epoch 10/30\n",
            "11/11 [==============================] - 6s 511ms/step - loss: 0.3827 - accuracy: 0.8580 - precision: 0.8351 - recall: 0.8920 - auc: 0.9028 - f1_score: 0.8573 - lr: 1.5849e-04\n",
            "Epoch 11/30\n",
            "11/11 [==============================] - 7s 608ms/step - loss: 0.3811 - accuracy: 0.8636 - precision: 0.8516 - recall: 0.8807 - auc: 0.9053 - f1_score: 0.8646 - lr: 1.0000e-04\n",
            "Epoch 12/30\n",
            "11/11 [==============================] - 6s 538ms/step - loss: 0.3700 - accuracy: 0.8580 - precision: 0.8387 - recall: 0.8864 - auc: 0.9114 - f1_score: 0.8608 - lr: 6.3096e-05\n",
            "Epoch 13/30\n",
            "11/11 [==============================] - 6s 550ms/step - loss: 0.3709 - accuracy: 0.8466 - precision: 0.8245 - recall: 0.8807 - auc: 0.9107 - f1_score: 0.8505 - lr: 3.9811e-05\n",
            "Epoch 14/30\n",
            "11/11 [==============================] - 6s 535ms/step - loss: 0.3546 - accuracy: 0.8551 - precision: 0.8342 - recall: 0.8864 - auc: 0.9199 - f1_score: 0.8579 - lr: 2.5119e-05\n",
            "Epoch 15/30\n",
            "11/11 [==============================] - 7s 615ms/step - loss: 0.3609 - accuracy: 0.8466 - precision: 0.8427 - recall: 0.8523 - auc: 0.9191 - f1_score: 0.8470 - lr: 1.5849e-05\n",
            "Epoch 16/30\n",
            "11/11 [==============================] - 6s 573ms/step - loss: 0.3940 - accuracy: 0.8409 - precision: 0.8226 - recall: 0.8693 - auc: 0.8969 - f1_score: 0.8436 - lr: 1.0000e-05\n",
            "Epoch 17/30\n",
            "11/11 [==============================] - 6s 514ms/step - loss: 0.3705 - accuracy: 0.8608 - precision: 0.8432 - recall: 0.8864 - auc: 0.9137 - f1_score: 0.8633 - lr: 6.3096e-06\n",
            "Epoch 18/30\n",
            "11/11 [==============================] - 6s 534ms/step - loss: 0.4165 - accuracy: 0.8409 - precision: 0.8297 - recall: 0.8580 - auc: 0.8913 - f1_score: 0.8410 - lr: 3.9811e-06\n",
            "Epoch 19/30\n",
            "11/11 [==============================] - 6s 506ms/step - loss: 0.3630 - accuracy: 0.8409 - precision: 0.8448 - recall: 0.8352 - auc: 0.9181 - f1_score: 0.8388 - lr: 2.5119e-06\n",
            "Epoch 20/30\n",
            "11/11 [==============================] - 7s 664ms/step - loss: 0.4060 - accuracy: 0.8409 - precision: 0.8158 - recall: 0.8807 - auc: 0.8921 - f1_score: 0.8452 - lr: 1.5849e-06\n",
            "Epoch 21/30\n",
            "11/11 [==============================] - 5s 473ms/step - loss: 0.3996 - accuracy: 0.8608 - precision: 0.8360 - recall: 0.8977 - auc: 0.8969 - f1_score: 0.8659 - lr: 1.0000e-06\n",
            "Epoch 22/30\n",
            "11/11 [==============================] - 6s 508ms/step - loss: 0.3814 - accuracy: 0.8352 - precision: 0.8138 - recall: 0.8693 - auc: 0.9048 - f1_score: 0.8379 - lr: 6.3096e-07\n",
            "Epoch 23/30\n",
            "11/11 [==============================] - 7s 595ms/step - loss: 0.4124 - accuracy: 0.8381 - precision: 0.8216 - recall: 0.8636 - auc: 0.8896 - f1_score: 0.8365 - lr: 3.9811e-07\n",
            "Epoch 24/30\n",
            "11/11 [==============================] - 6s 526ms/step - loss: 0.3703 - accuracy: 0.8466 - precision: 0.8177 - recall: 0.8920 - auc: 0.9123 - f1_score: 0.8514 - lr: 2.5119e-07\n",
            "Epoch 25/30\n",
            "11/11 [==============================] - 7s 597ms/step - loss: 0.4129 - accuracy: 0.8381 - precision: 0.8115 - recall: 0.8807 - auc: 0.8888 - f1_score: 0.8412 - lr: 1.5849e-07\n",
            "Epoch 26/30\n",
            "11/11 [==============================] - 5s 470ms/step - loss: 0.3780 - accuracy: 0.8580 - precision: 0.8247 - recall: 0.9091 - auc: 0.9091 - f1_score: 0.8672 - lr: 1.0000e-07\n",
            "Epoch 27/30\n",
            "11/11 [==============================] - 5s 489ms/step - loss: 0.3796 - accuracy: 0.8636 - precision: 0.8404 - recall: 0.8977 - auc: 0.9062 - f1_score: 0.8637 - lr: 6.3096e-08\n",
            "Epoch 28/30\n",
            "11/11 [==============================] - 7s 570ms/step - loss: 0.3504 - accuracy: 0.8665 - precision: 0.8413 - recall: 0.9034 - auc: 0.9232 - f1_score: 0.8697 - lr: 3.9811e-08\n",
            "Epoch 29/30\n",
            "11/11 [==============================] - 5s 465ms/step - loss: 0.4236 - accuracy: 0.8267 - precision: 0.8042 - recall: 0.8636 - auc: 0.8860 - f1_score: 0.8340 - lr: 2.5119e-08\n",
            "Epoch 30/30\n",
            "11/11 [==============================] - 7s 598ms/step - loss: 0.3377 - accuracy: 0.8693 - precision: 0.8457 - recall: 0.9034 - auc: 0.9245 - f1_score: 0.8709 - lr: 1.5849e-08\n"
          ]
        }
      ],
      "source": [
        "history=model.fit(train_dataset,\n",
        "                        epochs = 30,\n",
        "                        verbose = 1,\n",
        "                         callbacks=lr_scheduler)"
      ]
    },
    {
      "cell_type": "code",
      "execution_count": 14,
      "metadata": {
        "colab": {
          "base_uri": "https://localhost:8080/"
        },
        "id": "_LGf1X8Gmg3H",
        "outputId": "35ce2dc6-689f-4af4-b669-21df39ca70b2"
      },
      "outputs": [
        {
          "name": "stdout",
          "output_type": "stream",
          "text": [
            "5/5 [==============================] - 5s 414ms/step - loss: 0.2541 - accuracy: 0.9154 - precision: 0.8764 - recall: 1.0000 - auc: 0.9459 - f1_score: 0.9461\n"
          ]
        }
      ],
      "source": [
        "scores = model.evaluate(test_dataset)"
      ]
    },
    {
      "cell_type": "code",
      "execution_count": 15,
      "metadata": {
        "colab": {
          "base_uri": "https://localhost:8080/"
        },
        "id": "vrNJ-Y4ixO-8",
        "outputId": "7b60b014-5cb2-4765-a2cc-d7cd9ceb3d52"
      },
      "outputs": [
        {
          "name": "stdout",
          "output_type": "stream",
          "text": [
            "Accuracy =  0.9153845906257629\n",
            "Precision =  0.8764045238494873\n",
            "Recall =  1.0\n",
            "AUC =  0.9458826780319214\n",
            "F1_score =  0.9460954666137695\n"
          ]
        }
      ],
      "source": [
        "print(\"Accuracy = \", scores[1])\n",
        "print(\"Precision = \", scores[2])\n",
        "print(\"Recall = \", scores[3])\n",
        "print(\"AUC = \", scores[4])\n",
        "print(\"F1_score = \", scores[5])"
      ]
    },
    {
      "cell_type": "code",
      "execution_count": 15,
      "metadata": {
        "id": "ZTE69Ahoypuq"
      },
      "outputs": [],
      "source": []
    }
  ],
  "metadata": {
    "accelerator": "GPU",
    "colab": {
      "gpuType": "T4",
      "provenance": []
    },
    "kernelspec": {
      "display_name": "Python 3",
      "name": "python3"
    },
    "language_info": {
      "name": "python"
    }
  },
  "nbformat": 4,
  "nbformat_minor": 0
}
