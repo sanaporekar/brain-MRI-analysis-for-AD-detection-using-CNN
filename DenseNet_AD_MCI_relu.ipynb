{
  "cells": [
    {
      "cell_type": "code",
      "execution_count": 1,
      "metadata": {
        "colab": {
          "base_uri": "https://localhost:8080/"
        },
        "id": "j0FEKKmwlqUT",
        "outputId": "2d311f78-b864-48c1-d311-91c87de09f0b"
      },
      "outputs": [
        {
          "name": "stdout",
          "output_type": "stream",
          "text": [
            "Mounted at /content/drive\n"
          ]
        }
      ],
      "source": [
        "from google.colab import drive\n",
        "drive.mount('/content/drive')"
      ]
    },
    {
      "cell_type": "code",
      "execution_count": 2,
      "metadata": {
        "id": "O3WRnv-xl41a"
      },
      "outputs": [],
      "source": [
        "import numpy as np\n",
        "import pandas as pd\n",
        "import matplotlib.pyplot as plt\n",
        "import seaborn as sn\n",
        "import skimage.io\n",
        "import os\n",
        "import tqdm\n",
        "import glob\n",
        "import tensorflow\n",
        "\n",
        "from tqdm import tqdm\n",
        "from sklearn.utils import shuffle\n",
        "from sklearn import metrics\n",
        "from sklearn.metrics import confusion_matrix, classification_report\n",
        "from sklearn.model_selection import train_test_split\n",
        "from skimage.io import imread, imshow\n",
        "from skimage.transform import resize\n",
        "from skimage.color import gray2rgb\n",
        "\n",
        "import tensorflow as tf\n",
        "from tensorflow.keras.preprocessing.image import ImageDataGenerator\n",
        "from tensorflow.keras.preprocessing import image_dataset_from_directory\n",
        "from tensorflow.keras.models import Sequential\n",
        "from tensorflow.keras.layers import InputLayer, BatchNormalization, Dropout, Flatten, Dense, Activation, MaxPool2D, Conv2D\n",
        "from tensorflow.keras.callbacks import EarlyStopping, ModelCheckpoint\n",
        "from tensorflow.keras.applications import DenseNet121\n",
        "from tensorflow.keras.applications.densenet import DenseNet169 \n",
        "from tensorflow.keras.applications.densenet import DenseNet121 \n",
        "\n",
        "from keras import optimizers\n",
        "\n",
        "from keras.callbacks import Callback,ModelCheckpoint\n",
        "from keras.models import Sequential,load_model\n",
        "from keras.layers import Dense, Dropout\n",
        "\n",
        "import keras.backend as K\n",
        "\n",
        "\n",
        "from typing import Optional"
      ]
    },
    {
      "cell_type": "code",
      "execution_count": 3,
      "metadata": {
        "id": "Ml644udAmHeK"
      },
      "outputs": [],
      "source": [
        "train_datagen = ImageDataGenerator(rescale = 1./255,\n",
        "                                   validation_split = 0.2,\n",
        "\n",
        "        rotation_range=5,\n",
        "        width_shift_range=0.2,\n",
        "        height_shift_range=0.2,\n",
        "        shear_range=0.2,\n",
        "        #zoom_range=0.2,\n",
        "        horizontal_flip=True,\n",
        "        vertical_flip=True,\n",
        "        fill_mode='nearest')\n",
        "\n",
        "valid_datagen = ImageDataGenerator(rescale = 1./255,\n",
        "                                  validation_split = 0.2)\n",
        "\n",
        "test_datagen  = ImageDataGenerator(rescale = 1./255\n",
        "                                  )"
      ]
    },
    {
      "cell_type": "code",
      "execution_count": 4,
      "metadata": {
        "colab": {
          "base_uri": "https://localhost:8080/"
        },
        "id": "MBwh2fNKmKd7",
        "outputId": "802b64f4-4ebb-43ee-a26a-910e53a5d802"
      },
      "outputs": [
        {
          "name": "stdout",
          "output_type": "stream",
          "text": [
            "Found 352 images belonging to 2 classes.\n"
          ]
        }
      ],
      "source": [
        "train_dataset  = train_datagen.flow_from_directory(directory = '/content/drive/MyDrive/Colab Notebooks/MCI_AD/train',\n",
        "                                                   target_size = (224,224),\n",
        "                                                   class_mode = 'binary',\n",
        "                                                   subset = 'training',\n",
        "                                                   batch_size = 32)"
      ]
    },
    {
      "cell_type": "code",
      "execution_count": 5,
      "metadata": {
        "colab": {
          "base_uri": "https://localhost:8080/"
        },
        "id": "w31uy4LomNxI",
        "outputId": "6b3cbfac-f45c-4a6a-b97d-954269315716"
      },
      "outputs": [
        {
          "name": "stdout",
          "output_type": "stream",
          "text": [
            "Found 130 images belonging to 2 classes.\n"
          ]
        }
      ],
      "source": [
        "test_dataset = test_datagen.flow_from_directory(directory = '/content/drive/MyDrive/Colab Notebooks/MCI_AD/test',\n",
        "                                                  target_size = (224,224),\n",
        "                                                  class_mode = 'binary',\n",
        "                                                  batch_size = 32)"
      ]
    },
    {
      "cell_type": "code",
      "execution_count": 6,
      "metadata": {
        "colab": {
          "base_uri": "https://localhost:8080/"
        },
        "id": "pGPP-WaJmQO0",
        "outputId": "4c21e744-2cc8-40b1-8cd3-127e2e7a47b3"
      },
      "outputs": [
        {
          "name": "stdout",
          "output_type": "stream",
          "text": [
            "Downloading data from https://storage.googleapis.com/tensorflow/keras-applications/densenet/densenet121_weights_tf_dim_ordering_tf_kernels_notop.h5\n",
            "29084464/29084464 [==============================] - 2s 0us/step\n"
          ]
        }
      ],
      "source": [
        "base_model = DenseNet121(input_shape=(224,224,3),\n",
        "                   include_top=False,\n",
        "                   weights=\"imagenet\")"
      ]
    },
    {
      "cell_type": "code",
      "execution_count": 7,
      "metadata": {
        "id": "1cPyMamcmSdl"
      },
      "outputs": [],
      "source": [
        "for layer in base_model.layers:\n",
        "    layer.trainable=False\n"
      ]
    },
    {
      "cell_type": "code",
      "execution_count": 8,
      "metadata": {
        "id": "IcG6-TPmmUtd"
      },
      "outputs": [],
      "source": [
        "model=Sequential()\n",
        "model.add(base_model)\n",
        "model.add(Dropout(0.5))\n",
        "model.add(tf.keras.layers.GlobalAveragePooling2D())\n",
        "model.add(Flatten())\n",
        "model.add(BatchNormalization())\n",
        "model.add(Dense(64,kernel_initializer='he_uniform'))\n",
        "model.add(BatchNormalization())\n",
        "model.add(Activation('relu'))\n",
        "model.add(Dropout(0.5))\n",
        "model.add(Dense(64,kernel_initializer='he_uniform'))\n",
        "model.add(BatchNormalization())\n",
        "model.add(Activation('relu'))\n",
        "model.add(Dropout(0.5))\n",
        "model.add(Dense(64,kernel_initializer='he_uniform'))\n",
        "model.add(BatchNormalization())\n",
        "model.add(Activation('relu'))\n",
        "model.add(Dropout(0.5))\n",
        "model.add(Dense(32,kernel_initializer='he_uniform'))\n",
        "model.add(BatchNormalization())\n",
        "model.add(Activation('relu'))\n",
        "model.add(Dropout(0.5))\n",
        "model.add(Dense(32,kernel_initializer='he_uniform'))\n",
        "model.add(BatchNormalization())\n",
        "model.add(Activation('relu'))\n",
        "model.add(Dense(1, activation='sigmoid'))"
      ]
    },
    {
      "cell_type": "code",
      "execution_count": 9,
      "metadata": {
        "id": "GciqkkxcmWqX"
      },
      "outputs": [],
      "source": [
        "def f1_score(y_true, y_pred): \n",
        "    true_positives = K.sum(K.round(K.clip(y_true * y_pred, 0, 1)))\n",
        "    possible_positives = K.sum(K.round(K.clip(y_true, 0, 1)))\n",
        "    predicted_positives = K.sum(K.round(K.clip(y_pred, 0, 1)))\n",
        "    precision = true_positives / (predicted_positives + K.epsilon())\n",
        "    recall = true_positives / (possible_positives + K.epsilon())\n",
        "    f1_val = 2*(precision*recall)/(precision+recall+K.epsilon())\n",
        "    return f1_val"
      ]
    },
    {
      "cell_type": "code",
      "execution_count": 10,
      "metadata": {
        "id": "ZBVYRjA3mY1b"
      },
      "outputs": [],
      "source": [
        "def exponential_decay(lr0, s):\n",
        "    def exponential_decay_fn(epoch):\n",
        "        return lr0 * 0.1 **(epoch / s)\n",
        "    return exponential_decay_fn\n",
        "\n",
        "exponential_decay_fn = exponential_decay(0.01, 5) # when i run it for 50 epochs\n",
        "\n",
        "lr_scheduler = tf.keras.callbacks.LearningRateScheduler(exponential_decay_fn)"
      ]
    },
    {
      "cell_type": "code",
      "execution_count": 11,
      "metadata": {
        "id": "c98hbgNembCm"
      },
      "outputs": [],
      "source": [
        "METRICS = [\n",
        "      tf.keras.metrics.BinaryAccuracy(name='accuracy'),\n",
        "      tf.keras.metrics.Precision(name='precision'),\n",
        "      tf.keras.metrics.Recall(name='recall'),\n",
        "      tf.keras.metrics.AUC(name='auc'),\n",
        "        f1_score,\n",
        "]\n"
      ]
    },
    {
      "cell_type": "code",
      "execution_count": 12,
      "metadata": {
        "id": "Nq9A6Y_0mdAY"
      },
      "outputs": [],
      "source": [
        "model.compile(optimizer='rmsprop', loss='binary_crossentropy',metrics=METRICS)"
      ]
    },
    {
      "cell_type": "code",
      "execution_count": 13,
      "metadata": {
        "colab": {
          "base_uri": "https://localhost:8080/"
        },
        "id": "1wTyCM3QmfBw",
        "outputId": "7140bd7f-d62f-4a11-e86e-00cae8834ba5"
      },
      "outputs": [
        {
          "name": "stdout",
          "output_type": "stream",
          "text": [
            "Epoch 1/30\n",
            "11/11 [==============================] - 152s 12s/step - loss: 0.6596 - accuracy: 0.6023 - precision: 0.6084 - recall: 0.5739 - auc: 0.6590 - f1_score: 0.5789 - lr: 0.0100\n",
            "Epoch 2/30\n",
            "11/11 [==============================] - 6s 501ms/step - loss: 0.5339 - accuracy: 0.7159 - precision: 0.6743 - recall: 0.8352 - auc: 0.7911 - f1_score: 0.7380 - lr: 0.0063\n",
            "Epoch 3/30\n",
            "11/11 [==============================] - 7s 613ms/step - loss: 0.4895 - accuracy: 0.7557 - precision: 0.7103 - recall: 0.8636 - auc: 0.8232 - f1_score: 0.7768 - lr: 0.0040\n",
            "Epoch 4/30\n",
            "11/11 [==============================] - 7s 611ms/step - loss: 0.4727 - accuracy: 0.7670 - precision: 0.7217 - recall: 0.8693 - auc: 0.8457 - f1_score: 0.7837 - lr: 0.0025\n",
            "Epoch 5/30\n",
            "11/11 [==============================] - 6s 508ms/step - loss: 0.4390 - accuracy: 0.7784 - precision: 0.7290 - recall: 0.8864 - auc: 0.8627 - f1_score: 0.7973 - lr: 0.0016\n",
            "Epoch 6/30\n",
            "11/11 [==============================] - 6s 565ms/step - loss: 0.4597 - accuracy: 0.8011 - precision: 0.7409 - recall: 0.9261 - auc: 0.8367 - f1_score: 0.8199 - lr: 0.0010\n",
            "Epoch 7/30\n",
            "11/11 [==============================] - 5s 485ms/step - loss: 0.4088 - accuracy: 0.8068 - precision: 0.7432 - recall: 0.9375 - auc: 0.8837 - f1_score: 0.8291 - lr: 6.3096e-04\n",
            "Epoch 8/30\n",
            "11/11 [==============================] - 7s 635ms/step - loss: 0.4414 - accuracy: 0.7955 - precision: 0.7385 - recall: 0.9148 - auc: 0.8637 - f1_score: 0.8145 - lr: 3.9811e-04\n",
            "Epoch 9/30\n",
            "11/11 [==============================] - 5s 484ms/step - loss: 0.4422 - accuracy: 0.8068 - precision: 0.7596 - recall: 0.8977 - auc: 0.8545 - f1_score: 0.8209 - lr: 2.5119e-04\n",
            "Epoch 10/30\n",
            "11/11 [==============================] - 6s 488ms/step - loss: 0.4282 - accuracy: 0.8125 - precision: 0.7594 - recall: 0.9148 - auc: 0.8734 - f1_score: 0.8238 - lr: 1.5849e-04\n",
            "Epoch 11/30\n",
            "11/11 [==============================] - 6s 539ms/step - loss: 0.4237 - accuracy: 0.8068 - precision: 0.7455 - recall: 0.9318 - auc: 0.8656 - f1_score: 0.8263 - lr: 1.0000e-04\n",
            "Epoch 12/30\n",
            "11/11 [==============================] - 7s 565ms/step - loss: 0.4009 - accuracy: 0.8352 - precision: 0.7731 - recall: 0.9489 - auc: 0.9159 - f1_score: 0.8511 - lr: 6.3096e-05\n",
            "Epoch 13/30\n",
            "11/11 [==============================] - 7s 637ms/step - loss: 0.4034 - accuracy: 0.8153 - precision: 0.7534 - recall: 0.9375 - auc: 0.8980 - f1_score: 0.8352 - lr: 3.9811e-05\n",
            "Epoch 14/30\n",
            "11/11 [==============================] - 6s 510ms/step - loss: 0.4356 - accuracy: 0.8125 - precision: 0.7570 - recall: 0.9205 - auc: 0.8608 - f1_score: 0.8290 - lr: 2.5119e-05\n",
            "Epoch 15/30\n",
            "11/11 [==============================] - 7s 646ms/step - loss: 0.4250 - accuracy: 0.8153 - precision: 0.7656 - recall: 0.9091 - auc: 0.8696 - f1_score: 0.8286 - lr: 1.5849e-05\n",
            "Epoch 16/30\n",
            "11/11 [==============================] - 6s 507ms/step - loss: 0.4032 - accuracy: 0.8153 - precision: 0.7707 - recall: 0.8977 - auc: 0.8931 - f1_score: 0.8238 - lr: 1.0000e-05\n",
            "Epoch 17/30\n",
            "11/11 [==============================] - 6s 581ms/step - loss: 0.4171 - accuracy: 0.8295 - precision: 0.7816 - recall: 0.9148 - auc: 0.8741 - f1_score: 0.8341 - lr: 6.3096e-06\n",
            "Epoch 18/30\n",
            "11/11 [==============================] - 6s 498ms/step - loss: 0.4017 - accuracy: 0.8352 - precision: 0.7731 - recall: 0.9489 - auc: 0.8847 - f1_score: 0.8454 - lr: 3.9811e-06\n",
            "Epoch 19/30\n",
            "11/11 [==============================] - 7s 656ms/step - loss: 0.4379 - accuracy: 0.8011 - precision: 0.7548 - recall: 0.8920 - auc: 0.8456 - f1_score: 0.8133 - lr: 2.5119e-06\n",
            "Epoch 20/30\n",
            "11/11 [==============================] - 5s 488ms/step - loss: 0.4023 - accuracy: 0.8352 - precision: 0.7783 - recall: 0.9375 - auc: 0.8890 - f1_score: 0.8462 - lr: 1.5849e-06\n",
            "Epoch 21/30\n",
            "11/11 [==============================] - 7s 638ms/step - loss: 0.4483 - accuracy: 0.7926 - precision: 0.7373 - recall: 0.9091 - auc: 0.8567 - f1_score: 0.8074 - lr: 1.0000e-06\n",
            "Epoch 22/30\n",
            "11/11 [==============================] - 5s 481ms/step - loss: 0.4270 - accuracy: 0.8040 - precision: 0.7488 - recall: 0.9148 - auc: 0.8771 - f1_score: 0.8195 - lr: 6.3096e-07\n",
            "Epoch 23/30\n",
            "11/11 [==============================] - 7s 642ms/step - loss: 0.4136 - accuracy: 0.8040 - precision: 0.7421 - recall: 0.9318 - auc: 0.8870 - f1_score: 0.8218 - lr: 3.9811e-07\n",
            "Epoch 24/30\n",
            "11/11 [==============================] - 6s 559ms/step - loss: 0.3993 - accuracy: 0.8295 - precision: 0.7636 - recall: 0.9545 - auc: 0.8899 - f1_score: 0.8487 - lr: 2.5119e-07\n",
            "Epoch 25/30\n",
            "11/11 [==============================] - 6s 528ms/step - loss: 0.4685 - accuracy: 0.8011 - precision: 0.7548 - recall: 0.8920 - auc: 0.8309 - f1_score: 0.8119 - lr: 1.5849e-07\n",
            "Epoch 26/30\n",
            "11/11 [==============================] - 5s 482ms/step - loss: 0.4363 - accuracy: 0.8068 - precision: 0.7500 - recall: 0.9205 - auc: 0.8574 - f1_score: 0.8256 - lr: 1.0000e-07\n",
            "Epoch 27/30\n",
            "11/11 [==============================] - 7s 619ms/step - loss: 0.4046 - accuracy: 0.8295 - precision: 0.7710 - recall: 0.9375 - auc: 0.8848 - f1_score: 0.8450 - lr: 6.3096e-08\n",
            "Epoch 28/30\n",
            "11/11 [==============================] - 6s 493ms/step - loss: 0.4188 - accuracy: 0.8153 - precision: 0.7707 - recall: 0.8977 - auc: 0.8782 - f1_score: 0.8289 - lr: 3.9811e-08\n",
            "Epoch 29/30\n",
            "11/11 [==============================] - 7s 640ms/step - loss: 0.4936 - accuracy: 0.7699 - precision: 0.7111 - recall: 0.9091 - auc: 0.8402 - f1_score: 0.7899 - lr: 2.5119e-08\n",
            "Epoch 30/30\n",
            "11/11 [==============================] - 5s 491ms/step - loss: 0.3921 - accuracy: 0.8324 - precision: 0.7773 - recall: 0.9318 - auc: 0.8965 - f1_score: 0.8447 - lr: 1.5849e-08\n"
          ]
        }
      ],
      "source": [
        "history=model.fit(train_dataset,\n",
        "                        epochs = 30,\n",
        "                        verbose = 1,\n",
        "                         callbacks=lr_scheduler)"
      ]
    },
    {
      "cell_type": "code",
      "execution_count": 14,
      "metadata": {
        "colab": {
          "base_uri": "https://localhost:8080/"
        },
        "id": "_LGf1X8Gmg3H",
        "outputId": "31cfd114-c34e-4775-ed12-d0930910f6a5"
      },
      "outputs": [
        {
          "name": "stdout",
          "output_type": "stream",
          "text": [
            "5/5 [==============================] - 70s 16s/step - loss: 0.3747 - accuracy: 0.8615 - precision: 0.8125 - recall: 1.0000 - auc: 0.9569 - f1_score: 0.9130\n"
          ]
        }
      ],
      "source": [
        "scores = model.evaluate(test_dataset)"
      ]
    },
    {
      "cell_type": "code",
      "execution_count": 15,
      "metadata": {
        "colab": {
          "base_uri": "https://localhost:8080/"
        },
        "id": "vrNJ-Y4ixO-8",
        "outputId": "c309f209-b35a-444d-e723-f0b29a947ff3"
      },
      "outputs": [
        {
          "name": "stdout",
          "output_type": "stream",
          "text": [
            "Accuracy =  0.8615384697914124\n",
            "Precision =  0.8125\n",
            "Recall =  1.0\n",
            "AUC =  0.956853985786438\n",
            "F1_score =  0.9130037426948547\n"
          ]
        }
      ],
      "source": [
        "print(\"Accuracy = \", scores[1])\n",
        "print(\"Precision = \", scores[2])\n",
        "print(\"Recall = \", scores[3])\n",
        "print(\"AUC = \", scores[4])\n",
        "print(\"F1_score = \", scores[5])"
      ]
    },
    {
      "cell_type": "code",
      "execution_count": 15,
      "metadata": {
        "id": "ZTE69Ahoypuq"
      },
      "outputs": [],
      "source": []
    }
  ],
  "metadata": {
    "accelerator": "GPU",
    "colab": {
      "gpuType": "T4",
      "provenance": []
    },
    "kernelspec": {
      "display_name": "Python 3",
      "name": "python3"
    },
    "language_info": {
      "name": "python"
    }
  },
  "nbformat": 4,
  "nbformat_minor": 0
}
