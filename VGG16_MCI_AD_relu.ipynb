{
  "cells": [
    {
      "cell_type": "code",
      "execution_count": 17,
      "metadata": {
        "colab": {
          "base_uri": "https://localhost:8080/"
        },
        "id": "j0FEKKmwlqUT",
        "outputId": "6cc869c5-c6bc-4b6c-8fed-90597c09684a"
      },
      "outputs": [
        {
          "name": "stdout",
          "output_type": "stream",
          "text": [
            "Drive already mounted at /content/drive; to attempt to forcibly remount, call drive.mount(\"/content/drive\", force_remount=True).\n"
          ]
        }
      ],
      "source": [
        "from google.colab import drive\n",
        "drive.mount('/content/drive')"
      ]
    },
    {
      "cell_type": "code",
      "execution_count": 18,
      "metadata": {
        "id": "O3WRnv-xl41a"
      },
      "outputs": [],
      "source": [
        "import numpy as np\n",
        "import pandas as pd\n",
        "import matplotlib.pyplot as plt\n",
        "import seaborn as sn\n",
        "import skimage.io\n",
        "import os\n",
        "import tqdm\n",
        "import glob\n",
        "import tensorflow\n",
        "\n",
        "from tqdm import tqdm\n",
        "from sklearn.utils import shuffle\n",
        "from sklearn import metrics\n",
        "from sklearn.metrics import confusion_matrix, classification_report\n",
        "from sklearn.model_selection import train_test_split\n",
        "from skimage.io import imread, imshow\n",
        "from skimage.transform import resize\n",
        "from skimage.color import gray2rgb\n",
        "\n",
        "import tensorflow as tf\n",
        "from tensorflow.keras.preprocessing.image import ImageDataGenerator\n",
        "from tensorflow.keras.preprocessing import image_dataset_from_directory\n",
        "from tensorflow.keras.models import Sequential\n",
        "from tensorflow.keras.layers import InputLayer, BatchNormalization, Dropout, Flatten, Dense, Activation, MaxPool2D, Conv2D\n",
        "from tensorflow.keras.callbacks import EarlyStopping, ModelCheckpoint\n",
        "from tensorflow.keras.applications import DenseNet121\n",
        "from tensorflow.keras.applications.vgg16 import VGG16\n",
        "from keras import optimizers\n",
        "\n",
        "from keras.callbacks import Callback,ModelCheckpoint\n",
        "from keras.models import Sequential,load_model\n",
        "from keras.layers import Dense, Dropout\n",
        "import keras.backend as K\n",
        "from typing import Optional"
      ]
    },
    {
      "cell_type": "code",
      "execution_count": 19,
      "metadata": {
        "id": "Ml644udAmHeK"
      },
      "outputs": [],
      "source": [
        "train_datagen = ImageDataGenerator(rescale = 1./255,\n",
        "                                   validation_split = 0.2,\n",
        "\n",
        "        rotation_range=5,\n",
        "        width_shift_range=0.2,\n",
        "        height_shift_range=0.2,\n",
        "        shear_range=0.2,\n",
        "        #zoom_range=0.2,\n",
        "        horizontal_flip=True,\n",
        "        vertical_flip=True,\n",
        "        fill_mode='nearest')\n",
        "\n",
        "valid_datagen = ImageDataGenerator(rescale = 1./255,\n",
        "                                  validation_split = 0.2)\n",
        "\n",
        "test_datagen  = ImageDataGenerator(rescale = 1./255\n",
        "                                  )"
      ]
    },
    {
      "cell_type": "code",
      "execution_count": 20,
      "metadata": {
        "colab": {
          "base_uri": "https://localhost:8080/"
        },
        "id": "MBwh2fNKmKd7",
        "outputId": "f4115e1b-94ea-4cea-f5ef-afb695a70dc1"
      },
      "outputs": [
        {
          "name": "stdout",
          "output_type": "stream",
          "text": [
            "Found 352 images belonging to 2 classes.\n"
          ]
        }
      ],
      "source": [
        "train_dataset  = train_datagen.flow_from_directory(directory = '/content/drive/MyDrive/Colab Notebooks/MCI_AD/train',\n",
        "                                                   target_size = (224,224),\n",
        "                                                   class_mode = 'binary',\n",
        "                                                   subset = 'training',\n",
        "                                                   batch_size = 32)"
      ]
    },
    {
      "cell_type": "code",
      "execution_count": 21,
      "metadata": {
        "colab": {
          "base_uri": "https://localhost:8080/"
        },
        "id": "w31uy4LomNxI",
        "outputId": "54fd849b-d0fd-449c-90e5-5be16e917b23"
      },
      "outputs": [
        {
          "name": "stdout",
          "output_type": "stream",
          "text": [
            "Found 130 images belonging to 2 classes.\n"
          ]
        }
      ],
      "source": [
        "test_dataset = test_datagen.flow_from_directory(directory = '/content/drive/MyDrive/Colab Notebooks/MCI_AD/test',\n",
        "                                                  target_size = (224,224),\n",
        "                                                  class_mode = 'binary',\n",
        "                                                  batch_size = 32)"
      ]
    },
    {
      "cell_type": "code",
      "execution_count": 22,
      "metadata": {
        "id": "pGPP-WaJmQO0"
      },
      "outputs": [],
      "source": [
        "base_model = VGG16(input_shape=(224, 224, 3), include_top=False, weights='imagenet')\n"
      ]
    },
    {
      "cell_type": "code",
      "execution_count": 23,
      "metadata": {
        "id": "1cPyMamcmSdl"
      },
      "outputs": [],
      "source": [
        "for layer in base_model.layers:\n",
        "    layer.trainable=False\n"
      ]
    },
    {
      "cell_type": "code",
      "execution_count": 24,
      "metadata": {
        "id": "IcG6-TPmmUtd"
      },
      "outputs": [],
      "source": [
        "model=Sequential()\n",
        "model.add(base_model)\n",
        "model.add(Dropout(0.5))\n",
        "model.add(tf.keras.layers.GlobalAveragePooling2D())\n",
        "model.add(Flatten())\n",
        "model.add(BatchNormalization())\n",
        "model.add(Dense(64,kernel_initializer='he_uniform'))\n",
        "model.add(BatchNormalization())\n",
        "model.add(Activation('relu'))\n",
        "model.add(Dropout(0.5))\n",
        "model.add(Dense(64,kernel_initializer='he_uniform'))\n",
        "model.add(BatchNormalization())\n",
        "model.add(Activation('relu'))\n",
        "model.add(Dropout(0.5))\n",
        "model.add(Dense(64,kernel_initializer='he_uniform'))\n",
        "model.add(BatchNormalization())\n",
        "model.add(Activation('relu'))\n",
        "model.add(Dropout(0.5))\n",
        "model.add(Dense(32,kernel_initializer='he_uniform'))\n",
        "model.add(BatchNormalization())\n",
        "model.add(Activation('relu'))\n",
        "model.add(Dropout(0.5))\n",
        "model.add(Dense(32,kernel_initializer='he_uniform'))\n",
        "model.add(BatchNormalization())\n",
        "model.add(Activation('relu'))\n",
        "model.add(Dense(1, activation='sigmoid'))"
      ]
    },
    {
      "cell_type": "code",
      "execution_count": 25,
      "metadata": {
        "id": "GciqkkxcmWqX"
      },
      "outputs": [],
      "source": [
        "def f1_score(y_true, y_pred):\n",
        "    true_positives = K.sum(K.round(K.clip(y_true * y_pred, 0, 1)))\n",
        "    possible_positives = K.sum(K.round(K.clip(y_true, 0, 1)))\n",
        "    predicted_positives = K.sum(K.round(K.clip(y_pred, 0, 1)))\n",
        "    precision = true_positives / (predicted_positives + K.epsilon())\n",
        "    recall = true_positives / (possible_positives + K.epsilon())\n",
        "    f1_val = 2*(precision*recall)/(precision+recall+K.epsilon())\n",
        "    return f1_val"
      ]
    },
    {
      "cell_type": "code",
      "execution_count": 26,
      "metadata": {
        "id": "ZBVYRjA3mY1b"
      },
      "outputs": [],
      "source": [
        "def exponential_decay(lr0, s):\n",
        "    def exponential_decay_fn(epoch):\n",
        "        return lr0 * 0.1 **(epoch / s)\n",
        "    return exponential_decay_fn\n",
        "\n",
        "exponential_decay_fn = exponential_decay(0.01, 5) \n",
        "\n",
        "lr_scheduler = tf.keras.callbacks.LearningRateScheduler(exponential_decay_fn)"
      ]
    },
    {
      "cell_type": "code",
      "execution_count": 27,
      "metadata": {
        "id": "c98hbgNembCm"
      },
      "outputs": [],
      "source": [
        "\n",
        "METRICS = [\n",
        "      tf.keras.metrics.BinaryAccuracy(name='accuracy'),\n",
        "      tf.keras.metrics.Precision(name='precision'),\n",
        "      tf.keras.metrics.Recall(name='recall'),\n",
        "      tf.keras.metrics.AUC(name='auc'),\n",
        "        f1_score,\n",
        "]\n"
      ]
    },
    {
      "cell_type": "code",
      "execution_count": 28,
      "metadata": {
        "id": "Nq9A6Y_0mdAY"
      },
      "outputs": [],
      "source": [
        "model.compile(optimizer='rmsprop', loss='binary_crossentropy',metrics=METRICS)"
      ]
    },
    {
      "cell_type": "code",
      "execution_count": 32,
      "metadata": {
        "colab": {
          "base_uri": "https://localhost:8080/"
        },
        "id": "1wTyCM3QmfBw",
        "outputId": "60d93ebc-ad1a-4725-8d83-861636c847f0"
      },
      "outputs": [
        {
          "name": "stdout",
          "output_type": "stream",
          "text": [
            "Epoch 1/20\n",
            "11/11 [==============================] - 7s 612ms/step - loss: 0.5941 - accuracy: 0.6591 - precision: 0.6609 - recall: 0.6534 - auc: 0.7353 - f1_score: 0.6529 - lr: 0.0100\n",
            "Epoch 2/20\n",
            "11/11 [==============================] - 6s 496ms/step - loss: 0.5195 - accuracy: 0.7528 - precision: 0.7171 - recall: 0.8352 - auc: 0.8158 - f1_score: 0.7708 - lr: 0.0063\n",
            "Epoch 3/20\n",
            "11/11 [==============================] - 7s 613ms/step - loss: 0.5085 - accuracy: 0.7585 - precision: 0.7433 - recall: 0.7898 - auc: 0.8202 - f1_score: 0.7648 - lr: 0.0040\n",
            "Epoch 4/20\n",
            "11/11 [==============================] - 6s 506ms/step - loss: 0.4645 - accuracy: 0.7955 - precision: 0.7626 - recall: 0.8580 - auc: 0.8508 - f1_score: 0.8062 - lr: 0.0025\n",
            "Epoch 5/20\n",
            "11/11 [==============================] - 7s 613ms/step - loss: 0.4613 - accuracy: 0.7784 - precision: 0.7475 - recall: 0.8409 - auc: 0.8461 - f1_score: 0.7910 - lr: 0.0016\n",
            "Epoch 6/20\n",
            "11/11 [==============================] - 6s 489ms/step - loss: 0.4190 - accuracy: 0.8153 - precision: 0.7846 - recall: 0.8693 - auc: 0.8865 - f1_score: 0.8220 - lr: 0.0010\n",
            "Epoch 7/20\n",
            "11/11 [==============================] - 6s 542ms/step - loss: 0.4123 - accuracy: 0.8182 - precision: 0.7887 - recall: 0.8693 - auc: 0.8979 - f1_score: 0.8238 - lr: 6.3096e-04\n",
            "Epoch 8/20\n",
            "11/11 [==============================] - 6s 561ms/step - loss: 0.4445 - accuracy: 0.7841 - precision: 0.7500 - recall: 0.8523 - auc: 0.8736 - f1_score: 0.7985 - lr: 3.9811e-04\n",
            "Epoch 9/20\n",
            "11/11 [==============================] - 7s 620ms/step - loss: 0.4394 - accuracy: 0.8153 - precision: 0.7761 - recall: 0.8864 - auc: 0.8648 - f1_score: 0.8233 - lr: 2.5119e-04\n",
            "Epoch 10/20\n",
            "11/11 [==============================] - 6s 489ms/step - loss: 0.4439 - accuracy: 0.7812 - precision: 0.7463 - recall: 0.8523 - auc: 0.8680 - f1_score: 0.7887 - lr: 1.5849e-04\n",
            "Epoch 11/20\n",
            "11/11 [==============================] - 8s 705ms/step - loss: 0.4104 - accuracy: 0.8352 - precision: 0.8010 - recall: 0.8920 - auc: 0.8895 - f1_score: 0.8430 - lr: 1.0000e-04\n",
            "Epoch 12/20\n",
            "11/11 [==============================] - 6s 582ms/step - loss: 0.4308 - accuracy: 0.7955 - precision: 0.7574 - recall: 0.8693 - auc: 0.8763 - f1_score: 0.8044 - lr: 6.3096e-05\n",
            "Epoch 13/20\n",
            "11/11 [==============================] - 5s 476ms/step - loss: 0.4407 - accuracy: 0.8153 - precision: 0.7906 - recall: 0.8580 - auc: 0.8719 - f1_score: 0.8241 - lr: 3.9811e-05\n",
            "Epoch 14/20\n",
            "11/11 [==============================] - 7s 605ms/step - loss: 0.4510 - accuracy: 0.8040 - precision: 0.7831 - recall: 0.8409 - auc: 0.8686 - f1_score: 0.8099 - lr: 2.5119e-05\n",
            "Epoch 15/20\n",
            "11/11 [==============================] - 6s 505ms/step - loss: 0.4271 - accuracy: 0.8182 - precision: 0.7857 - recall: 0.8750 - auc: 0.8783 - f1_score: 0.8276 - lr: 1.5849e-05\n",
            "Epoch 16/20\n",
            "11/11 [==============================] - 6s 487ms/step - loss: 0.4565 - accuracy: 0.8409 - precision: 0.8000 - recall: 0.9091 - auc: 0.8627 - f1_score: 0.8471 - lr: 1.0000e-05\n",
            "Epoch 17/20\n",
            "11/11 [==============================] - 7s 606ms/step - loss: 0.3897 - accuracy: 0.8409 - precision: 0.7970 - recall: 0.9148 - auc: 0.9075 - f1_score: 0.8515 - lr: 6.3096e-06\n",
            "Epoch 18/20\n",
            "11/11 [==============================] - 6s 512ms/step - loss: 0.3946 - accuracy: 0.8352 - precision: 0.7980 - recall: 0.8977 - auc: 0.9033 - f1_score: 0.8389 - lr: 3.9811e-06\n",
            "Epoch 19/20\n",
            "11/11 [==============================] - 6s 556ms/step - loss: 0.4635 - accuracy: 0.7898 - precision: 0.7525 - recall: 0.8636 - auc: 0.8546 - f1_score: 0.8039 - lr: 2.5119e-06\n",
            "Epoch 20/20\n",
            "11/11 [==============================] - 6s 493ms/step - loss: 0.3955 - accuracy: 0.8409 - precision: 0.8061 - recall: 0.8977 - auc: 0.9127 - f1_score: 0.8493 - lr: 1.5849e-06\n"
          ]
        }
      ],
      "source": [
        "history=model.fit(train_dataset,\n",
        "                        epochs = 20,\n",
        "                        verbose = 1,\n",
        "                         callbacks=lr_scheduler)"
      ]
    },
    {
      "cell_type": "code",
      "execution_count": 33,
      "metadata": {
        "colab": {
          "base_uri": "https://localhost:8080/"
        },
        "id": "_LGf1X8Gmg3H",
        "outputId": "d91703f2-9bcb-4611-ddcf-3d781aca8081"
      },
      "outputs": [
        {
          "name": "stdout",
          "output_type": "stream",
          "text": [
            "5/5 [==============================] - 1s 111ms/step - loss: 0.3840 - accuracy: 0.8846 - precision: 0.8387 - recall: 1.0000 - auc: 0.9591 - f1_score: 0.9275\n"
          ]
        }
      ],
      "source": [
        "scores = model.evaluate(test_dataset)"
      ]
    },
    {
      "cell_type": "code",
      "execution_count": 34,
      "metadata": {
        "colab": {
          "base_uri": "https://localhost:8080/"
        },
        "id": "vrNJ-Y4ixO-8",
        "outputId": "0eb9e3cf-7878-4878-db65-c9a62c99f5fd"
      },
      "outputs": [
        {
          "name": "stdout",
          "output_type": "stream",
          "text": [
            "Accuracy =  0.8846153616905212\n",
            "Precision =  0.8387096524238586\n",
            "Recall =  1.0\n",
            "AUC =  0.959073007106781\n",
            "F1_score =  0.9275035858154297\n"
          ]
        }
      ],
      "source": [
        "print(\"Accuracy = \", scores[1])\n",
        "print(\"Precision = \", scores[2])\n",
        "print(\"Recall = \", scores[3])\n",
        "print(\"AUC = \", scores[4])\n",
        "print(\"F1_score = \", scores[5])"
      ]
    },
    {
      "cell_type": "code",
      "execution_count": 34,
      "metadata": {
        "id": "ZTE69Ahoypuq"
      },
      "outputs": [],
      "source": []
    }
  ],
  "metadata": {
    "accelerator": "GPU",
    "colab": {
      "gpuType": "T4",
      "provenance": []
    },
    "kernelspec": {
      "display_name": "Python 3",
      "name": "python3"
    },
    "language_info": {
      "name": "python"
    }
  },
  "nbformat": 4,
  "nbformat_minor": 0
}
