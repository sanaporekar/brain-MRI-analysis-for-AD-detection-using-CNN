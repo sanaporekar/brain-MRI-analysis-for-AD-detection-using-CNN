{
  "cells": [
    {
      "cell_type": "code",
      "execution_count": 14,
      "metadata": {
        "colab": {
          "base_uri": "https://localhost:8080/"
        },
        "id": "HC-IlCKS0b5O",
        "outputId": "0eb8a25a-12d3-4bf3-8425-1e76d4324b68"
      },
      "outputs": [
        {
          "name": "stdout",
          "output_type": "stream",
          "text": [
            "Found 1008 images belonging to 2 classes.\n",
            "Found 283 images belonging to 2 classes.\n"
          ]
        }
      ],
      "source": [
        "import os\n",
        "import numpy as np\n",
        "import tensorflow as tf\n",
        "from tensorflow.keras.preprocessing.image import ImageDataGenerator\n",
        "from sklearn.metrics import accuracy_score, precision_score, roc_auc_score\n",
        "\n",
        "# Define data directories\n",
        "train_dir = '/content/drive/MyDrive/Colab Notebooks/AD-MCI/AD-MCI/train'\n",
        "test_dir = '/content/drive/MyDrive/Colab Notebooks/AD-MCI/AD-MCI/test'\n",
        "\n",
        "# Parameters\n",
        "input_shape = (32, 32, 3)\n",
        "batch_size = 32\n",
        "epochs = 20\n",
        "\n",
        "# Data augmentation for training set\n",
        "train_datagen = ImageDataGenerator(\n",
        "    rescale=1./255,\n",
        "    shear_range=0.2,\n",
        "    zoom_range=0.2,\n",
        "    horizontal_flip=True)\n",
        "\n",
        "# No augmentation for test set\n",
        "test_datagen = ImageDataGenerator(rescale=1./255)\n",
        "\n",
        "# Flow images from directories\n",
        "train_generator = train_datagen.flow_from_directory(\n",
        "    train_dir,\n",
        "    target_size=(input_shape[0], input_shape[1]),\n",
        "    batch_size=batch_size,\n",
        "    class_mode='binary')\n",
        "\n",
        "test_generator = test_datagen.flow_from_directory(\n",
        "    test_dir,\n",
        "    target_size=(input_shape[0], input_shape[1]),\n",
        "    batch_size=batch_size,\n",
        "    class_mode='binary')\n",
        "\n",
        "# Define LeNet model\n",
        "model = tf.keras.Sequential([\n",
        "    tf.keras.layers.Conv2D(6, kernel_size=(5, 5), strides=(1, 1), activation='relu', input_shape=input_shape),\n",
        "    tf.keras.layers.AveragePooling2D(pool_size=(2, 2), strides=(2, 2)),\n",
        "    tf.keras.layers.Conv2D(16, kernel_size=(5, 5), strides=(1, 1), activation='relu'),\n",
        "    tf.keras.layers.AveragePooling2D(pool_size=(2, 2), strides=(2, 2)),\n",
        "    tf.keras.layers.Flatten(),\n",
        "    tf.keras.layers.Dense(120, activation='relu'),\n",
        "    tf.keras.layers.Dense(84, activation='relu'),\n",
        "    tf.keras.layers.Dense(1, activation='sigmoid')\n",
        "])\n",
        "\n",
        "# Compile the model\n",
        "model.compile(optimizer='adam',\n",
        "              loss='binary_crossentropy',\n",
        "              metrics=['accuracy'])\n",
        "\n",
        "\n"
      ]
    },
    {
      "cell_type": "code",
      "execution_count": 15,
      "metadata": {
        "colab": {
          "base_uri": "https://localhost:8080/"
        },
        "id": "lFeVZyOU1wpl",
        "outputId": "44c502b5-fd5a-4896-9bc0-8ec05ae83466"
      },
      "outputs": [
        {
          "name": "stdout",
          "output_type": "stream",
          "text": [
            "Epoch 1/20\n",
            "32/32 [==============================] - 6s 124ms/step - loss: 0.6700 - accuracy: 0.6062\n",
            "Epoch 2/20\n",
            "32/32 [==============================] - 4s 132ms/step - loss: 0.6356 - accuracy: 0.6250\n",
            "Epoch 3/20\n",
            "32/32 [==============================] - 4s 125ms/step - loss: 0.6118 - accuracy: 0.6607\n",
            "Epoch 4/20\n",
            "32/32 [==============================] - 4s 139ms/step - loss: 0.5922 - accuracy: 0.6974\n",
            "Epoch 5/20\n",
            "32/32 [==============================] - 4s 131ms/step - loss: 0.5785 - accuracy: 0.6895\n",
            "Epoch 6/20\n",
            "32/32 [==============================] - 4s 129ms/step - loss: 0.5603 - accuracy: 0.7153\n",
            "Epoch 7/20\n",
            "32/32 [==============================] - 5s 146ms/step - loss: 0.5359 - accuracy: 0.7331\n",
            "Epoch 8/20\n",
            "32/32 [==============================] - 4s 129ms/step - loss: 0.5107 - accuracy: 0.7371\n",
            "Epoch 9/20\n",
            "32/32 [==============================] - 4s 131ms/step - loss: 0.5051 - accuracy: 0.7540\n",
            "Epoch 10/20\n",
            "32/32 [==============================] - 5s 145ms/step - loss: 0.5094 - accuracy: 0.7381\n",
            "Epoch 11/20\n",
            "32/32 [==============================] - 4s 129ms/step - loss: 0.4932 - accuracy: 0.7550\n",
            "Epoch 12/20\n",
            "32/32 [==============================] - 4s 126ms/step - loss: 0.4999 - accuracy: 0.7490\n",
            "Epoch 13/20\n",
            "32/32 [==============================] - 5s 144ms/step - loss: 0.4857 - accuracy: 0.7540\n",
            "Epoch 14/20\n",
            "32/32 [==============================] - 4s 126ms/step - loss: 0.4635 - accuracy: 0.7659\n",
            "Epoch 15/20\n",
            "32/32 [==============================] - 4s 125ms/step - loss: 0.4822 - accuracy: 0.7460\n",
            "Epoch 16/20\n",
            "32/32 [==============================] - 5s 144ms/step - loss: 0.4810 - accuracy: 0.7629\n",
            "Epoch 17/20\n",
            "32/32 [==============================] - 4s 126ms/step - loss: 0.4643 - accuracy: 0.7768\n",
            "Epoch 18/20\n",
            "32/32 [==============================] - 4s 128ms/step - loss: 0.4600 - accuracy: 0.7748\n",
            "Epoch 19/20\n",
            "32/32 [==============================] - 5s 153ms/step - loss: 0.4638 - accuracy: 0.7837\n",
            "Epoch 20/20\n",
            "32/32 [==============================] - 4s 125ms/step - loss: 0.4582 - accuracy: 0.7649\n"
          ]
        },
        {
          "data": {
            "text/plain": [
              "<keras.src.callbacks.History at 0x7e843a0bac20>"
            ]
          },
          "execution_count": 15,
          "metadata": {},
          "output_type": "execute_result"
        }
      ],
      "source": [
        "\n",
        "# Train the model\n",
        "model.fit(train_generator, epochs=epochs)\n",
        "\n"
      ]
    },
    {
      "cell_type": "code",
      "execution_count": 16,
      "metadata": {
        "colab": {
          "base_uri": "https://localhost:8080/"
        },
        "id": "sz-Y6NdW1wVc",
        "outputId": "408c1fa8-f736-4ba7-df99-41da4dffda99"
      },
      "outputs": [
        {
          "name": "stdout",
          "output_type": "stream",
          "text": [
            "9/9 [==============================] - 1s 106ms/step - loss: 0.4624 - accuracy: 0.8057\n",
            "Test Loss: 0.4624345302581787\n",
            "Test Accuracy: 0.8056536912918091\n",
            "9/9 [==============================] - 1s 113ms/step\n",
            "Precision: 0.46774193548387094\n",
            "AUC: 0.5595020325203253\n"
          ]
        }
      ],
      "source": [
        "# Evaluate the model\n",
        "loss, accuracy = model.evaluate(test_generator)\n",
        "print(\"Test Loss:\", loss)\n",
        "print(\"Test Accuracy:\", accuracy)\n",
        "\n",
        "# Predict probabilities for test set\n",
        "y_pred_prob = model.predict(test_generator).flatten()\n",
        "y_true = test_generator.classes\n",
        "\n",
        "# Predicted classes\n",
        "y_pred = np.where(y_pred_prob > 0.5, 1, 0)\n",
        "\n",
        "# Calculate precision and AUC\n",
        "precision = precision_score(y_true, y_pred)\n",
        "auc = roc_auc_score(y_true, y_pred_prob)\n",
        "\n",
        "print(\"Precision:\", precision)\n",
        "print(\"AUC:\", auc)"
      ]
    },
    {
      "cell_type": "code",
      "execution_count": 4,
      "metadata": {
        "colab": {
          "base_uri": "https://localhost:8080/"
        },
        "id": "RHpzhAkSRQgQ",
        "outputId": "14009e50-3df5-4e40-c559-17c26136b147"
      },
      "outputs": [
        {
          "name": "stdout",
          "output_type": "stream",
          "text": [
            "Drive already mounted at /content/drive; to attempt to forcibly remount, call drive.mount(\"/content/drive\", force_remount=True).\n"
          ]
        }
      ],
      "source": [
        "from google.colab import drive\n",
        "drive.mount('/content/drive')"
      ]
    },
    {
      "cell_type": "code",
      "execution_count": null,
      "metadata": {
        "id": "5Nyltpjc2Opq"
      },
      "outputs": [],
      "source": []
    }
  ],
  "metadata": {
    "accelerator": "GPU",
    "colab": {
      "gpuType": "T4",
      "provenance": []
    },
    "kernelspec": {
      "display_name": "Python 3",
      "name": "python3"
    },
    "language_info": {
      "name": "python"
    }
  },
  "nbformat": 4,
  "nbformat_minor": 0
}
