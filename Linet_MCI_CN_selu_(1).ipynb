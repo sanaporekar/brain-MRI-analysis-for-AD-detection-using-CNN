{
  "nbformat": 4,
  "nbformat_minor": 0,
  "metadata": {
    "colab": {
      "provenance": [],
      "gpuType": "V28"
    },
    "kernelspec": {
      "name": "python3",
      "display_name": "Python 3"
    },
    "language_info": {
      "name": "python"
    },
    "accelerator": "TPU"
  },
  "cells": [
    {
      "cell_type": "code",
      "source": [
        "import os\n",
        "import numpy as np\n",
        "import tensorflow as tf\n",
        "from tensorflow.keras.preprocessing.image import ImageDataGenerator\n",
        "from sklearn.metrics import accuracy_score, precision_score, roc_auc_score\n",
        "\n",
        "# Define data directories\n",
        "train_dir = '/content/drive/MyDrive/MCI-CN/MCI-CN/train'\n",
        "test_dir = '/content/drive/MyDrive/MCI-CN/MCI-CN//test'\n",
        "\n",
        "# Parameters\n",
        "input_shape = (32, 32, 3)\n",
        "batch_size = 32\n",
        "epochs = 20\n",
        "\n",
        "# Data augmentation for training set\n",
        "train_datagen = ImageDataGenerator(\n",
        "    rescale=1./255,\n",
        "    shear_range=0.2,\n",
        "    zoom_range=0.2,\n",
        "    horizontal_flip=True)\n",
        "\n",
        "# No augmentation for test set\n",
        "test_datagen = ImageDataGenerator(rescale=1./255)\n",
        "\n",
        "# Flow images from directories\n",
        "train_generator = train_datagen.flow_from_directory(\n",
        "    train_dir,\n",
        "    target_size=(input_shape[0], input_shape[1]),\n",
        "    batch_size=batch_size,\n",
        "    class_mode='binary')\n",
        "\n",
        "test_generator = test_datagen.flow_from_directory(\n",
        "    test_dir,\n",
        "    target_size=(input_shape[0], input_shape[1]),\n",
        "    batch_size=batch_size,\n",
        "    class_mode='binary')\n",
        "\n",
        "# Define LeNet model\n",
        "model = tf.keras.Sequential([\n",
        "    tf.keras.layers.Conv2D(6, kernel_size=(5, 5), strides=(1, 1), activation='relu', input_shape=input_shape),\n",
        "    tf.keras.layers.AveragePooling2D(pool_size=(2, 2), strides=(2, 2)),\n",
        "    tf.keras.layers.Conv2D(16, kernel_size=(5, 5), strides=(1, 1), activation='relu'),\n",
        "    tf.keras.layers.AveragePooling2D(pool_size=(2, 2), strides=(2, 2)),\n",
        "    tf.keras.layers.Flatten(),\n",
        "    tf.keras.layers.Dense(120, activation='selu'),\n",
        "    tf.keras.layers.Dense(84, activation='selu'),\n",
        "    tf.keras.layers.Dense(1, activation='sigmoid')\n",
        "])\n",
        "\n",
        "# Compile the model\n",
        "model.compile(optimizer='adam',\n",
        "              loss='binary_crossentropy',\n",
        "              metrics=['accuracy'])\n",
        "\n",
        "# Train the model\n",
        "model.fit(train_generator, epochs=epochs)\n",
        "\n",
        "# Evaluate the model\n",
        "loss, accuracy = model.evaluate(test_generator)\n",
        "print(\"Test Loss:\", loss)\n",
        "print(\"Test Accuracy:\", accuracy)\n",
        "\n",
        "# Predict probabilities for test set\n",
        "y_pred_prob = model.predict(test_generator).flatten()\n",
        "y_true = test_generator.classes\n",
        "\n",
        "# Predicted classes\n",
        "y_pred = np.where(y_pred_prob > 0.5, 1, 0)\n",
        "\n",
        "# Calculate precision and AUC\n",
        "precision = precision_score(y_true, y_pred)\n",
        "auc = roc_auc_score(y_true, y_pred_prob)\n",
        "\n",
        "print(\"Precision:\", precision)\n",
        "print(\"AUC:\", auc)\n"
      ],
      "metadata": {
        "id": "HC-IlCKS0b5O",
        "colab": {
          "base_uri": "https://localhost:8080/"
        },
        "outputId": "905c4dfe-38ea-4ec9-971a-06fad2b02bfb"
      },
      "execution_count": 4,
      "outputs": [
        {
          "output_type": "stream",
          "name": "stdout",
          "text": [
            "Found 1072 images belonging to 2 classes.\n",
            "Found 286 images belonging to 2 classes.\n",
            "Epoch 1/20\n",
            "34/34 [==============================] - 132s 4s/step - loss: 0.5496 - accuracy: 0.7248\n",
            "Epoch 2/20\n",
            "34/34 [==============================] - 3s 98ms/step - loss: 0.4740 - accuracy: 0.7743\n",
            "Epoch 3/20\n",
            "34/34 [==============================] - 3s 99ms/step - loss: 0.4150 - accuracy: 0.7994\n",
            "Epoch 4/20\n",
            "34/34 [==============================] - 3s 94ms/step - loss: 0.3674 - accuracy: 0.8451\n",
            "Epoch 5/20\n",
            "34/34 [==============================] - 3s 97ms/step - loss: 0.3553 - accuracy: 0.8582\n",
            "Epoch 6/20\n",
            "34/34 [==============================] - 3s 102ms/step - loss: 0.3369 - accuracy: 0.8526\n",
            "Epoch 7/20\n",
            "34/34 [==============================] - 3s 100ms/step - loss: 0.3075 - accuracy: 0.8759\n",
            "Epoch 8/20\n",
            "34/34 [==============================] - 3s 95ms/step - loss: 0.3090 - accuracy: 0.8666\n",
            "Epoch 9/20\n",
            "34/34 [==============================] - 3s 96ms/step - loss: 0.3288 - accuracy: 0.8601\n",
            "Epoch 10/20\n",
            "34/34 [==============================] - 4s 104ms/step - loss: 0.2970 - accuracy: 0.8713\n",
            "Epoch 11/20\n",
            "34/34 [==============================] - 3s 93ms/step - loss: 0.2949 - accuracy: 0.8750\n",
            "Epoch 12/20\n",
            "34/34 [==============================] - 3s 92ms/step - loss: 0.2760 - accuracy: 0.8815\n",
            "Epoch 13/20\n",
            "34/34 [==============================] - 3s 91ms/step - loss: 0.2681 - accuracy: 0.8946\n",
            "Epoch 14/20\n",
            "34/34 [==============================] - 3s 89ms/step - loss: 0.2376 - accuracy: 0.9086\n",
            "Epoch 15/20\n",
            "34/34 [==============================] - 3s 91ms/step - loss: 0.2856 - accuracy: 0.8871\n",
            "Epoch 16/20\n",
            "34/34 [==============================] - 3s 91ms/step - loss: 0.2562 - accuracy: 0.8946\n",
            "Epoch 17/20\n",
            "34/34 [==============================] - 3s 92ms/step - loss: 0.2399 - accuracy: 0.9076\n",
            "Epoch 18/20\n",
            "34/34 [==============================] - 3s 98ms/step - loss: 0.2515 - accuracy: 0.8927\n",
            "Epoch 19/20\n",
            "34/34 [==============================] - 3s 96ms/step - loss: 0.2398 - accuracy: 0.8965\n",
            "Epoch 20/20\n",
            "34/34 [==============================] - 3s 97ms/step - loss: 0.2374 - accuracy: 0.9076\n",
            "9/9 [==============================] - 58s 7s/step - loss: 0.2354 - accuracy: 0.9266\n",
            "Test Loss: 0.2353636771440506\n",
            "Test Accuracy: 0.9265734553337097\n",
            "9/9 [==============================] - 1s 76ms/step\n",
            "Precision: 0.37142857142857144\n",
            "AUC: 0.4632151229487755\n"
          ]
        }
      ]
    },
    {
      "cell_type": "code",
      "source": [
        "from google.colab import drive\n",
        "drive.mount('/content/drive')"
      ],
      "metadata": {
        "colab": {
          "base_uri": "https://localhost:8080/"
        },
        "id": "RHpzhAkSRQgQ",
        "outputId": "be18095d-1d90-4531-cba0-f1408c3a1a94"
      },
      "execution_count": 5,
      "outputs": [
        {
          "output_type": "stream",
          "name": "stdout",
          "text": [
            "Drive already mounted at /content/drive; to attempt to forcibly remount, call drive.mount(\"/content/drive\", force_remount=True).\n"
          ]
        }
      ]
    },
    {
      "cell_type": "code",
      "source": [],
      "metadata": {
        "id": "5Nyltpjc2Opq"
      },
      "execution_count": null,
      "outputs": []
    }
  ]
}