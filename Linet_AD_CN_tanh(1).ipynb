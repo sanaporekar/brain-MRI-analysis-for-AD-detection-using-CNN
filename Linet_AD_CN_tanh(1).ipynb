{
  "nbformat": 4,
  "nbformat_minor": 0,
  "metadata": {
    "colab": {
      "provenance": [],
      "gpuType": "T4"
    },
    "kernelspec": {
      "name": "python3",
      "display_name": "Python 3"
    },
    "language_info": {
      "name": "python"
    },
    "accelerator": "GPU"
  },
  "cells": [
    {
      "cell_type": "code",
      "source": [
        "import os\n",
        "import numpy as np\n",
        "import tensorflow as tf\n",
        "from tensorflow.keras.preprocessing.image import ImageDataGenerator\n",
        "from sklearn.metrics import accuracy_score, precision_score, roc_auc_score\n",
        "\n",
        "# Define data directories\n",
        "train_dir = '/content/drive/MyDrive/AD-CN/AD-CN/train'\n",
        "test_dir = '/content/drive/MyDrive/AD-CN/AD-CN//test'\n",
        "\n",
        "# Parameters\n",
        "input_shape = (32, 32, 3)\n",
        "batch_size = 32\n",
        "epochs = 20\n",
        "\n",
        "# Data augmentation for training set\n",
        "train_datagen = ImageDataGenerator(\n",
        "    rescale=1./255,\n",
        "    shear_range=0.2,\n",
        "    zoom_range=0.2,\n",
        "    horizontal_flip=True)\n",
        "\n",
        "# No augmentation for test set\n",
        "test_datagen = ImageDataGenerator(rescale=1./255)\n",
        "\n",
        "# Flow images from directories\n",
        "train_generator = train_datagen.flow_from_directory(\n",
        "    train_dir,\n",
        "    target_size=(input_shape[0], input_shape[1]),\n",
        "    batch_size=batch_size,\n",
        "    class_mode='binary')\n",
        "\n",
        "test_generator = test_datagen.flow_from_directory(\n",
        "    test_dir,\n",
        "    target_size=(input_shape[0], input_shape[1]),\n",
        "    batch_size=batch_size,\n",
        "    class_mode='binary')\n",
        "\n",
        "# Define LeNet model\n",
        "model = tf.keras.Sequential([\n",
        "    tf.keras.layers.Conv2D(6, kernel_size=(5, 5), strides=(1, 1), activation='relu', input_shape=input_shape),\n",
        "    tf.keras.layers.AveragePooling2D(pool_size=(2, 2), strides=(2, 2)),\n",
        "    tf.keras.layers.Conv2D(16, kernel_size=(5, 5), strides=(1, 1), activation='relu'),\n",
        "    tf.keras.layers.AveragePooling2D(pool_size=(2, 2), strides=(2, 2)),\n",
        "    tf.keras.layers.Flatten(),\n",
        "    tf.keras.layers.Dense(120, activation='tanh'),\n",
        "    tf.keras.layers.Dense(84, activation='tanh'),\n",
        "    tf.keras.layers.Dense(1, activation='sigmoid')\n",
        "])\n",
        "\n",
        "# Compile the model\n",
        "model.compile(optimizer='adam',\n",
        "              loss='binary_crossentropy',\n",
        "              metrics=['accuracy'])\n",
        "\n",
        "# Train the model\n",
        "model.fit(train_generator, epochs=epochs)\n",
        "\n",
        "# Evaluate the model\n",
        "loss, accuracy = model.evaluate(test_generator)\n",
        "print(\"Test Loss:\", loss)\n",
        "print(\"Test Accuracy:\", accuracy)\n",
        "\n",
        "# Predict probabilities for test set\n",
        "y_pred_prob = model.predict(test_generator).flatten()\n",
        "y_true = test_generator.classes\n",
        "\n",
        "# Predicted classes\n",
        "y_pred = np.where(y_pred_prob > 0.5, 1, 0)\n",
        "\n",
        "# Calculate precision and AUC\n",
        "precision = precision_score(y_true, y_pred)\n",
        "auc = roc_auc_score(y_true, y_pred_prob)\n",
        "\n",
        "print(\"Precision:\", precision)\n",
        "print(\"AUC:\", auc)\n"
      ],
      "metadata": {
        "id": "HC-IlCKS0b5O",
        "colab": {
          "base_uri": "https://localhost:8080/"
        },
        "outputId": "65d35f2d-c151-4eb7-9344-da385730602e"
      },
      "execution_count": 3,
      "outputs": [
        {
          "output_type": "stream",
          "name": "stdout",
          "text": [
            "Found 1083 images belonging to 2 classes.\n",
            "Found 323 images belonging to 2 classes.\n",
            "Epoch 1/20\n",
            "34/34 [==============================] - 309s 9s/step - loss: 0.6297 - accuracy: 0.6380\n",
            "Epoch 2/20\n",
            "34/34 [==============================] - 5s 138ms/step - loss: 0.4604 - accuracy: 0.7692\n",
            "Epoch 3/20\n",
            "34/34 [==============================] - 4s 121ms/step - loss: 0.4161 - accuracy: 0.8116\n",
            "Epoch 4/20\n",
            "34/34 [==============================] - 4s 122ms/step - loss: 0.3927 - accuracy: 0.8301\n",
            "Epoch 5/20\n",
            "34/34 [==============================] - 5s 139ms/step - loss: 0.3646 - accuracy: 0.8513\n",
            "Epoch 6/20\n",
            "34/34 [==============================] - 4s 122ms/step - loss: 0.3760 - accuracy: 0.8550\n",
            "Epoch 7/20\n",
            "34/34 [==============================] - 4s 121ms/step - loss: 0.3372 - accuracy: 0.8569\n",
            "Epoch 8/20\n",
            "34/34 [==============================] - 5s 142ms/step - loss: 0.3205 - accuracy: 0.8726\n",
            "Epoch 9/20\n",
            "34/34 [==============================] - 4s 123ms/step - loss: 0.3473 - accuracy: 0.8560\n",
            "Epoch 10/20\n",
            "34/34 [==============================] - 4s 123ms/step - loss: 0.3013 - accuracy: 0.8809\n",
            "Epoch 11/20\n",
            "34/34 [==============================] - 5s 142ms/step - loss: 0.3141 - accuracy: 0.8837\n",
            "Epoch 12/20\n",
            "34/34 [==============================] - 4s 122ms/step - loss: 0.2924 - accuracy: 0.8781\n",
            "Epoch 13/20\n",
            "34/34 [==============================] - 4s 123ms/step - loss: 0.2862 - accuracy: 0.8790\n",
            "Epoch 14/20\n",
            "34/34 [==============================] - 5s 141ms/step - loss: 0.2678 - accuracy: 0.8910\n",
            "Epoch 15/20\n",
            "34/34 [==============================] - 4s 124ms/step - loss: 0.2727 - accuracy: 0.8975\n",
            "Epoch 16/20\n",
            "34/34 [==============================] - 4s 122ms/step - loss: 0.2729 - accuracy: 0.8846\n",
            "Epoch 17/20\n",
            "34/34 [==============================] - 5s 138ms/step - loss: 0.2571 - accuracy: 0.8873\n",
            "Epoch 18/20\n",
            "34/34 [==============================] - 4s 123ms/step - loss: 0.2511 - accuracy: 0.8957\n",
            "Epoch 19/20\n",
            "34/34 [==============================] - 4s 124ms/step - loss: 0.2508 - accuracy: 0.8929\n",
            "Epoch 20/20\n",
            "34/34 [==============================] - 5s 140ms/step - loss: 0.2486 - accuracy: 0.8975\n",
            "11/11 [==============================] - 192s 19s/step - loss: 0.2872 - accuracy: 0.8885\n",
            "Test Loss: 0.28723475337028503\n",
            "Test Accuracy: 0.8885449171066284\n",
            "11/11 [==============================] - 1s 96ms/step\n",
            "Precision: 0.5217391304347826\n",
            "AUC: 0.4996165644171779\n"
          ]
        }
      ]
    },
    {
      "cell_type": "code",
      "source": [
        "from google.colab import drive\n",
        "drive.mount('/content/drive')"
      ],
      "metadata": {
        "colab": {
          "base_uri": "https://localhost:8080/"
        },
        "id": "RHpzhAkSRQgQ",
        "outputId": "acb03963-f99e-4670-d652-99f8a9fb40c4"
      },
      "execution_count": 2,
      "outputs": [
        {
          "output_type": "stream",
          "name": "stdout",
          "text": [
            "Mounted at /content/drive\n"
          ]
        }
      ]
    },
    {
      "cell_type": "code",
      "source": [],
      "metadata": {
        "id": "5Nyltpjc2Opq"
      },
      "execution_count": null,
      "outputs": []
    }
  ]
}