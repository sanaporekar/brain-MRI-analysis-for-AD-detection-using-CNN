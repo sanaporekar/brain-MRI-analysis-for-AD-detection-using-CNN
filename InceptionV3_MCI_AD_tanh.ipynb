{
  "cells": [
    {
      "cell_type": "code",
      "execution_count": 1,
      "metadata": {
        "colab": {
          "base_uri": "https://localhost:8080/"
        },
        "id": "j0FEKKmwlqUT",
        "outputId": "ac8b8052-8759-45ae-8e3a-0e3a6573c4c2"
      },
      "outputs": [
        {
          "name": "stdout",
          "output_type": "stream",
          "text": [
            "Mounted at /content/drive\n"
          ]
        }
      ],
      "source": [
        "from google.colab import drive\n",
        "drive.mount('/content/drive')"
      ]
    },
    {
      "cell_type": "code",
      "execution_count": 2,
      "metadata": {
        "id": "O3WRnv-xl41a"
      },
      "outputs": [],
      "source": [
        "import numpy as np\n",
        "import pandas as pd\n",
        "import matplotlib.pyplot as plt\n",
        "import seaborn as sn\n",
        "import skimage.io\n",
        "import os\n",
        "import tqdm\n",
        "import glob\n",
        "import tensorflow\n",
        "\n",
        "from tqdm import tqdm\n",
        "from sklearn.utils import shuffle\n",
        "from sklearn import metrics\n",
        "from sklearn.metrics import confusion_matrix, classification_report\n",
        "from sklearn.model_selection import train_test_split\n",
        "from skimage.io import imread, imshow\n",
        "from skimage.transform import resize\n",
        "from skimage.color import gray2rgb\n",
        "\n",
        "import tensorflow as tf\n",
        "from tensorflow.keras.preprocessing.image import ImageDataGenerator\n",
        "from tensorflow.keras.preprocessing import image_dataset_from_directory\n",
        "from tensorflow.keras.models import Sequential\n",
        "from tensorflow.keras.layers import InputLayer, BatchNormalization, Dropout, Flatten, Dense, Activation, MaxPool2D, Conv2D\n",
        "from tensorflow.keras.callbacks import EarlyStopping, ModelCheckpoint\n",
        "from tensorflow.keras.applications.inception_v3 import InceptionV3\n",
        "from keras import optimizers\n",
        "\n",
        "from keras.callbacks import Callback,ModelCheckpoint\n",
        "from keras.models import Sequential,load_model\n",
        "from keras.layers import Dense, Dropout\n",
        "import keras.backend as K\n",
        "from typing import Optional"
      ]
    },
    {
      "cell_type": "code",
      "execution_count": 3,
      "metadata": {
        "id": "Ml644udAmHeK"
      },
      "outputs": [],
      "source": [
        "train_datagen = ImageDataGenerator(rescale = 1./255,\n",
        "                                   validation_split = 0.2,\n",
        "\n",
        "        rotation_range=5,\n",
        "        width_shift_range=0.2,\n",
        "        height_shift_range=0.2,\n",
        "        shear_range=0.2,\n",
        "        horizontal_flip=True,\n",
        "        vertical_flip=True,\n",
        "        fill_mode='nearest')\n",
        "\n",
        "valid_datagen = ImageDataGenerator(rescale = 1./255,\n",
        "                                  validation_split = 0.2)\n",
        "\n",
        "test_datagen  = ImageDataGenerator(rescale = 1./255\n",
        "                                  )"
      ]
    },
    {
      "cell_type": "code",
      "execution_count": 4,
      "metadata": {
        "colab": {
          "base_uri": "https://localhost:8080/"
        },
        "id": "MBwh2fNKmKd7",
        "outputId": "407fb253-1907-43bf-d5e2-8b1120d2c149"
      },
      "outputs": [
        {
          "name": "stdout",
          "output_type": "stream",
          "text": [
            "Found 352 images belonging to 2 classes.\n"
          ]
        }
      ],
      "source": [
        "train_dataset  = train_datagen.flow_from_directory(directory = '/content/drive/MyDrive/Colab Notebooks/MCI_AD/train',\n",
        "                                                   target_size = (224,224),\n",
        "                                                   class_mode = 'binary',\n",
        "                                                   subset = 'training',\n",
        "                                                   batch_size = 32)"
      ]
    },
    {
      "cell_type": "code",
      "execution_count": 5,
      "metadata": {
        "colab": {
          "base_uri": "https://localhost:8080/"
        },
        "id": "w31uy4LomNxI",
        "outputId": "7e2666ea-8b0b-4a8b-cca6-c57fe5f4c5ea"
      },
      "outputs": [
        {
          "name": "stdout",
          "output_type": "stream",
          "text": [
            "Found 130 images belonging to 2 classes.\n"
          ]
        }
      ],
      "source": [
        "test_dataset = test_datagen.flow_from_directory(directory = '/content/drive/MyDrive/Colab Notebooks/MCI_AD/test',\n",
        "                                                  target_size = (224,224),\n",
        "                                                  class_mode = 'binary',\n",
        "                                                  batch_size = 32)"
      ]
    },
    {
      "cell_type": "code",
      "execution_count": 6,
      "metadata": {
        "colab": {
          "base_uri": "https://localhost:8080/"
        },
        "id": "pGPP-WaJmQO0",
        "outputId": "c44b3b33-7a75-41fe-a45b-82c5a941bbf0"
      },
      "outputs": [
        {
          "name": "stdout",
          "output_type": "stream",
          "text": [
            "Downloading data from https://storage.googleapis.com/tensorflow/keras-applications/inception_v3/inception_v3_weights_tf_dim_ordering_tf_kernels_notop.h5\n",
            "87910968/87910968 [==============================] - 0s 0us/step\n"
          ]
        }
      ],
      "source": [
        "base_model = InceptionV3(input_shape=(224, 224, 3), include_top=False, weights='imagenet')\n"
      ]
    },
    {
      "cell_type": "code",
      "execution_count": 7,
      "metadata": {
        "id": "1cPyMamcmSdl"
      },
      "outputs": [],
      "source": [
        "for layer in base_model.layers:\n",
        "    layer.trainable=False\n"
      ]
    },
    {
      "cell_type": "code",
      "execution_count": 8,
      "metadata": {
        "id": "IcG6-TPmmUtd"
      },
      "outputs": [],
      "source": [
        "model=Sequential()\n",
        "model.add(base_model)\n",
        "model.add(Dropout(0.5))\n",
        "model.add(tf.keras.layers.GlobalAveragePooling2D())\n",
        "model.add(Flatten())\n",
        "model.add(BatchNormalization())\n",
        "model.add(Dense(64,kernel_initializer='he_uniform'))\n",
        "model.add(BatchNormalization())\n",
        "model.add(Activation('tanh'))\n",
        "model.add(Dropout(0.5))\n",
        "model.add(Dense(64,kernel_initializer='he_uniform'))\n",
        "model.add(BatchNormalization())\n",
        "model.add(Activation('tanh'))\n",
        "model.add(Dropout(0.5))\n",
        "model.add(Dense(64,kernel_initializer='he_uniform'))\n",
        "model.add(BatchNormalization())\n",
        "model.add(Activation('tanh'))\n",
        "model.add(Dropout(0.5))\n",
        "model.add(Dense(32,kernel_initializer='he_uniform'))\n",
        "model.add(BatchNormalization())\n",
        "model.add(Activation('tanh'))\n",
        "model.add(Dropout(0.5))\n",
        "model.add(Dense(32,kernel_initializer='he_uniform'))\n",
        "model.add(BatchNormalization())\n",
        "model.add(Activation('tanh'))\n",
        "model.add(Dense(1, activation='sigmoid'))"
      ]
    },
    {
      "cell_type": "code",
      "execution_count": 9,
      "metadata": {
        "id": "GciqkkxcmWqX"
      },
      "outputs": [],
      "source": [
        "def f1_score(y_true, y_pred):\n",
        "    true_positives = K.sum(K.round(K.clip(y_true * y_pred, 0, 1)))\n",
        "    possible_positives = K.sum(K.round(K.clip(y_true, 0, 1)))\n",
        "    predicted_positives = K.sum(K.round(K.clip(y_pred, 0, 1)))\n",
        "    precision = true_positives / (predicted_positives + K.epsilon())\n",
        "    recall = true_positives / (possible_positives + K.epsilon())\n",
        "    f1_val = 2*(precision*recall)/(precision+recall+K.epsilon())\n",
        "    return f1_val"
      ]
    },
    {
      "cell_type": "code",
      "execution_count": 10,
      "metadata": {
        "id": "ZBVYRjA3mY1b"
      },
      "outputs": [],
      "source": [
        "def exponential_decay(lr0, s):\n",
        "    def exponential_decay_fn(epoch):\n",
        "        return lr0 * 0.1 **(epoch / s)\n",
        "    return exponential_decay_fn\n",
        "\n",
        "exponential_decay_fn = exponential_decay(0.01, 5) \n",
        "\n",
        "lr_scheduler = tf.keras.callbacks.LearningRateScheduler(exponential_decay_fn)"
      ]
    },
    {
      "cell_type": "code",
      "execution_count": 11,
      "metadata": {
        "id": "c98hbgNembCm"
      },
      "outputs": [],
      "source": [
        "\n",
        "METRICS = [\n",
        "      tf.keras.metrics.BinaryAccuracy(name='accuracy'),\n",
        "      tf.keras.metrics.Precision(name='precision'),\n",
        "      tf.keras.metrics.Recall(name='recall'),\n",
        "      tf.keras.metrics.AUC(name='auc'),\n",
        "        f1_score,\n",
        "]\n"
      ]
    },
    {
      "cell_type": "code",
      "execution_count": 12,
      "metadata": {
        "id": "Nq9A6Y_0mdAY"
      },
      "outputs": [],
      "source": [
        "model.compile(optimizer='rmsprop', loss='binary_crossentropy',metrics=METRICS)"
      ]
    },
    {
      "cell_type": "code",
      "execution_count": 13,
      "metadata": {
        "colab": {
          "base_uri": "https://localhost:8080/"
        },
        "id": "1wTyCM3QmfBw",
        "outputId": "0f5cc44d-caad-4f1b-cce6-bc4f18d91b6c"
      },
      "outputs": [
        {
          "name": "stdout",
          "output_type": "stream",
          "text": [
            "Epoch 1/20\n",
            "11/11 [==============================] - 93s 7s/step - loss: 0.5948 - accuracy: 0.6847 - precision: 0.6738 - recall: 0.7159 - auc: 0.7472 - f1_score: 0.6903 - lr: 0.0100\n",
            "Epoch 2/20\n",
            "11/11 [==============================] - 7s 636ms/step - loss: 0.4827 - accuracy: 0.7983 - precision: 0.7665 - recall: 0.8580 - auc: 0.8480 - f1_score: 0.8108 - lr: 0.0063\n",
            "Epoch 3/20\n",
            "11/11 [==============================] - 5s 479ms/step - loss: 0.4411 - accuracy: 0.8210 - precision: 0.8054 - recall: 0.8466 - auc: 0.8670 - f1_score: 0.8213 - lr: 0.0040\n",
            "Epoch 4/20\n",
            "11/11 [==============================] - 7s 563ms/step - loss: 0.3583 - accuracy: 0.8665 - precision: 0.8413 - recall: 0.9034 - auc: 0.9164 - f1_score: 0.8697 - lr: 0.0025\n",
            "Epoch 5/20\n",
            "11/11 [==============================] - 5s 481ms/step - loss: 0.4420 - accuracy: 0.8267 - precision: 0.8075 - recall: 0.8580 - auc: 0.8665 - f1_score: 0.8318 - lr: 0.0016\n",
            "Epoch 6/20\n",
            "11/11 [==============================] - 5s 488ms/step - loss: 0.3735 - accuracy: 0.8523 - precision: 0.8196 - recall: 0.9034 - auc: 0.9056 - f1_score: 0.8581 - lr: 0.0010\n",
            "Epoch 7/20\n",
            "11/11 [==============================] - 7s 635ms/step - loss: 0.3832 - accuracy: 0.8494 - precision: 0.8220 - recall: 0.8920 - auc: 0.8997 - f1_score: 0.8538 - lr: 6.3096e-04\n",
            "Epoch 8/20\n",
            "11/11 [==============================] - 5s 477ms/step - loss: 0.3710 - accuracy: 0.8551 - precision: 0.8342 - recall: 0.8864 - auc: 0.9100 - f1_score: 0.8568 - lr: 3.9811e-04\n",
            "Epoch 9/20\n",
            "11/11 [==============================] - 7s 630ms/step - loss: 0.3783 - accuracy: 0.8665 - precision: 0.8449 - recall: 0.8977 - auc: 0.8982 - f1_score: 0.8675 - lr: 2.5119e-04\n",
            "Epoch 10/20\n",
            "11/11 [==============================] - 6s 533ms/step - loss: 0.3809 - accuracy: 0.8523 - precision: 0.8370 - recall: 0.8750 - auc: 0.8988 - f1_score: 0.8556 - lr: 1.5849e-04\n",
            "Epoch 11/20\n",
            "11/11 [==============================] - 5s 483ms/step - loss: 0.3475 - accuracy: 0.8693 - precision: 0.8457 - recall: 0.9034 - auc: 0.9193 - f1_score: 0.8738 - lr: 1.0000e-04\n",
            "Epoch 12/20\n",
            "11/11 [==============================] - 7s 626ms/step - loss: 0.3569 - accuracy: 0.8608 - precision: 0.8290 - recall: 0.9091 - auc: 0.9153 - f1_score: 0.8664 - lr: 6.3096e-05\n",
            "Epoch 13/20\n",
            "11/11 [==============================] - 5s 481ms/step - loss: 0.3670 - accuracy: 0.8466 - precision: 0.8144 - recall: 0.8977 - auc: 0.9115 - f1_score: 0.8516 - lr: 3.9811e-05\n",
            "Epoch 14/20\n",
            "11/11 [==============================] - 7s 606ms/step - loss: 0.3534 - accuracy: 0.8693 - precision: 0.8457 - recall: 0.9034 - auc: 0.9130 - f1_score: 0.8732 - lr: 2.5119e-05\n",
            "Epoch 15/20\n",
            "11/11 [==============================] - 5s 491ms/step - loss: 0.3371 - accuracy: 0.8750 - precision: 0.8438 - recall: 0.9205 - auc: 0.9261 - f1_score: 0.8804 - lr: 1.5849e-05\n",
            "Epoch 16/20\n",
            "11/11 [==============================] - 5s 476ms/step - loss: 0.3739 - accuracy: 0.8636 - precision: 0.8404 - recall: 0.8977 - auc: 0.9075 - f1_score: 0.8656 - lr: 1.0000e-05\n",
            "Epoch 17/20\n",
            "11/11 [==============================] - 7s 603ms/step - loss: 0.3671 - accuracy: 0.8693 - precision: 0.8495 - recall: 0.8977 - auc: 0.9057 - f1_score: 0.8736 - lr: 6.3096e-06\n",
            "Epoch 18/20\n",
            "11/11 [==============================] - 6s 491ms/step - loss: 0.4086 - accuracy: 0.8693 - precision: 0.8457 - recall: 0.9034 - auc: 0.8773 - f1_score: 0.8682 - lr: 3.9811e-06\n",
            "Epoch 19/20\n",
            "11/11 [==============================] - 7s 631ms/step - loss: 0.3727 - accuracy: 0.8523 - precision: 0.8298 - recall: 0.8864 - auc: 0.9078 - f1_score: 0.8536 - lr: 2.5119e-06\n",
            "Epoch 20/20\n",
            "11/11 [==============================] - 5s 487ms/step - loss: 0.4073 - accuracy: 0.8409 - precision: 0.8261 - recall: 0.8636 - auc: 0.8859 - f1_score: 0.8491 - lr: 1.5849e-06\n"
          ]
        }
      ],
      "source": [
        "history=model.fit(train_dataset,\n",
        "                        epochs = 20,\n",
        "                        verbose = 1,\n",
        "                         callbacks=lr_scheduler)"
      ]
    },
    {
      "cell_type": "code",
      "execution_count": 14,
      "metadata": {
        "colab": {
          "base_uri": "https://localhost:8080/"
        },
        "id": "_LGf1X8Gmg3H",
        "outputId": "3d2596a9-f648-45ae-88f4-c3582e1f5c5c"
      },
      "outputs": [
        {
          "name": "stdout",
          "output_type": "stream",
          "text": [
            "5/5 [==============================] - 49s 12s/step - loss: 0.2822 - accuracy: 0.9154 - precision: 0.8764 - recall: 1.0000 - auc: 0.9477 - f1_score: 0.9449\n"
          ]
        }
      ],
      "source": [
        "scores = model.evaluate(test_dataset)"
      ]
    },
    {
      "cell_type": "code",
      "execution_count": 15,
      "metadata": {
        "colab": {
          "base_uri": "https://localhost:8080/"
        },
        "id": "vrNJ-Y4ixO-8",
        "outputId": "40d939e0-0fd6-4127-ae05-25bff4ee6081"
      },
      "outputs": [
        {
          "name": "stdout",
          "output_type": "stream",
          "text": [
            "Accuracy =  0.9153845906257629\n",
            "Precision =  0.8764045238494873\n",
            "Recall =  1.0\n",
            "AUC =  0.9477317333221436\n",
            "F1_score =  0.9448761940002441\n"
          ]
        }
      ],
      "source": [
        "print(\"Accuracy = \", scores[1])\n",
        "print(\"Precision = \", scores[2])\n",
        "print(\"Recall = \", scores[3])\n",
        "print(\"AUC = \", scores[4])\n",
        "print(\"F1_score = \", scores[5])"
      ]
    },
    {
      "cell_type": "code",
      "execution_count": 15,
      "metadata": {
        "id": "ZTE69Ahoypuq"
      },
      "outputs": [],
      "source": []
    }
  ],
  "metadata": {
    "accelerator": "GPU",
    "colab": {
      "gpuType": "T4",
      "provenance": []
    },
    "kernelspec": {
      "display_name": "Python 3",
      "name": "python3"
    },
    "language_info": {
      "name": "python"
    }
  },
  "nbformat": 4,
  "nbformat_minor": 0
}
