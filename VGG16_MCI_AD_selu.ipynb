{
  "cells": [
    {
      "cell_type": "code",
      "execution_count": 1,
      "metadata": {
        "colab": {
          "base_uri": "https://localhost:8080/"
        },
        "id": "j0FEKKmwlqUT",
        "outputId": "31759b62-dc5c-4a75-b91f-28cb36ba3f83"
      },
      "outputs": [
        {
          "name": "stdout",
          "output_type": "stream",
          "text": [
            "Drive already mounted at /content/drive; to attempt to forcibly remount, call drive.mount(\"/content/drive\", force_remount=True).\n"
          ]
        }
      ],
      "source": [
        "from google.colab import drive\n",
        "drive.mount('/content/drive')"
      ]
    },
    {
      "cell_type": "code",
      "execution_count": 2,
      "metadata": {
        "id": "O3WRnv-xl41a"
      },
      "outputs": [],
      "source": [
        "import numpy as np\n",
        "import pandas as pd\n",
        "import matplotlib.pyplot as plt\n",
        "import seaborn as sn\n",
        "import skimage.io\n",
        "import os\n",
        "import tqdm\n",
        "import glob\n",
        "import tensorflow\n",
        "\n",
        "from tqdm import tqdm\n",
        "from sklearn.utils import shuffle\n",
        "from sklearn import metrics\n",
        "from sklearn.metrics import confusion_matrix, classification_report\n",
        "from sklearn.model_selection import train_test_split\n",
        "from skimage.io import imread, imshow\n",
        "from skimage.transform import resize\n",
        "from skimage.color import gray2rgb\n",
        "\n",
        "import tensorflow as tf\n",
        "from tensorflow.keras.preprocessing.image import ImageDataGenerator\n",
        "from tensorflow.keras.preprocessing import image_dataset_from_directory\n",
        "from tensorflow.keras.models import Sequential\n",
        "from tensorflow.keras.layers import InputLayer, BatchNormalization, Dropout, Flatten, Dense, Activation, MaxPool2D, Conv2D\n",
        "from tensorflow.keras.callbacks import EarlyStopping, ModelCheckpoint\n",
        "from tensorflow.keras.applications import DenseNet121\n",
        "from tensorflow.keras.applications.vgg16 import VGG16\n",
        "from keras import optimizers\n",
        "\n",
        "from keras.callbacks import Callback,ModelCheckpoint\n",
        "from keras.models import Sequential,load_model\n",
        "from keras.layers import Dense, Dropout\n",
        "import keras.backend as K\n",
        "from typing import Optional"
      ]
    },
    {
      "cell_type": "code",
      "execution_count": 3,
      "metadata": {
        "id": "Ml644udAmHeK"
      },
      "outputs": [],
      "source": [
        "train_datagen = ImageDataGenerator(rescale = 1./255,\n",
        "                                   validation_split = 0.2,\n",
        "\n",
        "        rotation_range=5,\n",
        "        width_shift_range=0.2,\n",
        "        height_shift_range=0.2,\n",
        "        shear_range=0.2,\n",
        "        horizontal_flip=True,\n",
        "        vertical_flip=True,\n",
        "        fill_mode='nearest')\n",
        "\n",
        "valid_datagen = ImageDataGenerator(rescale = 1./255,\n",
        "                                  validation_split = 0.2)\n",
        "\n",
        "test_datagen  = ImageDataGenerator(rescale = 1./255\n",
        "                                  )"
      ]
    },
    {
      "cell_type": "code",
      "execution_count": 4,
      "metadata": {
        "colab": {
          "base_uri": "https://localhost:8080/"
        },
        "id": "MBwh2fNKmKd7",
        "outputId": "76a48924-82a0-4704-a6c9-604fa8eff507"
      },
      "outputs": [
        {
          "name": "stdout",
          "output_type": "stream",
          "text": [
            "Found 352 images belonging to 2 classes.\n"
          ]
        }
      ],
      "source": [
        "train_dataset  = train_datagen.flow_from_directory(directory = '/content/drive/MyDrive/Colab Notebooks/MCI_AD/train',\n",
        "                                                   target_size = (224,224),\n",
        "                                                   class_mode = 'binary',\n",
        "                                                   subset = 'training',\n",
        "                                                   batch_size = 32)"
      ]
    },
    {
      "cell_type": "code",
      "execution_count": 5,
      "metadata": {
        "colab": {
          "base_uri": "https://localhost:8080/"
        },
        "id": "w31uy4LomNxI",
        "outputId": "f6fd4dd6-d3b3-4c62-b687-6d7058e22663"
      },
      "outputs": [
        {
          "name": "stdout",
          "output_type": "stream",
          "text": [
            "Found 130 images belonging to 2 classes.\n"
          ]
        }
      ],
      "source": [
        "test_dataset = test_datagen.flow_from_directory(directory = '/content/drive/MyDrive/Colab Notebooks/MCI_AD/test',\n",
        "                                                  target_size = (224,224),\n",
        "                                                  class_mode = 'binary',\n",
        "                                                  batch_size = 32)"
      ]
    },
    {
      "cell_type": "code",
      "execution_count": 6,
      "metadata": {
        "id": "pGPP-WaJmQO0"
      },
      "outputs": [],
      "source": [
        "base_model = VGG16(input_shape=(224, 224, 3), include_top=False, weights='imagenet')\n"
      ]
    },
    {
      "cell_type": "code",
      "execution_count": 7,
      "metadata": {
        "id": "1cPyMamcmSdl"
      },
      "outputs": [],
      "source": [
        "for layer in base_model.layers:\n",
        "    layer.trainable=False\n"
      ]
    },
    {
      "cell_type": "code",
      "execution_count": 8,
      "metadata": {
        "id": "IcG6-TPmmUtd"
      },
      "outputs": [],
      "source": [
        "model=Sequential()\n",
        "model.add(base_model)\n",
        "model.add(Dropout(0.5))\n",
        "model.add(tf.keras.layers.GlobalAveragePooling2D())\n",
        "model.add(Flatten())\n",
        "model.add(BatchNormalization())\n",
        "model.add(Dense(64,kernel_initializer='he_uniform'))\n",
        "model.add(BatchNormalization())\n",
        "model.add(Activation('selu'))\n",
        "model.add(Dropout(0.5))\n",
        "model.add(Dense(64,kernel_initializer='he_uniform'))\n",
        "model.add(BatchNormalization())\n",
        "model.add(Activation('selu'))\n",
        "model.add(Dropout(0.5))\n",
        "model.add(Dense(64,kernel_initializer='he_uniform'))\n",
        "model.add(BatchNormalization())\n",
        "model.add(Activation('selu'))\n",
        "model.add(Dropout(0.5))\n",
        "model.add(Dense(32,kernel_initializer='he_uniform'))\n",
        "model.add(BatchNormalization())\n",
        "model.add(Activation('selu'))\n",
        "model.add(Dropout(0.5))\n",
        "model.add(Dense(32,kernel_initializer='he_uniform'))\n",
        "model.add(BatchNormalization())\n",
        "model.add(Activation('selu'))\n",
        "model.add(Dense(1, activation='sigmoid'))"
      ]
    },
    {
      "cell_type": "code",
      "execution_count": 9,
      "metadata": {
        "id": "GciqkkxcmWqX"
      },
      "outputs": [],
      "source": [
        "def f1_score(y_true, y_pred): \n",
        "    true_positives = K.sum(K.round(K.clip(y_true * y_pred, 0, 1)))\n",
        "    possible_positives = K.sum(K.round(K.clip(y_true, 0, 1)))\n",
        "    predicted_positives = K.sum(K.round(K.clip(y_pred, 0, 1)))\n",
        "    precision = true_positives / (predicted_positives + K.epsilon())\n",
        "    recall = true_positives / (possible_positives + K.epsilon())\n",
        "    f1_val = 2*(precision*recall)/(precision+recall+K.epsilon())\n",
        "    return f1_val"
      ]
    },
    {
      "cell_type": "code",
      "execution_count": 10,
      "metadata": {
        "id": "ZBVYRjA3mY1b"
      },
      "outputs": [],
      "source": [
        "def exponential_decay(lr0, s):\n",
        "    def exponential_decay_fn(epoch):\n",
        "        return lr0 * 0.1 **(epoch / s)\n",
        "    return exponential_decay_fn\n",
        "\n",
        "exponential_decay_fn = exponential_decay(0.01, 5) \n",
        "\n",
        "lr_scheduler = tf.keras.callbacks.LearningRateScheduler(exponential_decay_fn)"
      ]
    },
    {
      "cell_type": "code",
      "execution_count": 11,
      "metadata": {
        "id": "c98hbgNembCm"
      },
      "outputs": [],
      "source": [
        "\n",
        "METRICS = [\n",
        "      tf.keras.metrics.BinaryAccuracy(name='accuracy'),\n",
        "      tf.keras.metrics.Precision(name='precision'),\n",
        "      tf.keras.metrics.Recall(name='recall'),\n",
        "      tf.keras.metrics.AUC(name='auc'),\n",
        "        f1_score,\n",
        "]\n"
      ]
    },
    {
      "cell_type": "code",
      "execution_count": 12,
      "metadata": {
        "id": "Nq9A6Y_0mdAY"
      },
      "outputs": [],
      "source": [
        "model.compile(optimizer='rmsprop', loss='binary_crossentropy',metrics=METRICS)"
      ]
    },
    {
      "cell_type": "code",
      "execution_count": 13,
      "metadata": {
        "colab": {
          "base_uri": "https://localhost:8080/"
        },
        "id": "1wTyCM3QmfBw",
        "outputId": "265b0cce-200f-4e66-cacf-f76e2c118226"
      },
      "outputs": [
        {
          "name": "stdout",
          "output_type": "stream",
          "text": [
            "Epoch 1/20\n",
            "11/11 [==============================] - 25s 414ms/step - loss: 0.6828 - accuracy: 0.6165 - precision: 0.6108 - recall: 0.6420 - auc: 0.6820 - f1_score: 0.6147 - lr: 0.0100\n",
            "Epoch 2/20\n",
            "11/11 [==============================] - 6s 575ms/step - loss: 0.5177 - accuracy: 0.7614 - precision: 0.7371 - recall: 0.8125 - auc: 0.8194 - f1_score: 0.7658 - lr: 0.0063\n",
            "Epoch 3/20\n",
            "11/11 [==============================] - 6s 489ms/step - loss: 0.4471 - accuracy: 0.7926 - precision: 0.7641 - recall: 0.8466 - auc: 0.8681 - f1_score: 0.7974 - lr: 0.0040\n",
            "Epoch 4/20\n",
            "11/11 [==============================] - 6s 501ms/step - loss: 0.4191 - accuracy: 0.8153 - precision: 0.7789 - recall: 0.8807 - auc: 0.8830 - f1_score: 0.8255 - lr: 0.0025\n",
            "Epoch 5/20\n",
            "11/11 [==============================] - 5s 480ms/step - loss: 0.4148 - accuracy: 0.8153 - precision: 0.7876 - recall: 0.8636 - auc: 0.8861 - f1_score: 0.8241 - lr: 0.0016\n",
            "Epoch 6/20\n",
            "11/11 [==============================] - 7s 611ms/step - loss: 0.3889 - accuracy: 0.8466 - precision: 0.8177 - recall: 0.8920 - auc: 0.8996 - f1_score: 0.8512 - lr: 0.0010\n",
            "Epoch 7/20\n",
            "11/11 [==============================] - 6s 499ms/step - loss: 0.3841 - accuracy: 0.8466 - precision: 0.8280 - recall: 0.8750 - auc: 0.9019 - f1_score: 0.8469 - lr: 6.3096e-04\n",
            "Epoch 8/20\n",
            "11/11 [==============================] - 7s 578ms/step - loss: 0.3426 - accuracy: 0.8693 - precision: 0.8421 - recall: 0.9091 - auc: 0.9222 - f1_score: 0.8754 - lr: 3.9811e-04\n",
            "Epoch 9/20\n",
            "11/11 [==============================] - 5s 488ms/step - loss: 0.3896 - accuracy: 0.8210 - precision: 0.8021 - recall: 0.8523 - auc: 0.9023 - f1_score: 0.8260 - lr: 2.5119e-04\n",
            "Epoch 10/20\n",
            "11/11 [==============================] - 8s 708ms/step - loss: 0.4105 - accuracy: 0.8239 - precision: 0.7938 - recall: 0.8750 - auc: 0.8904 - f1_score: 0.8327 - lr: 1.5849e-04\n",
            "Epoch 11/20\n",
            "11/11 [==============================] - 6s 495ms/step - loss: 0.3785 - accuracy: 0.8523 - precision: 0.8298 - recall: 0.8864 - auc: 0.9021 - f1_score: 0.8572 - lr: 1.0000e-04\n",
            "Epoch 12/20\n",
            "11/11 [==============================] - 7s 610ms/step - loss: 0.4088 - accuracy: 0.8210 - precision: 0.8021 - recall: 0.8523 - auc: 0.8885 - f1_score: 0.8224 - lr: 6.3096e-05\n",
            "Epoch 13/20\n",
            "11/11 [==============================] - 5s 490ms/step - loss: 0.4390 - accuracy: 0.8125 - precision: 0.8056 - recall: 0.8239 - auc: 0.8769 - f1_score: 0.8119 - lr: 3.9811e-05\n",
            "Epoch 14/20\n",
            "11/11 [==============================] - 7s 611ms/step - loss: 0.4621 - accuracy: 0.7869 - precision: 0.7701 - recall: 0.8182 - auc: 0.8652 - f1_score: 0.7881 - lr: 2.5119e-05\n",
            "Epoch 15/20\n",
            "11/11 [==============================] - 6s 493ms/step - loss: 0.3661 - accuracy: 0.8494 - precision: 0.8254 - recall: 0.8864 - auc: 0.9106 - f1_score: 0.8547 - lr: 1.5849e-05\n",
            "Epoch 16/20\n",
            "11/11 [==============================] - 6s 523ms/step - loss: 0.3996 - accuracy: 0.8267 - precision: 0.7979 - recall: 0.8750 - auc: 0.8937 - f1_score: 0.8295 - lr: 1.0000e-05\n",
            "Epoch 17/20\n",
            "11/11 [==============================] - 6s 487ms/step - loss: 0.3648 - accuracy: 0.8523 - precision: 0.8263 - recall: 0.8920 - auc: 0.9131 - f1_score: 0.8534 - lr: 6.3096e-06\n",
            "Epoch 18/20\n",
            "11/11 [==============================] - 7s 609ms/step - loss: 0.3961 - accuracy: 0.8324 - precision: 0.8128 - recall: 0.8636 - auc: 0.8936 - f1_score: 0.8372 - lr: 3.9811e-06\n",
            "Epoch 19/20\n",
            "11/11 [==============================] - 6s 501ms/step - loss: 0.3396 - accuracy: 0.8523 - precision: 0.8263 - recall: 0.8920 - auc: 0.9266 - f1_score: 0.8603 - lr: 2.5119e-06\n",
            "Epoch 20/20\n",
            "11/11 [==============================] - 6s 547ms/step - loss: 0.3969 - accuracy: 0.8182 - precision: 0.8077 - recall: 0.8352 - auc: 0.8974 - f1_score: 0.8178 - lr: 1.5849e-06\n"
          ]
        }
      ],
      "source": [
        "history=model.fit(train_dataset,\n",
        "                        epochs = 20,\n",
        "                        verbose = 1,\n",
        "                         callbacks=lr_scheduler)"
      ]
    },
    {
      "cell_type": "code",
      "execution_count": 14,
      "metadata": {
        "colab": {
          "base_uri": "https://localhost:8080/"
        },
        "id": "_LGf1X8Gmg3H",
        "outputId": "78062683-84cb-4560-9648-67c3528ddf7b"
      },
      "outputs": [
        {
          "name": "stdout",
          "output_type": "stream",
          "text": [
            "5/5 [==============================] - 2s 414ms/step - loss: 0.3122 - accuracy: 0.8923 - precision: 0.8478 - recall: 1.0000 - auc: 0.9439 - f1_score: 0.9319\n"
          ]
        }
      ],
      "source": [
        "scores = model.evaluate(test_dataset)"
      ]
    },
    {
      "cell_type": "code",
      "execution_count": 15,
      "metadata": {
        "colab": {
          "base_uri": "https://localhost:8080/"
        },
        "id": "vrNJ-Y4ixO-8",
        "outputId": "cc3c2748-3ec8-48fa-803d-c6aa4e2c2ea1"
      },
      "outputs": [
        {
          "name": "stdout",
          "output_type": "stream",
          "text": [
            "Accuracy =  0.892307698726654\n",
            "Precision =  0.8478260636329651\n",
            "Recall =  1.0\n",
            "AUC =  0.9439103007316589\n",
            "F1_score =  0.9318580627441406\n"
          ]
        }
      ],
      "source": [
        "print(\"Accuracy = \", scores[1])\n",
        "print(\"Precision = \", scores[2])\n",
        "print(\"Recall = \", scores[3])\n",
        "print(\"AUC = \", scores[4])\n",
        "print(\"F1_score = \", scores[5])"
      ]
    },
    {
      "cell_type": "code",
      "execution_count": 15,
      "metadata": {
        "id": "ZTE69Ahoypuq"
      },
      "outputs": [],
      "source": []
    }
  ],
  "metadata": {
    "accelerator": "GPU",
    "colab": {
      "gpuType": "T4",
      "provenance": []
    },
    "kernelspec": {
      "display_name": "Python 3",
      "name": "python3"
    },
    "language_info": {
      "name": "python"
    }
  },
  "nbformat": 4,
  "nbformat_minor": 0
}
