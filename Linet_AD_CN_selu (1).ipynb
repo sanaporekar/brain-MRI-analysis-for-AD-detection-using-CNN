{
  "cells": [
    {
      "cell_type": "code",
      "execution_count": 5,
      "metadata": {
        "colab": {
          "base_uri": "https://localhost:8080/"
        },
        "id": "HC-IlCKS0b5O",
        "outputId": "c6499595-f6ff-4ed8-9c58-039fc41727ef"
      },
      "outputs": [
        {
          "name": "stdout",
          "output_type": "stream",
          "text": [
            "Found 1083 images belonging to 2 classes.\n",
            "Found 323 images belonging to 2 classes.\n",
            "Epoch 1/20\n",
            "34/34 [==============================] - 8s 152ms/step - loss: 0.6313 - accuracy: 0.6565\n",
            "Epoch 2/20\n",
            "34/34 [==============================] - 5s 153ms/step - loss: 0.4880 - accuracy: 0.7636\n",
            "Epoch 3/20\n",
            "34/34 [==============================] - 5s 156ms/step - loss: 0.4908 - accuracy: 0.7608\n",
            "Epoch 4/20\n",
            "34/34 [==============================] - 6s 166ms/step - loss: 0.4406 - accuracy: 0.7969\n",
            "Epoch 5/20\n",
            "34/34 [==============================] - 5s 149ms/step - loss: 0.4312 - accuracy: 0.8024\n",
            "Epoch 6/20\n",
            "34/34 [==============================] - 6s 171ms/step - loss: 0.4358 - accuracy: 0.7959\n",
            "Epoch 7/20\n",
            "34/34 [==============================] - 5s 149ms/step - loss: 0.4142 - accuracy: 0.8052\n",
            "Epoch 8/20\n",
            "34/34 [==============================] - 5s 155ms/step - loss: 0.3903 - accuracy: 0.8227\n",
            "Epoch 9/20\n",
            "34/34 [==============================] - 5s 146ms/step - loss: 0.3963 - accuracy: 0.8227\n",
            "Epoch 10/20\n",
            "34/34 [==============================] - 6s 172ms/step - loss: 0.3534 - accuracy: 0.8458\n",
            "Epoch 11/20\n",
            "34/34 [==============================] - 5s 152ms/step - loss: 0.3684 - accuracy: 0.8319\n",
            "Epoch 12/20\n",
            "34/34 [==============================] - 5s 153ms/step - loss: 0.3425 - accuracy: 0.8467\n",
            "Epoch 13/20\n",
            "34/34 [==============================] - 6s 163ms/step - loss: 0.3572 - accuracy: 0.8412\n",
            "Epoch 14/20\n",
            "34/34 [==============================] - 5s 159ms/step - loss: 0.3318 - accuracy: 0.8643\n",
            "Epoch 15/20\n",
            "34/34 [==============================] - 5s 150ms/step - loss: 0.3444 - accuracy: 0.8467\n",
            "Epoch 16/20\n",
            "34/34 [==============================] - 5s 150ms/step - loss: 0.3655 - accuracy: 0.8449\n",
            "Epoch 17/20\n",
            "34/34 [==============================] - 5s 161ms/step - loss: 0.3279 - accuracy: 0.8587\n",
            "Epoch 18/20\n",
            "34/34 [==============================] - 5s 156ms/step - loss: 0.3119 - accuracy: 0.8744\n",
            "Epoch 19/20\n",
            "34/34 [==============================] - 6s 170ms/step - loss: 0.3357 - accuracy: 0.8523\n",
            "Epoch 20/20\n",
            "34/34 [==============================] - 5s 148ms/step - loss: 0.3248 - accuracy: 0.8615\n",
            "11/11 [==============================] - 2s 140ms/step - loss: 0.3141 - accuracy: 0.8824\n",
            "Test Loss: 0.3140685260295868\n",
            "Test Accuracy: 0.8823529481887817\n",
            "11/11 [==============================] - 1s 118ms/step\n",
            "Precision: 0.48186528497409326\n",
            "AUC: 0.5141871165644172\n"
          ]
        }
      ],
      "source": [
        "import os\n",
        "import numpy as np\n",
        "import tensorflow as tf\n",
        "from tensorflow.keras.preprocessing.image import ImageDataGenerator\n",
        "from sklearn.metrics import accuracy_score, precision_score, roc_auc_score\n",
        "\n",
        "# Define data directories\n",
        "train_dir = '/content/drive/MyDrive/Colab Notebooks/AD-CN/AD-CN/train'\n",
        "test_dir = '/content/drive/MyDrive/Colab Notebooks/AD-CN/AD-CN/test'\n",
        "\n",
        "# Parameters\n",
        "input_shape = (32, 32, 3)\n",
        "batch_size = 32\n",
        "epochs = 20\n",
        "\n",
        "# Data augmentation for training set\n",
        "train_datagen = ImageDataGenerator(\n",
        "    rescale=1./255,\n",
        "    shear_range=0.2,\n",
        "    zoom_range=0.2,\n",
        "    horizontal_flip=True)\n",
        "\n",
        "# No augmentation for test set\n",
        "test_datagen = ImageDataGenerator(rescale=1./255)\n",
        "\n",
        "# Flow images from directories\n",
        "train_generator = train_datagen.flow_from_directory(\n",
        "    train_dir,\n",
        "    target_size=(input_shape[0], input_shape[1]),\n",
        "    batch_size=batch_size,\n",
        "    class_mode='binary')\n",
        "\n",
        "test_generator = test_datagen.flow_from_directory(\n",
        "    test_dir,\n",
        "    target_size=(input_shape[0], input_shape[1]),\n",
        "    batch_size=batch_size,\n",
        "    class_mode='binary')\n",
        "\n",
        "# Define LeNet model\n",
        "model = tf.keras.Sequential([\n",
        "    tf.keras.layers.Conv2D(6, kernel_size=(5, 5), strides=(1, 1), activation='selu', input_shape=input_shape),\n",
        "    tf.keras.layers.AveragePooling2D(pool_size=(2, 2), strides=(2, 2)),\n",
        "    tf.keras.layers.Conv2D(16, kernel_size=(5, 5), strides=(1, 1), activation='selu'),\n",
        "    tf.keras.layers.AveragePooling2D(pool_size=(2, 2), strides=(2, 2)),\n",
        "    tf.keras.layers.Flatten(),\n",
        "    tf.keras.layers.Dense(120, activation='selu'),\n",
        "    tf.keras.layers.Dense(84, activation='selu'),\n",
        "    tf.keras.layers.Dense(1, activation='sigmoid')\n",
        "])\n",
        "\n",
        "# Compile the model\n",
        "model.compile(optimizer='adam',\n",
        "              loss='binary_crossentropy',\n",
        "              metrics=['accuracy'])\n",
        "\n",
        "# Train the model\n",
        "model.fit(train_generator, epochs=epochs)\n",
        "\n",
        "# Evaluate the model\n",
        "loss, accuracy = model.evaluate(test_generator)\n",
        "print(\"Test Loss:\", loss)\n",
        "print(\"Test Accuracy:\", accuracy)\n",
        "\n",
        "# Predict probabilities for test set\n",
        "y_pred_prob = model.predict(test_generator).flatten()\n",
        "y_true = test_generator.classes\n",
        "\n",
        "# Predicted classes\n",
        "y_pred = np.where(y_pred_prob > 0.5, 1, 0)\n",
        "\n",
        "# Calculate precision and AUC\n",
        "precision = precision_score(y_true, y_pred)\n",
        "auc = roc_auc_score(y_true, y_pred_prob)\n",
        "\n",
        "print(\"Precision:\", precision)\n",
        "print(\"AUC:\", auc)\n"
      ]
    },
    {
      "cell_type": "code",
      "execution_count": 4,
      "metadata": {
        "colab": {
          "base_uri": "https://localhost:8080/"
        },
        "id": "RHpzhAkSRQgQ",
        "outputId": "14009e50-3df5-4e40-c559-17c26136b147"
      },
      "outputs": [
        {
          "name": "stdout",
          "output_type": "stream",
          "text": [
            "Drive already mounted at /content/drive; to attempt to forcibly remount, call drive.mount(\"/content/drive\", force_remount=True).\n"
          ]
        }
      ],
      "source": [
        "from google.colab import drive\n",
        "drive.mount('/content/drive')"
      ]
    },
    {
      "cell_type": "code",
      "execution_count": null,
      "metadata": {
        "id": "5Nyltpjc2Opq"
      },
      "outputs": [],
      "source": []
    }
  ],
  "metadata": {
    "accelerator": "GPU",
    "colab": {
      "gpuType": "T4",
      "provenance": []
    },
    "kernelspec": {
      "display_name": "Python 3",
      "name": "python3"
    },
    "language_info": {
      "name": "python"
    }
  },
  "nbformat": 4,
  "nbformat_minor": 0
}
