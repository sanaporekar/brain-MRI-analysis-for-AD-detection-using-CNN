{
  "cells": [
    {
      "cell_type": "code",
      "execution_count": null,
      "metadata": {
        "id": "9lTOHBXtuaj5"
      },
      "outputs": [],
      "source": [
        "import numpy as np\n",
        "import pandas as pd\n",
        "import matplotlib.pyplot as plt\n",
        "import seaborn as sn\n",
        "import skimage.io\n",
        "import os\n",
        "import tqdm\n",
        "import glob\n",
        "import tensorflow\n",
        "\n",
        "from tqdm import tqdm\n",
        "from sklearn.utils import shuffle\n",
        "from sklearn import metrics\n",
        "from sklearn.metrics import confusion_matrix, classification_report\n",
        "from sklearn.model_selection import train_test_split\n",
        "from skimage.io import imread, imshow\n",
        "from skimage.transform import resize\n",
        "from skimage.color import gray2rgb\n",
        "\n",
        "import tensorflow as tf\n",
        "from tensorflow.keras.preprocessing.image import ImageDataGenerator\n",
        "from tensorflow.keras.preprocessing import image_dataset_from_directory\n",
        "from tensorflow.keras.models import Sequential\n",
        "from tensorflow.keras.layers import InputLayer, BatchNormalization, Dropout, Flatten, Dense, Activation, MaxPool2D, Conv2D\n",
        "from tensorflow.keras.callbacks import EarlyStopping, ModelCheckpoint\n",
        "from tensorflow.keras.applications.inception_v3 import InceptionV3\n",
        "from keras import optimizers\n",
        "\n",
        "from keras.callbacks import Callback,ModelCheckpoint\n",
        "from keras.models import Sequential,load_model\n",
        "from keras.layers import Dense, Dropout\n",
        "\n",
        "import keras.backend as K\n",
        "\n",
        "\n",
        "from typing import Optional"
      ]
    },
    {
      "cell_type": "code",
      "execution_count": null,
      "metadata": {
        "id": "5G9_ZJjvvc4Y"
      },
      "outputs": [],
      "source": [
        "train_datagen = ImageDataGenerator(rescale = 1./255,\n",
        "                                   validation_split = 0.2,\n",
        "\n",
        "        rotation_range=5,\n",
        "        width_shift_range=0.2,\n",
        "        height_shift_range=0.2,\n",
        "        shear_range=0.2,\n",
        "        #zoom_range=0.2,\n",
        "        horizontal_flip=True,\n",
        "        vertical_flip=True,\n",
        "        fill_mode='nearest')\n",
        "\n",
        "valid_datagen = ImageDataGenerator(rescale = 1./255,\n",
        "                                  validation_split = 0.2)\n",
        "\n",
        "test_datagen  = ImageDataGenerator(rescale = 1./255\n",
        "                                  )"
      ]
    },
    {
      "cell_type": "code",
      "execution_count": null,
      "metadata": {
        "colab": {
          "base_uri": "https://localhost:8080/"
        },
        "id": "EE88c9D5vjHm",
        "outputId": "b592454a-cf81-42d4-82f9-ab81b26a5fab"
      },
      "outputs": [
        {
          "name": "stdout",
          "output_type": "stream",
          "text": [
            "Found 867 images belonging to 2 classes.\n"
          ]
        }
      ],
      "source": [
        "train_dataset  = train_datagen.flow_from_directory(directory = '/content/drive/MyDrive/AD-CN/AD-CN/train',\n",
        "                                                   target_size = (224,224),\n",
        "                                                   class_mode = 'binary',\n",
        "                                                   subset = 'training',\n",
        "                                                   batch_size = 32)\n"
      ]
    },
    {
      "cell_type": "code",
      "execution_count": null,
      "metadata": {
        "colab": {
          "base_uri": "https://localhost:8080/"
        },
        "id": "8Hn1d31svljJ",
        "outputId": "9bfaf192-0eb8-4dac-887f-b853cb2eab9b"
      },
      "outputs": [
        {
          "name": "stdout",
          "output_type": "stream",
          "text": [
            "Found 323 images belonging to 2 classes.\n"
          ]
        }
      ],
      "source": [
        "test_dataset = test_datagen.flow_from_directory(directory = '/content/drive/MyDrive/AD-CN/AD-CN/test',\n",
        "                                                  target_size = (224,224),\n",
        "                                                  class_mode = 'binary',\n",
        "                                                  batch_size = 32)"
      ]
    },
    {
      "cell_type": "code",
      "execution_count": null,
      "metadata": {
        "colab": {
          "base_uri": "https://localhost:8080/"
        },
        "id": "GLcfeN6zwEQR",
        "outputId": "fa6d1f4b-f9f6-40e2-cd09-1eab5bb4e206"
      },
      "outputs": [
        {
          "name": "stdout",
          "output_type": "stream",
          "text": [
            "Downloading data from https://storage.googleapis.com/tensorflow/keras-applications/inception_v3/inception_v3_weights_tf_dim_ordering_tf_kernels_notop.h5\n",
            "87910968/87910968 [==============================] - 0s 0us/step\n"
          ]
        }
      ],
      "source": [
        "base_model = InceptionV3(input_shape=(224,224,3),\n",
        "                   include_top=False,\n",
        "                   weights=\"imagenet\")"
      ]
    },
    {
      "cell_type": "code",
      "execution_count": null,
      "metadata": {
        "id": "iBlCLDLuwHPF"
      },
      "outputs": [],
      "source": [
        "for layer in base_model.layers:\n",
        "    layer.trainable=False\n"
      ]
    },
    {
      "cell_type": "code",
      "execution_count": null,
      "metadata": {
        "id": "L7499ByOxQ_A"
      },
      "outputs": [],
      "source": [
        "model=Sequential()\n",
        "model.add(base_model)\n",
        "model.add(Dropout(0.5))\n",
        "model.add(tf.keras.layers.GlobalAveragePooling2D())\n",
        "model.add(Flatten())\n",
        "model.add(BatchNormalization())\n",
        "model.add(Dense(64,kernel_initializer='he_uniform'))\n",
        "model.add(BatchNormalization())\n",
        "model.add(Activation('tanh'))\n",
        "model.add(Dropout(0.5))\n",
        "model.add(Dense(64,kernel_initializer='he_uniform'))\n",
        "model.add(BatchNormalization())\n",
        "model.add(Activation('tanh'))\n",
        "model.add(Dropout(0.5))\n",
        "model.add(Dense(64,kernel_initializer='he_uniform'))\n",
        "model.add(BatchNormalization())\n",
        "model.add(Activation('tanh'))\n",
        "model.add(Dropout(0.5))\n",
        "model.add(Dense(32,kernel_initializer='he_uniform'))\n",
        "model.add(BatchNormalization())\n",
        "model.add(Activation('tanh'))\n",
        "model.add(Dropout(0.5))\n",
        "model.add(Dense(32,kernel_initializer='he_uniform'))\n",
        "model.add(BatchNormalization())\n",
        "model.add(Activation('tanh'))\n",
        "model.add(Dense(1, activation='sigmoid'))"
      ]
    },
    {
      "cell_type": "code",
      "execution_count": null,
      "metadata": {
        "id": "srPxK5f-xhP_"
      },
      "outputs": [],
      "source": [
        "def f1_score(y_true, y_pred): #taken from old keras source code\n",
        "    true_positives = K.sum(K.round(K.clip(y_true * y_pred, 0, 1)))\n",
        "    possible_positives = K.sum(K.round(K.clip(y_true, 0, 1)))\n",
        "    predicted_positives = K.sum(K.round(K.clip(y_pred, 0, 1)))\n",
        "    precision = true_positives / (predicted_positives + K.epsilon())\n",
        "    recall = true_positives / (possible_positives + K.epsilon())\n",
        "    f1_val = 2*(precision*recall)/(precision+recall+K.epsilon())\n",
        "    return f1_val"
      ]
    },
    {
      "cell_type": "code",
      "execution_count": null,
      "metadata": {
        "id": "QXcDpTGUx0q6"
      },
      "outputs": [],
      "source": [
        "def exponential_decay(lr0, s):\n",
        "    def exponential_decay_fn(epoch):\n",
        "        return lr0 * 0.1 **(epoch / s)\n",
        "    return exponential_decay_fn\n",
        "\n",
        "exponential_decay_fn = exponential_decay(0.01, 5) # when i run it for 50 epochs\n",
        "\n",
        "lr_scheduler = tf.keras.callbacks.LearningRateScheduler(exponential_decay_fn)"
      ]
    },
    {
      "cell_type": "code",
      "execution_count": null,
      "metadata": {
        "id": "eR6DziYZx2s_"
      },
      "outputs": [],
      "source": [
        "METRICS = [\n",
        "      tf.keras.metrics.BinaryAccuracy(name='accuracy'),\n",
        "      tf.keras.metrics.Precision(name='precision'),\n",
        "      tf.keras.metrics.Recall(name='recall'),\n",
        "      tf.keras.metrics.AUC(name='auc'),\n",
        "        f1_score,\n",
        "]\n"
      ]
    },
    {
      "cell_type": "code",
      "execution_count": null,
      "metadata": {
        "id": "2pQ8sReqx5pQ"
      },
      "outputs": [],
      "source": [
        "model.compile(optimizer='rmsprop', loss='binary_crossentropy',metrics=METRICS)"
      ]
    },
    {
      "cell_type": "code",
      "execution_count": null,
      "metadata": {
        "colab": {
          "base_uri": "https://localhost:8080/"
        },
        "id": "HG54l7iQx8Fi",
        "outputId": "68ef2784-13f1-4165-deab-05208e7ad377"
      },
      "outputs": [
        {
          "name": "stdout",
          "output_type": "stream",
          "text": [
            "Epoch 1/20\n",
            "28/28 [==============================] - 232s 8s/step - loss: 0.4956 - accuracy: 0.7578 - precision: 0.7147 - recall: 0.7374 - auc: 0.8383 - f1_score: 0.6949 - lr: 0.0100\n",
            "Epoch 2/20\n",
            "28/28 [==============================] - 14s 510ms/step - loss: 0.3630 - accuracy: 0.8478 - precision: 0.7952 - recall: 0.8753 - auc: 0.9128 - f1_score: 0.8370 - lr: 0.0063\n",
            "Epoch 3/20\n",
            "28/28 [==============================] - 14s 510ms/step - loss: 0.3399 - accuracy: 0.8558 - precision: 0.8000 - recall: 0.8912 - auc: 0.9254 - f1_score: 0.8438 - lr: 0.0040\n",
            "Epoch 4/20\n",
            "28/28 [==============================] - 14s 514ms/step - loss: 0.3370 - accuracy: 0.8754 - precision: 0.8305 - recall: 0.8966 - auc: 0.9191 - f1_score: 0.8624 - lr: 0.0025\n",
            "Epoch 5/20\n",
            "28/28 [==============================] - 14s 509ms/step - loss: 0.3057 - accuracy: 0.8800 - precision: 0.8289 - recall: 0.9125 - auc: 0.9402 - f1_score: 0.8719 - lr: 0.0016\n",
            "Epoch 6/20\n",
            "28/28 [==============================] - 15s 521ms/step - loss: 0.2937 - accuracy: 0.8950 - precision: 0.8421 - recall: 0.9337 - auc: 0.9360 - f1_score: 0.8872 - lr: 0.0010\n",
            "Epoch 7/20\n",
            "28/28 [==============================] - 15s 525ms/step - loss: 0.2812 - accuracy: 0.8997 - precision: 0.8571 - recall: 0.9231 - auc: 0.9431 - f1_score: 0.8783 - lr: 6.3096e-04\n",
            "Epoch 8/20\n",
            "28/28 [==============================] - 16s 553ms/step - loss: 0.2933 - accuracy: 0.8893 - precision: 0.8418 - recall: 0.9178 - auc: 0.9391 - f1_score: 0.8819 - lr: 3.9811e-04\n",
            "Epoch 9/20\n",
            "28/28 [==============================] - 15s 519ms/step - loss: 0.2678 - accuracy: 0.8985 - precision: 0.8568 - recall: 0.9204 - auc: 0.9521 - f1_score: 0.8872 - lr: 2.5119e-04\n",
            "Epoch 10/20\n",
            "28/28 [==============================] - 15s 530ms/step - loss: 0.2858 - accuracy: 0.8904 - precision: 0.8473 - recall: 0.9125 - auc: 0.9460 - f1_score: 0.8805 - lr: 1.5849e-04\n",
            "Epoch 11/20\n",
            "28/28 [==============================] - 14s 514ms/step - loss: 0.3148 - accuracy: 0.8858 - precision: 0.8441 - recall: 0.9045 - auc: 0.9319 - f1_score: 0.8399 - lr: 1.0000e-04\n",
            "Epoch 12/20\n",
            "28/28 [==============================] - 14s 507ms/step - loss: 0.3014 - accuracy: 0.8835 - precision: 0.8366 - recall: 0.9098 - auc: 0.9346 - f1_score: 0.8726 - lr: 6.3096e-05\n",
            "Epoch 13/20\n",
            "28/28 [==============================] - 15s 517ms/step - loss: 0.3093 - accuracy: 0.8720 - precision: 0.8292 - recall: 0.8886 - auc: 0.9347 - f1_score: 0.8280 - lr: 3.9811e-05\n",
            "Epoch 14/20\n",
            "28/28 [==============================] - 14s 512ms/step - loss: 0.2857 - accuracy: 0.8962 - precision: 0.8526 - recall: 0.9204 - auc: 0.9400 - f1_score: 0.8790 - lr: 2.5119e-05\n",
            "Epoch 15/20\n",
            "28/28 [==============================] - 15s 519ms/step - loss: 0.2793 - accuracy: 0.8939 - precision: 0.8450 - recall: 0.9257 - auc: 0.9475 - f1_score: 0.8744 - lr: 1.5849e-05\n",
            "Epoch 16/20\n",
            "28/28 [==============================] - 15s 524ms/step - loss: 0.2711 - accuracy: 0.9008 - precision: 0.8593 - recall: 0.9231 - auc: 0.9500 - f1_score: 0.8816 - lr: 1.0000e-05\n",
            "Epoch 17/20\n",
            "28/28 [==============================] - 15s 514ms/step - loss: 0.2779 - accuracy: 0.8985 - precision: 0.8516 - recall: 0.9284 - auc: 0.9458 - f1_score: 0.8806 - lr: 6.3096e-06\n",
            "Epoch 18/20\n",
            "28/28 [==============================] - 14s 507ms/step - loss: 0.2937 - accuracy: 0.9008 - precision: 0.8489 - recall: 0.9390 - auc: 0.9331 - f1_score: 0.8944 - lr: 3.9811e-06\n",
            "Epoch 19/20\n",
            "28/28 [==============================] - 14s 510ms/step - loss: 0.2904 - accuracy: 0.8916 - precision: 0.8494 - recall: 0.9125 - auc: 0.9384 - f1_score: 0.8801 - lr: 2.5119e-06\n",
            "Epoch 20/20\n",
            "28/28 [==============================] - 14s 507ms/step - loss: 0.3194 - accuracy: 0.8708 - precision: 0.8304 - recall: 0.8833 - auc: 0.9315 - f1_score: 0.8584 - lr: 1.5849e-06\n"
          ]
        }
      ],
      "source": [
        "history=model.fit(train_dataset,\n",
        "                        epochs = 20,\n",
        "                        verbose = 1,\n",
        "                         callbacks=lr_scheduler)"
      ]
    },
    {
      "cell_type": "code",
      "execution_count": null,
      "metadata": {
        "colab": {
          "base_uri": "https://localhost:8080/"
        },
        "id": "AvoniIoEx-XR",
        "outputId": "4e1b906c-d6a5-4159-913c-6884b88728a5"
      },
      "outputs": [
        {
          "name": "stdout",
          "output_type": "stream",
          "text": [
            "11/11 [==============================] - 78s 7s/step - loss: 0.3137 - accuracy: 0.8947 - precision: 0.8564 - recall: 0.9509 - auc: 0.9432 - f1_score: 0.8912\n"
          ]
        }
      ],
      "source": [
        "scores = model.evaluate(test_dataset)"
      ]
    },
    {
      "cell_type": "code",
      "execution_count": null,
      "metadata": {
        "colab": {
          "base_uri": "https://localhost:8080/"
        },
        "id": "RNUqNVKUyLJT",
        "outputId": "b1cb961a-a23a-4b6a-c6ed-0327dd6407b9"
      },
      "outputs": [
        {
          "name": "stdout",
          "output_type": "stream",
          "text": [
            "F1_score =  0.8912238478660583\n"
          ]
        }
      ],
      "source": [
        "print(\"Accuracy = \", scores[1])\n",
        "print(\"Precision = \", scores[2])\n",
        "print(\"Recall = \", scores[3])\n",
        "print(\"AUC = \", scores[4])\n",
        "print(\"F1_score = \", scores[5])"
      ]
    },
    {
      "cell_type": "code",
      "execution_count": null,
      "metadata": {
        "id": "ppV2STZXyNBJ"
      },
      "outputs": [],
      "source": []
    }
  ],
  "metadata": {
    "accelerator": "GPU",
    "colab": {
      "gpuType": "T4",
      "provenance": []
    },
    "kernelspec": {
      "display_name": "Python 3",
      "name": "python3"
    },
    "language_info": {
      "name": "python"
    }
  },
  "nbformat": 4,
  "nbformat_minor": 0
}
