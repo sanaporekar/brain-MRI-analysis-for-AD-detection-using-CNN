{
  "cells": [
    {
      "cell_type": "code",
      "execution_count": null,
      "metadata": {
        "colab": {
          "base_uri": "https://localhost:8080/"
        },
        "id": "j0FEKKmwlqUT",
        "outputId": "376b4b5e-5480-406e-b483-794f4c01d726"
      },
      "outputs": [
        {
          "name": "stdout",
          "output_type": "stream",
          "text": [
            "Mounted at /content/drive\n"
          ]
        }
      ],
      "source": [
        "from google.colab import drive\n",
        "drive.mount('/content/drive')"
      ]
    },
    {
      "cell_type": "code",
      "execution_count": 25,
      "metadata": {
        "id": "O3WRnv-xl41a"
      },
      "outputs": [],
      "source": [
        "import numpy as np\n",
        "import pandas as pd\n",
        "import matplotlib.pyplot as plt\n",
        "import seaborn as sn\n",
        "import skimage.io\n",
        "import os\n",
        "import tqdm\n",
        "import glob\n",
        "import tensorflow\n",
        "\n",
        "from tqdm import tqdm\n",
        "from sklearn.utils import shuffle\n",
        "from sklearn import metrics\n",
        "from sklearn.metrics import confusion_matrix, classification_report\n",
        "from sklearn.model_selection import train_test_split\n",
        "from skimage.io import imread, imshow\n",
        "from skimage.transform import resize\n",
        "from skimage.color import gray2rgb\n",
        "\n",
        "import tensorflow as tf\n",
        "from tensorflow.keras.preprocessing.image import ImageDataGenerator\n",
        "from tensorflow.keras.preprocessing import image_dataset_from_directory\n",
        "from tensorflow.keras.models import Sequential\n",
        "from tensorflow.keras.layers import InputLayer, BatchNormalization, Dropout, Flatten, Dense, Activation, MaxPool2D, Conv2D\n",
        "from tensorflow.keras.callbacks import EarlyStopping, ModelCheckpoint\n",
        "from tensorflow.keras.applications.inception_v3 import InceptionV3\n",
        "from keras import optimizers\n",
        "\n",
        "from keras.callbacks import Callback,ModelCheckpoint\n",
        "from keras.models import Sequential,load_model\n",
        "from keras.layers import Dense, Dropout\n",
        "\n",
        "import keras.backend as K\n",
        "from typing import Optional"
      ]
    },
    {
      "cell_type": "code",
      "execution_count": 26,
      "metadata": {
        "id": "Ml644udAmHeK"
      },
      "outputs": [],
      "source": [
        "train_datagen = ImageDataGenerator(rescale = 1./255,\n",
        "                                   validation_split = 0.2,\n",
        "\n",
        "        rotation_range=5,\n",
        "        width_shift_range=0.2,\n",
        "        height_shift_range=0.2,\n",
        "        shear_range=0.2,\n",
        "        horizontal_flip=True,\n",
        "        vertical_flip=True,\n",
        "        fill_mode='nearest')\n",
        "\n",
        "valid_datagen = ImageDataGenerator(rescale = 1./255,\n",
        "                                  validation_split = 0.2)\n",
        "\n",
        "test_datagen  = ImageDataGenerator(rescale = 1./255\n",
        "                                  )"
      ]
    },
    {
      "cell_type": "code",
      "execution_count": 27,
      "metadata": {
        "colab": {
          "base_uri": "https://localhost:8080/"
        },
        "id": "MBwh2fNKmKd7",
        "outputId": "b062c790-a9bb-4320-9d7b-dee8affff03b"
      },
      "outputs": [
        {
          "name": "stdout",
          "output_type": "stream",
          "text": [
            "Found 858 images belonging to 2 classes.\n"
          ]
        }
      ],
      "source": [
        "train_dataset  = train_datagen.flow_from_directory(directory = '/content/drive/MyDrive/Colab Notebooks/MCI-CN/MCI-CN/train',\n",
        "                                                   target_size = (224,224),\n",
        "                                                   class_mode = 'binary',\n",
        "                                                   subset = 'training',\n",
        "                                                   batch_size = 32)"
      ]
    },
    {
      "cell_type": "code",
      "execution_count": 28,
      "metadata": {
        "colab": {
          "base_uri": "https://localhost:8080/"
        },
        "id": "w31uy4LomNxI",
        "outputId": "36bba27b-a6e8-46c8-bcb7-ba8ea9361888"
      },
      "outputs": [
        {
          "name": "stdout",
          "output_type": "stream",
          "text": [
            "Found 286 images belonging to 2 classes.\n"
          ]
        }
      ],
      "source": [
        "test_dataset = test_datagen.flow_from_directory(directory = '/content/drive/MyDrive/Colab Notebooks/MCI-CN/MCI-CN/test',\n",
        "                                                  target_size = (224,224),\n",
        "                                                  class_mode = 'binary',\n",
        "                                                  batch_size = 32)"
      ]
    },
    {
      "cell_type": "code",
      "execution_count": 29,
      "metadata": {
        "colab": {
          "base_uri": "https://localhost:8080/"
        },
        "id": "pGPP-WaJmQO0",
        "outputId": "5df2070c-ce24-4b63-8f50-2586daa1b32e"
      },
      "outputs": [
        {
          "name": "stdout",
          "output_type": "stream",
          "text": [
            "Downloading data from https://storage.googleapis.com/tensorflow/keras-applications/inception_v3/inception_v3_weights_tf_dim_ordering_tf_kernels_notop.h5\n",
            "87910968/87910968 [==============================] - 1s 0us/step\n"
          ]
        }
      ],
      "source": [
        "base_model = InceptionV3(input_shape=(224, 224, 3), include_top=False, weights='imagenet')\n"
      ]
    },
    {
      "cell_type": "code",
      "execution_count": 30,
      "metadata": {
        "id": "1cPyMamcmSdl"
      },
      "outputs": [],
      "source": [
        "for layer in base_model.layers:\n",
        "    layer.trainable=False\n"
      ]
    },
    {
      "cell_type": "code",
      "execution_count": 31,
      "metadata": {
        "id": "IcG6-TPmmUtd"
      },
      "outputs": [],
      "source": [
        "model=Sequential()\n",
        "model.add(base_model)\n",
        "model.add(Dropout(0.5))\n",
        "model.add(tf.keras.layers.GlobalAveragePooling2D())\n",
        "model.add(Flatten())\n",
        "model.add(BatchNormalization())\n",
        "model.add(Dense(64,kernel_initializer='he_uniform'))\n",
        "model.add(BatchNormalization())\n",
        "model.add(Activation('selu'))\n",
        "model.add(Dropout(0.5))\n",
        "model.add(Dense(64,kernel_initializer='he_uniform'))\n",
        "model.add(BatchNormalization())\n",
        "model.add(Activation('selu'))\n",
        "model.add(Dropout(0.5))\n",
        "model.add(Dense(64,kernel_initializer='he_uniform'))\n",
        "model.add(BatchNormalization())\n",
        "model.add(Activation('selu'))\n",
        "model.add(Dropout(0.5))\n",
        "model.add(Dense(32,kernel_initializer='he_uniform'))\n",
        "model.add(BatchNormalization())\n",
        "model.add(Activation('selu'))\n",
        "model.add(Dropout(0.5))\n",
        "model.add(Dense(32,kernel_initializer='he_uniform'))\n",
        "model.add(BatchNormalization())\n",
        "model.add(Activation('selu'))\n",
        "model.add(Dense(1, activation='sigmoid'))"
      ]
    },
    {
      "cell_type": "code",
      "execution_count": 32,
      "metadata": {
        "id": "GciqkkxcmWqX"
      },
      "outputs": [],
      "source": [
        "def f1_score(y_true, y_pred): \n",
        "    true_positives = K.sum(K.round(K.clip(y_true * y_pred, 0, 1)))\n",
        "    possible_positives = K.sum(K.round(K.clip(y_true, 0, 1)))\n",
        "    predicted_positives = K.sum(K.round(K.clip(y_pred, 0, 1)))\n",
        "    precision = true_positives / (predicted_positives + K.epsilon())\n",
        "    recall = true_positives / (possible_positives + K.epsilon())\n",
        "    f1_val = 2*(precision*recall)/(precision+recall+K.epsilon())\n",
        "    return f1_val"
      ]
    },
    {
      "cell_type": "code",
      "execution_count": 33,
      "metadata": {
        "id": "ZBVYRjA3mY1b"
      },
      "outputs": [],
      "source": [
        "def exponential_decay(lr0, s):\n",
        "    def exponential_decay_fn(epoch):\n",
        "        return lr0 * 0.1 **(epoch / s)\n",
        "    return exponential_decay_fn\n",
        "\n",
        "exponential_decay_fn = exponential_decay(0.01, 5)\n",
        "\n",
        "lr_scheduler = tf.keras.callbacks.LearningRateScheduler(exponential_decay_fn)"
      ]
    },
    {
      "cell_type": "code",
      "execution_count": 34,
      "metadata": {
        "id": "c98hbgNembCm"
      },
      "outputs": [],
      "source": [
        "\n",
        "METRICS = [\n",
        "      tf.keras.metrics.BinaryAccuracy(name='accuracy'),\n",
        "      tf.keras.metrics.Precision(name='precision'),\n",
        "      tf.keras.metrics.Recall(name='recall'),\n",
        "      tf.keras.metrics.AUC(name='auc'),\n",
        "        f1_score,\n",
        "]\n"
      ]
    },
    {
      "cell_type": "code",
      "execution_count": 35,
      "metadata": {
        "id": "Nq9A6Y_0mdAY"
      },
      "outputs": [],
      "source": [
        "model.compile(optimizer='rmsprop', loss='binary_crossentropy',metrics=METRICS)"
      ]
    },
    {
      "cell_type": "code",
      "execution_count": 36,
      "metadata": {
        "colab": {
          "base_uri": "https://localhost:8080/"
        },
        "id": "1wTyCM3QmfBw",
        "outputId": "dc8e540b-c2d4-4ea0-86af-15e6f79479b6"
      },
      "outputs": [
        {
          "name": "stdout",
          "output_type": "stream",
          "text": [
            "Epoch 1/20\n",
            "27/27 [==============================] - 22s 509ms/step - loss: 0.5130 - accuracy: 0.7646 - precision: 0.7962 - recall: 0.7796 - auc: 0.8344 - f1_score: 0.7868 - lr: 0.0100\n",
            "Epoch 2/20\n",
            "27/27 [==============================] - 14s 516ms/step - loss: 0.3554 - accuracy: 0.8590 - precision: 0.9036 - recall: 0.8378 - auc: 0.9189 - f1_score: 0.8693 - lr: 0.0063\n",
            "Epoch 3/20\n",
            "27/27 [==============================] - 14s 529ms/step - loss: 0.3171 - accuracy: 0.8800 - precision: 0.9163 - recall: 0.8649 - auc: 0.9322 - f1_score: 0.8895 - lr: 0.0040\n",
            "Epoch 4/20\n",
            "27/27 [==============================] - 14s 511ms/step - loss: 0.2967 - accuracy: 0.8834 - precision: 0.9205 - recall: 0.8669 - auc: 0.9426 - f1_score: 0.8923 - lr: 0.0025\n",
            "Epoch 5/20\n",
            "27/27 [==============================] - 14s 512ms/step - loss: 0.2984 - accuracy: 0.8834 - precision: 0.9168 - recall: 0.8711 - auc: 0.9406 - f1_score: 0.8935 - lr: 0.0016\n",
            "Epoch 6/20\n",
            "27/27 [==============================] - 14s 519ms/step - loss: 0.2722 - accuracy: 0.8881 - precision: 0.9268 - recall: 0.8690 - auc: 0.9517 - f1_score: 0.8960 - lr: 0.0010\n",
            "Epoch 7/20\n",
            "27/27 [==============================] - 14s 518ms/step - loss: 0.2817 - accuracy: 0.8939 - precision: 0.9258 - recall: 0.8815 - auc: 0.9454 - f1_score: 0.9021 - lr: 6.3096e-04\n",
            "Epoch 8/20\n",
            "27/27 [==============================] - 14s 513ms/step - loss: 0.2747 - accuracy: 0.8904 - precision: 0.9290 - recall: 0.8711 - auc: 0.9507 - f1_score: 0.8985 - lr: 3.9811e-04\n",
            "Epoch 9/20\n",
            "27/27 [==============================] - 14s 518ms/step - loss: 0.2745 - accuracy: 0.9056 - precision: 0.9348 - recall: 0.8940 - auc: 0.9465 - f1_score: 0.9125 - lr: 2.5119e-04\n",
            "Epoch 10/20\n",
            "27/27 [==============================] - 14s 515ms/step - loss: 0.2630 - accuracy: 0.9021 - precision: 0.9269 - recall: 0.8960 - auc: 0.9540 - f1_score: 0.9099 - lr: 1.5849e-04\n",
            "Epoch 11/20\n",
            "27/27 [==============================] - 14s 510ms/step - loss: 0.2658 - accuracy: 0.9056 - precision: 0.9329 - recall: 0.8960 - auc: 0.9510 - f1_score: 0.9130 - lr: 1.0000e-04\n",
            "Epoch 12/20\n",
            "27/27 [==============================] - 14s 508ms/step - loss: 0.2704 - accuracy: 0.8881 - precision: 0.9122 - recall: 0.8857 - auc: 0.9540 - f1_score: 0.8953 - lr: 6.3096e-05\n",
            "Epoch 13/20\n",
            "27/27 [==============================] - 14s 510ms/step - loss: 0.2710 - accuracy: 0.9021 - precision: 0.9306 - recall: 0.8919 - auc: 0.9516 - f1_score: 0.9098 - lr: 3.9811e-05\n",
            "Epoch 14/20\n",
            "27/27 [==============================] - 14s 511ms/step - loss: 0.2579 - accuracy: 0.9126 - precision: 0.9375 - recall: 0.9044 - auc: 0.9543 - f1_score: 0.9207 - lr: 2.5119e-05\n",
            "Epoch 15/20\n",
            "27/27 [==============================] - 14s 515ms/step - loss: 0.2366 - accuracy: 0.9103 - precision: 0.9298 - recall: 0.9085 - auc: 0.9650 - f1_score: 0.9176 - lr: 1.5849e-05\n",
            "Epoch 16/20\n",
            "27/27 [==============================] - 14s 509ms/step - loss: 0.2571 - accuracy: 0.9009 - precision: 0.9342 - recall: 0.8857 - auc: 0.9583 - f1_score: 0.9076 - lr: 1.0000e-05\n",
            "Epoch 17/20\n",
            "27/27 [==============================] - 14s 515ms/step - loss: 0.2685 - accuracy: 0.8893 - precision: 0.9142 - recall: 0.8857 - auc: 0.9520 - f1_score: 0.8970 - lr: 6.3096e-06\n",
            "Epoch 18/20\n",
            "27/27 [==============================] - 14s 508ms/step - loss: 0.2734 - accuracy: 0.8986 - precision: 0.9191 - recall: 0.8981 - auc: 0.9496 - f1_score: 0.9053 - lr: 3.9811e-06\n",
            "Epoch 19/20\n",
            "27/27 [==============================] - 14s 508ms/step - loss: 0.2646 - accuracy: 0.9009 - precision: 0.9267 - recall: 0.8940 - auc: 0.9538 - f1_score: 0.9093 - lr: 2.5119e-06\n",
            "Epoch 20/20\n",
            "27/27 [==============================] - 14s 513ms/step - loss: 0.2886 - accuracy: 0.8893 - precision: 0.9055 - recall: 0.8960 - auc: 0.9445 - f1_score: 0.8987 - lr: 1.5849e-06\n"
          ]
        }
      ],
      "source": [
        "history=model.fit(train_dataset,\n",
        "                        epochs = 20,\n",
        "                        verbose = 1,\n",
        "                         callbacks=lr_scheduler)"
      ]
    },
    {
      "cell_type": "code",
      "execution_count": 37,
      "metadata": {
        "colab": {
          "base_uri": "https://localhost:8080/"
        },
        "id": "_LGf1X8Gmg3H",
        "outputId": "8c57b55d-ad12-485b-99c2-5326ad8a513d"
      },
      "outputs": [
        {
          "name": "stdout",
          "output_type": "stream",
          "text": [
            "9/9 [==============================] - 7s 485ms/step - loss: 0.1649 - accuracy: 0.9406 - precision: 0.9649 - recall: 0.8943 - auc: 0.9830 - f1_score: 0.9221\n"
          ]
        }
      ],
      "source": [
        "scores = model.evaluate(test_dataset)"
      ]
    },
    {
      "cell_type": "code",
      "execution_count": 38,
      "metadata": {
        "colab": {
          "base_uri": "https://localhost:8080/"
        },
        "id": "vrNJ-Y4ixO-8",
        "outputId": "580e39db-c0a9-481c-9220-12fb02ba1e54"
      },
      "outputs": [
        {
          "name": "stdout",
          "output_type": "stream",
          "text": [
            "Accuracy =  0.940559446811676\n",
            "Precision =  0.9649122953414917\n",
            "Recall =  0.8943089246749878\n",
            "AUC =  0.982991635799408\n",
            "F1_score =  0.9220513105392456\n"
          ]
        }
      ],
      "source": [
        "print(\"Accuracy = \", scores[1])\n",
        "print(\"Precision = \", scores[2])\n",
        "print(\"Recall = \", scores[3])\n",
        "print(\"AUC = \", scores[4])\n",
        "print(\"F1_score = \", scores[5])"
      ]
    },
    {
      "cell_type": "code",
      "execution_count": null,
      "metadata": {
        "id": "ZTE69Ahoypuq"
      },
      "outputs": [],
      "source": []
    }
  ],
  "metadata": {
    "accelerator": "GPU",
    "colab": {
      "gpuType": "T4",
      "provenance": []
    },
    "kernelspec": {
      "display_name": "Python 3",
      "name": "python3"
    },
    "language_info": {
      "name": "python"
    }
  },
  "nbformat": 4,
  "nbformat_minor": 0
}
