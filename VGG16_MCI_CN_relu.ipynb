{
  "cells": [
    {
      "cell_type": "code",
      "execution_count": null,
      "metadata": {
        "id": "Z9eb5Xj29z5G"
      },
      "outputs": [],
      "source": []
    },
    {
      "cell_type": "code",
      "execution_count": null,
      "metadata": {
        "id": "r5DFBSzI9_a5"
      },
      "outputs": [],
      "source": [
        "from google.colab import drive\n",
        "drive.mount('/content/drive')"
      ]
    },
    {
      "cell_type": "code",
      "execution_count": 1,
      "metadata": {
        "id": "thkNUla7-DcH"
      },
      "outputs": [],
      "source": [
        "import numpy as np\n",
        "import pandas as pd\n",
        "import matplotlib.pyplot as plt\n",
        "import seaborn as sn\n",
        "import skimage.io\n",
        "import os\n",
        "import tqdm\n",
        "import glob\n",
        "import tensorflow\n",
        "\n",
        "from tqdm import tqdm\n",
        "from sklearn.utils import shuffle\n",
        "from sklearn import metrics\n",
        "from sklearn.metrics import confusion_matrix, classification_report\n",
        "from sklearn.model_selection import train_test_split\n",
        "from skimage.io import imread, imshow\n",
        "from skimage.transform import resize\n",
        "from skimage.color import gray2rgb\n",
        "\n",
        "import tensorflow as tf\n",
        "from tensorflow.keras.preprocessing.image import ImageDataGenerator\n",
        "from tensorflow.keras.preprocessing import image_dataset_from_directory\n",
        "from tensorflow.keras.models import Sequential\n",
        "from tensorflow.keras.layers import InputLayer, BatchNormalization, Dropout, Flatten, Dense, Activation, MaxPool2D, Conv2D\n",
        "from tensorflow.keras.callbacks import EarlyStopping, ModelCheckpoint\n",
        "from tensorflow.keras.applications import DenseNet121\n",
        "from tensorflow.keras.applications.vgg16 import VGG16\n",
        "\n",
        "from keras import optimizers\n",
        "\n",
        "from keras.callbacks import Callback,ModelCheckpoint\n",
        "from keras.models import Sequential,load_model\n",
        "from keras.layers import Dense, Dropout\n",
        "\n",
        "import keras.backend as K\n",
        "\n",
        "\n",
        "from typing import Optional"
      ]
    },
    {
      "cell_type": "code",
      "execution_count": 2,
      "metadata": {
        "id": "hYSlZ3gg-GSh"
      },
      "outputs": [],
      "source": [
        "train_datagen = ImageDataGenerator(rescale = 1./255,\n",
        "                                   validation_split = 0.2,\n",
        "\n",
        "        rotation_range=5,\n",
        "        width_shift_range=0.2,\n",
        "        height_shift_range=0.2,\n",
        "        shear_range=0.2,\n",
        "        horizontal_flip=True,\n",
        "        vertical_flip=True,\n",
        "        fill_mode='nearest')\n",
        "\n",
        "valid_datagen = ImageDataGenerator(rescale = 1./255,\n",
        "                                  validation_split = 0.2)\n",
        "\n",
        "test_datagen  = ImageDataGenerator(rescale = 1./255\n",
        "                                  )"
      ]
    },
    {
      "cell_type": "code",
      "execution_count": 5,
      "metadata": {
        "colab": {
          "base_uri": "https://localhost:8080/"
        },
        "id": "1F7w_b3s-IoJ",
        "outputId": "32f3a4f6-9787-4043-d3d5-2e93dd5a662b"
      },
      "outputs": [
        {
          "name": "stdout",
          "output_type": "stream",
          "text": [
            "Found 858 images belonging to 2 classes.\n"
          ]
        }
      ],
      "source": [
        "train_dataset  = train_datagen.flow_from_directory(directory = '/content/drive/MyDrive/MCI-CN/MCI-CN/train',\n",
        "                                                   target_size = (224,224),\n",
        "                                                   class_mode = 'binary',\n",
        "                                                   subset = 'training',\n",
        "                                                   batch_size = 32)"
      ]
    },
    {
      "cell_type": "code",
      "execution_count": 6,
      "metadata": {
        "colab": {
          "base_uri": "https://localhost:8080/"
        },
        "id": "mKz9IV-F-N_w",
        "outputId": "01b0132b-705e-498f-9c3b-525bdf251da5"
      },
      "outputs": [
        {
          "name": "stdout",
          "output_type": "stream",
          "text": [
            "Found 286 images belonging to 2 classes.\n"
          ]
        }
      ],
      "source": [
        "test_dataset = test_datagen.flow_from_directory(directory = '/content/drive/MyDrive/MCI-CN/MCI-CN/test',\n",
        "                                                  target_size = (224,224),\n",
        "                                                  class_mode = 'binary',\n",
        "                                                  batch_size = 32)"
      ]
    },
    {
      "cell_type": "code",
      "execution_count": 7,
      "metadata": {
        "colab": {
          "base_uri": "https://localhost:8080/"
        },
        "id": "NQYJKlYy-de8",
        "outputId": "24278311-f34d-4b23-fdf3-25793eb95e7b"
      },
      "outputs": [
        {
          "name": "stdout",
          "output_type": "stream",
          "text": [
            "Downloading data from https://storage.googleapis.com/tensorflow/keras-applications/vgg16/vgg16_weights_tf_dim_ordering_tf_kernels_notop.h5\n",
            "58889256/58889256 [==============================] - 0s 0us/step\n"
          ]
        }
      ],
      "source": [
        "base_model = VGG16(input_shape=(224, 224, 3), include_top=False, weights='imagenet')\n"
      ]
    },
    {
      "cell_type": "code",
      "execution_count": 8,
      "metadata": {
        "id": "j3Zt8WB4-fsf"
      },
      "outputs": [],
      "source": [
        "for layer in base_model.layers:\n",
        "    layer.trainable=False\n"
      ]
    },
    {
      "cell_type": "code",
      "execution_count": 9,
      "metadata": {
        "id": "M8xTRWp3-hdi"
      },
      "outputs": [],
      "source": [
        "model=Sequential()\n",
        "model.add(base_model)\n",
        "model.add(Dropout(0.5))\n",
        "model.add(tf.keras.layers.GlobalAveragePooling2D())\n",
        "model.add(Flatten())\n",
        "model.add(BatchNormalization())\n",
        "model.add(Dense(64,kernel_initializer='he_uniform'))\n",
        "model.add(BatchNormalization())\n",
        "model.add(Activation('relu'))\n",
        "model.add(Dropout(0.5))\n",
        "model.add(Dense(64,kernel_initializer='he_uniform'))\n",
        "model.add(BatchNormalization())\n",
        "model.add(Activation('relu'))\n",
        "model.add(Dropout(0.5))\n",
        "model.add(Dense(64,kernel_initializer='he_uniform'))\n",
        "model.add(BatchNormalization())\n",
        "model.add(Activation('relu'))\n",
        "model.add(Dropout(0.5))\n",
        "model.add(Dense(32,kernel_initializer='he_uniform'))\n",
        "model.add(BatchNormalization())\n",
        "model.add(Activation('relu'))\n",
        "model.add(Dropout(0.5))\n",
        "model.add(Dense(32,kernel_initializer='he_uniform'))\n",
        "model.add(BatchNormalization())\n",
        "model.add(Activation('relu'))\n",
        "model.add(Dense(1, activation='sigmoid'))"
      ]
    },
    {
      "cell_type": "code",
      "execution_count": 10,
      "metadata": {
        "id": "tiVMczw9-jzJ"
      },
      "outputs": [],
      "source": [
        "def f1_score(y_true, y_pred): \n",
        "    true_positives = K.sum(K.round(K.clip(y_true * y_pred, 0, 1)))\n",
        "    possible_positives = K.sum(K.round(K.clip(y_true, 0, 1)))\n",
        "    predicted_positives = K.sum(K.round(K.clip(y_pred, 0, 1)))\n",
        "    precision = true_positives / (predicted_positives + K.epsilon())\n",
        "    recall = true_positives / (possible_positives + K.epsilon())\n",
        "    f1_val = 2*(precision*recall)/(precision+recall+K.epsilon())\n",
        "    return f1_val"
      ]
    },
    {
      "cell_type": "code",
      "execution_count": 11,
      "metadata": {
        "id": "7HgmmgHD-mFL"
      },
      "outputs": [],
      "source": [
        "def exponential_decay(lr0, s):\n",
        "    def exponential_decay_fn(epoch):\n",
        "        return lr0 * 0.1 **(epoch / s)\n",
        "    return exponential_decay_fn\n",
        "\n",
        "exponential_decay_fn = exponential_decay(0.01, 5)\n",
        "\n",
        "lr_scheduler = tf.keras.callbacks.LearningRateScheduler(exponential_decay_fn)"
      ]
    },
    {
      "cell_type": "code",
      "execution_count": 12,
      "metadata": {
        "id": "SLWtt8aK-nnH"
      },
      "outputs": [],
      "source": [
        "\n",
        "METRICS = [\n",
        "      tf.keras.metrics.BinaryAccuracy(name='accuracy'),\n",
        "      tf.keras.metrics.Precision(name='precision'),\n",
        "      tf.keras.metrics.Recall(name='recall'),\n",
        "      tf.keras.metrics.AUC(name='auc'),\n",
        "        f1_score,\n",
        "]\n"
      ]
    },
    {
      "cell_type": "code",
      "execution_count": 13,
      "metadata": {
        "id": "Ns3J5RWD-pMO"
      },
      "outputs": [],
      "source": [
        "model.compile(optimizer='rmsprop', loss='binary_crossentropy',metrics=METRICS)"
      ]
    },
    {
      "cell_type": "code",
      "execution_count": 14,
      "metadata": {
        "colab": {
          "base_uri": "https://localhost:8080/"
        },
        "id": "HJKWKrjt-qyp",
        "outputId": "cb5352ef-0722-4739-86e5-05ae39ae4c7e"
      },
      "outputs": [
        {
          "name": "stdout",
          "output_type": "stream",
          "text": [
            "Epoch 1/20\n",
            "27/27 [==============================] - 145s 5s/step - loss: 0.6765 - accuracy: 0.6049 - precision: 0.6250 - recall: 0.7380 - auc: 0.6246 - f1_score: 0.6761 - lr: 0.0100\n",
            "Epoch 2/20\n",
            "27/27 [==============================] - 14s 524ms/step - loss: 0.5277 - accuracy: 0.7284 - precision: 0.7520 - recall: 0.7692 - auc: 0.8134 - f1_score: 0.7566 - lr: 0.0063\n",
            "Epoch 3/20\n",
            "27/27 [==============================] - 14s 516ms/step - loss: 0.4366 - accuracy: 0.8042 - precision: 0.8410 - recall: 0.8025 - auc: 0.8809 - f1_score: 0.8203 - lr: 0.0040\n",
            "Epoch 4/20\n",
            "27/27 [==============================] - 14s 524ms/step - loss: 0.3766 - accuracy: 0.8380 - precision: 0.8817 - recall: 0.8212 - auc: 0.9091 - f1_score: 0.8484 - lr: 0.0025\n",
            "Epoch 5/20\n",
            "27/27 [==============================] - 15s 546ms/step - loss: 0.3541 - accuracy: 0.8462 - precision: 0.8993 - recall: 0.8170 - auc: 0.9174 - f1_score: 0.8544 - lr: 0.0016\n",
            "Epoch 6/20\n",
            "27/27 [==============================] - 14s 531ms/step - loss: 0.3538 - accuracy: 0.8590 - precision: 0.9036 - recall: 0.8378 - auc: 0.9184 - f1_score: 0.8666 - lr: 0.0010\n",
            "Epoch 7/20\n",
            "27/27 [==============================] - 14s 524ms/step - loss: 0.3358 - accuracy: 0.8625 - precision: 0.9079 - recall: 0.8399 - auc: 0.9286 - f1_score: 0.8716 - lr: 6.3096e-04\n",
            "Epoch 8/20\n",
            "27/27 [==============================] - 14s 523ms/step - loss: 0.3290 - accuracy: 0.8695 - precision: 0.9165 - recall: 0.8441 - auc: 0.9259 - f1_score: 0.8793 - lr: 3.9811e-04\n",
            "Epoch 9/20\n",
            "27/27 [==============================] - 14s 518ms/step - loss: 0.3871 - accuracy: 0.8368 - precision: 0.8715 - recall: 0.8316 - auc: 0.9042 - f1_score: 0.8503 - lr: 2.5119e-04\n",
            "Epoch 10/20\n",
            "27/27 [==============================] - 14s 519ms/step - loss: 0.3332 - accuracy: 0.8508 - precision: 0.8829 - recall: 0.8462 - auc: 0.9285 - f1_score: 0.8636 - lr: 1.5849e-04\n",
            "Epoch 11/20\n",
            "27/27 [==============================] - 14s 519ms/step - loss: 0.3483 - accuracy: 0.8497 - precision: 0.8911 - recall: 0.8337 - auc: 0.9195 - f1_score: 0.8603 - lr: 1.0000e-04\n",
            "Epoch 12/20\n",
            "27/27 [==============================] - 14s 526ms/step - loss: 0.3122 - accuracy: 0.8718 - precision: 0.9169 - recall: 0.8482 - auc: 0.9371 - f1_score: 0.8803 - lr: 6.3096e-05\n",
            "Epoch 13/20\n",
            "27/27 [==============================] - 14s 516ms/step - loss: 0.3450 - accuracy: 0.8508 - precision: 0.8896 - recall: 0.8378 - auc: 0.9223 - f1_score: 0.8622 - lr: 3.9811e-05\n",
            "Epoch 14/20\n",
            "27/27 [==============================] - 14s 522ms/step - loss: 0.3265 - accuracy: 0.8508 - precision: 0.8966 - recall: 0.8295 - auc: 0.9320 - f1_score: 0.8610 - lr: 2.5119e-05\n",
            "Epoch 15/20\n",
            "27/27 [==============================] - 14s 522ms/step - loss: 0.3334 - accuracy: 0.8660 - precision: 0.8961 - recall: 0.8607 - auc: 0.9279 - f1_score: 0.8785 - lr: 1.5849e-05\n",
            "Epoch 16/20\n",
            "27/27 [==============================] - 14s 516ms/step - loss: 0.3363 - accuracy: 0.8462 - precision: 0.8869 - recall: 0.8316 - auc: 0.9234 - f1_score: 0.8566 - lr: 1.0000e-05\n",
            "Epoch 17/20\n",
            "27/27 [==============================] - 14s 526ms/step - loss: 0.3303 - accuracy: 0.8601 - precision: 0.9038 - recall: 0.8399 - auc: 0.9282 - f1_score: 0.8667 - lr: 6.3096e-06\n",
            "Epoch 18/20\n",
            "27/27 [==============================] - 14s 521ms/step - loss: 0.3430 - accuracy: 0.8555 - precision: 0.8940 - recall: 0.8420 - auc: 0.9238 - f1_score: 0.8661 - lr: 3.9811e-06\n",
            "Epoch 19/20\n",
            "27/27 [==============================] - 14s 522ms/step - loss: 0.3352 - accuracy: 0.8485 - precision: 0.8857 - recall: 0.8378 - auc: 0.9285 - f1_score: 0.8572 - lr: 2.5119e-06\n",
            "Epoch 20/20\n",
            "27/27 [==============================] - 14s 521ms/step - loss: 0.3256 - accuracy: 0.8648 - precision: 0.9011 - recall: 0.8524 - auc: 0.9313 - f1_score: 0.8746 - lr: 1.5849e-06\n"
          ]
        }
      ],
      "source": [
        "history=model.fit(train_dataset,\n",
        "                        epochs = 20,\n",
        "                        verbose = 1,\n",
        "                         callbacks=lr_scheduler)"
      ]
    },
    {
      "cell_type": "code",
      "execution_count": 15,
      "metadata": {
        "colab": {
          "base_uri": "https://localhost:8080/"
        },
        "id": "dz6KEp9U-sd9",
        "outputId": "54c5b83f-5247-493e-e871-ebebf7f7066e"
      },
      "outputs": [
        {
          "name": "stdout",
          "output_type": "stream",
          "text": [
            "9/9 [==============================] - 76s 9s/step - loss: 0.2527 - accuracy: 0.9161 - precision: 0.9806 - recall: 0.8211 - auc: 0.9653 - f1_score: 0.8928\n"
          ]
        }
      ],
      "source": [
        "scores = model.evaluate(test_dataset)"
      ]
    },
    {
      "cell_type": "code",
      "execution_count": 16,
      "metadata": {
        "colab": {
          "base_uri": "https://localhost:8080/"
        },
        "id": "XXH5zZa9-uU8",
        "outputId": "db4d012e-8c0e-4116-b1b8-b591520f6a5e"
      },
      "outputs": [
        {
          "name": "stdout",
          "output_type": "stream",
          "text": [
            "Accuracy =  0.9160839319229126\n",
            "Precision =  0.9805825352668762\n",
            "Recall =  0.8211382031440735\n",
            "AUC =  0.965334951877594\n",
            "F1_score =  0.8928124904632568\n"
          ]
        }
      ],
      "source": [
        "print(\"Accuracy = \", scores[1])\n",
        "print(\"Precision = \", scores[2])\n",
        "print(\"Recall = \", scores[3])\n",
        "print(\"AUC = \", scores[4])\n",
        "print(\"F1_score = \", scores[5])"
      ]
    },
    {
      "cell_type": "code",
      "execution_count": null,
      "metadata": {
        "id": "d8FHmMFq-v6-"
      },
      "outputs": [],
      "source": []
    }
  ],
  "metadata": {
    "accelerator": "GPU",
    "colab": {
      "gpuType": "T4",
      "provenance": []
    },
    "kernelspec": {
      "display_name": "Python 3",
      "name": "python3"
    },
    "language_info": {
      "name": "python"
    }
  },
  "nbformat": 4,
  "nbformat_minor": 0
}
