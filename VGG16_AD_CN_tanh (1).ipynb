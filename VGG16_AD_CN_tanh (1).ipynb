{
  "cells": [
    {
      "cell_type": "code",
      "execution_count": null,
      "metadata": {
        "id": "AQPrAzY7e9zj"
      },
      "outputs": [],
      "source": [
        "import numpy as np\n",
        "import pandas as pd\n",
        "import matplotlib.pyplot as plt\n",
        "import seaborn as sn\n",
        "import skimage.io\n",
        "import os\n",
        "import tqdm\n",
        "import glob\n",
        "import tensorflow\n",
        "\n",
        "from tqdm import tqdm\n",
        "from sklearn.utils import shuffle\n",
        "from sklearn import metrics\n",
        "from sklearn.metrics import confusion_matrix, classification_report\n",
        "from sklearn.model_selection import train_test_split\n",
        "from skimage.io import imread, imshow\n",
        "from skimage.transform import resize\n",
        "from skimage.color import gray2rgb\n",
        "\n",
        "import tensorflow as tf\n",
        "from tensorflow.keras.preprocessing.image import ImageDataGenerator\n",
        "from tensorflow.keras.preprocessing import image_dataset_from_directory\n",
        "from tensorflow.keras.models import Sequential\n",
        "from tensorflow.keras.layers import InputLayer, BatchNormalization, Dropout, Flatten, Dense, Activation, MaxPool2D, Conv2D\n",
        "from tensorflow.keras.callbacks import EarlyStopping, ModelCheckpoint\n",
        "from tensorflow.keras.applications import DenseNet121\n",
        "from tensorflow.keras.applications.vgg16 import VGG16\n",
        "\n",
        "from keras import optimizers\n",
        "\n",
        "from keras.callbacks import Callback,ModelCheckpoint\n",
        "from keras.models import Sequential,load_model\n",
        "from keras.layers import Dense, Dropout\n",
        "\n",
        "import keras.backend as K\n",
        "\n",
        "\n",
        "from typing import Optional"
      ]
    },
    {
      "cell_type": "code",
      "execution_count": null,
      "metadata": {
        "id": "O8XCriiWfUwt"
      },
      "outputs": [],
      "source": [
        "train_datagen = ImageDataGenerator(rescale = 1./255,\n",
        "                                   validation_split = 0.2,\n",
        "\n",
        "        rotation_range=5,\n",
        "        width_shift_range=0.2,\n",
        "        height_shift_range=0.2,\n",
        "        shear_range=0.2,\n",
        "        #zoom_range=0.2,\n",
        "        horizontal_flip=True,\n",
        "        vertical_flip=True,\n",
        "        fill_mode='nearest')\n",
        "\n",
        "valid_datagen = ImageDataGenerator(rescale = 1./255,\n",
        "                                  validation_split = 0.2)\n",
        "\n",
        "test_datagen  = ImageDataGenerator(rescale = 1./255\n",
        "                                  )"
      ]
    },
    {
      "cell_type": "code",
      "execution_count": null,
      "metadata": {
        "colab": {
          "base_uri": "https://localhost:8080/"
        },
        "id": "q3SATJ1_fXzj",
        "outputId": "d6f7151c-3b5e-4586-a8aa-8213a9cad730"
      },
      "outputs": [
        {
          "name": "stdout",
          "output_type": "stream",
          "text": [
            "Found 867 images belonging to 2 classes.\n"
          ]
        }
      ],
      "source": [
        "train_dataset  = train_datagen.flow_from_directory(directory = '/content/drive/MyDrive/AD-CN/AD-CN/train',\n",
        "                                                   target_size = (224,224),\n",
        "                                                   class_mode = 'binary',\n",
        "                                                   subset = 'training',\n",
        "                                                   batch_size = 32)"
      ]
    },
    {
      "cell_type": "code",
      "execution_count": null,
      "metadata": {
        "colab": {
          "base_uri": "https://localhost:8080/"
        },
        "id": "EuLvZPnQffxx",
        "outputId": "f21a93ef-e28a-418b-92be-349f13cb1cbe"
      },
      "outputs": [
        {
          "name": "stdout",
          "output_type": "stream",
          "text": [
            "Found 323 images belonging to 2 classes.\n"
          ]
        }
      ],
      "source": [
        "test_dataset = test_datagen.flow_from_directory(directory = '/content/drive/MyDrive/AD-CN/AD-CN/test',\n",
        "                                                  target_size = (224,224),\n",
        "                                                  class_mode = 'binary',\n",
        "                                                  batch_size = 32)"
      ]
    },
    {
      "cell_type": "code",
      "execution_count": null,
      "metadata": {
        "colab": {
          "base_uri": "https://localhost:8080/"
        },
        "id": "DhK3GFbPfkGh",
        "outputId": "34a5d63c-0177-4311-dc28-58fb3031447d"
      },
      "outputs": [
        {
          "name": "stdout",
          "output_type": "stream",
          "text": [
            "Downloading data from https://storage.googleapis.com/tensorflow/keras-applications/vgg16/vgg16_weights_tf_dim_ordering_tf_kernels_notop.h5\n",
            "58889256/58889256 [==============================] - 0s 0us/step\n"
          ]
        }
      ],
      "source": [
        "base_model = VGG16(input_shape=(224, 224, 3), include_top=False, weights='imagenet')\n"
      ]
    },
    {
      "cell_type": "code",
      "execution_count": null,
      "metadata": {
        "id": "HO5du5rWfmXl"
      },
      "outputs": [],
      "source": [
        "for layer in base_model.layers:\n",
        "    layer.trainable=False\n"
      ]
    },
    {
      "cell_type": "code",
      "execution_count": null,
      "metadata": {
        "id": "U7gO68trfo3A"
      },
      "outputs": [],
      "source": [
        "model=Sequential()\n",
        "model.add(base_model)\n",
        "model.add(Dropout(0.5))\n",
        "model.add(tf.keras.layers.GlobalAveragePooling2D())\n",
        "model.add(Flatten())\n",
        "model.add(BatchNormalization())\n",
        "model.add(Dense(64,kernel_initializer='he_uniform'))\n",
        "model.add(BatchNormalization())\n",
        "model.add(Activation('tanh'))\n",
        "model.add(Dropout(0.5))\n",
        "model.add(Dense(64,kernel_initializer='he_uniform'))\n",
        "model.add(BatchNormalization())\n",
        "model.add(Activation('tanh'))\n",
        "model.add(Dropout(0.5))\n",
        "model.add(Dense(64,kernel_initializer='he_uniform'))\n",
        "model.add(BatchNormalization())\n",
        "model.add(Activation('tanh'))\n",
        "model.add(Dropout(0.5))\n",
        "model.add(Dense(32,kernel_initializer='he_uniform'))\n",
        "model.add(BatchNormalization())\n",
        "model.add(Activation('tanh'))\n",
        "model.add(Dropout(0.5))\n",
        "model.add(Dense(32,kernel_initializer='he_uniform'))\n",
        "model.add(BatchNormalization())\n",
        "model.add(Activation('tanh'))\n",
        "model.add(Dense(1, activation='sigmoid'))"
      ]
    },
    {
      "cell_type": "code",
      "execution_count": null,
      "metadata": {
        "id": "CRxWRQ0vfv9d"
      },
      "outputs": [],
      "source": [
        "def f1_score(y_true, y_pred): #taken from old keras source code\n",
        "    true_positives = K.sum(K.round(K.clip(y_true * y_pred, 0, 1)))\n",
        "    possible_positives = K.sum(K.round(K.clip(y_true, 0, 1)))\n",
        "    predicted_positives = K.sum(K.round(K.clip(y_pred, 0, 1)))\n",
        "    precision = true_positives / (predicted_positives + K.epsilon())\n",
        "    recall = true_positives / (possible_positives + K.epsilon())\n",
        "    f1_val = 2*(precision*recall)/(precision+recall+K.epsilon())\n",
        "    return f1_val"
      ]
    },
    {
      "cell_type": "code",
      "execution_count": null,
      "metadata": {
        "id": "E3yn5Y5jfybC"
      },
      "outputs": [],
      "source": [
        "def exponential_decay(lr0, s):\n",
        "    def exponential_decay_fn(epoch):\n",
        "        return lr0 * 0.1 **(epoch / s)\n",
        "    return exponential_decay_fn\n",
        "\n",
        "exponential_decay_fn = exponential_decay(0.01, 5) # when i run it for 50 epochs\n",
        "\n",
        "lr_scheduler = tf.keras.callbacks.LearningRateScheduler(exponential_decay_fn)"
      ]
    },
    {
      "cell_type": "code",
      "execution_count": null,
      "metadata": {
        "id": "PAH0Jszsf0Fp"
      },
      "outputs": [],
      "source": [
        "METRICS = [\n",
        "      tf.keras.metrics.BinaryAccuracy(name='accuracy'),\n",
        "      tf.keras.metrics.Precision(name='precision'),\n",
        "      tf.keras.metrics.Recall(name='recall'),\n",
        "      tf.keras.metrics.AUC(name='auc'),\n",
        "        f1_score,\n",
        "]\n"
      ]
    },
    {
      "cell_type": "code",
      "execution_count": null,
      "metadata": {
        "id": "MGw69J0Zf2eA"
      },
      "outputs": [],
      "source": [
        "model.compile(optimizer='rmsprop', loss='binary_crossentropy',metrics=METRICS)"
      ]
    },
    {
      "cell_type": "code",
      "execution_count": null,
      "metadata": {
        "colab": {
          "base_uri": "https://localhost:8080/"
        },
        "id": "RZ_de_jDf4Zm",
        "outputId": "e4bb13c6-e300-44df-de9b-8986c2acf6f8"
      },
      "outputs": [
        {
          "name": "stdout",
          "output_type": "stream",
          "text": [
            "Epoch 1/20\n",
            "28/28 [==============================] - 216s 7s/step - loss: 0.5418 - accuracy: 0.7197 - precision: 0.6658 - recall: 0.7135 - auc: 0.8037 - f1_score: 0.6572 - lr: 0.0100\n",
            "Epoch 2/20\n",
            "28/28 [==============================] - 15s 528ms/step - loss: 0.4029 - accuracy: 0.8281 - precision: 0.7850 - recall: 0.8329 - auc: 0.8956 - f1_score: 0.7793 - lr: 0.0063\n",
            "Epoch 3/20\n",
            "28/28 [==============================] - 15s 524ms/step - loss: 0.3724 - accuracy: 0.8466 - precision: 0.7919 - recall: 0.8780 - auc: 0.9059 - f1_score: 0.8354 - lr: 0.0040\n",
            "Epoch 4/20\n",
            "28/28 [==============================] - 15s 535ms/step - loss: 0.3466 - accuracy: 0.8570 - precision: 0.8048 - recall: 0.8859 - auc: 0.9222 - f1_score: 0.8469 - lr: 0.0025\n",
            "Epoch 5/20\n",
            "28/28 [==============================] - 15s 522ms/step - loss: 0.3571 - accuracy: 0.8593 - precision: 0.8058 - recall: 0.8912 - auc: 0.9142 - f1_score: 0.8480 - lr: 0.0016\n",
            "Epoch 6/20\n",
            "28/28 [==============================] - 15s 524ms/step - loss: 0.3314 - accuracy: 0.8708 - precision: 0.8240 - recall: 0.8939 - auc: 0.9262 - f1_score: 0.8455 - lr: 0.0010\n",
            "Epoch 7/20\n",
            "28/28 [==============================] - 15s 514ms/step - loss: 0.3203 - accuracy: 0.8720 - precision: 0.8197 - recall: 0.9045 - auc: 0.9269 - f1_score: 0.8612 - lr: 6.3096e-04\n",
            "Epoch 8/20\n",
            "28/28 [==============================] - 15s 516ms/step - loss: 0.3305 - accuracy: 0.8743 - precision: 0.8221 - recall: 0.9072 - auc: 0.9238 - f1_score: 0.8645 - lr: 3.9811e-04\n",
            "Epoch 9/20\n",
            "28/28 [==============================] - 14s 514ms/step - loss: 0.3471 - accuracy: 0.8651 - precision: 0.8155 - recall: 0.8912 - auc: 0.9115 - f1_score: 0.8532 - lr: 2.5119e-04\n",
            "Epoch 10/20\n",
            "28/28 [==============================] - 15s 521ms/step - loss: 0.3334 - accuracy: 0.8639 - precision: 0.8120 - recall: 0.8939 - auc: 0.9269 - f1_score: 0.8479 - lr: 1.5849e-04\n",
            "Epoch 11/20\n",
            "28/28 [==============================] - 15s 519ms/step - loss: 0.3310 - accuracy: 0.8685 - precision: 0.8184 - recall: 0.8966 - auc: 0.9265 - f1_score: 0.8580 - lr: 1.0000e-04\n",
            "Epoch 12/20\n",
            "28/28 [==============================] - 15s 519ms/step - loss: 0.3572 - accuracy: 0.8489 - precision: 0.8000 - recall: 0.8700 - auc: 0.9196 - f1_score: 0.8269 - lr: 6.3096e-05\n",
            "Epoch 13/20\n",
            "28/28 [==============================] - 15s 523ms/step - loss: 0.3455 - accuracy: 0.8570 - precision: 0.8219 - recall: 0.8568 - auc: 0.9227 - f1_score: 0.8432 - lr: 3.9811e-05\n",
            "Epoch 14/20\n",
            "28/28 [==============================] - 15s 522ms/step - loss: 0.3326 - accuracy: 0.8731 - precision: 0.8248 - recall: 0.8992 - auc: 0.9231 - f1_score: 0.8627 - lr: 2.5119e-05\n",
            "Epoch 15/20\n",
            "28/28 [==============================] - 15s 529ms/step - loss: 0.3323 - accuracy: 0.8720 - precision: 0.8197 - recall: 0.9045 - auc: 0.9246 - f1_score: 0.8509 - lr: 1.5849e-05\n",
            "Epoch 16/20\n",
            "28/28 [==============================] - 15s 538ms/step - loss: 0.3381 - accuracy: 0.8697 - precision: 0.8267 - recall: 0.8859 - auc: 0.9191 - f1_score: 0.8274 - lr: 1.0000e-05\n",
            "Epoch 17/20\n",
            "28/28 [==============================] - 15s 531ms/step - loss: 0.3506 - accuracy: 0.8604 - precision: 0.8168 - recall: 0.8753 - auc: 0.9193 - f1_score: 0.8164 - lr: 6.3096e-06\n",
            "Epoch 18/20\n",
            "28/28 [==============================] - 15s 524ms/step - loss: 0.3364 - accuracy: 0.8685 - precision: 0.8329 - recall: 0.8727 - auc: 0.9199 - f1_score: 0.8434 - lr: 3.9811e-06\n",
            "Epoch 19/20\n",
            "28/28 [==============================] - 15s 529ms/step - loss: 0.3518 - accuracy: 0.8581 - precision: 0.8098 - recall: 0.8806 - auc: 0.9182 - f1_score: 0.8330 - lr: 2.5119e-06\n",
            "Epoch 20/20\n",
            "28/28 [==============================] - 15s 523ms/step - loss: 0.3566 - accuracy: 0.8524 - precision: 0.8044 - recall: 0.8727 - auc: 0.9156 - f1_score: 0.8375 - lr: 1.5849e-06\n"
          ]
        }
      ],
      "source": [
        "history=model.fit(train_dataset,\n",
        "                        epochs = 20,\n",
        "                        verbose = 1,\n",
        "                         callbacks=lr_scheduler)"
      ]
    },
    {
      "cell_type": "code",
      "execution_count": null,
      "metadata": {
        "colab": {
          "base_uri": "https://localhost:8080/"
        },
        "id": "4MiX59xdf6Lj",
        "outputId": "5da2719b-6d7c-40ea-ff8b-6396ca3b7c73"
      },
      "outputs": [
        {
          "name": "stdout",
          "output_type": "stream",
          "text": [
            "11/11 [==============================] - 121s 12s/step - loss: 0.3301 - accuracy: 0.8638 - precision: 0.8148 - recall: 0.9448 - auc: 0.9392 - f1_score: 0.8561\n"
          ]
        }
      ],
      "source": [
        "scores = model.evaluate(test_dataset)"
      ]
    },
    {
      "cell_type": "code",
      "execution_count": null,
      "metadata": {
        "colab": {
          "base_uri": "https://localhost:8080/"
        },
        "id": "dMttH19t16fR",
        "outputId": "2fd9db59-504b-4d2f-c656-d7bbdb2b9c68"
      },
      "outputs": [
        {
          "name": "stdout",
          "output_type": "stream",
          "text": [
            "Accuracy =  0.8637771010398865\n",
            "Precision =  0.8148148059844971\n",
            "Recall =  0.9447852969169617\n",
            "AUC =  0.9391679763793945\n",
            "F1_score =  0.8560542464256287\n"
          ]
        }
      ],
      "source": [
        "print(\"Accuracy = \", scores[1])\n",
        "print(\"Precision = \", scores[2])\n",
        "print(\"Recall = \", scores[3])\n",
        "print(\"AUC = \", scores[4])\n",
        "print(\"F1_score = \", scores[5])"
      ]
    },
    {
      "cell_type": "code",
      "execution_count": null,
      "metadata": {
        "id": "Jt3NNqh72hJl"
      },
      "outputs": [],
      "source": []
    }
  ],
  "metadata": {
    "accelerator": "GPU",
    "colab": {
      "gpuType": "T4",
      "provenance": []
    },
    "kernelspec": {
      "display_name": "Python 3",
      "name": "python3"
    },
    "language_info": {
      "name": "python"
    }
  },
  "nbformat": 4,
  "nbformat_minor": 0
}
