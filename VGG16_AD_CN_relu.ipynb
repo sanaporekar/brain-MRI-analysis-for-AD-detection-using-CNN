{
  "cells": [
    {
      "cell_type": "code",
      "execution_count": 2,
      "metadata": {
        "colab": {
          "base_uri": "https://localhost:8080/"
        },
        "id": "j0FEKKmwlqUT",
        "outputId": "021353bb-7b9e-4ed4-ca51-bcb351f0fe7d"
      },
      "outputs": [
        {
          "name": "stdout",
          "output_type": "stream",
          "text": [
            "Mounted at /content/drive\n"
          ]
        }
      ],
      "source": [
        "from google.colab import drive\n",
        "drive.mount('/content/drive')"
      ]
    },
    {
      "cell_type": "code",
      "execution_count": 3,
      "metadata": {
        "id": "O3WRnv-xl41a"
      },
      "outputs": [],
      "source": [
        "import numpy as np\n",
        "import pandas as pd\n",
        "import matplotlib.pyplot as plt\n",
        "import seaborn as sn\n",
        "import skimage.io\n",
        "import os\n",
        "import tqdm\n",
        "import glob\n",
        "import tensorflow\n",
        "\n",
        "from tqdm import tqdm\n",
        "from sklearn.utils import shuffle\n",
        "from sklearn import metrics\n",
        "from sklearn.metrics import confusion_matrix, classification_report\n",
        "from sklearn.model_selection import train_test_split\n",
        "from skimage.io import imread, imshow\n",
        "from skimage.transform import resize\n",
        "from skimage.color import gray2rgb\n",
        "\n",
        "import tensorflow as tf\n",
        "from tensorflow.keras.preprocessing.image import ImageDataGenerator\n",
        "from tensorflow.keras.preprocessing import image_dataset_from_directory\n",
        "from tensorflow.keras.models import Sequential\n",
        "from tensorflow.keras.layers import InputLayer, BatchNormalization, Dropout, Flatten, Dense, Activation, MaxPool2D, Conv2D\n",
        "from tensorflow.keras.callbacks import EarlyStopping, ModelCheckpoint\n",
        "from tensorflow.keras.applications import DenseNet121\n",
        "from tensorflow.keras.applications.vgg16 import VGG16\n",
        "from keras import optimizers\n",
        "\n",
        "from keras.callbacks import Callback,ModelCheckpoint\n",
        "from keras.models import Sequential,load_model\n",
        "from keras.layers import Dense, Dropout\n",
        "import keras.backend as K\n",
        "from typing import Optional"
      ]
    },
    {
      "cell_type": "code",
      "execution_count": 4,
      "metadata": {
        "id": "Ml644udAmHeK"
      },
      "outputs": [],
      "source": [
        "train_datagen = ImageDataGenerator(rescale = 1./255,\n",
        "                                   validation_split = 0.2,\n",
        "\n",
        "        rotation_range=5,\n",
        "        width_shift_range=0.2,\n",
        "        height_shift_range=0.2,\n",
        "        shear_range=0.2,\n",
        "        horizontal_flip=True,\n",
        "        vertical_flip=True,\n",
        "        fill_mode='nearest')\n",
        "\n",
        "valid_datagen = ImageDataGenerator(rescale = 1./255,\n",
        "                                  validation_split = 0.2)\n",
        "\n",
        "test_datagen  = ImageDataGenerator(rescale = 1./255\n",
        "                                  )"
      ]
    },
    {
      "cell_type": "code",
      "execution_count": 5,
      "metadata": {
        "colab": {
          "base_uri": "https://localhost:8080/"
        },
        "id": "MBwh2fNKmKd7",
        "outputId": "50a98d61-96d9-4044-f9fe-4b4b1830b944"
      },
      "outputs": [
        {
          "name": "stdout",
          "output_type": "stream",
          "text": [
            "Found 867 images belonging to 2 classes.\n"
          ]
        }
      ],
      "source": [
        "train_dataset  = train_datagen.flow_from_directory(directory = '/content/drive/MyDrive/AD-CN/AD-CN/train',\n",
        "                                                   target_size = (224,224),\n",
        "                                                   class_mode = 'binary',\n",
        "                                                   subset = 'training',\n",
        "                                                   batch_size = 32)"
      ]
    },
    {
      "cell_type": "code",
      "execution_count": 6,
      "metadata": {
        "colab": {
          "base_uri": "https://localhost:8080/"
        },
        "id": "w31uy4LomNxI",
        "outputId": "a76f8fab-150c-41c2-f274-9628f45ca78d"
      },
      "outputs": [
        {
          "name": "stdout",
          "output_type": "stream",
          "text": [
            "Found 323 images belonging to 2 classes.\n"
          ]
        }
      ],
      "source": [
        "test_dataset = test_datagen.flow_from_directory(directory = '/content/drive/MyDrive/AD-CN/AD-CN/test',\n",
        "                                                  target_size = (224,224),\n",
        "                                                  class_mode = 'binary',\n",
        "                                                  batch_size = 32)"
      ]
    },
    {
      "cell_type": "code",
      "execution_count": 7,
      "metadata": {
        "colab": {
          "base_uri": "https://localhost:8080/"
        },
        "id": "pGPP-WaJmQO0",
        "outputId": "cc03d1b0-3a05-4380-9138-5af35f04cbdb"
      },
      "outputs": [
        {
          "name": "stdout",
          "output_type": "stream",
          "text": [
            "Downloading data from https://storage.googleapis.com/tensorflow/keras-applications/vgg16/vgg16_weights_tf_dim_ordering_tf_kernels_notop.h5\n",
            "58889256/58889256 [==============================] - 0s 0us/step\n"
          ]
        }
      ],
      "source": [
        "base_model = VGG16(input_shape=(224, 224, 3), include_top=False, weights='imagenet')\n"
      ]
    },
    {
      "cell_type": "code",
      "execution_count": 8,
      "metadata": {
        "id": "1cPyMamcmSdl"
      },
      "outputs": [],
      "source": [
        "for layer in base_model.layers:\n",
        "    layer.trainable=False\n"
      ]
    },
    {
      "cell_type": "code",
      "execution_count": 9,
      "metadata": {
        "id": "IcG6-TPmmUtd"
      },
      "outputs": [],
      "source": [
        "model=Sequential()\n",
        "model.add(base_model)\n",
        "model.add(Dropout(0.5))\n",
        "model.add(tf.keras.layers.GlobalAveragePooling2D())\n",
        "model.add(Flatten())\n",
        "model.add(BatchNormalization())\n",
        "model.add(Dense(64,kernel_initializer='he_uniform'))\n",
        "model.add(BatchNormalization())\n",
        "model.add(Activation('relu'))\n",
        "model.add(Dropout(0.5))\n",
        "model.add(Dense(64,kernel_initializer='he_uniform'))\n",
        "model.add(BatchNormalization())\n",
        "model.add(Activation('relu'))\n",
        "model.add(Dropout(0.5))\n",
        "model.add(Dense(64,kernel_initializer='he_uniform'))\n",
        "model.add(BatchNormalization())\n",
        "model.add(Activation('relu'))\n",
        "model.add(Dropout(0.5))\n",
        "model.add(Dense(32,kernel_initializer='he_uniform'))\n",
        "model.add(BatchNormalization())\n",
        "model.add(Activation('relu'))\n",
        "model.add(Dropout(0.5))\n",
        "model.add(Dense(32,kernel_initializer='he_uniform'))\n",
        "model.add(BatchNormalization())\n",
        "model.add(Activation('relu'))\n",
        "model.add(Dense(1, activation='sigmoid'))"
      ]
    },
    {
      "cell_type": "code",
      "execution_count": 12,
      "metadata": {
        "id": "GciqkkxcmWqX"
      },
      "outputs": [],
      "source": [
        "def f1_score(y_true, y_pred):\n",
        "    true_positives = K.sum(K.round(K.clip(y_true * y_pred, 0, 1)))\n",
        "    possible_positives = K.sum(K.round(K.clip(y_true, 0, 1)))\n",
        "    predicted_positives = K.sum(K.round(K.clip(y_pred, 0, 1)))\n",
        "    precision = true_positives / (predicted_positives + K.epsilon())\n",
        "    recall = true_positives / (possible_positives + K.epsilon())\n",
        "    f1_val = 2*(precision*recall)/(precision+recall+K.epsilon())\n",
        "    return f1_val"
      ]
    },
    {
      "cell_type": "code",
      "execution_count": 13,
      "metadata": {
        "id": "ZBVYRjA3mY1b"
      },
      "outputs": [],
      "source": [
        "def exponential_decay(lr0, s):\n",
        "    def exponential_decay_fn(epoch):\n",
        "        return lr0 * 0.1 **(epoch / s)\n",
        "    return exponential_decay_fn\n",
        "\n",
        "exponential_decay_fn = exponential_decay(0.01, 5) \n",
        "\n",
        "lr_scheduler = tf.keras.callbacks.LearningRateScheduler(exponential_decay_fn)"
      ]
    },
    {
      "cell_type": "code",
      "execution_count": 14,
      "metadata": {
        "id": "c98hbgNembCm"
      },
      "outputs": [],
      "source": [
        "\n",
        "METRICS = [\n",
        "      tf.keras.metrics.BinaryAccuracy(name='accuracy'),\n",
        "      tf.keras.metrics.Precision(name='precision'),\n",
        "      tf.keras.metrics.Recall(name='recall'),\n",
        "      tf.keras.metrics.AUC(name='auc'),\n",
        "        f1_score,\n",
        "]\n"
      ]
    },
    {
      "cell_type": "code",
      "execution_count": 15,
      "metadata": {
        "id": "Nq9A6Y_0mdAY"
      },
      "outputs": [],
      "source": [
        "model.compile(optimizer='rmsprop', loss='binary_crossentropy',metrics=METRICS)"
      ]
    },
    {
      "cell_type": "code",
      "execution_count": 19,
      "metadata": {
        "colab": {
          "base_uri": "https://localhost:8080/"
        },
        "id": "1wTyCM3QmfBw",
        "outputId": "5c472d03-9eb4-4222-abfe-54c001a73f36"
      },
      "outputs": [
        {
          "name": "stdout",
          "output_type": "stream",
          "text": [
            "Epoch 1/20\n",
            "28/28 [==============================] - 16s 559ms/step - loss: 0.4090 - accuracy: 0.8270 - precision: 0.7420 - recall: 0.9231 - auc: 0.8730 - f1_score: 0.7876 - lr: 0.0100\n",
            "Epoch 2/20\n",
            "28/28 [==============================] - 16s 568ms/step - loss: 0.3826 - accuracy: 0.8328 - precision: 0.7555 - recall: 0.9098 - auc: 0.8892 - f1_score: 0.7964 - lr: 0.0063\n",
            "Epoch 3/20\n",
            "28/28 [==============================] - 16s 564ms/step - loss: 0.3885 - accuracy: 0.8397 - precision: 0.7490 - recall: 0.9496 - auc: 0.8773 - f1_score: 0.8037 - lr: 0.0040\n",
            "Epoch 4/20\n",
            "28/28 [==============================] - 16s 574ms/step - loss: 0.3695 - accuracy: 0.8443 - precision: 0.7642 - recall: 0.9284 - auc: 0.9016 - f1_score: 0.8406 - lr: 0.0025\n",
            "Epoch 5/20\n",
            "28/28 [==============================] - 16s 561ms/step - loss: 0.3605 - accuracy: 0.8512 - precision: 0.7743 - recall: 0.9284 - auc: 0.9030 - f1_score: 0.8367 - lr: 0.0016\n",
            "Epoch 6/20\n",
            "28/28 [==============================] - 16s 555ms/step - loss: 0.3998 - accuracy: 0.8489 - precision: 0.7770 - recall: 0.9151 - auc: 0.8869 - f1_score: 0.8287 - lr: 0.0010\n",
            "Epoch 7/20\n",
            "28/28 [==============================] - 19s 660ms/step - loss: 0.3835 - accuracy: 0.8362 - precision: 0.7474 - recall: 0.9416 - auc: 0.8800 - f1_score: 0.8354 - lr: 6.3096e-04\n",
            "Epoch 8/20\n",
            "28/28 [==============================] - 16s 560ms/step - loss: 0.3469 - accuracy: 0.8604 - precision: 0.7795 - recall: 0.9469 - auc: 0.9171 - f1_score: 0.8584 - lr: 3.9811e-04\n",
            "Epoch 9/20\n",
            "28/28 [==============================] - 16s 556ms/step - loss: 0.3557 - accuracy: 0.8547 - precision: 0.7770 - recall: 0.9337 - auc: 0.9095 - f1_score: 0.8363 - lr: 2.5119e-04\n",
            "Epoch 10/20\n",
            "28/28 [==============================] - 16s 558ms/step - loss: 0.3365 - accuracy: 0.8570 - precision: 0.7792 - recall: 0.9363 - auc: 0.9033 - f1_score: 0.8160 - lr: 1.5849e-04\n",
            "Epoch 11/20\n",
            "28/28 [==============================] - 17s 579ms/step - loss: 0.3572 - accuracy: 0.8524 - precision: 0.7701 - recall: 0.9416 - auc: 0.8970 - f1_score: 0.8365 - lr: 1.0000e-04\n",
            "Epoch 12/20\n",
            "28/28 [==============================] - 16s 572ms/step - loss: 0.3412 - accuracy: 0.8662 - precision: 0.7881 - recall: 0.9469 - auc: 0.9092 - f1_score: 0.8439 - lr: 6.3096e-05\n",
            "Epoch 13/20\n",
            "28/28 [==============================] - 16s 570ms/step - loss: 0.3555 - accuracy: 0.8501 - precision: 0.7691 - recall: 0.9363 - auc: 0.8940 - f1_score: 0.8416 - lr: 3.9811e-05\n",
            "Epoch 14/20\n",
            "28/28 [==============================] - 16s 572ms/step - loss: 0.3676 - accuracy: 0.8454 - precision: 0.7670 - recall: 0.9257 - auc: 0.8989 - f1_score: 0.8064 - lr: 2.5119e-05\n",
            "Epoch 15/20\n",
            "28/28 [==============================] - 16s 563ms/step - loss: 0.3660 - accuracy: 0.8570 - precision: 0.7756 - recall: 0.9443 - auc: 0.8984 - f1_score: 0.8522 - lr: 1.5849e-05\n",
            "Epoch 16/20\n",
            "28/28 [==============================] - 16s 559ms/step - loss: 0.3543 - accuracy: 0.8524 - precision: 0.7748 - recall: 0.9310 - auc: 0.9108 - f1_score: 0.8137 - lr: 1.0000e-05\n",
            "Epoch 17/20\n",
            "28/28 [==============================] - 16s 566ms/step - loss: 0.3818 - accuracy: 0.8501 - precision: 0.7679 - recall: 0.9390 - auc: 0.8870 - f1_score: 0.8128 - lr: 6.3096e-06\n",
            "Epoch 18/20\n",
            "28/28 [==============================] - 16s 575ms/step - loss: 0.3567 - accuracy: 0.8478 - precision: 0.7634 - recall: 0.9416 - auc: 0.9031 - f1_score: 0.8335 - lr: 3.9811e-06\n",
            "Epoch 19/20\n",
            "28/28 [==============================] - 16s 566ms/step - loss: 0.3515 - accuracy: 0.8570 - precision: 0.7805 - recall: 0.9337 - auc: 0.9009 - f1_score: 0.8491 - lr: 2.5119e-06\n",
            "Epoch 20/20\n",
            "28/28 [==============================] - 16s 568ms/step - loss: 0.3559 - accuracy: 0.8512 - precision: 0.7684 - recall: 0.9416 - auc: 0.8953 - f1_score: 0.8335 - lr: 1.5849e-06\n"
          ]
        }
      ],
      "source": [
        "history=model.fit(train_dataset,\n",
        "                        epochs = 20,\n",
        "                        verbose = 1,\n",
        "                         callbacks=lr_scheduler)"
      ]
    },
    {
      "cell_type": "code",
      "execution_count": 20,
      "metadata": {
        "colab": {
          "base_uri": "https://localhost:8080/"
        },
        "id": "_LGf1X8Gmg3H",
        "outputId": "e182695f-4736-4c0c-c4c0-aa8f1fde7b57"
      },
      "outputs": [
        {
          "name": "stdout",
          "output_type": "stream",
          "text": [
            "11/11 [==============================] - 2s 145ms/step - loss: 0.3496 - accuracy: 0.8638 - precision: 0.7902 - recall: 0.9939 - auc: 0.9449 - f1_score: 0.8854\n"
          ]
        }
      ],
      "source": [
        "scores = model.evaluate(test_dataset)"
      ]
    },
    {
      "cell_type": "code",
      "execution_count": 21,
      "metadata": {
        "colab": {
          "base_uri": "https://localhost:8080/"
        },
        "id": "vrNJ-Y4ixO-8",
        "outputId": "1f0be60e-b875-417f-c1c5-879fec0f1758"
      },
      "outputs": [
        {
          "name": "stdout",
          "output_type": "stream",
          "text": [
            "Accuracy =  0.8637771010398865\n",
            "Precision =  0.790243923664093\n",
            "Recall =  0.9938650131225586\n",
            "AUC =  0.9449194669723511\n",
            "F1_score =  0.8854069113731384\n"
          ]
        }
      ],
      "source": [
        "print(\"Accuracy = \", scores[1])\n",
        "print(\"Precision = \", scores[2])\n",
        "print(\"Recall = \", scores[3])\n",
        "print(\"AUC = \", scores[4])\n",
        "print(\"F1_score = \", scores[5])"
      ]
    },
    {
      "cell_type": "code",
      "execution_count": null,
      "metadata": {
        "id": "ZTE69Ahoypuq"
      },
      "outputs": [],
      "source": []
    }
  ],
  "metadata": {
    "accelerator": "GPU",
    "colab": {
      "gpuType": "T4",
      "provenance": []
    },
    "kernelspec": {
      "display_name": "Python 3",
      "name": "python3"
    },
    "language_info": {
      "name": "python"
    }
  },
  "nbformat": 4,
  "nbformat_minor": 0
}
