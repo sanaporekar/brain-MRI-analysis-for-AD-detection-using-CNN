{
  "cells": [
    {
      "cell_type": "code",
      "execution_count": 1,
      "metadata": {
        "colab": {
          "base_uri": "https://localhost:8080/"
        },
        "id": "j0FEKKmwlqUT",
        "outputId": "5326e6c7-847f-4eb2-c973-613cdd92b90d"
      },
      "outputs": [
        {
          "name": "stdout",
          "output_type": "stream",
          "text": [
            "Mounted at /content/drive\n"
          ]
        }
      ],
      "source": [
        "from google.colab import drive\n",
        "drive.mount('/content/drive')"
      ]
    },
    {
      "cell_type": "code",
      "execution_count": 2,
      "metadata": {
        "id": "O3WRnv-xl41a"
      },
      "outputs": [],
      "source": [
        "import numpy as np\n",
        "import pandas as pd\n",
        "import matplotlib.pyplot as plt\n",
        "import seaborn as sn\n",
        "import skimage.io\n",
        "import os\n",
        "import tqdm\n",
        "import glob\n",
        "import tensorflow\n",
        "\n",
        "from tqdm import tqdm\n",
        "from sklearn.utils import shuffle\n",
        "from sklearn import metrics\n",
        "from sklearn.metrics import confusion_matrix, classification_report\n",
        "from sklearn.model_selection import train_test_split\n",
        "from skimage.io import imread, imshow\n",
        "from skimage.transform import resize\n",
        "from skimage.color import gray2rgb\n",
        "\n",
        "import tensorflow as tf\n",
        "from tensorflow.keras.preprocessing.image import ImageDataGenerator\n",
        "from tensorflow.keras.preprocessing import image_dataset_from_directory\n",
        "from tensorflow.keras.models import Sequential\n",
        "from tensorflow.keras.layers import InputLayer, BatchNormalization, Dropout, Flatten, Dense, Activation, MaxPool2D, Conv2D\n",
        "from tensorflow.keras.callbacks import EarlyStopping, ModelCheckpoint\n",
        "from tensorflow.keras.applications import DenseNet121\n",
        "from tensorflow.keras.applications.vgg16 import VGG16\n",
        "from keras import optimizers\n",
        "\n",
        "from keras.callbacks import Callback,ModelCheckpoint\n",
        "from keras.models import Sequential,load_model\n",
        "from keras.layers import Dense, Dropout\n",
        "\n",
        "import keras.backend as K\n",
        "\n",
        "\n",
        "from typing import Optional"
      ]
    },
    {
      "cell_type": "code",
      "execution_count": 3,
      "metadata": {
        "id": "Ml644udAmHeK"
      },
      "outputs": [],
      "source": [
        "train_datagen = ImageDataGenerator(rescale = 1./255,\n",
        "                                   validation_split = 0.2,\n",
        "\n",
        "        rotation_range=5,\n",
        "        width_shift_range=0.2,\n",
        "        height_shift_range=0.2,\n",
        "        shear_range=0.2,\n",
        "        horizontal_flip=True,\n",
        "        vertical_flip=True,\n",
        "        fill_mode='nearest')\n",
        "\n",
        "valid_datagen = ImageDataGenerator(rescale = 1./255,\n",
        "                                  validation_split = 0.2)\n",
        "\n",
        "test_datagen  = ImageDataGenerator(rescale = 1./255\n",
        "                                  )"
      ]
    },
    {
      "cell_type": "code",
      "execution_count": 6,
      "metadata": {
        "colab": {
          "base_uri": "https://localhost:8080/"
        },
        "id": "MBwh2fNKmKd7",
        "outputId": "81809628-58b5-4a8f-9f14-da673b249be4"
      },
      "outputs": [
        {
          "name": "stdout",
          "output_type": "stream",
          "text": [
            "Found 352 images belonging to 2 classes.\n"
          ]
        }
      ],
      "source": [
        "train_dataset  = train_datagen.flow_from_directory(directory = '/content/drive/MyDrive/Colab Notebooks/MCI_AD/train',\n",
        "                                                   target_size = (224,224),\n",
        "                                                   class_mode = 'binary',\n",
        "                                                   subset = 'training',\n",
        "                                                   batch_size = 32)"
      ]
    },
    {
      "cell_type": "code",
      "execution_count": 5,
      "metadata": {
        "colab": {
          "base_uri": "https://localhost:8080/"
        },
        "id": "w31uy4LomNxI",
        "outputId": "07936b9a-777e-4979-f987-868a4779126f"
      },
      "outputs": [
        {
          "name": "stdout",
          "output_type": "stream",
          "text": [
            "Found 130 images belonging to 2 classes.\n"
          ]
        }
      ],
      "source": [
        "test_dataset = test_datagen.flow_from_directory(directory = '/content/drive/MyDrive/Colab Notebooks/MCI_AD/test',\n",
        "                                                  target_size = (224,224),\n",
        "                                                  class_mode = 'binary',\n",
        "                                                  batch_size = 32)"
      ]
    },
    {
      "cell_type": "code",
      "execution_count": 7,
      "metadata": {
        "colab": {
          "base_uri": "https://localhost:8080/"
        },
        "id": "pGPP-WaJmQO0",
        "outputId": "3d639232-f888-48b9-a931-994a6d32d81f"
      },
      "outputs": [
        {
          "name": "stdout",
          "output_type": "stream",
          "text": [
            "Downloading data from https://storage.googleapis.com/tensorflow/keras-applications/vgg16/vgg16_weights_tf_dim_ordering_tf_kernels_notop.h5\n",
            "58889256/58889256 [==============================] - 0s 0us/step\n"
          ]
        }
      ],
      "source": [
        "base_model = VGG16(input_shape=(224, 224, 3), include_top=False, weights='imagenet')\n"
      ]
    },
    {
      "cell_type": "code",
      "execution_count": 8,
      "metadata": {
        "id": "1cPyMamcmSdl"
      },
      "outputs": [],
      "source": [
        "for layer in base_model.layers:\n",
        "    layer.trainable=False\n"
      ]
    },
    {
      "cell_type": "code",
      "execution_count": 9,
      "metadata": {
        "id": "IcG6-TPmmUtd"
      },
      "outputs": [],
      "source": [
        "model=Sequential()\n",
        "model.add(base_model)\n",
        "model.add(Dropout(0.5))\n",
        "model.add(tf.keras.layers.GlobalAveragePooling2D())\n",
        "model.add(Flatten())\n",
        "model.add(BatchNormalization())\n",
        "model.add(Dense(64,kernel_initializer='he_uniform'))\n",
        "model.add(BatchNormalization())\n",
        "model.add(Activation('tanh'))\n",
        "model.add(Dropout(0.5))\n",
        "model.add(Dense(64,kernel_initializer='he_uniform'))\n",
        "model.add(BatchNormalization())\n",
        "model.add(Activation('tanh'))\n",
        "model.add(Dropout(0.5))\n",
        "model.add(Dense(64,kernel_initializer='he_uniform'))\n",
        "model.add(BatchNormalization())\n",
        "model.add(Activation('tanh'))\n",
        "model.add(Dropout(0.5))\n",
        "model.add(Dense(32,kernel_initializer='he_uniform'))\n",
        "model.add(BatchNormalization())\n",
        "model.add(Activation('tanh'))\n",
        "model.add(Dropout(0.5))\n",
        "model.add(Dense(32,kernel_initializer='he_uniform'))\n",
        "model.add(BatchNormalization())\n",
        "model.add(Activation('tanh'))\n",
        "model.add(Dense(1, activation='sigmoid'))"
      ]
    },
    {
      "cell_type": "code",
      "execution_count": 10,
      "metadata": {
        "id": "GciqkkxcmWqX"
      },
      "outputs": [],
      "source": [
        "def f1_score(y_true, y_pred): \n",
        "    true_positives = K.sum(K.round(K.clip(y_true * y_pred, 0, 1)))\n",
        "    possible_positives = K.sum(K.round(K.clip(y_true, 0, 1)))\n",
        "    predicted_positives = K.sum(K.round(K.clip(y_pred, 0, 1)))\n",
        "    precision = true_positives / (predicted_positives + K.epsilon())\n",
        "    recall = true_positives / (possible_positives + K.epsilon())\n",
        "    f1_val = 2*(precision*recall)/(precision+recall+K.epsilon())\n",
        "    return f1_val"
      ]
    },
    {
      "cell_type": "code",
      "execution_count": 11,
      "metadata": {
        "id": "ZBVYRjA3mY1b"
      },
      "outputs": [],
      "source": [
        "def exponential_decay(lr0, s):\n",
        "    def exponential_decay_fn(epoch):\n",
        "        return lr0 * 0.1 **(epoch / s)\n",
        "    return exponential_decay_fn\n",
        "\n",
        "exponential_decay_fn = exponential_decay(0.01, 5) # when i run it for 50 epochs\n",
        "\n",
        "lr_scheduler = tf.keras.callbacks.LearningRateScheduler(exponential_decay_fn)"
      ]
    },
    {
      "cell_type": "code",
      "execution_count": 12,
      "metadata": {
        "id": "c98hbgNembCm"
      },
      "outputs": [],
      "source": [
        "\n",
        "METRICS = [\n",
        "      tf.keras.metrics.BinaryAccuracy(name='accuracy'),\n",
        "      tf.keras.metrics.Precision(name='precision'),\n",
        "      tf.keras.metrics.Recall(name='recall'),\n",
        "      tf.keras.metrics.AUC(name='auc'),\n",
        "        f1_score,\n",
        "]\n"
      ]
    },
    {
      "cell_type": "code",
      "execution_count": 13,
      "metadata": {
        "id": "Nq9A6Y_0mdAY"
      },
      "outputs": [],
      "source": [
        "model.compile(optimizer='rmsprop', loss='binary_crossentropy',metrics=METRICS)"
      ]
    },
    {
      "cell_type": "code",
      "execution_count": 14,
      "metadata": {
        "colab": {
          "base_uri": "https://localhost:8080/"
        },
        "id": "1wTyCM3QmfBw",
        "outputId": "c0184da3-e84f-47c1-97b9-e3da962b8af8"
      },
      "outputs": [
        {
          "name": "stdout",
          "output_type": "stream",
          "text": [
            "Epoch 1/20\n",
            "11/11 [==============================] - 61s 4s/step - loss: 0.6661 - accuracy: 0.6222 - precision: 0.6201 - recall: 0.6307 - auc: 0.6665 - f1_score: 0.6226 - lr: 0.0100\n",
            "Epoch 2/20\n",
            "11/11 [==============================] - 6s 496ms/step - loss: 0.5113 - accuracy: 0.7557 - precision: 0.7500 - recall: 0.7670 - auc: 0.8219 - f1_score: 0.7565 - lr: 0.0063\n",
            "Epoch 3/20\n",
            "11/11 [==============================] - 6s 572ms/step - loss: 0.4730 - accuracy: 0.7869 - precision: 0.7730 - recall: 0.8125 - auc: 0.8554 - f1_score: 0.7874 - lr: 0.0040\n",
            "Epoch 4/20\n",
            "11/11 [==============================] - 6s 487ms/step - loss: 0.4405 - accuracy: 0.8097 - precision: 0.7914 - recall: 0.8409 - auc: 0.8760 - f1_score: 0.8117 - lr: 0.0025\n",
            "Epoch 5/20\n",
            "11/11 [==============================] - 5s 489ms/step - loss: 0.4380 - accuracy: 0.8068 - precision: 0.8068 - recall: 0.8068 - auc: 0.8778 - f1_score: 0.8053 - lr: 0.0016\n",
            "Epoch 6/20\n",
            "11/11 [==============================] - 7s 572ms/step - loss: 0.4000 - accuracy: 0.8352 - precision: 0.8041 - recall: 0.8864 - auc: 0.8935 - f1_score: 0.8379 - lr: 0.0010\n",
            "Epoch 7/20\n",
            "11/11 [==============================] - 5s 480ms/step - loss: 0.4138 - accuracy: 0.8295 - precision: 0.8085 - recall: 0.8636 - auc: 0.8896 - f1_score: 0.8376 - lr: 6.3096e-04\n",
            "Epoch 8/20\n",
            "11/11 [==============================] - 7s 611ms/step - loss: 0.3824 - accuracy: 0.8409 - precision: 0.8125 - recall: 0.8864 - auc: 0.9035 - f1_score: 0.8469 - lr: 3.9811e-04\n",
            "Epoch 9/20\n",
            "11/11 [==============================] - 5s 484ms/step - loss: 0.3914 - accuracy: 0.8352 - precision: 0.8207 - recall: 0.8580 - auc: 0.9039 - f1_score: 0.8377 - lr: 2.5119e-04\n",
            "Epoch 10/20\n",
            "11/11 [==============================] - 6s 487ms/step - loss: 0.4224 - accuracy: 0.8267 - precision: 0.8075 - recall: 0.8580 - auc: 0.8844 - f1_score: 0.8322 - lr: 1.5849e-04\n",
            "Epoch 11/20\n",
            "11/11 [==============================] - 7s 568ms/step - loss: 0.4518 - accuracy: 0.8011 - precision: 0.7819 - recall: 0.8352 - auc: 0.8627 - f1_score: 0.8051 - lr: 1.0000e-04\n",
            "Epoch 12/20\n",
            "11/11 [==============================] - 6s 567ms/step - loss: 0.3654 - accuracy: 0.8551 - precision: 0.8342 - recall: 0.8864 - auc: 0.9171 - f1_score: 0.8580 - lr: 6.3096e-05\n",
            "Epoch 13/20\n",
            "11/11 [==============================] - 6s 478ms/step - loss: 0.3709 - accuracy: 0.8494 - precision: 0.8220 - recall: 0.8920 - auc: 0.9082 - f1_score: 0.8497 - lr: 3.9811e-05\n",
            "Epoch 14/20\n",
            "11/11 [==============================] - 7s 587ms/step - loss: 0.4213 - accuracy: 0.8267 - precision: 0.8075 - recall: 0.8580 - auc: 0.8821 - f1_score: 0.8221 - lr: 2.5119e-05\n",
            "Epoch 15/20\n",
            "11/11 [==============================] - 5s 489ms/step - loss: 0.4038 - accuracy: 0.8324 - precision: 0.8268 - recall: 0.8409 - auc: 0.8956 - f1_score: 0.8317 - lr: 1.5849e-05\n",
            "Epoch 16/20\n",
            "11/11 [==============================] - 7s 620ms/step - loss: 0.4132 - accuracy: 0.8153 - precision: 0.8033 - recall: 0.8352 - auc: 0.8915 - f1_score: 0.8215 - lr: 1.0000e-05\n",
            "Epoch 17/20\n",
            "11/11 [==============================] - 5s 483ms/step - loss: 0.4327 - accuracy: 0.8239 - precision: 0.8032 - recall: 0.8580 - auc: 0.8785 - f1_score: 0.8310 - lr: 6.3096e-06\n",
            "Epoch 18/20\n",
            "11/11 [==============================] - 7s 598ms/step - loss: 0.3933 - accuracy: 0.8324 - precision: 0.8268 - recall: 0.8409 - auc: 0.9034 - f1_score: 0.8327 - lr: 3.9811e-06\n",
            "Epoch 19/20\n",
            "11/11 [==============================] - 7s 618ms/step - loss: 0.4039 - accuracy: 0.8097 - precision: 0.8045 - recall: 0.8182 - auc: 0.8971 - f1_score: 0.8112 - lr: 2.5119e-06\n",
            "Epoch 20/20\n",
            "11/11 [==============================] - 7s 596ms/step - loss: 0.4395 - accuracy: 0.8210 - precision: 0.8087 - recall: 0.8409 - auc: 0.8736 - f1_score: 0.8218 - lr: 1.5849e-06\n"
          ]
        }
      ],
      "source": [
        "history=model.fit(train_dataset,\n",
        "                        epochs = 20,\n",
        "                        verbose = 1,\n",
        "                         callbacks=lr_scheduler)"
      ]
    },
    {
      "cell_type": "code",
      "execution_count": 15,
      "metadata": {
        "colab": {
          "base_uri": "https://localhost:8080/"
        },
        "id": "_LGf1X8Gmg3H",
        "outputId": "6facf900-4ea8-474b-9903-a2095a7bb29e"
      },
      "outputs": [
        {
          "name": "stdout",
          "output_type": "stream",
          "text": [
            "5/5 [==============================] - 33s 8s/step - loss: 0.2955 - accuracy: 0.8846 - precision: 0.8387 - recall: 1.0000 - auc: 0.9477 - f1_score: 0.9286\n"
          ]
        }
      ],
      "source": [
        "scores = model.evaluate(test_dataset)"
      ]
    },
    {
      "cell_type": "code",
      "execution_count": 16,
      "metadata": {
        "colab": {
          "base_uri": "https://localhost:8080/"
        },
        "id": "vrNJ-Y4ixO-8",
        "outputId": "478fe558-a0a4-45fd-ad6e-718838acfb5e"
      },
      "outputs": [
        {
          "name": "stdout",
          "output_type": "stream",
          "text": [
            "Accuracy =  0.8846153616905212\n",
            "Precision =  0.8387096524238586\n",
            "Recall =  1.0\n",
            "AUC =  0.9477317333221436\n",
            "F1_score =  0.9285554885864258\n"
          ]
        }
      ],
      "source": [
        "print(\"Accuracy = \", scores[1])\n",
        "print(\"Precision = \", scores[2])\n",
        "print(\"Recall = \", scores[3])\n",
        "print(\"AUC = \", scores[4])\n",
        "print(\"F1_score = \", scores[5])"
      ]
    },
    {
      "cell_type": "code",
      "execution_count": null,
      "metadata": {
        "id": "ZTE69Ahoypuq"
      },
      "outputs": [],
      "source": []
    }
  ],
  "metadata": {
    "accelerator": "GPU",
    "colab": {
      "gpuType": "T4",
      "provenance": []
    },
    "kernelspec": {
      "display_name": "Python 3",
      "name": "python3"
    },
    "language_info": {
      "name": "python"
    }
  },
  "nbformat": 4,
  "nbformat_minor": 0
}
