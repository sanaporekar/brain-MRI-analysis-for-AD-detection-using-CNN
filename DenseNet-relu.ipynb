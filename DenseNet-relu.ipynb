{
  "cells": [
    {
      "cell_type": "code",
      "execution_count": 1,
      "metadata": {
        "colab": {
          "base_uri": "https://localhost:8080/"
        },
        "id": "j0FEKKmwlqUT",
        "outputId": "17156b4b-6398-4905-89dc-da2199295ceb"
      },
      "outputs": [
        {
          "name": "stdout",
          "output_type": "stream",
          "text": [
            "Mounted at /content/drive\n"
          ]
        }
      ],
      "source": [
        "from google.colab import drive\n",
        "drive.mount('/content/drive')"
      ]
    },
    {
      "cell_type": "code",
      "execution_count": 2,
      "metadata": {
        "id": "O3WRnv-xl41a"
      },
      "outputs": [],
      "source": [
        "import numpy as np\n",
        "import pandas as pd\n",
        "import matplotlib.pyplot as plt\n",
        "import seaborn as sn\n",
        "import skimage.io\n",
        "import os\n",
        "import tqdm\n",
        "import glob\n",
        "import tensorflow\n",
        "\n",
        "from tqdm import tqdm\n",
        "from sklearn.utils import shuffle\n",
        "from sklearn import metrics\n",
        "from sklearn.metrics import confusion_matrix, classification_report\n",
        "from sklearn.model_selection import train_test_split\n",
        "from skimage.io import imread, imshow\n",
        "from skimage.transform import resize\n",
        "from skimage.color import gray2rgb\n",
        "\n",
        "import tensorflow as tf\n",
        "from tensorflow.keras.preprocessing.image import ImageDataGenerator\n",
        "from tensorflow.keras.preprocessing import image_dataset_from_directory\n",
        "from tensorflow.keras.models import Sequential\n",
        "from tensorflow.keras.layers import InputLayer, BatchNormalization, Dropout, Flatten, Dense, Activation, MaxPool2D, Conv2D\n",
        "from tensorflow.keras.callbacks import EarlyStopping, ModelCheckpoint\n",
        "from tensorflow.keras.applications import DenseNet121\n",
        "from tensorflow.keras.applications.densenet import DenseNet169 \n",
        "from tensorflow.keras.applications.densenet import DenseNet121 \n",
        "\n",
        "from keras import optimizers\n",
        "\n",
        "from keras.callbacks import Callback,ModelCheckpoint\n",
        "from keras.models import Sequential,load_model\n",
        "from keras.layers import Dense, Dropout\n",
        "\n",
        "import keras.backend as K\n",
        "\n",
        "\n",
        "from typing import Optional"
      ]
    },
    {
      "cell_type": "code",
      "execution_count": 3,
      "metadata": {
        "id": "Ml644udAmHeK"
      },
      "outputs": [],
      "source": [
        "train_datagen = ImageDataGenerator(rescale = 1./255,\n",
        "                                   validation_split = 0.2,\n",
        "\n",
        "        rotation_range=5,\n",
        "        width_shift_range=0.2,\n",
        "        height_shift_range=0.2,\n",
        "        shear_range=0.2,\n",
        "       \n",
        "        horizontal_flip=True,\n",
        "        vertical_flip=True,\n",
        "        fill_mode='nearest')\n",
        "\n",
        "valid_datagen = ImageDataGenerator(rescale = 1./255,\n",
        "                                  validation_split = 0.2)\n",
        "\n",
        "test_datagen  = ImageDataGenerator(rescale = 1./255\n",
        "                                  )"
      ]
    },
    {
      "cell_type": "code",
      "execution_count": 4,
      "metadata": {
        "colab": {
          "base_uri": "https://localhost:8080/"
        },
        "id": "MBwh2fNKmKd7",
        "outputId": "c0e4f89e-ab23-4246-d230-94a136ff1c16"
      },
      "outputs": [
        {
          "name": "stdout",
          "output_type": "stream",
          "text": [
            "Found 867 images belonging to 2 classes.\n"
          ]
        }
      ],
      "source": [
        "train_dataset  = train_datagen.flow_from_directory(directory = '/content/drive/MyDrive/AD-CN/AD-CN/train',\n",
        "                                                   target_size = (224,224),\n",
        "                                                   class_mode = 'binary',\n",
        "                                                   subset = 'training',\n",
        "                                                   batch_size = 32)"
      ]
    },
    {
      "cell_type": "code",
      "execution_count": 5,
      "metadata": {
        "colab": {
          "base_uri": "https://localhost:8080/"
        },
        "id": "w31uy4LomNxI",
        "outputId": "2eb9d296-e2bd-47ca-dc06-61eb8a4cde3e"
      },
      "outputs": [
        {
          "name": "stdout",
          "output_type": "stream",
          "text": [
            "Found 323 images belonging to 2 classes.\n"
          ]
        }
      ],
      "source": [
        "test_dataset = test_datagen.flow_from_directory(directory = '/content/drive/MyDrive/AD-CN/AD-CN/test',\n",
        "                                                  target_size = (224,224),\n",
        "                                                  class_mode = 'binary',\n",
        "                                                  batch_size = 32)"
      ]
    },
    {
      "cell_type": "code",
      "execution_count": 6,
      "metadata": {
        "colab": {
          "base_uri": "https://localhost:8080/"
        },
        "id": "pGPP-WaJmQO0",
        "outputId": "76316776-e549-40f3-9925-1f043031c2d1"
      },
      "outputs": [
        {
          "name": "stdout",
          "output_type": "stream",
          "text": [
            "Downloading data from https://storage.googleapis.com/tensorflow/keras-applications/densenet/densenet121_weights_tf_dim_ordering_tf_kernels_notop.h5\n",
            "29084464/29084464 [==============================] - 0s 0us/step\n"
          ]
        }
      ],
      "source": [
        "base_model = DenseNet121(input_shape=(224,224,3),\n",
        "                   include_top=False,\n",
        "                   weights=\"imagenet\")"
      ]
    },
    {
      "cell_type": "code",
      "execution_count": 7,
      "metadata": {
        "id": "1cPyMamcmSdl"
      },
      "outputs": [],
      "source": [
        "for layer in base_model.layers:\n",
        "    layer.trainable=False\n"
      ]
    },
    {
      "cell_type": "code",
      "execution_count": 8,
      "metadata": {
        "id": "IcG6-TPmmUtd"
      },
      "outputs": [],
      "source": [
        "model=Sequential()\n",
        "model.add(base_model)\n",
        "model.add(Dropout(0.5))\n",
        "model.add(tf.keras.layers.GlobalAveragePooling2D())\n",
        "model.add(Flatten())\n",
        "model.add(BatchNormalization())\n",
        "model.add(Dense(64,kernel_initializer='he_uniform'))\n",
        "model.add(BatchNormalization())\n",
        "model.add(Activation('relu'))\n",
        "model.add(Dropout(0.5))\n",
        "model.add(Dense(64,kernel_initializer='he_uniform'))\n",
        "model.add(BatchNormalization())\n",
        "model.add(Activation('relu'))\n",
        "model.add(Dropout(0.5))\n",
        "model.add(Dense(64,kernel_initializer='he_uniform'))\n",
        "model.add(BatchNormalization())\n",
        "model.add(Activation('relu'))\n",
        "model.add(Dropout(0.5))\n",
        "model.add(Dense(32,kernel_initializer='he_uniform'))\n",
        "model.add(BatchNormalization())\n",
        "model.add(Activation('relu'))\n",
        "model.add(Dropout(0.5))\n",
        "model.add(Dense(32,kernel_initializer='he_uniform'))\n",
        "model.add(BatchNormalization())\n",
        "model.add(Activation('relu'))\n",
        "model.add(Dense(1, activation='sigmoid'))"
      ]
    },
    {
      "cell_type": "code",
      "execution_count": 9,
      "metadata": {
        "colab": {
          "base_uri": "https://localhost:8080/"
        },
        "id": "oSbhip1v1Q-n",
        "outputId": "cacb41f0-f1f9-4b5e-a24f-fa18eeaffcd1"
      },
      "outputs": [
        {
          "name": "stdout",
          "output_type": "stream",
          "text": [
            "Model: \"sequential\"\n",
            "_________________________________________________________________\n",
            " Layer (type)                Output Shape              Param #   \n",
            "=================================================================\n",
            " densenet121 (Functional)    (None, 7, 7, 1024)        7037504   \n",
            "                                                                 \n",
            " dropout (Dropout)           (None, 7, 7, 1024)        0         \n",
            "                                                                 \n",
            " global_average_pooling2d (  (None, 1024)              0         \n",
            " GlobalAveragePooling2D)                                         \n",
            "                                                                 \n",
            " flatten (Flatten)           (None, 1024)              0         \n",
            "                                                                 \n",
            " batch_normalization (Batch  (None, 1024)              4096      \n",
            " Normalization)                                                  \n",
            "                                                                 \n",
            " dense (Dense)               (None, 64)                65600     \n",
            "                                                                 \n",
            " batch_normalization_1 (Bat  (None, 64)                256       \n",
            " chNormalization)                                                \n",
            "                                                                 \n",
            " activation (Activation)     (None, 64)                0         \n",
            "                                                                 \n",
            " dropout_1 (Dropout)         (None, 64)                0         \n",
            "                                                                 \n",
            " dense_1 (Dense)             (None, 64)                4160      \n",
            "                                                                 \n",
            " batch_normalization_2 (Bat  (None, 64)                256       \n",
            " chNormalization)                                                \n",
            "                                                                 \n",
            " activation_1 (Activation)   (None, 64)                0         \n",
            "                                                                 \n",
            " dropout_2 (Dropout)         (None, 64)                0         \n",
            "                                                                 \n",
            " dense_2 (Dense)             (None, 64)                4160      \n",
            "                                                                 \n",
            " batch_normalization_3 (Bat  (None, 64)                256       \n",
            " chNormalization)                                                \n",
            "                                                                 \n",
            " activation_2 (Activation)   (None, 64)                0         \n",
            "                                                                 \n",
            " dropout_3 (Dropout)         (None, 64)                0         \n",
            "                                                                 \n",
            " dense_3 (Dense)             (None, 32)                2080      \n",
            "                                                                 \n",
            " batch_normalization_4 (Bat  (None, 32)                128       \n",
            " chNormalization)                                                \n",
            "                                                                 \n",
            " activation_3 (Activation)   (None, 32)                0         \n",
            "                                                                 \n",
            " dropout_4 (Dropout)         (None, 32)                0         \n",
            "                                                                 \n",
            " dense_4 (Dense)             (None, 32)                1056      \n",
            "                                                                 \n",
            " batch_normalization_5 (Bat  (None, 32)                128       \n",
            " chNormalization)                                                \n",
            "                                                                 \n",
            " activation_4 (Activation)   (None, 32)                0         \n",
            "                                                                 \n",
            " dense_5 (Dense)             (None, 1)                 33        \n",
            "                                                                 \n",
            "=================================================================\n",
            "Total params: 7119713 (27.16 MB)\n",
            "Trainable params: 79649 (311.13 KB)\n",
            "Non-trainable params: 7040064 (26.86 MB)\n",
            "_________________________________________________________________\n"
          ]
        }
      ],
      "source": [
        "model.summary()"
      ]
    },
    {
      "cell_type": "code",
      "execution_count": null,
      "metadata": {
        "id": "GciqkkxcmWqX"
      },
      "outputs": [],
      "source": [
        "def f1_score(y_true, y_pred): \n",
        "    true_positives = K.sum(K.round(K.clip(y_true * y_pred, 0, 1)))\n",
        "    possible_positives = K.sum(K.round(K.clip(y_true, 0, 1)))\n",
        "    predicted_positives = K.sum(K.round(K.clip(y_pred, 0, 1)))\n",
        "    precision = true_positives / (predicted_positives + K.epsilon())\n",
        "    recall = true_positives / (possible_positives + K.epsilon())\n",
        "    f1_val = 2*(precision*recall)/(precision+recall+K.epsilon())\n",
        "    return f1_val"
      ]
    },
    {
      "cell_type": "code",
      "execution_count": null,
      "metadata": {
        "id": "ZBVYRjA3mY1b"
      },
      "outputs": [],
      "source": [
        "def exponential_decay(lr0, s):\n",
        "    def exponential_decay_fn(epoch):\n",
        "        return lr0 * 0.1 **(epoch / s)\n",
        "    return exponential_decay_fn\n",
        "\n",
        "exponential_decay_fn = exponential_decay(0.01, 5) # when i run it for 50 epochs\n",
        "\n",
        "lr_scheduler = tf.keras.callbacks.LearningRateScheduler(exponential_decay_fn)"
      ]
    },
    {
      "cell_type": "code",
      "execution_count": null,
      "metadata": {
        "id": "c98hbgNembCm"
      },
      "outputs": [],
      "source": [
        "METRICS = [\n",
        "      tf.keras.metrics.BinaryAccuracy(name='accuracy'),\n",
        "      tf.keras.metrics.Precision(name='precision'),\n",
        "      tf.keras.metrics.Recall(name='recall'),\n",
        "      tf.keras.metrics.AUC(name='auc'),\n",
        "        f1_score,\n",
        "]\n"
      ]
    },
    {
      "cell_type": "code",
      "execution_count": null,
      "metadata": {
        "id": "Nq9A6Y_0mdAY"
      },
      "outputs": [],
      "source": [
        "model.compile(optimizer='rmsprop', loss='binary_crossentropy',metrics=METRICS)"
      ]
    },
    {
      "cell_type": "code",
      "execution_count": null,
      "metadata": {
        "colab": {
          "base_uri": "https://localhost:8080/"
        },
        "id": "1wTyCM3QmfBw",
        "outputId": "48f06bf9-bb57-4830-b5d3-dd7891698bf9"
      },
      "outputs": [
        {
          "name": "stdout",
          "output_type": "stream",
          "text": [
            "Epoch 1/20\n",
            "28/28 [==============================] - 249s 8s/step - loss: 0.5319 - accuracy: 0.7186 - precision: 0.6842 - recall: 0.6552 - auc: 0.7978 - f1_score: 0.6449 - lr: 0.0100\n",
            "Epoch 2/20\n",
            "28/28 [==============================] - 15s 519ms/step - loss: 0.4076 - accuracy: 0.8316 - precision: 0.7667 - recall: 0.8806 - auc: 0.8912 - f1_score: 0.8179 - lr: 0.0063\n",
            "Epoch 3/20\n",
            "28/28 [==============================] - 15s 521ms/step - loss: 0.3425 - accuracy: 0.8593 - precision: 0.8058 - recall: 0.8912 - auc: 0.9264 - f1_score: 0.8489 - lr: 0.0040\n",
            "Epoch 4/20\n",
            "28/28 [==============================] - 15s 525ms/step - loss: 0.3101 - accuracy: 0.8777 - precision: 0.8430 - recall: 0.8833 - auc: 0.9389 - f1_score: 0.8339 - lr: 0.0025\n",
            "Epoch 5/20\n",
            "28/28 [==============================] - 16s 574ms/step - loss: 0.2936 - accuracy: 0.8835 - precision: 0.8366 - recall: 0.9098 - auc: 0.9451 - f1_score: 0.8618 - lr: 0.0016\n",
            "Epoch 6/20\n",
            "28/28 [==============================] - 15s 525ms/step - loss: 0.2675 - accuracy: 0.8997 - precision: 0.8589 - recall: 0.9204 - auc: 0.9531 - f1_score: 0.8879 - lr: 0.0010\n",
            "Epoch 7/20\n",
            "28/28 [==============================] - 17s 595ms/step - loss: 0.2821 - accuracy: 0.8904 - precision: 0.8579 - recall: 0.8966 - auc: 0.9480 - f1_score: 0.8672 - lr: 6.3096e-04\n",
            "Epoch 8/20\n",
            "28/28 [==============================] - 14s 515ms/step - loss: 0.3006 - accuracy: 0.8858 - precision: 0.8620 - recall: 0.8780 - auc: 0.9414 - f1_score: 0.8717 - lr: 3.9811e-04\n",
            "Epoch 9/20\n",
            "28/28 [==============================] - 14s 513ms/step - loss: 0.2826 - accuracy: 0.8881 - precision: 0.8500 - recall: 0.9019 - auc: 0.9480 - f1_score: 0.8654 - lr: 2.5119e-04\n",
            "Epoch 10/20\n",
            "28/28 [==============================] - 15s 536ms/step - loss: 0.2900 - accuracy: 0.8800 - precision: 0.8527 - recall: 0.8753 - auc: 0.9451 - f1_score: 0.8346 - lr: 1.5849e-04\n",
            "Epoch 11/20\n",
            "28/28 [==============================] - 14s 510ms/step - loss: 0.2522 - accuracy: 0.9066 - precision: 0.8795 - recall: 0.9098 - auc: 0.9575 - f1_score: 0.8861 - lr: 1.0000e-04\n",
            "Epoch 12/20\n",
            "28/28 [==============================] - 15s 521ms/step - loss: 0.2799 - accuracy: 0.8950 - precision: 0.8575 - recall: 0.9098 - auc: 0.9473 - f1_score: 0.8819 - lr: 6.3096e-05\n",
            "Epoch 13/20\n",
            "28/28 [==============================] - 14s 514ms/step - loss: 0.2578 - accuracy: 0.8962 - precision: 0.8561 - recall: 0.9151 - auc: 0.9571 - f1_score: 0.8860 - lr: 3.9811e-05\n",
            "Epoch 14/20\n",
            "28/28 [==============================] - 17s 603ms/step - loss: 0.2837 - accuracy: 0.8904 - precision: 0.8525 - recall: 0.9045 - auc: 0.9492 - f1_score: 0.8823 - lr: 2.5119e-05\n",
            "Epoch 15/20\n",
            "28/28 [==============================] - 16s 584ms/step - loss: 0.2835 - accuracy: 0.8939 - precision: 0.8554 - recall: 0.9098 - auc: 0.9456 - f1_score: 0.8670 - lr: 1.5849e-05\n",
            "Epoch 16/20\n",
            "28/28 [==============================] - 15s 519ms/step - loss: 0.2582 - accuracy: 0.9043 - precision: 0.8769 - recall: 0.9072 - auc: 0.9568 - f1_score: 0.8965 - lr: 1.0000e-05\n",
            "Epoch 17/20\n",
            "28/28 [==============================] - 14s 512ms/step - loss: 0.2516 - accuracy: 0.9089 - precision: 0.8744 - recall: 0.9231 - auc: 0.9601 - f1_score: 0.8992 - lr: 6.3096e-06\n",
            "Epoch 18/20\n",
            "28/28 [==============================] - 15s 524ms/step - loss: 0.2615 - accuracy: 0.9020 - precision: 0.8668 - recall: 0.9151 - auc: 0.9560 - f1_score: 0.8902 - lr: 3.9811e-06\n",
            "Epoch 19/20\n",
            "28/28 [==============================] - 15s 517ms/step - loss: 0.2782 - accuracy: 0.9031 - precision: 0.8845 - recall: 0.8939 - auc: 0.9510 - f1_score: 0.8896 - lr: 2.5119e-06\n",
            "Epoch 20/20\n",
            "28/28 [==============================] - 15s 526ms/step - loss: 0.3018 - accuracy: 0.8731 - precision: 0.8414 - recall: 0.8727 - auc: 0.9428 - f1_score: 0.8428 - lr: 1.5849e-06\n"
          ]
        }
      ],
      "source": [
        "history=model.fit(train_dataset,\n",
        "                        epochs = 20,\n",
        "                        verbose = 1,\n",
        "                         callbacks=lr_scheduler)"
      ]
    },
    {
      "cell_type": "code",
      "execution_count": null,
      "metadata": {
        "colab": {
          "base_uri": "https://localhost:8080/"
        },
        "id": "_LGf1X8Gmg3H",
        "outputId": "1de62c51-f2e4-4f03-99b7-51c6b8b2e09d"
      },
      "outputs": [
        {
          "name": "stdout",
          "output_type": "stream",
          "text": [
            "11/11 [==============================] - 203s 20s/step - loss: 0.2502 - accuracy: 0.9009 - precision: 0.8876 - recall: 0.9202 - auc: 0.9670 - f1_score: 0.8811\n"
          ]
        }
      ],
      "source": [
        "scores = model.evaluate(test_dataset)"
      ]
    },
    {
      "cell_type": "code",
      "execution_count": null,
      "metadata": {
        "colab": {
          "base_uri": "https://localhost:8080/"
        },
        "id": "vrNJ-Y4ixO-8",
        "outputId": "8ca3a8a6-a6ef-408a-bc56-55aef415d851"
      },
      "outputs": [
        {
          "name": "stdout",
          "output_type": "stream",
          "text": [
            "Accuracy =  0.900928795337677\n",
            "Precision =  0.8875739574432373\n",
            "Recall =  0.9202454090118408\n",
            "AUC =  0.9670245051383972\n",
            "F1_score =  0.8811333179473877\n"
          ]
        }
      ],
      "source": [
        "print(\"Accuracy = \", scores[1])\n",
        "print(\"Precision = \", scores[2])\n",
        "print(\"Recall = \", scores[3])\n",
        "print(\"AUC = \", scores[4])\n",
        "print(\"F1_score = \", scores[5])"
      ]
    },
    {
      "cell_type": "code",
      "execution_count": null,
      "metadata": {
        "id": "ZTE69Ahoypuq"
      },
      "outputs": [],
      "source": []
    }
  ],
  "metadata": {
    "accelerator": "GPU",
    "colab": {
      "gpuType": "T4",
      "provenance": []
    },
    "kernelspec": {
      "display_name": "Python 3",
      "name": "python3"
    },
    "language_info": {
      "name": "python"
    }
  },
  "nbformat": 4,
  "nbformat_minor": 0
}
