{
  "cells": [
    {
      "cell_type": "code",
      "execution_count": 1,
      "metadata": {
        "colab": {
          "base_uri": "https://localhost:8080/"
        },
        "id": "j0FEKKmwlqUT",
        "outputId": "8dc47578-7710-418f-8870-ab503feddb13"
      },
      "outputs": [
        {
          "name": "stdout",
          "output_type": "stream",
          "text": [
            "Mounted at /content/drive\n"
          ]
        }
      ],
      "source": [
        "from google.colab import drive\n",
        "drive.mount('/content/drive')"
      ]
    },
    {
      "cell_type": "code",
      "execution_count": 2,
      "metadata": {
        "id": "O3WRnv-xl41a"
      },
      "outputs": [],
      "source": [
        "import numpy as np\n",
        "import pandas as pd\n",
        "import matplotlib.pyplot as plt\n",
        "import seaborn as sn\n",
        "import skimage.io\n",
        "import os\n",
        "import tqdm\n",
        "import glob\n",
        "import tensorflow\n",
        "\n",
        "from tqdm import tqdm\n",
        "from sklearn.utils import shuffle\n",
        "from sklearn import metrics\n",
        "from sklearn.metrics import confusion_matrix, classification_report\n",
        "from sklearn.model_selection import train_test_split\n",
        "from skimage.io import imread, imshow\n",
        "from skimage.transform import resize\n",
        "from skimage.color import gray2rgb\n",
        "\n",
        "import tensorflow as tf\n",
        "from tensorflow.keras.preprocessing.image import ImageDataGenerator\n",
        "from tensorflow.keras.preprocessing import image_dataset_from_directory\n",
        "from tensorflow.keras.models import Sequential\n",
        "from tensorflow.keras.layers import InputLayer, BatchNormalization, Dropout, Flatten, Dense, Activation, MaxPool2D, Conv2D\n",
        "from tensorflow.keras.callbacks import EarlyStopping, ModelCheckpoint\n",
        "from tensorflow.keras.applications import DenseNet121\n",
        "\n",
        "from tensorflow.keras.applications.densenet import DenseNet121 \n",
        "\n",
        "from keras import optimizers\n",
        "\n",
        "from keras.callbacks import Callback,ModelCheckpoint\n",
        "from keras.models import Sequential,load_model\n",
        "from keras.layers import Dense, Dropout\n",
        "\n",
        "import keras.backend as K\n",
        "\n",
        "\n",
        "from typing import Optional"
      ]
    },
    {
      "cell_type": "code",
      "execution_count": 3,
      "metadata": {
        "id": "Ml644udAmHeK"
      },
      "outputs": [],
      "source": [
        "train_datagen = ImageDataGenerator(rescale = 1./255,\n",
        "                                   validation_split = 0.2,\n",
        "\n",
        "        rotation_range=5,\n",
        "        width_shift_range=0.2,\n",
        "        height_shift_range=0.2,\n",
        "        shear_range=0.2,\n",
        "        #zoom_range=0.2,\n",
        "        horizontal_flip=True,\n",
        "        vertical_flip=True,\n",
        "        fill_mode='nearest')\n",
        "\n",
        "valid_datagen = ImageDataGenerator(rescale = 1./255,\n",
        "                                  validation_split = 0.2)\n",
        "\n",
        "test_datagen  = ImageDataGenerator(rescale = 1./255\n",
        "                                  )"
      ]
    },
    {
      "cell_type": "code",
      "execution_count": 4,
      "metadata": {
        "colab": {
          "base_uri": "https://localhost:8080/"
        },
        "id": "MBwh2fNKmKd7",
        "outputId": "ede8a07e-018d-4a45-d369-01ff753b75fd"
      },
      "outputs": [
        {
          "name": "stdout",
          "output_type": "stream",
          "text": [
            "Found 352 images belonging to 2 classes.\n"
          ]
        }
      ],
      "source": [
        "train_dataset  = train_datagen.flow_from_directory(directory = '/content/drive/MyDrive/Colab Notebooks/MCI_AD/train',\n",
        "                                                   target_size = (224,224),\n",
        "                                                   class_mode = 'binary',\n",
        "                                                   subset = 'training',\n",
        "                                                   batch_size = 32)"
      ]
    },
    {
      "cell_type": "code",
      "execution_count": 5,
      "metadata": {
        "colab": {
          "base_uri": "https://localhost:8080/"
        },
        "id": "w31uy4LomNxI",
        "outputId": "dfa18a10-5609-449b-8483-356daad12669"
      },
      "outputs": [
        {
          "name": "stdout",
          "output_type": "stream",
          "text": [
            "Found 130 images belonging to 2 classes.\n"
          ]
        }
      ],
      "source": [
        "test_dataset = test_datagen.flow_from_directory(directory = '/content/drive/MyDrive/Colab Notebooks/MCI_AD/test',\n",
        "                                                  target_size = (224,224),\n",
        "                                                  class_mode = 'binary',\n",
        "                                                  batch_size = 32)"
      ]
    },
    {
      "cell_type": "code",
      "execution_count": 6,
      "metadata": {
        "colab": {
          "base_uri": "https://localhost:8080/"
        },
        "id": "pGPP-WaJmQO0",
        "outputId": "7791fae9-159a-4278-efa0-4e5e82c5df56"
      },
      "outputs": [
        {
          "name": "stdout",
          "output_type": "stream",
          "text": [
            "Downloading data from https://storage.googleapis.com/tensorflow/keras-applications/densenet/densenet121_weights_tf_dim_ordering_tf_kernels_notop.h5\n",
            "29084464/29084464 [==============================] - 2s 0us/step\n"
          ]
        }
      ],
      "source": [
        "base_model = DenseNet121(input_shape=(224,224,3),\n",
        "                   include_top=False,\n",
        "                   weights=\"imagenet\")"
      ]
    },
    {
      "cell_type": "code",
      "execution_count": 7,
      "metadata": {
        "id": "1cPyMamcmSdl"
      },
      "outputs": [],
      "source": [
        "for layer in base_model.layers:\n",
        "    layer.trainable=False\n"
      ]
    },
    {
      "cell_type": "code",
      "execution_count": 8,
      "metadata": {
        "id": "IcG6-TPmmUtd"
      },
      "outputs": [],
      "source": [
        "model=Sequential()\n",
        "model.add(base_model)\n",
        "model.add(Dropout(0.5))\n",
        "model.add(tf.keras.layers.GlobalAveragePooling2D())\n",
        "model.add(Flatten())\n",
        "model.add(BatchNormalization())\n",
        "model.add(Dense(64,kernel_initializer='he_uniform'))\n",
        "model.add(BatchNormalization())\n",
        "model.add(Activation('selu'))\n",
        "model.add(Dropout(0.5))\n",
        "model.add(Dense(64,kernel_initializer='he_uniform'))\n",
        "model.add(BatchNormalization())\n",
        "model.add(Activation('selu'))\n",
        "model.add(Dropout(0.5))\n",
        "model.add(Dense(64,kernel_initializer='he_uniform'))\n",
        "model.add(BatchNormalization())\n",
        "model.add(Activation('selu'))\n",
        "model.add(Dropout(0.5))\n",
        "model.add(Dense(32,kernel_initializer='he_uniform'))\n",
        "model.add(BatchNormalization())\n",
        "model.add(Activation('selu'))\n",
        "model.add(Dropout(0.5))\n",
        "model.add(Dense(32,kernel_initializer='he_uniform'))\n",
        "model.add(BatchNormalization())\n",
        "model.add(Activation('selu'))\n",
        "model.add(Dense(1, activation='sigmoid'))"
      ]
    },
    {
      "cell_type": "code",
      "execution_count": 9,
      "metadata": {
        "id": "GciqkkxcmWqX"
      },
      "outputs": [],
      "source": [
        "def f1_score(y_true, y_pred):\n",
        "    true_positives = K.sum(K.round(K.clip(y_true * y_pred, 0, 1)))\n",
        "    possible_positives = K.sum(K.round(K.clip(y_true, 0, 1)))\n",
        "    predicted_positives = K.sum(K.round(K.clip(y_pred, 0, 1)))\n",
        "    precision = true_positives / (predicted_positives + K.epsilon())\n",
        "    recall = true_positives / (possible_positives + K.epsilon())\n",
        "    f1_val = 2*(precision*recall)/(precision+recall+K.epsilon())\n",
        "    return f1_val"
      ]
    },
    {
      "cell_type": "code",
      "execution_count": 10,
      "metadata": {
        "id": "ZBVYRjA3mY1b"
      },
      "outputs": [],
      "source": [
        "def exponential_decay(lr0, s):\n",
        "    def exponential_decay_fn(epoch):\n",
        "        return lr0 * 0.1 **(epoch / s)\n",
        "    return exponential_decay_fn\n",
        "\n",
        "exponential_decay_fn = exponential_decay(0.01, 5)\n",
        "\n",
        "lr_scheduler = tf.keras.callbacks.LearningRateScheduler(exponential_decay_fn)"
      ]
    },
    {
      "cell_type": "code",
      "execution_count": 11,
      "metadata": {
        "id": "c98hbgNembCm"
      },
      "outputs": [],
      "source": [
        "METRICS = [\n",
        "      tf.keras.metrics.BinaryAccuracy(name='accuracy'),\n",
        "      tf.keras.metrics.Precision(name='precision'),\n",
        "      tf.keras.metrics.Recall(name='recall'),\n",
        "      tf.keras.metrics.AUC(name='auc'),\n",
        "        f1_score,\n",
        "]\n"
      ]
    },
    {
      "cell_type": "code",
      "execution_count": 12,
      "metadata": {
        "id": "Nq9A6Y_0mdAY"
      },
      "outputs": [],
      "source": [
        "model.compile(optimizer='rmsprop', loss='binary_crossentropy',metrics=METRICS)"
      ]
    },
    {
      "cell_type": "code",
      "execution_count": 14,
      "metadata": {
        "colab": {
          "base_uri": "https://localhost:8080/"
        },
        "id": "1wTyCM3QmfBw",
        "outputId": "78912014-2cab-4765-ebb2-23905987ab43"
      },
      "outputs": [
        {
          "name": "stdout",
          "output_type": "stream",
          "text": [
            "Epoch 1/30\n",
            "11/11 [==============================] - 144s 13s/step - loss: 0.5430 - accuracy: 0.7358 - precision: 0.7268 - recall: 0.7557 - auc: 0.8058 - f1_score: 0.7409 - lr: 0.0100\n",
            "Epoch 2/30\n",
            "11/11 [==============================] - 5s 469ms/step - loss: 0.3996 - accuracy: 0.8523 - precision: 0.8298 - recall: 0.8864 - auc: 0.8883 - f1_score: 0.8511 - lr: 0.0063\n",
            "Epoch 3/30\n",
            "11/11 [==============================] - 7s 601ms/step - loss: 0.3223 - accuracy: 0.8807 - precision: 0.8490 - recall: 0.9261 - auc: 0.9371 - f1_score: 0.8809 - lr: 0.0040\n",
            "Epoch 4/30\n",
            "11/11 [==============================] - 5s 468ms/step - loss: 0.2978 - accuracy: 0.8636 - precision: 0.8441 - recall: 0.8920 - auc: 0.9450 - f1_score: 0.8653 - lr: 0.0025\n",
            "Epoch 5/30\n",
            "11/11 [==============================] - 7s 583ms/step - loss: 0.3154 - accuracy: 0.8892 - precision: 0.8703 - recall: 0.9148 - auc: 0.9368 - f1_score: 0.8864 - lr: 0.0016\n",
            "Epoch 6/30\n",
            "11/11 [==============================] - 6s 568ms/step - loss: 0.2861 - accuracy: 0.8835 - precision: 0.8610 - recall: 0.9148 - auc: 0.9461 - f1_score: 0.8819 - lr: 0.0010\n",
            "Epoch 7/30\n",
            "11/11 [==============================] - 5s 469ms/step - loss: 0.3030 - accuracy: 0.8807 - precision: 0.8490 - recall: 0.9261 - auc: 0.9377 - f1_score: 0.8812 - lr: 6.3096e-04\n",
            "Epoch 8/30\n",
            "11/11 [==============================] - 7s 590ms/step - loss: 0.2360 - accuracy: 0.8977 - precision: 0.8723 - recall: 0.9318 - auc: 0.9656 - f1_score: 0.8997 - lr: 3.9811e-04\n",
            "Epoch 9/30\n",
            "11/11 [==============================] - 6s 576ms/step - loss: 0.2970 - accuracy: 0.8920 - precision: 0.8833 - recall: 0.9034 - auc: 0.9436 - f1_score: 0.8925 - lr: 2.5119e-04\n",
            "Epoch 10/30\n",
            "11/11 [==============================] - 6s 471ms/step - loss: 0.3045 - accuracy: 0.8722 - precision: 0.8579 - recall: 0.8920 - auc: 0.9415 - f1_score: 0.8744 - lr: 1.5849e-04\n",
            "Epoch 11/30\n",
            "11/11 [==============================] - 7s 591ms/step - loss: 0.2451 - accuracy: 0.9176 - precision: 0.9016 - recall: 0.9375 - auc: 0.9603 - f1_score: 0.9176 - lr: 1.0000e-04\n",
            "Epoch 12/30\n",
            "11/11 [==============================] - 6s 580ms/step - loss: 0.2826 - accuracy: 0.8977 - precision: 0.8723 - recall: 0.9318 - auc: 0.9463 - f1_score: 0.8975 - lr: 6.3096e-05\n",
            "Epoch 13/30\n",
            "11/11 [==============================] - 5s 459ms/step - loss: 0.2609 - accuracy: 0.9006 - precision: 0.8852 - recall: 0.9205 - auc: 0.9549 - f1_score: 0.9006 - lr: 3.9811e-05\n",
            "Epoch 14/30\n",
            "11/11 [==============================] - 5s 489ms/step - loss: 0.3151 - accuracy: 0.8778 - precision: 0.8556 - recall: 0.9091 - auc: 0.9371 - f1_score: 0.8721 - lr: 2.5119e-05\n",
            "Epoch 15/30\n",
            "11/11 [==============================] - 6s 554ms/step - loss: 0.2756 - accuracy: 0.8807 - precision: 0.8681 - recall: 0.8977 - auc: 0.9531 - f1_score: 0.8806 - lr: 1.5849e-05\n",
            "Epoch 16/30\n",
            "11/11 [==============================] - 6s 593ms/step - loss: 0.2815 - accuracy: 0.8949 - precision: 0.8927 - recall: 0.8977 - auc: 0.9474 - f1_score: 0.8932 - lr: 1.0000e-05\n",
            "Epoch 17/30\n",
            "11/11 [==============================] - 5s 472ms/step - loss: 0.2636 - accuracy: 0.8977 - precision: 0.8846 - recall: 0.9148 - auc: 0.9571 - f1_score: 0.8982 - lr: 6.3096e-06\n",
            "Epoch 18/30\n",
            "11/11 [==============================] - 6s 593ms/step - loss: 0.2415 - accuracy: 0.9062 - precision: 0.8824 - recall: 0.9375 - auc: 0.9619 - f1_score: 0.9075 - lr: 3.9811e-06\n",
            "Epoch 19/30\n",
            "11/11 [==============================] - 5s 464ms/step - loss: 0.2627 - accuracy: 0.9091 - precision: 0.8913 - recall: 0.9318 - auc: 0.9543 - f1_score: 0.9095 - lr: 2.5119e-06\n",
            "Epoch 20/30\n",
            "11/11 [==============================] - 5s 455ms/step - loss: 0.2447 - accuracy: 0.9119 - precision: 0.9050 - recall: 0.9205 - auc: 0.9605 - f1_score: 0.9144 - lr: 1.5849e-06\n",
            "Epoch 21/30\n",
            "11/11 [==============================] - 6s 535ms/step - loss: 0.2884 - accuracy: 0.8693 - precision: 0.8779 - recall: 0.8580 - auc: 0.9494 - f1_score: 0.8657 - lr: 1.0000e-06\n",
            "Epoch 22/30\n",
            "11/11 [==============================] - 5s 473ms/step - loss: 0.2737 - accuracy: 0.8920 - precision: 0.8791 - recall: 0.9091 - auc: 0.9509 - f1_score: 0.8910 - lr: 6.3096e-07\n",
            "Epoch 23/30\n",
            "11/11 [==============================] - 7s 601ms/step - loss: 0.2767 - accuracy: 0.9006 - precision: 0.8730 - recall: 0.9375 - auc: 0.9509 - f1_score: 0.9012 - lr: 3.9811e-07\n",
            "Epoch 24/30\n",
            "11/11 [==============================] - 5s 468ms/step - loss: 0.2523 - accuracy: 0.9062 - precision: 0.8907 - recall: 0.9261 - auc: 0.9602 - f1_score: 0.9101 - lr: 2.5119e-07\n",
            "Epoch 25/30\n",
            "11/11 [==============================] - 7s 609ms/step - loss: 0.2934 - accuracy: 0.8722 - precision: 0.8429 - recall: 0.9148 - auc: 0.9487 - f1_score: 0.8749 - lr: 1.5849e-07\n",
            "Epoch 26/30\n",
            "11/11 [==============================] - 5s 468ms/step - loss: 0.2475 - accuracy: 0.8949 - precision: 0.8883 - recall: 0.9034 - auc: 0.9613 - f1_score: 0.8931 - lr: 1.0000e-07\n",
            "Epoch 27/30\n",
            "11/11 [==============================] - 6s 537ms/step - loss: 0.2863 - accuracy: 0.8892 - precision: 0.8785 - recall: 0.9034 - auc: 0.9502 - f1_score: 0.8920 - lr: 6.3096e-08\n",
            "Epoch 28/30\n",
            "11/11 [==============================] - 5s 467ms/step - loss: 0.2629 - accuracy: 0.9006 - precision: 0.8939 - recall: 0.9091 - auc: 0.9560 - f1_score: 0.9009 - lr: 3.9811e-08\n",
            "Epoch 29/30\n",
            "11/11 [==============================] - 7s 608ms/step - loss: 0.2996 - accuracy: 0.8977 - precision: 0.8933 - recall: 0.9034 - auc: 0.9390 - f1_score: 0.8934 - lr: 2.5119e-08\n",
            "Epoch 30/30\n",
            "11/11 [==============================] - 5s 459ms/step - loss: 0.2473 - accuracy: 0.8864 - precision: 0.8696 - recall: 0.9091 - auc: 0.9604 - f1_score: 0.8874 - lr: 1.5849e-08\n"
          ]
        }
      ],
      "source": [
        "history=model.fit(train_dataset,\n",
        "                        epochs = 30,\n",
        "                        verbose = 1,\n",
        "                         callbacks=lr_scheduler)"
      ]
    },
    {
      "cell_type": "code",
      "execution_count": 15,
      "metadata": {
        "colab": {
          "base_uri": "https://localhost:8080/"
        },
        "id": "_LGf1X8Gmg3H",
        "outputId": "b9c5be96-47c3-4d65-8455-aa6625ecebc8"
      },
      "outputs": [
        {
          "name": "stdout",
          "output_type": "stream",
          "text": [
            "5/5 [==============================] - 74s 17s/step - loss: 0.1628 - accuracy: 0.9385 - precision: 0.9070 - recall: 1.0000 - auc: 0.9767 - f1_score: 0.9608\n"
          ]
        }
      ],
      "source": [
        "scores = model.evaluate(test_dataset)"
      ]
    },
    {
      "cell_type": "code",
      "execution_count": 16,
      "metadata": {
        "colab": {
          "base_uri": "https://localhost:8080/"
        },
        "id": "vrNJ-Y4ixO-8",
        "outputId": "d6977d77-039c-4e2e-dec1-0563f7f04514"
      },
      "outputs": [
        {
          "name": "stdout",
          "output_type": "stream",
          "text": [
            "Accuracy =  0.9384615421295166\n",
            "Precision =  0.9069767594337463\n",
            "Recall =  1.0\n",
            "AUC =  0.9767011404037476\n",
            "F1_score =  0.960752010345459\n"
          ]
        }
      ],
      "source": [
        "print(\"Accuracy = \", scores[1])\n",
        "print(\"Precision = \", scores[2])\n",
        "print(\"Recall = \", scores[3])\n",
        "print(\"AUC = \", scores[4])\n",
        "print(\"F1_score = \", scores[5])"
      ]
    },
    {
      "cell_type": "code",
      "execution_count": null,
      "metadata": {
        "id": "ZTE69Ahoypuq"
      },
      "outputs": [],
      "source": []
    }
  ],
  "metadata": {
    "accelerator": "GPU",
    "colab": {
      "gpuType": "T4",
      "provenance": []
    },
    "kernelspec": {
      "display_name": "Python 3",
      "name": "python3"
    },
    "language_info": {
      "name": "python"
    }
  },
  "nbformat": 4,
  "nbformat_minor": 0
}
